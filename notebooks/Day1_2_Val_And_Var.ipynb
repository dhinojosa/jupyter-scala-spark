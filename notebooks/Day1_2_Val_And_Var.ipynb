{
 "cells": [
  {
   "cell_type": "markdown",
   "metadata": {},
   "source": [
    "## `val` and `var`\n",
    "\n",
    "### `val`\n",
    "\n",
    "* `val` is called a value\n",
    "* It is immutable, therefore unchangeable\n",
    "* No reassignment\n",
    "* Since Scala is mostly a functional language, and immutability is preferred, using `val` is absolutely preferred"
   ]
  },
  {
   "cell_type": "code",
   "execution_count": 7,
   "metadata": {},
   "outputs": [
    {
     "data": {
      "text/plain": [
       "a: Int = 10\n"
      ]
     },
     "execution_count": 7,
     "metadata": {},
     "output_type": "execute_result"
    }
   ],
   "source": [
    "val a = 10"
   ]
  },
  {
   "cell_type": "markdown",
   "metadata": {},
   "source": [
    "### Reassignment of `val`\n",
    "\n",
    "A reassignment is out of the question with a `val`. Try it."
   ]
  },
  {
   "cell_type": "code",
   "execution_count": 8,
   "metadata": {},
   "outputs": [
    {
     "ename": "<console>",
     "evalue": "27: error: reassignment to val",
     "output_type": "error",
     "traceback": [
      "<console>:27: error: reassignment to val",
      "       a = 19 //error: reassignment to val",
      "         ^",
      ""
     ]
    }
   ],
   "source": [
    "val a = 10\n",
    "a = 19 //error: reassignment to val"
   ]
  },
  {
   "cell_type": "markdown",
   "metadata": {},
   "source": [
    "### `var`\n",
    "\n",
    "\n",
    "* Called a variable\n",
    "* It is mutable, therefore changeable\n",
    "* Reassignable\n",
    "* Used sparingly, or not at all\n",
    "* Usually kept from being changed from the outside"
   ]
  },
  {
   "cell_type": "code",
   "execution_count": 1,
   "metadata": {},
   "outputs": [
    {
     "data": {
      "text/plain": [
       "Intitializing Scala interpreter ..."
      ]
     },
     "metadata": {},
     "output_type": "display_data"
    },
    {
     "data": {
      "text/plain": [
       "Spark Web UI available at http://32c6e00c8fb3:4041\n",
       "SparkContext available as 'sc' (version = 2.4.3, master = local[*], app id = local-1562105228608)\n",
       "SparkSession available as 'spark'\n"
      ]
     },
     "metadata": {},
     "output_type": "display_data"
    },
    {
     "name": "stdout",
     "output_type": "stream",
     "text": [
      "19\n"
     ]
    },
    {
     "data": {
      "text/plain": [
       "a: Int = 19\n",
       "a: Int = 19\n"
      ]
     },
     "execution_count": 1,
     "metadata": {},
     "output_type": "execute_result"
    }
   ],
   "source": [
    "var a = 10\n",
    "a = 19\n",
    "println(19)"
   ]
  }
 ],
 "metadata": {
  "kernelspec": {
   "display_name": "spylon-kernel",
   "language": "scala",
   "name": "spylon-kernel"
  },
  "language_info": {
   "codemirror_mode": "text/x-scala",
   "file_extension": ".scala",
   "help_links": [
    {
     "text": "MetaKernel Magics",
     "url": "https://metakernel.readthedocs.io/en/latest/source/README.html"
    }
   ],
   "mimetype": "text/x-scala",
   "name": "scala",
   "pygments_lexer": "scala",
   "version": "0.4.1"
  }
 },
 "nbformat": 4,
 "nbformat_minor": 2
}

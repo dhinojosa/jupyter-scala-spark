{
 "cells": [
  {
   "cell_type": "markdown",
   "metadata": {},
   "source": [
    "# Spark Basics\n",
    "Authors: Daniel Hinojosa"
   ]
  },
  {
   "cell_type": "markdown",
   "metadata": {},
   "source": [
    "## Spark Intro\n",
    "* Big data processing framework\n",
    "* Variety of packages built upon Spark engine\n",
    "* Contains two APIs\n",
    "  * _Unstructured API_\n",
    "    * Lower Level\n",
    "    * `RDD`\n",
    "    * Accumulators\n",
    "    * Broadcast Variables\n",
    "  * _Structured API_\n",
    "    * Higher Level\n",
    "    * Optimized\n",
    "    * `DataFrame`\n",
    "    * `Dataset`\n",
    "    * `Spark SQL`"
   ]
  },
  {
   "cell_type": "markdown",
   "metadata": {},
   "source": [
    "## Spark Architecture\n",
    "\n",
    "![Spark Architecture](../images/spark_architecture.png)"
   ]
  },
  {
   "cell_type": "code",
   "execution_count": 1,
   "metadata": {},
   "outputs": [
    {
     "data": {
      "text/plain": [
       "Intitializing Scala interpreter ..."
      ]
     },
     "metadata": {},
     "output_type": "display_data"
    },
    {
     "data": {
      "text/plain": [
       "Spark Web UI available at http://7e47b21ebc4f:4040\n",
       "SparkContext available as 'sc' (version = 2.4.3, master = local[*], app id = local-1561668367505)\n",
       "SparkSession available as 'spark'\n"
      ]
     },
     "metadata": {},
     "output_type": "display_data"
    },
    {
     "data": {
      "text/plain": [
       "dataFrame: org.apache.spark.sql.DataFrame = [mappedRange: bigint]\n"
      ]
     },
     "execution_count": 1,
     "metadata": {},
     "output_type": "execute_result"
    }
   ],
   "source": [
    "val dataFrame = spark.range(1, 100)\n",
    "                     .toDF(\"mappedRange\")"
   ]
  },
  {
   "cell_type": "code",
   "execution_count": 2,
   "metadata": {},
   "outputs": [
    {
     "name": "stdout",
     "output_type": "stream",
     "text": [
      "+-----------+\n",
      "|mappedRange|\n",
      "+-----------+\n",
      "|          1|\n",
      "|          2|\n",
      "|          3|\n",
      "|          4|\n",
      "|          5|\n",
      "|          6|\n",
      "|          7|\n",
      "|          8|\n",
      "|          9|\n",
      "|         10|\n",
      "|         11|\n",
      "|         12|\n",
      "|         13|\n",
      "|         14|\n",
      "|         15|\n",
      "|         16|\n",
      "|         17|\n",
      "|         18|\n",
      "|         19|\n",
      "|         20|\n",
      "+-----------+\n",
      "only showing top 20 rows\n",
      "\n"
     ]
    }
   ],
   "source": [
    "dataFrame.show()"
   ]
  },
  {
   "cell_type": "markdown",
   "metadata": {},
   "source": [
    "This is a download from Kaggle.com called the delay flights dataset located at https://www.kaggle.com/giovamata/airlinedelaycauses/downloads/airlinedelaycauses.zip/2"
   ]
  },
  {
   "cell_type": "code",
   "execution_count": 34,
   "metadata": {},
   "outputs": [
    {
     "data": {
      "text/plain": [
       "booksDF: org.apache.spark.sql.DataFrame = [bookID: int, title: string ... 8 more fields]\n"
      ]
     },
     "execution_count": 34,
     "metadata": {},
     "output_type": "execute_result"
    }
   ],
   "source": [
    "val booksDF = spark.read.format(\"csv\")\n",
    "                     .option(\"inferSchema\", \"true\")\n",
    "                     .option(\"header\", \"true\")\n",
    "                     .load(\"../data/books.csv\")"
   ]
  },
  {
   "cell_type": "code",
   "execution_count": 4,
   "metadata": {
    "scrolled": true
   },
   "outputs": [
    {
     "name": "stdout",
     "output_type": "stream",
     "text": [
      "+------+--------------------+--------------------+--------------+----------+-------------+-------------+-----------+-------------+------------------+\n",
      "|bookID|               title|             authors|average_rating|      isbn|       isbn13|language_code|# num_pages|ratings_count|text_reviews_count|\n",
      "+------+--------------------+--------------------+--------------+----------+-------------+-------------+-----------+-------------+------------------+\n",
      "|     1|Harry Potter and ...|J.K. Rowling-Mary...|          4.56|0439785960|9780439785969|          eng|        652|      1944099|             26249|\n",
      "|     2|Harry Potter and ...|J.K. Rowling-Mary...|          4.49|0439358078|9780439358071|          eng|        870|      1996446|             27613|\n",
      "|     3|Harry Potter and ...|J.K. Rowling-Mary...|          4.47|0439554934|9780439554930|          eng|        320|      5629932|             70390|\n",
      "|     4|Harry Potter and ...|        J.K. Rowling|          4.41|0439554896|9780439554893|          eng|        352|         6267|               272|\n",
      "|     5|Harry Potter and ...|J.K. Rowling-Mary...|          4.55|043965548X|9780439655484|          eng|        435|      2149872|             33964|\n",
      "+------+--------------------+--------------------+--------------+----------+-------------+-------------+-----------+-------------+------------------+\n",
      "only showing top 5 rows\n",
      "\n"
     ]
    }
   ],
   "source": [
    "booksDF.show(5)"
   ]
  },
  {
   "cell_type": "markdown",
   "metadata": {},
   "source": [
    "Show all the columns:"
   ]
  },
  {
   "cell_type": "code",
   "execution_count": 10,
   "metadata": {},
   "outputs": [
    {
     "data": {
      "text/plain": [
       "res7: Array[String] = Array(bookID, title, authors, average_rating, isbn, isbn13, language_code, # num_pages, ratings_count, text_reviews_count)\n"
      ]
     },
     "execution_count": 10,
     "metadata": {},
     "output_type": "execute_result"
    }
   ],
   "source": [
    "booksDF.columns"
   ]
  },
  {
   "cell_type": "markdown",
   "metadata": {},
   "source": [
    "Select a few of the columns"
   ]
  },
  {
   "cell_type": "code",
   "execution_count": 16,
   "metadata": {},
   "outputs": [
    {
     "name": "stdout",
     "output_type": "stream",
     "text": [
      "+--------------------+----------+-----------+\n",
      "|               title|      isbn|# num_pages|\n",
      "+--------------------+----------+-----------+\n",
      "|Harry Potter and ...|0439785960|        652|\n",
      "|Harry Potter and ...|0439358078|        870|\n",
      "|Harry Potter and ...|0439554934|        320|\n",
      "|Harry Potter and ...|0439554896|        352|\n",
      "|Harry Potter and ...|043965548X|        435|\n",
      "|Harry Potter Boxe...|0439682584|       2690|\n",
      "|Unauthorized Harr...|0976540606|        152|\n",
      "|Harry Potter Coll...|0439827604|       3342|\n",
      "|The Ultimate Hitc...|0517226952|        815|\n",
      "|The Ultimate Hitc...|0345453743|        815|\n",
      "|The Hitchhiker's ...|1400052920|        215|\n",
      "|The Hitchhiker's ...|0739322206|          6|\n",
      "|The Ultimate Hitc...|0517149257|        815|\n",
      "|A Short History o...|076790818X|        544|\n",
      "|Bill Bryson's Afr...|0767915062|         55|\n",
      "|Bryson's Dictiona...|0767910435|        256|\n",
      "|In a Sunburned Co...|0767903862|        335|\n",
      "|I'm a Stranger He...|076790382X|        304|\n",
      "|The Lost Continen...|0060920084|        299|\n",
      "|Neither Here nor ...|0380713802|        254|\n",
      "+--------------------+----------+-----------+\n",
      "only showing top 20 rows\n",
      "\n"
     ]
    },
    {
     "data": {
      "text/plain": [
       "smallerSelectionDF: org.apache.spark.sql.DataFrame = [title: string, isbn: string ... 1 more field]\n"
      ]
     },
     "execution_count": 16,
     "metadata": {},
     "output_type": "execute_result"
    }
   ],
   "source": [
    "val smallerSelectionDF = booksDF.select(\"title\", \"isbn\", \"# num_pages\")\n",
    "smallerSelectionDF.show()"
   ]
  },
  {
   "cell_type": "code",
   "execution_count": 18,
   "metadata": {},
   "outputs": [
    {
     "name": "stdout",
     "output_type": "stream",
     "text": [
      "+--------------------+----------+-----------+\n",
      "|               title|      isbn|# num_pages|\n",
      "+--------------------+----------+-----------+\n",
      "|Harry Potter and ...|0439785960|        652|\n",
      "|Harry Potter and ...|0439358078|        870|\n",
      "|Harry Potter and ...|0439554934|        320|\n",
      "|Harry Potter and ...|0439554896|        352|\n",
      "|Harry Potter and ...|043965548X|        435|\n",
      "|Harry Potter Boxe...|0439682584|       2690|\n",
      "|Unauthorized Harr...|0976540606|        152|\n",
      "|Harry Potter Coll...|0439827604|       3342|\n",
      "|Harry Potter Scho...|043932162X|        240|\n",
      "|J.K. Rowling's Ha...|0826452329|         96|\n",
      "|Harry Potter and ...|0747584664|        768|\n",
      "|Harry Potter Y La...|0613359607|        254|\n",
      "|Harry Potter and ...|074757362X|        480|\n",
      "|Looking for God i...|1414306342|        234|\n",
      "|Mugglenet.Com's W...|1569755833|        216|\n",
      "|Harry Potter y el...|8478889930|        602|\n",
      "|Harry Potter y la...|8498380138|        288|\n",
      "|Harry Potter y la...|8478888845|        893|\n",
      "|Ultimate Unoffici...|0972393617|        412|\n",
      "|The Science Of Ha...|0755311515|        374|\n",
      "+--------------------+----------+-----------+\n",
      "only showing top 20 rows\n",
      "\n"
     ]
    },
    {
     "data": {
      "text/plain": [
       "harryPotters: org.apache.spark.sql.Dataset[org.apache.spark.sql.Row] = [title: string, isbn: string ... 1 more field]\n"
      ]
     },
     "execution_count": 18,
     "metadata": {},
     "output_type": "execute_result"
    }
   ],
   "source": [
    "val harryPotters = smallerSelectionDF.where($\"title\".contains(\"Harry Potter\"))\n",
    "harryPotters.show()"
   ]
  },
  {
   "cell_type": "code",
   "execution_count": 21,
   "metadata": {},
   "outputs": [
    {
     "name": "stdout",
     "output_type": "stream",
     "text": [
      "+--------------------+----------+-----------+\n",
      "|               title|      isbn|# num_pages|\n",
      "+--------------------+----------+-----------+\n",
      "|Harry Potter und ...|3895849618|         13|\n",
      "|Unauthorized Harr...|0976540606|        152|\n",
      "|Harry Potter Boxe...|0439434866|       1820|\n",
      "|Mapping the World...|1932100598|        195|\n",
      "|Mugglenet.Com's W...|1569755833|        216|\n",
      "|Looking for God i...|1414306342|        234|\n",
      "|Harry Potter Scho...|043932162X|        240|\n",
      "|Harry Potter and ...|0812694554|        243|\n",
      "|Harry Potter and ...|158234681X|        250|\n",
      "|Harry Potter Y La...|0613359607|        254|\n",
      "|Harry Potter Boxe...|0439682584|       2690|\n",
      "|Harry Potter y la...|8498380138|        288|\n",
      "|Harry Potter and ...|0439554934|        320|\n",
      "|Harry Potter und ...|3551354014|        334|\n",
      "|Harry Potter Coll...|0439827604|       3342|\n",
      "|Harry Potter and ...|0439064864|        341|\n",
      "|Harry Potter et l...|2070541304|        349|\n",
      "|Harry Potter und ...|3551552096|        351|\n",
      "|Harry Potter and ...|0439554896|        352|\n",
      "|Harry Potter ve F...|3570211010|        353|\n",
      "+--------------------+----------+-----------+\n",
      "only showing top 20 rows\n",
      "\n"
     ]
    }
   ],
   "source": [
    "harryPotters.sort($\"# num_pages\").show()"
   ]
  },
  {
   "cell_type": "code",
   "execution_count": 22,
   "metadata": {},
   "outputs": [
    {
     "name": "stdout",
     "output_type": "stream",
     "text": [
      "root\n",
      " |-- title: string (nullable = true)\n",
      " |-- isbn: string (nullable = true)\n",
      " |-- # num_pages: string (nullable = true)\n",
      "\n"
     ]
    }
   ],
   "source": [
    "harryPotters.printSchema()"
   ]
  },
  {
   "cell_type": "code",
   "execution_count": 31,
   "metadata": {},
   "outputs": [
    {
     "name": "stdout",
     "output_type": "stream",
     "text": [
      "root\n",
      " |-- title: string (nullable = true)\n",
      " |-- isbn: string (nullable = true)\n",
      " |-- # num_pages: integer (nullable = true)\n",
      "\n"
     ]
    },
    {
     "data": {
      "text/plain": [
       "import org.apache.spark.sql.functions._\n",
       "import org.apache.spark.sql.types.IntegerType\n",
       "converted: org.apache.spark.sql.DataFrame = [title: string, isbn: string ... 1 more field]\n"
      ]
     },
     "execution_count": 31,
     "metadata": {},
     "output_type": "execute_result"
    }
   ],
   "source": [
    "import org.apache.spark.sql.functions._\n",
    "import org.apache.spark.sql.types.IntegerType\n",
    "val converted = harryPotters.withColumn(\"# num_pages\", $\"# num_pages\".cast(IntegerType))\n",
    "converted.printSchema()"
   ]
  },
  {
   "cell_type": "code",
   "execution_count": 33,
   "metadata": {},
   "outputs": [
    {
     "name": "stdout",
     "output_type": "stream",
     "text": [
      "+----------------+\n",
      "|sum(# num_pages)|\n",
      "+----------------+\n",
      "|           22112|\n",
      "+----------------+\n",
      "\n"
     ]
    },
    {
     "data": {
      "text/plain": [
       "total: org.apache.spark.sql.DataFrame = [sum(# num_pages): bigint]\n"
      ]
     },
     "execution_count": 33,
     "metadata": {},
     "output_type": "execute_result"
    }
   ],
   "source": [
    "val total = converted.agg(sum($\"# num_pages\"))\n",
    "total.show()"
   ]
  },
  {
   "cell_type": "code",
   "execution_count": 40,
   "metadata": {},
   "outputs": [
    {
     "name": "stdout",
     "output_type": "stream",
     "text": [
      "+-----------------------------------------------------------+\n",
      "|title                                                      |\n",
      "+-----------------------------------------------------------+\n",
      "|Harry Potter and the Prisoner of Azkaban (Harry Potter  #3)|\n",
      "|Harry Potter and the Prisoner of Azkaban (Harry Potter  #3)|\n",
      "+-----------------------------------------------------------+\n",
      "\n"
     ]
    }
   ],
   "source": [
    "harryPotters.select(\"title\").where($\"title\".contains(\"Prisoner\")).show(20, false)"
   ]
  },
  {
   "cell_type": "code",
   "execution_count": null,
   "metadata": {},
   "outputs": [],
   "source": [
    "collect_list($\"title\")"
   ]
  },
  {
   "cell_type": "code",
   "execution_count": 54,
   "metadata": {},
   "outputs": [
    {
     "name": "stdout",
     "output_type": "stream",
     "text": [
      "+--------------------+--------------------+\n",
      "|             authors|              titles|\n",
      "+--------------------+--------------------+\n",
      "|Abraham Lincoln-D...|[Speeches and Wri...|\n",
      "|    Amanda Eyre Ward|    [How to Be Lost]|\n",
      "|         Ann Beattie|[The Doctor's Hou...|\n",
      "|         Ann Rinaldi|[A Break with Cha...|\n",
      "|Charles Dickens-S...|[A Tale of Two Ci...|\n",
      "|          Dava Sobel|[Galileo's Daught...|\n",
      "|        Doug Stanton|[In Harm's Way: T...|\n",
      "|     Eric Klinenberg|[Heat Wave: A Soc...|\n",
      "|Gayle Lynds-Rober...|[The Altman Code ...|\n",
      "|Haruki Murakami-U...|    [Naokos Lächeln]|\n",
      "|          Ian Ogilvy|[Measle and the D...|\n",
      "|J.E. Austen Leigh...|[A Memoir of Jane...|\n",
      "|        Jack Meadows|[The Future of th...|\n",
      "|          James Frey|[A Million Little...|\n",
      "|Johanna Hurwitz-V...|[Anne Frank: Life...|\n",
      "|John  Baxter-Mel Bay|[Deluxe Encyclope...|\n",
      "|Jonathan Swift-YKids|[Gulliver's Travels]|\n",
      "|     Karen Armstrong|[A History of God...|\n",
      "|Laura  Jordan-San...|   [Anhelos ocultos]|\n",
      "|    Laurence Olivier|[Confessions of a...|\n",
      "+--------------------+--------------------+\n",
      "only showing top 20 rows\n",
      "\n"
     ]
    }
   ],
   "source": [
    "booksDF.groupBy($\"authors\").agg(collect_list($\"title\").alias(\"titles\")).show()"
   ]
  },
  {
   "cell_type": "markdown",
   "metadata": {},
   "source": [
    "Lab: What are the harry potter's books average rating?"
   ]
  }
 ],
 "metadata": {
  "kernelspec": {
   "display_name": "spylon-kernel",
   "language": "scala",
   "name": "spylon-kernel"
  },
  "language_info": {
   "codemirror_mode": "text/x-scala",
   "file_extension": ".scala",
   "help_links": [
    {
     "text": "MetaKernel Magics",
     "url": "https://metakernel.readthedocs.io/en/latest/source/README.html"
    }
   ],
   "mimetype": "text/x-scala",
   "name": "scala",
   "pygments_lexer": "scala",
   "version": "0.4.1"
  }
 },
 "nbformat": 4,
 "nbformat_minor": 2
}

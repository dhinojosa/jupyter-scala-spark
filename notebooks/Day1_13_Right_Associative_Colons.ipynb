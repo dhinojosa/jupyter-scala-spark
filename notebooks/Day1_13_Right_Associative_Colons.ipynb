{
 "cells": [
  {
   "cell_type": "markdown",
   "metadata": {},
   "source": [
    "# The magical \"right-associative\" colons"
   ]
  },
  {
   "cell_type": "markdown",
   "metadata": {},
   "source": [
    "## Right associative colons\n",
    "\n",
    "Right-associative colons works with operator overloading only\n",
    "\n",
    "It flips the way we call our methods using it as an infix operator\n",
    "\n",
    "Let’s take our famous example, given:"
   ]
  },
  {
   "cell_type": "code",
   "execution_count": 88,
   "metadata": {},
   "outputs": [
    {
     "data": {
      "text/plain": [
       "defined class Foo\n"
      ]
     },
     "execution_count": 88,
     "metadata": {},
     "output_type": "execute_result"
    }
   ],
   "source": [
    "class Foo(x:Int) {\n",
    "   def bar(y:Int) = x + y\n",
    "}"
   ]
  },
  {
   "cell_type": "markdown",
   "metadata": {},
   "source": [
    "Let’s rename it with a right-associative colon"
   ]
  },
  {
   "cell_type": "code",
   "execution_count": 89,
   "metadata": {},
   "outputs": [
    {
     "data": {
      "text/plain": [
       "defined class Foo\n"
      ]
     },
     "execution_count": 89,
     "metadata": {},
     "output_type": "execute_result"
    }
   ],
   "source": [
    "class Foo(x:Int) {\n",
    "   def ~:(y:Int) = x + y\n",
    "}"
   ]
  },
  {
   "cell_type": "markdown",
   "metadata": {},
   "source": [
    "Invoking the right associative colon\n",
    "Now how do invoke the right associative colon given the following?"
   ]
  },
  {
   "cell_type": "code",
   "execution_count": 90,
   "metadata": {},
   "outputs": [
    {
     "data": {
      "text/plain": [
       "defined class Foo\n"
      ]
     },
     "execution_count": 90,
     "metadata": {},
     "output_type": "execute_result"
    }
   ],
   "source": [
    "class Foo(x:Int) {\n",
    "   def ~:(y:Int) = x + y\n",
    "}"
   ]
  },
  {
   "cell_type": "markdown",
   "metadata": {},
   "source": [
    "We can call it just like any method and it will return 50:"
   ]
  },
  {
   "cell_type": "code",
   "execution_count": 91,
   "metadata": {},
   "outputs": [
    {
     "data": {
      "text/plain": [
       "foo: Foo = Foo@7bea7d\n",
       "res55: Int = 20\n"
      ]
     },
     "execution_count": 91,
     "metadata": {},
     "output_type": "execute_result"
    }
   ],
   "source": [
    "val foo = new Foo(10)\n",
    "foo.~:(10)"
   ]
  },
  {
   "cell_type": "markdown",
   "metadata": {},
   "source": [
    "Or we can call it as an infix operator and get a compiler error:"
   ]
  },
  {
   "cell_type": "code",
   "execution_count": 92,
   "metadata": {},
   "outputs": [
    {
     "ename": "<console>",
     "evalue": "30: error: value ~: is not a member of Int",
     "output_type": "error",
     "traceback": [
      "<console>:30: error: value ~: is not a member of Int",
      "       foo ~: 10 //Compiler error: value ~: is not a member of Int",
      "           ^",
      ""
     ]
    }
   ],
   "source": [
    "val foo = new Foo(10)\n",
    "foo ~: 10 //Compiler error: value ~: is not a member of Int"
   ]
  },
  {
   "cell_type": "markdown",
   "metadata": {},
   "source": [
    "To still use it as an infix operator let’s flip it!"
   ]
  },
  {
   "cell_type": "code",
   "execution_count": 93,
   "metadata": {},
   "outputs": [
    {
     "data": {
      "text/plain": [
       "foo: Foo = Foo@154a073b\n",
       "res57: Int = 20\n"
      ]
     },
     "execution_count": 93,
     "metadata": {},
     "output_type": "execute_result"
    }
   ],
   "source": [
    "val foo = new Foo(10)\n",
    "10 ~: foo"
   ]
  },
  {
   "cell_type": "markdown",
   "metadata": {},
   "source": [
    "**Mind trick!** The \"col\"on always attaches to the \"col\"lection or the object, we will see with a list"
   ]
  },
  {
   "cell_type": "markdown",
   "metadata": {},
   "source": [
    "## **Lab:** Creating and Manipulating a List\n",
    "\n",
    "Although we may not use it too much, it will still show up so where do you see it? \n",
    "We see it in alternate construction for a `List`\n",
    "\n",
    "**Step 1:** We will start off with `Nil` which is an empty `List`"
   ]
  },
  {
   "cell_type": "code",
   "execution_count": 96,
   "metadata": {},
   "outputs": [
    {
     "data": {
      "text/plain": [
       "res59: scala.collection.immutable.Nil.type = List()\n"
      ]
     },
     "execution_count": 96,
     "metadata": {},
     "output_type": "execute_result"
    }
   ],
   "source": [
    "Nil"
   ]
  },
  {
   "cell_type": "markdown",
   "metadata": {},
   "source": [
    "**Step 2:** Use the `::` operator of the list to create a list of `\"Bar\"`, `\"Baz\"`, `\"Qux\"` off of a `Nil`. Notice that the `::` operator ends in a colon. Assign it to a `val` called `metasyntactics`"
   ]
  },
  {
   "cell_type": "code",
   "execution_count": null,
   "metadata": {},
   "outputs": [],
   "source": []
  },
  {
   "cell_type": "markdown",
   "metadata": {},
   "source": [
    "**Step 3:** Append an element called `Quuz` to the `metasyntactics` variable using the `:+` method"
   ]
  },
  {
   "cell_type": "code",
   "execution_count": null,
   "metadata": {},
   "outputs": [],
   "source": []
  },
  {
   "cell_type": "markdown",
   "metadata": {},
   "source": [
    "**Step 4:** Prepend the element `Foo` to `metasyntactics` list using the `:+` method"
   ]
  },
  {
   "cell_type": "code",
   "execution_count": null,
   "metadata": {},
   "outputs": [],
   "source": []
  },
  {
   "cell_type": "markdown",
   "metadata": {},
   "source": [
    "**Step 5:** Combine all the techniques above to make the list of `Foo`, `Bar`, `Baz`, `Qux`, `Quuz`."
   ]
  },
  {
   "cell_type": "code",
   "execution_count": null,
   "metadata": {},
   "outputs": [],
   "source": []
  },
  {
   "cell_type": "markdown",
   "metadata": {},
   "source": [
    "## Magic Right Associative Colons Conclusion\n",
    "* Right associative colons, will flip how it is invoked\n",
    "* Not often used but there will moments where you will need it\n",
    "* It is used to flexibly do things to the language"
   ]
  },
  {
   "cell_type": "code",
   "execution_count": null,
   "metadata": {},
   "outputs": [],
   "source": []
  }
 ],
 "metadata": {
  "kernelspec": {
   "display_name": "spylon-kernel",
   "language": "scala",
   "name": "spylon-kernel"
  },
  "language_info": {
   "codemirror_mode": "text/x-scala",
   "file_extension": ".scala",
   "help_links": [
    {
     "text": "MetaKernel Magics",
     "url": "https://metakernel.readthedocs.io/en/latest/source/README.html"
    }
   ],
   "mimetype": "text/x-scala",
   "name": "scala",
   "pygments_lexer": "scala",
   "version": "0.4.1"
  }
 },
 "nbformat": 4,
 "nbformat_minor": 2
}

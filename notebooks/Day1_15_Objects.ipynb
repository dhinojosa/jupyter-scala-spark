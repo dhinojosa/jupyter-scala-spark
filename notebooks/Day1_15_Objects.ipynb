{
 "cells": [
  {
   "cell_type": "markdown",
   "metadata": {},
   "source": [
    "# `object`"
   ]
  },
  {
   "cell_type": "markdown",
   "metadata": {},
   "source": [
    "## About `object`\n",
    "\n",
    "* We know that objects are instantiated from classes\n",
    "* We can also create an `object`, a single `object`, without a class\n",
    "* This is called an `object`\n",
    "* **IMPORTANT** An object is a singleton. There is only one\n",
    "* It is how we avoid static methods"
   ]
  },
  {
   "cell_type": "markdown",
   "metadata": {},
   "source": [
    "## **Lab:** Trying out the object\n",
    "\n",
    "**Step 1:** Here we will create a single object"
   ]
  },
  {
   "cell_type": "code",
   "execution_count": 1,
   "metadata": {},
   "outputs": [
    {
     "data": {
      "text/plain": [
       "Intitializing Scala interpreter ..."
      ]
     },
     "metadata": {},
     "output_type": "display_data"
    },
    {
     "data": {
      "text/plain": [
       "Spark Web UI available at http://32c6e00c8fb3:4040\n",
       "SparkContext available as 'sc' (version = 2.4.3, master = local[*], app id = local-1562142761746)\n",
       "SparkSession available as 'spark'\n"
      ]
     },
     "metadata": {},
     "output_type": "display_data"
    },
    {
     "data": {
      "text/plain": [
       "defined object MyObject\n"
      ]
     },
     "execution_count": 1,
     "metadata": {},
     "output_type": "execute_result"
    }
   ],
   "source": [
    "object MyObject"
   ]
  },
  {
   "cell_type": "markdown",
   "metadata": {},
   "source": [
    "**Step 2:** Verify that it is truly a singleton, by assigning `MyObject` to a val `a` and `b`"
   ]
  },
  {
   "cell_type": "code",
   "execution_count": null,
   "metadata": {},
   "outputs": [],
   "source": []
  },
  {
   "cell_type": "markdown",
   "metadata": {},
   "source": [
    "**Step 3:** Determine that they are the same reference, by using `eq` which returns `true` if two references are pointing to the same object"
   ]
  },
  {
   "cell_type": "markdown",
   "metadata": {},
   "source": [
    "## How we avoid static\n",
    "\n",
    "* We can add values, or variables, and methods to an object\n",
    "* When we invoke those values, variable, and methods it looks and feels like invoking something static"
   ]
  },
  {
   "cell_type": "markdown",
   "metadata": {},
   "source": [
    "## An example object with a def\n",
    "\n",
    "* You can have `val`, `var`, `class`, `object`, `trait` in an object\n",
    "* Here is `MyObject` which is an object with a method foo"
   ]
  },
  {
   "cell_type": "code",
   "execution_count": 2,
   "metadata": {},
   "outputs": [
    {
     "data": {
      "text/plain": [
       "defined object MyObject\n"
      ]
     },
     "execution_count": 2,
     "metadata": {},
     "output_type": "execute_result"
    }
   ],
   "source": [
    "object MyObject {\n",
    "   def foo(x:Int, y:Int) = x + y\n",
    "}"
   ]
  },
  {
   "cell_type": "markdown",
   "metadata": {},
   "source": [
    "This can be invoked using:"
   ]
  },
  {
   "cell_type": "code",
   "execution_count": 4,
   "metadata": {},
   "outputs": [
    {
     "data": {
      "text/plain": [
       "res1: Int = 6\n"
      ]
     },
     "execution_count": 4,
     "metadata": {},
     "output_type": "execute_result"
    }
   ],
   "source": [
    "MyObject.foo(4, 2)"
   ]
  },
  {
   "cell_type": "markdown",
   "metadata": {},
   "source": [
    "This has a look and feel of Java static method"
   ]
  },
  {
   "cell_type": "markdown",
   "metadata": {},
   "source": [
    "## When do you need `object`?\n",
    "\n",
    "* For Classes\n",
    "  * Need to define a template to create multiple instances\n",
    "  * Every instance has a state\n",
    "* For Objects\n",
    "  * You need a singleton\n",
    "  * You need a factory pattern, which defined as: Creating families of related or dependent objects without specifying or hiding their concrete classes.\n",
    "  * You need to implement pattern matching logic\n",
    "  * You need create a utility that doesn’t require and instance or a state.\n",
    "  * You have some default values or constants"
   ]
  },
  {
   "cell_type": "markdown",
   "metadata": {},
   "source": [
    "## The `main` method\n",
    "\n",
    "The main method in Java requires all of this so that we can execute it as an application\n",
    "```\n",
    "public static void main(String[] args) {\n",
    "   System.out.println(\"Hello, Scala\")\n",
    "}\n",
    "```\n",
    "\n",
    "The same elements apply in Scala although the components are different\n",
    "* `object` instead of `static`\n",
    "* `Unit` instead of `void`\n",
    "* Everything is `public` by default\n",
    "* `Array[String]` instead of `String[]`\n",
    "\n",
    "Therefore the `main` method in Scala looks like:"
   ]
  },
  {
   "cell_type": "code",
   "execution_count": 7,
   "metadata": {},
   "outputs": [
    {
     "data": {
      "text/plain": [
       "defined object Runner\n"
      ]
     },
     "execution_count": 7,
     "metadata": {},
     "output_type": "execute_result"
    }
   ],
   "source": [
    "object Runner { //Call it whatever you want\n",
    "  def main(args:Array[String]):Unit = println(\"Hello, Scala\")\n",
    "}"
   ]
  },
  {
   "cell_type": "markdown",
   "metadata": {},
   "source": [
    "## Alternative `main` method\n",
    "\n",
    "As seen already You can also create a main method doing the following:"
   ]
  },
  {
   "cell_type": "code",
   "execution_count": 6,
   "metadata": {},
   "outputs": [
    {
     "data": {
      "text/plain": [
       "defined object Runner\n"
      ]
     },
     "execution_count": 6,
     "metadata": {},
     "output_type": "execute_result"
    }
   ],
   "source": [
    "object Runner extends App {\n",
    "   println(\"Hello, Scala\")\n",
    "}"
   ]
  },
  {
   "cell_type": "markdown",
   "metadata": {},
   "source": [
    "# `object` Conclusion\n",
    "\n",
    "* Objects are Singletons\n",
    "* Objects are Scala’s replacement for `static`\n",
    "* Objects are typically meant for factories, utilities, defining pattern matching, defining defaults, and `main` methods\n",
    "* `main` methods are inside of objects…​always\n",
    "* You can forgo the main method declaration have the object extend `App`."
   ]
  }
 ],
 "metadata": {
  "kernelspec": {
   "display_name": "spylon-kernel",
   "language": "scala",
   "name": "spylon-kernel"
  },
  "language_info": {
   "codemirror_mode": "text/x-scala",
   "file_extension": ".scala",
   "help_links": [
    {
     "text": "MetaKernel Magics",
     "url": "https://metakernel.readthedocs.io/en/latest/source/README.html"
    }
   ],
   "mimetype": "text/x-scala",
   "name": "scala",
   "pygments_lexer": "scala",
   "version": "0.4.1"
  }
 },
 "nbformat": 4,
 "nbformat_minor": 2
}

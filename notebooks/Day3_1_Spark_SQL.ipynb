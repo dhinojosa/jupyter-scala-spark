{
 "cells": [
  {
   "cell_type": "markdown",
   "metadata": {},
   "source": [
    "# SparkSQL\n",
    "\n",
    "* After dealing with `select` and `selectExpr` when selecting columns\n",
    "* After dealing with `where` when selecting rows\n",
    "* After dealing with `joins` when joining information\n"
   ]
  },
  {
   "cell_type": "code",
   "execution_count": 2,
   "metadata": {},
   "outputs": [
    {
     "name": "stdout",
     "output_type": "stream",
     "text": [
      "root\n",
      " |-- bookID: integer (nullable = true)\n",
      " |-- title: string (nullable = true)\n",
      " |-- authors: string (nullable = true)\n",
      " |-- average_rating: float (nullable = true)\n",
      " |-- isbn: string (nullable = true)\n",
      " |-- isbn13: string (nullable = true)\n",
      " |-- language_code: string (nullable = true)\n",
      " |-- num_pages: integer (nullable = true)\n",
      " |-- ratings_count: integer (nullable = true)\n",
      " |-- text_reviews_count: integer (nullable = true)\n",
      "\n"
     ]
    },
    {
     "data": {
      "text/plain": [
       "import org.apache.spark.sql.types._\n",
       "bookSchema: org.apache.spark.sql.types.StructType = StructType(StructField(bookID,IntegerType,false), StructField(title,StringType,false), StructField(authors,StringType,false), StructField(average_rating,FloatType,false), StructField(isbn,StringType,false), StructField(isbn13,StringType,false), StructField(language_code,StringType,false), StructField(num_pages,IntegerType,false), StructField(ratings_count,IntegerType,false), StructField(text_reviews_count,IntegerType,false))\n",
       "booksDF: org.apache.spark.sql.DataFrame = [bookID: int, title: string ... 8 more fields]\n"
      ]
     },
     "execution_count": 2,
     "metadata": {},
     "output_type": "execute_result"
    }
   ],
   "source": [
    "import org.apache.spark.sql.types._\n",
    "val bookSchema = new StructType(Array(\n",
    "   new StructField(\"bookID\", IntegerType, false),\n",
    "   new StructField(\"title\", StringType, false),\n",
    "   new StructField(\"authors\", StringType, false),\n",
    "   new StructField(\"average_rating\", FloatType, false),\n",
    "   new StructField(\"isbn\", StringType, false),\n",
    "   new StructField(\"isbn13\", StringType, false),\n",
    "   new StructField(\"language_code\", StringType, false),\n",
    "   new StructField(\"num_pages\", IntegerType, false),\n",
    "   new StructField(\"ratings_count\", IntegerType, false),\n",
    "   new StructField(\"text_reviews_count\", IntegerType, false)))\n",
    "\n",
    "val booksDF = spark.read.format(\"csv\")\n",
    "                         .schema(bookSchema)\n",
    "                         .option(\"header\", \"true\")\n",
    "                         .option(\"encoding\", \"UTF-8\")\n",
    "                         .load(\"../data/books.csv\")\n",
    "booksDF.printSchema()"
   ]
  },
  {
   "cell_type": "markdown",
   "metadata": {},
   "source": [
    "## Establishing a table name \n",
    "\n",
    "* In Spark we require a table name so that we can query the information\n",
    "* This can be done with the following calls from the `DataFrame`\n",
    "  * `createOrReplaceTempView(viewName: String)`\n",
    "  * `createGlobalTempView(viewName: String)`\n",
    "  * `createOrReplaceGlobalTempView(viewName: String)`\n",
    "* The only difference above is the scope:\n",
    "  * Global refers to the life of the Spark application\n",
    "  * Non-global is per the scope while in use"
   ]
  },
  {
   "cell_type": "code",
   "execution_count": 27,
   "metadata": {},
   "outputs": [],
   "source": [
    "booksDF.createOrReplaceTempView(\"books\")"
   ]
  },
  {
   "cell_type": "markdown",
   "metadata": {},
   "source": [
    "## Running a SQL Query\n",
    "\n",
    "* SQL Queries are run using the `sql` method on the [`SparkSession`](https://spark.apache.org/docs/2.3.0/api/scala/index.html#org.apache.spark.sql.SparkSession)\n",
    "* The `sql` call returns a `DataFrame`\n",
    "* Use for the table name the name provided to the `createOrReplaceTempView`, `createOrReplaceGlobalTempView`, or `createGlobalTempView`"
   ]
  },
  {
   "cell_type": "code",
   "execution_count": 28,
   "metadata": {},
   "outputs": [
    {
     "name": "stdout",
     "output_type": "stream",
     "text": [
      "+------+--------------------+--------------------+--------------+----------+-------------+-------------+---------+-------------+------------------+\n",
      "|bookID|               title|             authors|average_rating|      isbn|       isbn13|language_code|num_pages|ratings_count|text_reviews_count|\n",
      "+------+--------------------+--------------------+--------------+----------+-------------+-------------+---------+-------------+------------------+\n",
      "|     1|Harry Potter and ...|J.K. Rowling-Mary...|          4.56|0439785960|9780439785969|          eng|      652|      1944099|             26249|\n",
      "|     2|Harry Potter and ...|J.K. Rowling-Mary...|          4.49|0439358078|9780439358071|          eng|      870|      1996446|             27613|\n",
      "|     3|Harry Potter and ...|J.K. Rowling-Mary...|          4.47|0439554934|9780439554930|          eng|      320|      5629932|             70390|\n",
      "|     4|Harry Potter and ...|        J.K. Rowling|          4.41|0439554896|9780439554893|          eng|      352|         6267|               272|\n",
      "|     5|Harry Potter and ...|J.K. Rowling-Mary...|          4.55|043965548X|9780439655484|          eng|      435|      2149872|             33964|\n",
      "|     8|Harry Potter Boxe...|J.K. Rowling-Mary...|          4.78|0439682584|9780439682589|          eng|     2690|        38872|               154|\n",
      "|     9|Unauthorized Harr...|W. Frederick Zimm...|          3.69|0976540606|9780976540601|        en-US|      152|           18|                 1|\n",
      "|    10|Harry Potter Coll...|        J.K. Rowling|          4.73|0439827604|9780439827607|          eng|     3342|        27410|               820|\n",
      "|    12|The Ultimate Hitc...|       Douglas Adams|          4.38|0517226952|9780517226957|          eng|      815|         3602|               258|\n",
      "|    13|The Ultimate Hitc...|       Douglas Adams|          4.38|0345453743|9780345453747|          eng|      815|       240189|              3954|\n",
      "+------+--------------------+--------------------+--------------+----------+-------------+-------------+---------+-------------+------------------+\n",
      "only showing top 10 rows\n",
      "\n"
     ]
    }
   ],
   "source": [
    "spark.sql(\"select * from books\").show(10)"
   ]
  },
  {
   "cell_type": "markdown",
   "metadata": {},
   "source": [
    "## Multiline Queries\n",
    "\n",
    "* You can express multiline using a Scala Smart String\n",
    "* You can use optionally use `stripMargin` for aesthetics"
   ]
  },
  {
   "cell_type": "code",
   "execution_count": 29,
   "metadata": {},
   "outputs": [
    {
     "name": "stdout",
     "output_type": "stream",
     "text": [
      "+--------------------+--------------------+---------+\n",
      "|               title|             authors|num_pages|\n",
      "+--------------------+--------------------+---------+\n",
      "|Harry Potter and ...|J.K. Rowling-Mary...|      652|\n",
      "|Harry Potter and ...|J.K. Rowling-Mary...|      435|\n",
      "|Harry Potter Boxe...|J.K. Rowling-Mary...|     2690|\n",
      "|Harry Potter Coll...|        J.K. Rowling|     3342|\n",
      "|J.R.R. Tolkien 4-...|      J.R.R. Tolkien|     1728|\n",
      "|The Lord of the R...|Chris   Smith-Chr...|      218|\n",
      "|100 Years of Lync...|      Ralph Ginzburg|      270|\n",
      "|The Gettysburg Ad...|Abraham Lincoln-M...|       32|\n",
      "|Fullmetal Alchemi...|Hiromu Arakawa-Ak...|      192|\n",
      "|Fullmetal Alchemi...|Hiromu Arakawa-Ak...|      192|\n",
      "+--------------------+--------------------+---------+\n",
      "only showing top 10 rows\n",
      "\n"
     ]
    },
    {
     "data": {
      "text/plain": [
       "result: org.apache.spark.sql.DataFrame = [title: string, authors: string ... 1 more field]\n"
      ]
     },
     "execution_count": 29,
     "metadata": {},
     "output_type": "execute_result"
    }
   ],
   "source": [
    "val result = spark.sql(\"\"\"SELECT title, authors, num_pages\n",
    "                          | FROM books \n",
    "                          | WHERE average_rating > 4.5\"\"\".stripMargin)\n",
    "result.show(10)"
   ]
  },
  {
   "cell_type": "markdown",
   "metadata": {},
   "source": [
    "## Mixing and Matching Queries\n",
    "\n",
    "* You can choose to do part of the query using SparkSQL, and part in `DataFrame` and `DataSet` method calls"
   ]
  },
  {
   "cell_type": "code",
   "execution_count": 30,
   "metadata": {},
   "outputs": [
    {
     "name": "stdout",
     "output_type": "stream",
     "text": [
      "+--------------------+--------------------+---------+\n",
      "|               title|             authors|num_pages|\n",
      "+--------------------+--------------------+---------+\n",
      "|Harry Potter and ...|J.K. Rowling-Mary...|      652|\n",
      "|Harry Potter and ...|J.K. Rowling-Mary...|      435|\n",
      "|Harry Potter Boxe...|J.K. Rowling-Mary...|     2690|\n",
      "|Harry Potter Coll...|        J.K. Rowling|     3342|\n",
      "|J.R.R. Tolkien 4-...|      J.R.R. Tolkien|     1728|\n",
      "|The Lord of the R...|Chris   Smith-Chr...|      218|\n",
      "|100 Years of Lync...|      Ralph Ginzburg|      270|\n",
      "|The Gettysburg Ad...|Abraham Lincoln-M...|       32|\n",
      "|Fullmetal Alchemi...|Hiromu Arakawa-Ak...|      192|\n",
      "|Fullmetal Alchemi...|Hiromu Arakawa-Ak...|      192|\n",
      "+--------------------+--------------------+---------+\n",
      "only showing top 10 rows\n",
      "\n"
     ]
    },
    {
     "data": {
      "text/plain": [
       "result: org.apache.spark.sql.Dataset[org.apache.spark.sql.Row] = [title: string, authors: string ... 1 more field]\n"
      ]
     },
     "execution_count": 30,
     "metadata": {},
     "output_type": "execute_result"
    }
   ],
   "source": [
    "val result = spark.sql(\"\"\"SELECT title, authors, num_pages\n",
    "                          | FROM books\"\"\".stripMargin)\n",
    "                  .where($\"average_rating\" > 4.5)\n",
    "result.show(10)"
   ]
  },
  {
   "cell_type": "markdown",
   "metadata": {},
   "source": [
    "## Splitting a column \n",
    "\n",
    "* We can try the same logic as before when we were working with a `DataFrame`"
   ]
  },
  {
   "cell_type": "code",
   "execution_count": 31,
   "metadata": {},
   "outputs": [
    {
     "name": "stdout",
     "output_type": "stream",
     "text": [
      "+--------------------+\n",
      "|      primary_author|\n",
      "+--------------------+\n",
      "|        J.K. Rowling|\n",
      "|        J.K. Rowling|\n",
      "|        J.K. Rowling|\n",
      "|        J.K. Rowling|\n",
      "|        J.K. Rowling|\n",
      "|        J.K. Rowling|\n",
      "|W. Frederick Zimm...|\n",
      "|        J.K. Rowling|\n",
      "|       Douglas Adams|\n",
      "|       Douglas Adams|\n",
      "+--------------------+\n",
      "only showing top 10 rows\n",
      "\n"
     ]
    }
   ],
   "source": [
    "spark.sql(\"\"\"SELECT (split(authors, '-')[0]) as primary_author from books\"\"\").show(10)"
   ]
  },
  {
   "cell_type": "markdown",
   "metadata": {},
   "source": [
    "## Trying a `groupBy` in the same process as we did in querying example"
   ]
  },
  {
   "cell_type": "code",
   "execution_count": 32,
   "metadata": {},
   "outputs": [
    {
     "name": "stdout",
     "output_type": "stream",
     "text": [
      "+--------------------+--------------+-------------+\n",
      "|      primary_author|average_rating|ratings_count|\n",
      "+--------------------+--------------+-------------+\n",
      "|        J.K. Rowling|          4.56|      1944099|\n",
      "|        J.K. Rowling|          4.49|      1996446|\n",
      "|        J.K. Rowling|          4.47|      5629932|\n",
      "|        J.K. Rowling|          4.41|         6267|\n",
      "|        J.K. Rowling|          4.55|      2149872|\n",
      "|        J.K. Rowling|          4.78|        38872|\n",
      "|W. Frederick Zimm...|          3.69|           18|\n",
      "|        J.K. Rowling|          4.73|        27410|\n",
      "|       Douglas Adams|          4.38|         3602|\n",
      "|       Douglas Adams|          4.38|       240189|\n",
      "+--------------------+--------------+-------------+\n",
      "only showing top 10 rows\n",
      "\n"
     ]
    }
   ],
   "source": [
    "spark.sql(\"\"\"SELECT (split(authors, '-')[0]) as primary_author, average_rating, ratings_count from books\"\"\").show(10)"
   ]
  },
  {
   "cell_type": "code",
   "execution_count": 37,
   "metadata": {},
   "outputs": [
    {
     "data": {
      "text/plain": [
       "res36: org.apache.spark.sql.DataFrame = []\n"
      ]
     },
     "execution_count": 37,
     "metadata": {},
     "output_type": "execute_result"
    }
   ],
   "source": [
    "spark.sql(\"\"\"DROP VIEW primary_author_books\"\"\")"
   ]
  },
  {
   "cell_type": "code",
   "execution_count": 38,
   "metadata": {},
   "outputs": [
    {
     "data": {
      "text/plain": [
       "res37: org.apache.spark.sql.DataFrame = []\n"
      ]
     },
     "execution_count": 38,
     "metadata": {},
     "output_type": "execute_result"
    }
   ],
   "source": [
    "spark.sql(\"\"\"CREATE TEMP VIEW\n",
    "                 primary_author_books AS SELECT (split(authors, '-')[0])\n",
    "                 as primary_author, average_rating, ratings_count from books\"\"\")"
   ]
  },
  {
   "cell_type": "code",
   "execution_count": 39,
   "metadata": {},
   "outputs": [
    {
     "name": "stdout",
     "output_type": "stream",
     "text": [
      "+--------------------+--------------+-------------+\n",
      "|      primary_author|average_rating|ratings_count|\n",
      "+--------------------+--------------+-------------+\n",
      "|        J.K. Rowling|          4.56|      1944099|\n",
      "|        J.K. Rowling|          4.49|      1996446|\n",
      "|        J.K. Rowling|          4.47|      5629932|\n",
      "|        J.K. Rowling|          4.41|         6267|\n",
      "|        J.K. Rowling|          4.55|      2149872|\n",
      "|        J.K. Rowling|          4.78|        38872|\n",
      "|W. Frederick Zimm...|          3.69|           18|\n",
      "|        J.K. Rowling|          4.73|        27410|\n",
      "|       Douglas Adams|          4.38|         3602|\n",
      "|       Douglas Adams|          4.38|       240189|\n",
      "+--------------------+--------------+-------------+\n",
      "only showing top 10 rows\n",
      "\n"
     ]
    }
   ],
   "source": [
    "spark.sql(\"SELECT * from primary_author_books\").show(10)"
   ]
  },
  {
   "cell_type": "code",
   "execution_count": 42,
   "metadata": {},
   "outputs": [
    {
     "name": "stdout",
     "output_type": "stream",
     "text": [
      "+--------------------+------------------+-------------+\n",
      "|      primary_author| avg_author_rating|total_ratings|\n",
      "+--------------------+------------------+-------------+\n",
      "|          James Frey| 3.630000114440918|       195863|\n",
      "|     Eric Klinenberg|3.8399999141693115|          674|\n",
      "|     Karen Armstrong| 3.971249997615814|        67247|\n",
      "|                Éric|               3.5|         2080|\n",
      "|          Dava Sobel|3.8925000429153442|        67718|\n",
      "|        Helena Grice| 3.700000047683716|           10|\n",
      "|         Ann Rinaldi|3.7899999618530273|         4988|\n",
      "|         Ann Beattie| 3.440000057220459|         1174|\n",
      "|Brian Michael Bendis|3.8899999856948853|         1665|\n",
      "|Michael Eliot Howard| 4.050000190734863|          190|\n",
      "+--------------------+------------------+-------------+\n",
      "only showing top 10 rows\n",
      "\n"
     ]
    }
   ],
   "source": [
    "spark.sql(\"\"\"SELECT primary_author, \n",
    "                    avg(average_rating) as avg_author_rating, \n",
    "                    sum(ratings_count) as total_ratings\n",
    "                    FROM primary_author_books\n",
    "                    GROUP BY primary_author\"\"\").show(10)"
   ]
  },
  {
   "cell_type": "code",
   "execution_count": 53,
   "metadata": {},
   "outputs": [
    {
     "name": "stdout",
     "output_type": "stream",
     "text": [
      "+--------------------+---------------------+------------------+\n",
      "|      primary_author|author_average_rating|  weighted_average|\n",
      "+--------------------+---------------------+------------------+\n",
      "|          James Frey|    3.630000114440918| 710982.7124147415|\n",
      "|     Eric Klinenberg|   3.8399999141693115| 2588.159942150116|\n",
      "|     Karen Armstrong|    3.971249997615814|267054.64858967066|\n",
      "|                Éric|                  3.5|            7280.0|\n",
      "|          Dava Sobel|   3.8925000429153442| 263592.3179061413|\n",
      "|        Helena Grice|    3.700000047683716| 37.00000047683716|\n",
      "|         Ann Rinaldi|   3.7899999618530273|  18904.5198097229|\n",
      "|         Ann Beattie|    3.440000057220459| 4038.560067176819|\n",
      "|Brian Michael Bendis|   3.8899999856948853| 6476.849976181984|\n",
      "|Michael Eliot Howard|    4.050000190734863|  769.500036239624|\n",
      "+--------------------+---------------------+------------------+\n",
      "only showing top 10 rows\n",
      "\n"
     ]
    }
   ],
   "source": [
    "spark.sql(\"\"\"SELECT primary_author, \n",
    "                    avg(average_rating) as author_average_rating,\n",
    "                    (avg(average_rating) * sum(ratings_count)) as weighted_average\n",
    "                    FROM primary_author_books\n",
    "                    GROUP BY primary_author\"\"\").show(10)"
   ]
  },
  {
   "cell_type": "code",
   "execution_count": 54,
   "metadata": {},
   "outputs": [
    {
     "name": "stdout",
     "output_type": "stream",
     "text": [
      "+-------------------+---------------------+--------------------+\n",
      "|     primary_author|author_average_rating|    weighted_average|\n",
      "+-------------------+---------------------+--------------------+\n",
      "|       J.K. Rowling|    4.512857096535819| 6.303455899299431E7|\n",
      "|     J.R.R. Tolkien|    4.235945927130209| 2.464259001540443E7|\n",
      "|       Stephen King|    4.009765664115548|2.2012037658088364E7|\n",
      "|William Shakespeare|   3.9309734812879986|1.8514315105711687E7|\n",
      "|          Dan Brown|    3.799130460490351|1.6799435769329652E7|\n",
      "|    Stephenie Meyer|   3.5899999141693115|1.5687341094942808E7|\n",
      "|    Nicholas Sparks|    3.997692291553204|1.2736339818582058E7|\n",
      "| George R.R. Martin|    4.148571389062064|1.1157126408029623E7|\n",
      "|      J.D. Salinger|   3.9745454137975518|1.0545069139162388E7|\n",
      "|      George Orwell|    4.166111177868313|   9673339.371115392|\n",
      "+-------------------+---------------------+--------------------+\n",
      "only showing top 10 rows\n",
      "\n"
     ]
    }
   ],
   "source": [
    "spark.sql(\"\"\"SELECT primary_author, \n",
    "                    avg(average_rating) as author_average_rating,\n",
    "                    (avg(average_rating) * sum(ratings_count)) as weighted_average\n",
    "                    FROM primary_author_books\n",
    "                    GROUP BY primary_author\n",
    "                    ORDER BY weighted_average DESC\"\"\").show(10)"
   ]
  },
  {
   "cell_type": "code",
   "execution_count": 55,
   "metadata": {},
   "outputs": [
    {
     "name": "stdout",
     "output_type": "stream",
     "text": [
      "+-------------------+---------------------+--------------------+\n",
      "|     primary_author|author_average_rating|    weighted_average|\n",
      "+-------------------+---------------------+--------------------+\n",
      "|       J.K. Rowling|    4.512857096535819| 6.303455899299431E7|\n",
      "|     J.R.R. Tolkien|    4.235945927130209| 2.464259001540443E7|\n",
      "|       Stephen King|    4.009765664115548|2.2012037658088364E7|\n",
      "|William Shakespeare|   3.9309734812879986|1.8514315105711687E7|\n",
      "|          Dan Brown|    3.799130460490351|1.6799435769329652E7|\n",
      "|    Stephenie Meyer|   3.5899999141693115|1.5687341094942808E7|\n",
      "|    Nicholas Sparks|    3.997692291553204|1.2736339818582058E7|\n",
      "| George R.R. Martin|    4.148571389062064|1.1157126408029623E7|\n",
      "|      J.D. Salinger|   3.9745454137975518|1.0545069139162388E7|\n",
      "|      George Orwell|    4.166111177868313|   9673339.371115392|\n",
      "+-------------------+---------------------+--------------------+\n",
      "\n"
     ]
    }
   ],
   "source": [
    "spark.sql(\"\"\"SELECT primary_author, \n",
    "                    avg(average_rating) as author_average_rating,\n",
    "                    (avg(average_rating) * sum(ratings_count)) as weighted_average\n",
    "                    FROM primary_author_books\n",
    "                    GROUP BY primary_author\n",
    "                    ORDER BY weighted_average DESC\n",
    "                    LIMIT 10\"\"\").show(10)"
   ]
  },
  {
   "cell_type": "markdown",
   "metadata": {},
   "source": [
    "### Create a large query to look impressive"
   ]
  },
  {
   "cell_type": "code",
   "execution_count": 59,
   "metadata": {},
   "outputs": [
    {
     "data": {
      "text/plain": [
       "res58: org.apache.spark.sql.DataFrame = []\n"
      ]
     },
     "execution_count": 59,
     "metadata": {},
     "output_type": "execute_result"
    }
   ],
   "source": [
    "spark.sql(\"\"\"DROP VIEW primary_author_books\"\"\")"
   ]
  },
  {
   "cell_type": "code",
   "execution_count": 60,
   "metadata": {},
   "outputs": [
    {
     "name": "stdout",
     "output_type": "stream",
     "text": [
      "+-------------------+---------------------+--------------------+\n",
      "|     primary_author|author_average_rating|    weighted_average|\n",
      "+-------------------+---------------------+--------------------+\n",
      "|       J.K. Rowling|    4.512857096535819| 6.303455899299431E7|\n",
      "|     J.R.R. Tolkien|    4.235945927130209| 2.464259001540443E7|\n",
      "|       Stephen King|    4.009765664115548|2.2012037658088364E7|\n",
      "|William Shakespeare|   3.9309734812879986|1.8514315105711687E7|\n",
      "|          Dan Brown|    3.799130460490351|1.6799435769329652E7|\n",
      "|    Stephenie Meyer|   3.5899999141693115|1.5687341094942808E7|\n",
      "|    Nicholas Sparks|    3.997692291553204|1.2736339818582058E7|\n",
      "| George R.R. Martin|    4.148571389062064|1.1157126408029623E7|\n",
      "|      J.D. Salinger|   3.9745454137975518|1.0545069139162388E7|\n",
      "|      George Orwell|    4.166111177868313|   9673339.371115392|\n",
      "+-------------------+---------------------+--------------------+\n",
      "\n"
     ]
    }
   ],
   "source": [
    "spark.sql(\"\"\"SELECT primary_author, \n",
    "                    avg(average_rating) as author_average_rating,\n",
    "                    (avg(average_rating) * sum(ratings_count)) as weighted_average\n",
    "                    FROM (\n",
    "                      SELECT (split(authors, '-')[0])\n",
    "                        as primary_author, average_rating, ratings_count from books\n",
    "                    )\n",
    "                    GROUP BY primary_author\n",
    "                    ORDER BY weighted_average DESC\n",
    "                    LIMIT 10\"\"\").show(10)"
   ]
  },
  {
   "cell_type": "markdown",
   "metadata": {},
   "source": [
    "### One more nested statement"
   ]
  },
  {
   "cell_type": "code",
   "execution_count": 61,
   "metadata": {},
   "outputs": [
    {
     "name": "stdout",
     "output_type": "stream",
     "text": [
      "+-------------------+---------------------+\n",
      "|     primary_author|author_average_rating|\n",
      "+-------------------+---------------------+\n",
      "|       J.K. Rowling|    4.512857096535819|\n",
      "|     J.R.R. Tolkien|    4.235945927130209|\n",
      "|       Stephen King|    4.009765664115548|\n",
      "|William Shakespeare|   3.9309734812879986|\n",
      "|          Dan Brown|    3.799130460490351|\n",
      "|    Stephenie Meyer|   3.5899999141693115|\n",
      "|    Nicholas Sparks|    3.997692291553204|\n",
      "| George R.R. Martin|    4.148571389062064|\n",
      "|      J.D. Salinger|   3.9745454137975518|\n",
      "|      George Orwell|    4.166111177868313|\n",
      "+-------------------+---------------------+\n",
      "\n"
     ]
    }
   ],
   "source": [
    "spark.sql(\"\"\"SELECT primary_author, author_average_rating \n",
    "                    FROM (\n",
    "                       SELECT primary_author, \n",
    "                              avg(average_rating) as author_average_rating,\n",
    "                              (avg(average_rating) * sum(ratings_count)) as weighted_average\n",
    "                       FROM (\n",
    "                          SELECT (split(authors, '-')[0]) as primary_author, \n",
    "                          average_rating, \n",
    "                          ratings_count from books\n",
    "                       )\n",
    "                       GROUP BY primary_author\n",
    "                       ORDER BY weighted_average DESC\n",
    "                       LIMIT 10)\"\"\").show(10)"
   ]
  }
 ],
 "metadata": {
  "kernelspec": {
   "display_name": "spylon-kernel",
   "language": "scala",
   "name": "spylon-kernel"
  },
  "language_info": {
   "codemirror_mode": "text/x-scala",
   "file_extension": ".scala",
   "help_links": [
    {
     "text": "MetaKernel Magics",
     "url": "https://metakernel.readthedocs.io/en/latest/source/README.html"
    }
   ],
   "mimetype": "text/x-scala",
   "name": "scala",
   "pygments_lexer": "scala",
   "version": "0.4.1"
  }
 },
 "nbformat": 4,
 "nbformat_minor": 2
}

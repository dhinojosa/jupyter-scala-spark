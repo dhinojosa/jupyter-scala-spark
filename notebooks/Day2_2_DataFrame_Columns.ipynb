{
 "cells": [
  {
   "cell_type": "markdown",
   "metadata": {},
   "source": [
    "## Calling up columns"
   ]
  },
  {
   "cell_type": "markdown",
   "metadata": {},
   "source": [
    "## Selecting one column\n",
    "* To select one column you can either use `select` with a list of columns\n",
    "* You can also use `col` to select one column"
   ]
  },
  {
   "cell_type": "markdown",
   "metadata": {},
   "source": [
    "### Querying columns\n",
    "* You can query columns by also using `where` to form an expression using \n",
    "  * The various `col` signatures.\n",
    "  * A `String` with an expression (see next cell)"
   ]
  },
  {
   "cell_type": "code",
   "execution_count": 29,
   "metadata": {},
   "outputs": [
    {
     "name": "stdout",
     "output_type": "stream",
     "text": [
      "+------+--------------------+--------------------+--------------+----------+-------------+-------------+-----------+-------------+------------------+\n",
      "|bookID|               title|             authors|average_rating|      isbn|       isbn13|language_code|# num_pages|ratings_count|text_reviews_count|\n",
      "+------+--------------------+--------------------+--------------+----------+-------------+-------------+-----------+-------------+------------------+\n",
      "|  4978|Wolves of the Cal...|Stephen King-Bern...|          4.19|141651693X|9781416516934|          eng|        931|       120906|              2640|\n",
      "|  5094|The Drawing of th...|        Stephen King|          4.23|0451210859|9780451210852|          eng|        463|       163647|              4846|\n",
      "|  5095|The Waste Lands (...|        Stephen King|          4.24|034082977X|9780340829776|          eng|        584|         1073|                82|\n",
      "|  5096|Wizard and Glass ...|Stephen King-Dave...|          4.25|0340829788|9780340829783|          eng|        845|       122796|              3396|\n",
      "|  5098|The Gunslinger (T...|        Stephen King|          3.96|0340829753|9780340829752|          eng|        238|         1598|               189|\n",
      "|  5373|The Waste Lands (...|Stephen King-Ned ...|          4.24|0747411875|9780747411871|          eng|        509|           73|                 6|\n",
      "|  5399|           The Stand|        Stephen King|          4.34|1568495714|9781568495712|          eng|       1344|          412|                33|\n",
      "|  5412|The Stand: Das le...|Stephen King-Joac...|          4.34|3404134117|9783404134113|          ger|       1227|          229|                14|\n",
      "|  5413|        'Salem's Lot|Stephen King-Jerr...|          4.25|0385516487|9780385516488|          eng|        594|        81170|               504|\n",
      "|  5414|        'Salem's Lot|Stephen King-Ron ...|          4.01|0743536967|9780743536967|          eng|         17|          227|                55|\n",
      "|  5415|        'Salem's Lot|        Stephen King|          4.01|0965772411|9780965772419|          eng|        405|          959|               121|\n",
      "|  5416|The Shining / Sal...|        Stephen King|          4.67|0905712609|9780905712604|          eng|        991|         1838|                27|\n",
      "|  5417|Carrie / 'Salem's...|        Stephen King|          4.53|0517219026|9780517219027|          eng|       1096|        12320|                58|\n",
      "|  5418|        'Salem's Lot|        Stephen King|          4.01|0451150651|9780451150653|          eng|        446|          399|                45|\n",
      "|  5419|        'Salem's Lot|        Stephen King|          4.01|0451092317|9780451092311|        en-US|        427|          169|                33|\n",
      "|  5420|        'Salem's Lot|        Stephen King|          4.01|0340770538|9780340770535|          eng|        586|           24|                 6|\n",
      "|  5421|El misterio de Sa...|Stephen King-Mart...|          4.01|8497931025|9788497931021|          spa|        528|          656|               131|\n",
      "|  9014|       The Long Walk|Richard Bachman-S...|          4.11|0451196716|9780451196712|          eng|        370|        83792|              3970|\n",
      "| 10566|       Lisey's Story|        Stephen King|          3.67|0743289412|9780743289412|          eng|        513|        56882|              2585|\n",
      "| 10567|                Cell|        Stephen King|          3.65|1416524517|9781416524519|          eng|        449|       163786|              4231|\n",
      "+------+--------------------+--------------------+--------------+----------+-------------+-------------+-----------+-------------+------------------+\n",
      "only showing top 20 rows\n",
      "\n"
     ]
    },
    {
     "data": {
      "text/plain": [
       "stephenKing: org.apache.spark.sql.Dataset[org.apache.spark.sql.Row] = [bookID: int, title: string ... 8 more fields]\n"
      ]
     },
     "execution_count": 29,
     "metadata": {},
     "output_type": "execute_result"
    }
   ],
   "source": [
    "val stephenKing = booksDF.where($\"authors\".contains(\"Stephen King\"))\n",
    "stephenKing.show()"
   ]
  },
  {
   "cell_type": "markdown",
   "metadata": {},
   "source": [
    "### Complex Expressions\n",
    "\n",
    "* Expressions are dynamic, and you can do varying things\n",
    "* For example: `expr(col(\"High\") + 5 < col(\"Low\") - 2)`\n",
    "* This creates directed acyclic graph\n",
    "* You can also place the entire expression into a String\n",
    "  * `expr(\"HIGH + 5 < LOW - 2\")`\n",
    "* This creates the foundation as to why SparkSQL works"
   ]
  },
  {
   "cell_type": "code",
   "execution_count": 30,
   "metadata": {
    "scrolled": true
   },
   "outputs": [
    {
     "name": "stdout",
     "output_type": "stream",
     "text": [
      "+----------------------------------------------------------------------------------------------------------------------------------+----------+-----------+\n",
      "|title                                                                                                                             |isbn      |# num_pages|\n",
      "+----------------------------------------------------------------------------------------------------------------------------------+----------+-----------+\n",
      "|Harry Potter and the Half-Blood Prince (Harry Potter  #6)                                                                         |0439785960|652        |\n",
      "|Harry Potter and the Order of the Phoenix (Harry Potter  #5)                                                                      |0439358078|870        |\n",
      "|Harry Potter and the Sorcerer's Stone (Harry Potter  #1)                                                                          |0439554934|320        |\n",
      "|Harry Potter and the Chamber of Secrets (Harry Potter  #2)                                                                        |0439554896|352        |\n",
      "|Harry Potter and the Prisoner of Azkaban (Harry Potter  #3)                                                                       |043965548X|435        |\n",
      "|Harry Potter Boxed Set  Books 1-5 (Harry Potter  #1-5)                                                                            |0439682584|2690       |\n",
      "|Unauthorized Harry Potter Book Seven News: \"Half-Blood Prince\" Analysis and Speculation                                           |0976540606|152        |\n",
      "|Harry Potter Collection (Harry Potter  #1-6)                                                                                      |0439827604|3342       |\n",
      "|Harry Potter Schoolbooks Box Set: Two Classic Books from the Library of Hogwarts School of Witchcraft and Wizardry                |043932162X|240        |\n",
      "|J.K. Rowling's Harry Potter Novels: A Reader's Guide                                                                              |0826452329|96         |\n",
      "|Harry Potter and the Half-Blood Prince (Harry Potter  #6)                                                                         |0747584664|768        |\n",
      "|Harry Potter Y La Piedra Filosofal (Harry Potter  #1)                                                                             |0613359607|254        |\n",
      "|Harry Potter and the Prisoner of Azkaban (Harry Potter  #3)                                                                       |074757362X|480        |\n",
      "|Looking for God in Harry Potter                                                                                                   |1414306342|234        |\n",
      "|Mugglenet.Com's What Will Happen in Harry Potter 7: Who Lives  Who Dies  Who Falls in Love and How Will the Adventure Finally End?|1569755833|216        |\n",
      "|Harry Potter y el misterio del príncipe (Harry Potter  #6)                                                                        |8478889930|602        |\n",
      "|Harry Potter y la cámara secreta (Harry Potter  #2)                                                                               |8498380138|288        |\n",
      "|Harry Potter y la Orden del Fénix (Harry Potter  #5)                                                                              |8478888845|893        |\n",
      "|Ultimate Unofficial Guide to the Mysteries of Harry Potter: Analysis of Books 1-4                                                 |0972393617|412        |\n",
      "|The Science Of Harry Potter                                                                                                       |0755311515|374        |\n",
      "+----------------------------------------------------------------------------------------------------------------------------------+----------+-----------+\n",
      "only showing top 20 rows\n",
      "\n"
     ]
    },
    {
     "data": {
      "text/plain": [
       "harryPotters: org.apache.spark.sql.Dataset[org.apache.spark.sql.Row] = [title: string, isbn: string ... 1 more field]\n"
      ]
     },
     "execution_count": 30,
     "metadata": {},
     "output_type": "execute_result"
    }
   ],
   "source": [
    "val harryPotters = smallerSelectionDF.where(expr(\"title like '%Harry Potter%'\"))\n",
    "harryPotters.show(truncate=false)"
   ]
  }
 ],
 "metadata": {
  "kernelspec": {
   "display_name": "spylon-kernel",
   "language": "scala",
   "name": "spylon-kernel"
  },
  "language_info": {
   "codemirror_mode": "text/x-scala",
   "file_extension": ".scala",
   "help_links": [
    {
     "text": "MetaKernel Magics",
     "url": "https://metakernel.readthedocs.io/en/latest/source/README.html"
    }
   ],
   "mimetype": "text/x-scala",
   "name": "scala",
   "pygments_lexer": "scala",
   "version": "0.4.1"
  }
 },
 "nbformat": 4,
 "nbformat_minor": 2
}

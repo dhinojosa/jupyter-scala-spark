{
 "cells": [
  {
   "cell_type": "markdown",
   "metadata": {},
   "source": [
    "# Case Classes"
   ]
  },
  {
   "cell_type": "markdown",
   "metadata": {},
   "source": [
    "## About Case Classes\n",
    "\n",
    "* `case class`\n",
    "  * Automatically creates a toString implementation\n",
    "  * Automatically creates a hashCode implementation\n",
    "  * Automatically creates a equals implementation\n",
    "  * Automatically creates a copy implementation\n",
    "  * Automatically sets up pattern matching based on the primary constructor\n",
    "  * Gives us the ability to instantiate the classes without `new`\n",
    "  * Makes all member variables a val\n",
    "* A child class or parent class can be a case class **_but not both_**"
   ]
  },
  {
   "cell_type": "markdown",
   "metadata": {},
   "source": [
    "## `case class` and automatic `toString`\n",
    "\n",
    "Before:"
   ]
  },
  {
   "cell_type": "code",
   "execution_count": 60,
   "metadata": {},
   "outputs": [
    {
     "name": "stdout",
     "output_type": "stream",
     "text": [
      "$line68.$read$$iw$$iw$Employee@2f580304\n"
     ]
    },
    {
     "data": {
      "text/plain": [
       "defined class Employee\n",
       "e: Employee = Employee@2f580304\n",
       "warning: previously defined object Employee is not a companion to class Employee.\n",
       "Companions must be defined together; you may wish to use :paste mode for this.\n"
      ]
     },
     "execution_count": 60,
     "metadata": {},
     "output_type": "execute_result"
    }
   ],
   "source": [
    "class Employee(firstName:String, lastName:String)\n",
    "\n",
    "val e = new Employee(\"Desmond\", \"Everett\")\n",
    "println(e)"
   ]
  },
  {
   "cell_type": "markdown",
   "metadata": {},
   "source": [
    "After:"
   ]
  },
  {
   "cell_type": "code",
   "execution_count": 61,
   "metadata": {},
   "outputs": [
    {
     "name": "stdout",
     "output_type": "stream",
     "text": [
      "Employee(Desmond,Everett)\n"
     ]
    },
    {
     "data": {
      "text/plain": [
       "defined class Employee\n",
       "e: Employee = Employee(Desmond,Everett)\n"
      ]
     },
     "execution_count": 61,
     "metadata": {},
     "output_type": "execute_result"
    }
   ],
   "source": [
    "case class Employee(firstName:String, lastName:String)\n",
    "\n",
    "val e = new Employee(\"Desmond\", \"Everett\")\n",
    "println(e)"
   ]
  },
  {
   "cell_type": "markdown",
   "metadata": {},
   "source": [
    "## `case class` and automatic `hashCode`\n",
    "\n",
    "Before:"
   ]
  },
  {
   "cell_type": "code",
   "execution_count": 62,
   "metadata": {},
   "outputs": [
    {
     "name": "stdout",
     "output_type": "stream",
     "text": [
      "1619112567\n",
      "2010550115\n"
     ]
    },
    {
     "data": {
      "text/plain": [
       "defined class Employee\n",
       "e1: Employee = Employee@6081b277\n",
       "e2: Employee = Employee@77d68f63\n",
       "warning: previously defined object Employee is not a companion to class Employee.\n",
       "Companions must be defined together; you may wish to use :paste mode for this.\n"
      ]
     },
     "execution_count": 62,
     "metadata": {},
     "output_type": "execute_result"
    }
   ],
   "source": [
    "class Employee(firstName:String, lastName:String)\n",
    "\n",
    "val e1 = new Employee(\"Desmond\", \"Everett\")\n",
    "val e2 = new Employee(\"Desmond\", \"Everett\")\n",
    "println(e1.hashCode)\n",
    "println(e2.hashCode)"
   ]
  },
  {
   "cell_type": "markdown",
   "metadata": {},
   "source": [
    "After:"
   ]
  },
  {
   "cell_type": "code",
   "execution_count": 63,
   "metadata": {},
   "outputs": [
    {
     "name": "stdout",
     "output_type": "stream",
     "text": [
      "-2009758914\n",
      "-2009758914\n"
     ]
    },
    {
     "data": {
      "text/plain": [
       "defined class Employee\n",
       "e1: Employee = Employee(Desmond,Everett)\n",
       "e2: Employee = Employee(Desmond,Everett)\n"
      ]
     },
     "execution_count": 63,
     "metadata": {},
     "output_type": "execute_result"
    }
   ],
   "source": [
    "case class Employee(firstName:String, lastName:String)\n",
    "\n",
    "val e1 = new Employee(\"Desmond\", \"Everett\")\n",
    "val e2 = new Employee(\"Desmond\", \"Everett\")\n",
    "println(e1.hashCode)\n",
    "println(e2.hashCode)"
   ]
  },
  {
   "cell_type": "markdown",
   "metadata": {},
   "source": [
    "## `case class` and automatic `equals`\n",
    "\n",
    "Before:"
   ]
  },
  {
   "cell_type": "code",
   "execution_count": 74,
   "metadata": {},
   "outputs": [
    {
     "name": "stdout",
     "output_type": "stream",
     "text": [
      "false\n"
     ]
    },
    {
     "data": {
      "text/plain": [
       "defined class Employee\n",
       "e1: Employee = Employee@226c49dc\n",
       "e2: Employee = Employee@195d5c6b\n",
       "warning: previously defined object Employee is not a companion to class Employee.\n",
       "Companions must be defined together; you may wish to use :paste mode for this.\n"
      ]
     },
     "execution_count": 74,
     "metadata": {},
     "output_type": "execute_result"
    }
   ],
   "source": [
    "class Employee(firstName:String, lastName:String)\n",
    "\n",
    "val e1 = new Employee(\"Desmond\", \"Everett\")\n",
    "val e2 = new Employee(\"Desmond\", \"Everett\")\n",
    "println(e1 == e2) //same as equals in Java"
   ]
  },
  {
   "cell_type": "markdown",
   "metadata": {},
   "source": [
    "After:"
   ]
  },
  {
   "cell_type": "code",
   "execution_count": 75,
   "metadata": {},
   "outputs": [
    {
     "name": "stdout",
     "output_type": "stream",
     "text": [
      "true\n"
     ]
    },
    {
     "data": {
      "text/plain": [
       "defined class Employee\n",
       "e1: Employee = Employee(Desmond,Everett)\n",
       "e2: Employee = Employee(Desmond,Everett)\n"
      ]
     },
     "execution_count": 75,
     "metadata": {},
     "output_type": "execute_result"
    }
   ],
   "source": [
    "case class Employee(firstName:String, lastName:String)\n",
    "\n",
    "val e1 = new Employee(\"Desmond\", \"Everett\")\n",
    "val e2 = new Employee(\"Desmond\", \"Everett\")\n",
    "println(e1 == e2)"
   ]
  },
  {
   "cell_type": "markdown",
   "metadata": {},
   "source": [
    "## `case class` and automatic pattern matching\n",
    "\n",
    "The following uses destructuring to take apart the elements for pattern matching"
   ]
  },
  {
   "cell_type": "code",
   "execution_count": 76,
   "metadata": {},
   "outputs": [
    {
     "name": "stdout",
     "output_type": "stream",
     "text": [
      "Desmond\n",
      "Everett\n"
     ]
    },
    {
     "data": {
      "text/plain": [
       "defined class Employee\n",
       "fn: String = Desmond\n",
       "ln: String = Everett\n"
      ]
     },
     "execution_count": 76,
     "metadata": {},
     "output_type": "execute_result"
    }
   ],
   "source": [
    "case class Employee(firstName:String, lastName:String)\n",
    "\n",
    "val Employee(fn, ln) = new Employee(\"Desmond\", \"Everett\")\n",
    "println(fn)\n",
    "println(ln)"
   ]
  },
  {
   "cell_type": "markdown",
   "metadata": {},
   "source": [
    "## `case class` and `new` not required\n",
    "\n",
    "Notice in the following that the `new` keyword is not required\n",
    "\n",
    "There is a subtle trick that is happening that we will see later on."
   ]
  },
  {
   "cell_type": "code",
   "execution_count": 68,
   "metadata": {},
   "outputs": [
    {
     "data": {
      "text/plain": [
       "defined class Employee\n",
       "emp: Employee = Employee(Desmond,Everett)\n"
      ]
     },
     "execution_count": 68,
     "metadata": {},
     "output_type": "execute_result"
    }
   ],
   "source": [
    "case class Employee(firstName:String, lastName:String)\n",
    "\n",
    "val emp = Employee(\"Desmond\", \"Everett\")"
   ]
  },
  {
   "cell_type": "markdown",
   "metadata": {},
   "source": [
    "## `case class` and `val` not required\n",
    "\n",
    "* There is no requirement for `val` on a member variable when using a `case class`\n",
    "* A Scala-Style getter is automatically created"
   ]
  },
  {
   "cell_type": "code",
   "execution_count": 70,
   "metadata": {},
   "outputs": [
    {
     "name": "stdout",
     "output_type": "stream",
     "text": [
      "Desmond\n",
      "Everett\n"
     ]
    },
    {
     "data": {
      "text/plain": [
       "defined class Employee\n",
       "emp: Employee = Employee(Desmond,Everett)\n"
      ]
     },
     "execution_count": 70,
     "metadata": {},
     "output_type": "execute_result"
    }
   ],
   "source": [
    "case class Employee(firstName:String, lastName:String)\n",
    "\n",
    "val emp = Employee(\"Desmond\", \"Everett\")\n",
    "println(emp.firstName)\n",
    "println(emp.lastName)"
   ]
  },
  {
   "cell_type": "markdown",
   "metadata": {},
   "source": [
    "## `case class` and `copy`\n",
    "\n",
    "Since `Employee` is immutable, `copy` will create `copy` of the object with new values\n",
    "\n",
    "Simply name the properties you are changing"
   ]
  },
  {
   "cell_type": "code",
   "execution_count": 73,
   "metadata": {},
   "outputs": [
    {
     "name": "stdout",
     "output_type": "stream",
     "text": [
      "Employee(Desmond,Gillespie)\n"
     ]
    },
    {
     "data": {
      "text/plain": [
       "defined class Employee\n",
       "emp: Employee = Employee(Desmond,Everett)\n",
       "empCopy: Employee = Employee(Desmond,Gillespie)\n"
      ]
     },
     "execution_count": 73,
     "metadata": {},
     "output_type": "execute_result"
    }
   ],
   "source": [
    "case class Employee(firstName:String, lastName:String)\n",
    "\n",
    "val emp = Employee(\"Desmond\", \"Everett\")\n",
    "val empCopy = emp.copy(lastName = \"Gillespie\")\n",
    "println(empCopy)"
   ]
  },
  {
   "cell_type": "markdown",
   "metadata": {},
   "source": [
    "## Case Classes Conclusion\n",
    "\n",
    "* Automatically creates a `toString` implementation\n",
    "* Automatically creates a `hashCode` implementation\n",
    "* Automatically creates a `equals` implementation\n",
    "* Automatically sets up pattern matching based on the primary constructor\n",
    "* Gives us the ability to instantiate without `new`\n",
    "* Makes all member variables a `val`\n",
    "* Provides a `copy` method to generate a `copy`\n",
    "* A child class or parent class can be a `case class` but not both"
   ]
  }
 ],
 "metadata": {
  "kernelspec": {
   "display_name": "spylon-kernel",
   "language": "scala",
   "name": "spylon-kernel"
  },
  "language_info": {
   "codemirror_mode": "text/x-scala",
   "file_extension": ".scala",
   "help_links": [
    {
     "text": "MetaKernel Magics",
     "url": "https://metakernel.readthedocs.io/en/latest/source/README.html"
    }
   ],
   "mimetype": "text/x-scala",
   "name": "scala",
   "pygments_lexer": "scala",
   "version": "0.4.1"
  }
 },
 "nbformat": 4,
 "nbformat_minor": 2
}

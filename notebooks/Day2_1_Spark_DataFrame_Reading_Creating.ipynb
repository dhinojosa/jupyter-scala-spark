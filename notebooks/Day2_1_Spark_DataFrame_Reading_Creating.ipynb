{
 "cells": [
  {
   "cell_type": "markdown",
   "metadata": {},
   "source": [
    "# `DataFrame`\n",
    "\n",
    "* Are the most efficient due to catalyst optimizer\n",
    "* Are available in all languages\n",
    "* A table with data rows and columns\n",
    "* Analogous to a spreadsheet or table\n",
    "* Distributed and spans over multiple machines!\n",
    "* Easiest to use, particularly for non-functional programmers"
   ]
  },
  {
   "cell_type": "markdown",
   "metadata": {},
   "source": [
    "## The `SparkSession`\n",
    "\n",
    "* A majority of the jobs that Spark will run will require the `SparkSession`\n",
    "* The `SparkSession` is the entry point to programming Spark with the `Dataset` and `DataFrame` API\n",
    "* In REPL and Notebook environments, it is previously assigned to the `spark` value"
   ]
  },
  {
   "cell_type": "code",
   "execution_count": 31,
   "metadata": {},
   "outputs": [
    {
     "data": {
      "text/plain": [
       "res16: org.apache.spark.sql.SparkSession = org.apache.spark.sql.SparkSession@b7597ab\n"
      ]
     },
     "execution_count": 31,
     "metadata": {},
     "output_type": "execute_result"
    }
   ],
   "source": [
    "spark"
   ]
  },
  {
   "cell_type": "markdown",
   "metadata": {},
   "source": [
    "## Creating a Range\n",
    "\n",
    "* `range` is a method in the `SparkSession` that returns a `DataSet`\n",
    "* A `DataFrame` is actually a `DataSet[Row]` where row is the representation of a row of data\n",
    "* We will discuss `Row` and `DataSet` later"
   ]
  },
  {
   "cell_type": "code",
   "execution_count": 36,
   "metadata": {},
   "outputs": [
    {
     "data": {
      "text/plain": [
       "dataset: org.apache.spark.sql.Dataset[Long] = [id: bigint]\n"
      ]
     },
     "execution_count": 36,
     "metadata": {},
     "output_type": "execute_result"
    }
   ],
   "source": [
    "val dataset = spark.range(1, 100)"
   ]
  },
  {
   "cell_type": "markdown",
   "metadata": {},
   "source": [
    "## Changing a `Dataset[Long]` to a `DataFrame`"
   ]
  },
  {
   "cell_type": "code",
   "execution_count": 38,
   "metadata": {},
   "outputs": [
    {
     "data": {
      "text/plain": [
       "dataFrame: org.apache.spark.sql.DataFrame = [myRange: bigint]\n"
      ]
     },
     "execution_count": 38,
     "metadata": {},
     "output_type": "execute_result"
    }
   ],
   "source": [
    "val dataFrame = dataset.toDF(\"myRange\")"
   ]
  },
  {
   "cell_type": "markdown",
   "metadata": {},
   "source": [
    "## Making a `DataFrame` from the `RDD`"
   ]
  },
  {
   "cell_type": "markdown",
   "metadata": {},
   "source": [
    "## `show()`\n",
    "\n",
    "* Shows the data\n",
    "* Default of 20 elements\n",
    "* Can be changed"
   ]
  },
  {
   "cell_type": "code",
   "execution_count": 39,
   "metadata": {},
   "outputs": [
    {
     "name": "stdout",
     "output_type": "stream",
     "text": [
      "+-------+\n",
      "|myRange|\n",
      "+-------+\n",
      "|      1|\n",
      "|      2|\n",
      "|      3|\n",
      "|      4|\n",
      "|      5|\n",
      "|      6|\n",
      "|      7|\n",
      "|      8|\n",
      "|      9|\n",
      "|     10|\n",
      "|     11|\n",
      "|     12|\n",
      "|     13|\n",
      "|     14|\n",
      "|     15|\n",
      "|     16|\n",
      "|     17|\n",
      "|     18|\n",
      "|     19|\n",
      "|     20|\n",
      "|     21|\n",
      "|     22|\n",
      "|     23|\n",
      "|     24|\n",
      "|     25|\n",
      "|     26|\n",
      "|     27|\n",
      "|     28|\n",
      "|     29|\n",
      "|     30|\n",
      "|     31|\n",
      "|     32|\n",
      "|     33|\n",
      "|     34|\n",
      "|     35|\n",
      "|     36|\n",
      "|     37|\n",
      "|     38|\n",
      "|     39|\n",
      "|     40|\n",
      "+-------+\n",
      "only showing top 40 rows\n",
      "\n"
     ]
    }
   ],
   "source": [
    "dataFrame.show(40)"
   ]
  },
  {
   "cell_type": "markdown",
   "metadata": {},
   "source": [
    "This is a download from Kaggle.com called the good reads books dataset located at https://www.kaggle.com/jealousleopard/goodreadsbooks"
   ]
  },
  {
   "cell_type": "markdown",
   "metadata": {},
   "source": [
    "## `spark.read`\n",
    "* Reads data from a filesystem\n",
    "* Should specify a file type\n",
    "* Preferably from a distributed file system like hdfs\n",
    "* Uses `load` to load the information from the location, for example\n",
    "  * Use `\"hdfs://\"` to load from hdfs\n",
    "  * Use `\"s3a://\"` to load from s3 on AWS\n",
    "* Here we will use a local file system\n",
    "* **Question** what is wrong with the results? Hint: You may want to view the [data file](../data/books.csv)"
   ]
  },
  {
   "cell_type": "code",
   "execution_count": 40,
   "metadata": {},
   "outputs": [
    {
     "name": "stdout",
     "output_type": "stream",
     "text": [
      "+------+--------------------+--------------------+--------------+----------+-------------+-------------+-----------+-------------+------------------+\n",
      "|   _c0|                 _c1|                 _c2|           _c3|       _c4|          _c5|          _c6|        _c7|          _c8|               _c9|\n",
      "+------+--------------------+--------------------+--------------+----------+-------------+-------------+-----------+-------------+------------------+\n",
      "|bookID|               title|             authors|average_rating|      isbn|       isbn13|language_code|# num_pages|ratings_count|text_reviews_count|\n",
      "|     1|Harry Potter and ...|J.K. Rowling-Mary...|          4.56|0439785960|9780439785969|          eng|        652|      1944099|             26249|\n",
      "|     2|Harry Potter and ...|J.K. Rowling-Mary...|          4.49|0439358078|9780439358071|          eng|        870|      1996446|             27613|\n",
      "|     3|Harry Potter and ...|J.K. Rowling-Mary...|          4.47|0439554934|9780439554930|          eng|        320|      5629932|             70390|\n",
      "|     4|Harry Potter and ...|        J.K. Rowling|          4.41|0439554896|9780439554893|          eng|        352|         6267|               272|\n",
      "|     5|Harry Potter and ...|J.K. Rowling-Mary...|          4.55|043965548X|9780439655484|          eng|        435|      2149872|             33964|\n",
      "|     8|Harry Potter Boxe...|J.K. Rowling-Mary...|          4.78|0439682584|9780439682589|          eng|       2690|        38872|               154|\n",
      "|     9|Unauthorized Harr...|W. Frederick Zimm...|          3.69|0976540606|9780976540601|        en-US|        152|           18|                 1|\n",
      "|    10|Harry Potter Coll...|        J.K. Rowling|          4.73|0439827604|9780439827607|          eng|       3342|        27410|               820|\n",
      "|    12|The Ultimate Hitc...|       Douglas Adams|          4.38|0517226952|9780517226957|          eng|        815|         3602|               258|\n",
      "|    13|The Ultimate Hitc...|       Douglas Adams|          4.38|0345453743|9780345453747|          eng|        815|       240189|              3954|\n",
      "|    14|The Hitchhiker's ...|       Douglas Adams|          4.22|1400052920|9781400052929|          eng|        215|         4416|               408|\n",
      "|    16|The Hitchhiker's ...|Douglas Adams-Ste...|          4.22|0739322206|9780739322208|          eng|          6|         1222|               253|\n",
      "|    18|The Ultimate Hitc...|       Douglas Adams|          4.38|0517149257|9780517149256|        en-US|        815|         2801|               192|\n",
      "|    21|A Short History o...|Bill Bryson-Willi...|          4.20|076790818X|9780767908184|          eng|        544|       228522|              8840|\n",
      "|    22|Bill Bryson's Afr...|         Bill Bryson|          3.43|0767915062|9780767915069|          eng|         55|         6993|               470|\n",
      "|    23|Bryson's Dictiona...|         Bill Bryson|          3.88|0767910435|9780767910439|          eng|        256|         2020|               124|\n",
      "|    24|In a Sunburned Co...|         Bill Bryson|          4.07|0767903862|9780767903868|          eng|        335|        68213|              4077|\n",
      "|    25|I'm a Stranger He...|         Bill Bryson|          3.90|076790382X|9780767903820|          eng|        304|        47490|              2153|\n",
      "|    26|The Lost Continen...|         Bill Bryson|          3.83|0060920084|9780060920081|        en-US|        299|        43779|              2146|\n",
      "+------+--------------------+--------------------+--------------+----------+-------------+-------------+-----------+-------------+------------------+\n",
      "only showing top 20 rows\n",
      "\n"
     ]
    },
    {
     "data": {
      "text/plain": [
       "booksDF: org.apache.spark.sql.DataFrame = [_c0: string, _c1: string ... 8 more fields]\n"
      ]
     },
     "execution_count": 40,
     "metadata": {},
     "output_type": "execute_result"
    }
   ],
   "source": [
    "val booksDF = spark.read\n",
    "                   .format(\"csv\")\n",
    "                   .load(\"../data/books.csv\")\n",
    "booksDF.show()"
   ]
  },
  {
   "cell_type": "markdown",
   "metadata": {},
   "source": [
    "## Schema\n",
    "\n",
    "* Schemas have by default are assumed by the structure of our tables\n",
    "* We can view the schemas of each of these DataFrame by calling `printSchema`\n",
    "* A schema is a `StructType` made up of a number of fields called `StructField`s\n",
    "* A `StructField` has:\n",
    "  * A `name`\n",
    "  * A `type`\n",
    "  * A `boolean` that specifies whether the column is nullable\n",
    "  * A schema can also contain other `StructType` (Spark complex types).\n",
    "  * Can also be overridden by your own custom schema which is preferred for production"
   ]
  },
  {
   "cell_type": "markdown",
   "metadata": {},
   "source": [
    "## Fixing the schema\n",
    "\n",
    "* Notice the schema from the above, by calling `printSchema()`\n",
    "* This shows the schema of the `DataFrame`\n",
    "* **Question** What do you think is wrong with the schema that is determined"
   ]
  },
  {
   "cell_type": "code",
   "execution_count": 41,
   "metadata": {},
   "outputs": [
    {
     "name": "stdout",
     "output_type": "stream",
     "text": [
      "root\n",
      " |-- _c0: string (nullable = true)\n",
      " |-- _c1: string (nullable = true)\n",
      " |-- _c2: string (nullable = true)\n",
      " |-- _c3: string (nullable = true)\n",
      " |-- _c4: string (nullable = true)\n",
      " |-- _c5: string (nullable = true)\n",
      " |-- _c6: string (nullable = true)\n",
      " |-- _c7: string (nullable = true)\n",
      " |-- _c8: string (nullable = true)\n",
      " |-- _c9: string (nullable = true)\n",
      "\n"
     ]
    }
   ],
   "source": [
    "booksDF.printSchema()"
   ]
  },
  {
   "cell_type": "markdown",
   "metadata": {},
   "source": [
    "## Infering the schema and bringing in the header\n",
    "\n",
    "* Setting the option `inferSchama` we can set the schama based on the data \n",
    "* Setting the option `header` we can set the first row to be the header"
   ]
  },
  {
   "cell_type": "code",
   "execution_count": 42,
   "metadata": {},
   "outputs": [
    {
     "data": {
      "text/plain": [
       "booksDF: org.apache.spark.sql.DataFrame = [bookID: int, title: string ... 8 more fields]\n"
      ]
     },
     "execution_count": 42,
     "metadata": {},
     "output_type": "execute_result"
    }
   ],
   "source": [
    "val booksDF = spark.read.format(\"csv\")\n",
    "                     .option(\"inferSchema\", \"true\")\n",
    "                     .option(\"header\", \"true\")\n",
    "                     .load(\"../data/books.csv\")"
   ]
  },
  {
   "cell_type": "code",
   "execution_count": 43,
   "metadata": {
    "scrolled": true
   },
   "outputs": [
    {
     "name": "stdout",
     "output_type": "stream",
     "text": [
      "+------+--------------------+--------------------+--------------+----------+-------------+-------------+-----------+-------------+------------------+\n",
      "|bookID|               title|             authors|average_rating|      isbn|       isbn13|language_code|# num_pages|ratings_count|text_reviews_count|\n",
      "+------+--------------------+--------------------+--------------+----------+-------------+-------------+-----------+-------------+------------------+\n",
      "|     1|Harry Potter and ...|J.K. Rowling-Mary...|          4.56|0439785960|9780439785969|          eng|        652|      1944099|             26249|\n",
      "|     2|Harry Potter and ...|J.K. Rowling-Mary...|          4.49|0439358078|9780439358071|          eng|        870|      1996446|             27613|\n",
      "|     3|Harry Potter and ...|J.K. Rowling-Mary...|          4.47|0439554934|9780439554930|          eng|        320|      5629932|             70390|\n",
      "|     4|Harry Potter and ...|        J.K. Rowling|          4.41|0439554896|9780439554893|          eng|        352|         6267|               272|\n",
      "|     5|Harry Potter and ...|J.K. Rowling-Mary...|          4.55|043965548X|9780439655484|          eng|        435|      2149872|             33964|\n",
      "+------+--------------------+--------------------+--------------+----------+-------------+-------------+-----------+-------------+------------------+\n",
      "only showing top 5 rows\n",
      "\n"
     ]
    }
   ],
   "source": [
    "booksDF.show(5)"
   ]
  },
  {
   "cell_type": "markdown",
   "metadata": {},
   "source": [
    "## `show` for the title looks cramped for space\n",
    "\n",
    "* With `show` there are some other signatures that are worth while of investigating\n",
    "* The signature from the (API)[https://spark.apache.org/docs/latest/api/scala/index.html#org.apache.spark.sql.Dataset] shows some of the following signatures\n",
    "   * `show(numRows: Int, truncate: Int, vertical: Boolean):Unit`\n",
    "   * `show(numRows: Int, truncate: Int): Unit`\n",
    "   * `show(numRows: Int, truncate: Boolean): Unit`\n",
    "   * `show(truncate: Boolean): Unit`\n",
    "   * `show(): Unit`\n",
    "   * `show(numRows: Int)`\n",
    "* `numRows` are the number of rows you wish to show\n",
    "* `truncate` as a `Boolean`. If set `True` then it will truncate, `False` will show full text\n",
    "* `truncate` as an `Int`. If set to more than `0`, truncates strings to truncate characters and all cells will be aligned right.\n",
    "* `vertical = true` will show the records as a list for better viewing, let's try each in turn using `smallerSelectionDF`"
   ]
  },
  {
   "cell_type": "code",
   "execution_count": 44,
   "metadata": {},
   "outputs": [
    {
     "name": "stdout",
     "output_type": "stream",
     "text": [
      "+------+------------------------------------------------------------------------------------------------------------+---------------------------------------------+--------------+----------+-------------+-------------+-----------+-------------+------------------+\n",
      "|bookID|title                                                                                                       |authors                                      |average_rating|isbn      |isbn13       |language_code|# num_pages|ratings_count|text_reviews_count|\n",
      "+------+------------------------------------------------------------------------------------------------------------+---------------------------------------------+--------------+----------+-------------+-------------+-----------+-------------+------------------+\n",
      "|1     |Harry Potter and the Half-Blood Prince (Harry Potter  #6)                                                   |J.K. Rowling-Mary GrandPré                   |4.56          |0439785960|9780439785969|eng          |652        |1944099      |26249             |\n",
      "|2     |Harry Potter and the Order of the Phoenix (Harry Potter  #5)                                                |J.K. Rowling-Mary GrandPré                   |4.49          |0439358078|9780439358071|eng          |870        |1996446      |27613             |\n",
      "|3     |Harry Potter and the Sorcerer's Stone (Harry Potter  #1)                                                    |J.K. Rowling-Mary GrandPré                   |4.47          |0439554934|9780439554930|eng          |320        |5629932      |70390             |\n",
      "|4     |Harry Potter and the Chamber of Secrets (Harry Potter  #2)                                                  |J.K. Rowling                                 |4.41          |0439554896|9780439554893|eng          |352        |6267         |272               |\n",
      "|5     |Harry Potter and the Prisoner of Azkaban (Harry Potter  #3)                                                 |J.K. Rowling-Mary GrandPré                   |4.55          |043965548X|9780439655484|eng          |435        |2149872      |33964             |\n",
      "|8     |Harry Potter Boxed Set  Books 1-5 (Harry Potter  #1-5)                                                      |J.K. Rowling-Mary GrandPré                   |4.78          |0439682584|9780439682589|eng          |2690       |38872        |154               |\n",
      "|9     |Unauthorized Harry Potter Book Seven News: \"Half-Blood Prince\" Analysis and Speculation                     |W. Frederick Zimmerman                       |3.69          |0976540606|9780976540601|en-US        |152        |18           |1                 |\n",
      "|10    |Harry Potter Collection (Harry Potter  #1-6)                                                                |J.K. Rowling                                 |4.73          |0439827604|9780439827607|eng          |3342       |27410        |820               |\n",
      "|12    |The Ultimate Hitchhiker's Guide: Five Complete Novels and One Story (Hitchhiker's Guide to the Galaxy  #1-5)|Douglas Adams                                |4.38          |0517226952|9780517226957|eng          |815        |3602         |258               |\n",
      "|13    |The Ultimate Hitchhiker's Guide to the Galaxy                                                               |Douglas Adams                                |4.38          |0345453743|9780345453747|eng          |815        |240189       |3954              |\n",
      "|14    |The Hitchhiker's Guide to the Galaxy (Hitchhiker's Guide to the Galaxy  #1)                                 |Douglas Adams                                |4.22          |1400052920|9781400052929|eng          |215        |4416         |408               |\n",
      "|16    |The Hitchhiker's Guide to the Galaxy (Hitchhiker's Guide to the Galaxy  #1)                                 |Douglas Adams-Stephen Fry                    |4.22          |0739322206|9780739322208|eng          |6          |1222         |253               |\n",
      "|18    |The Ultimate Hitchhiker's Guide (Hitchhiker's Guide to the Galaxy #1-5)                                     |Douglas Adams                                |4.38          |0517149257|9780517149256|en-US        |815        |2801         |192               |\n",
      "|21    |A Short History of Nearly Everything                                                                        |Bill Bryson-William Roberts                  |4.20          |076790818X|9780767908184|eng          |544        |228522       |8840              |\n",
      "|22    |Bill Bryson's African Diary                                                                                 |Bill Bryson                                  |3.43          |0767915062|9780767915069|eng          |55         |6993         |470               |\n",
      "|23    |Bryson's Dictionary of Troublesome Words: A Writer's Guide to Getting It Right                              |Bill Bryson                                  |3.88          |0767910435|9780767910439|eng          |256        |2020         |124               |\n",
      "|24    |In a Sunburned Country                                                                                      |Bill Bryson                                  |4.07          |0767903862|9780767903868|eng          |335        |68213        |4077              |\n",
      "|25    |I'm a Stranger Here Myself: Notes on Returning to America After Twenty Years Away                           |Bill Bryson                                  |3.90          |076790382X|9780767903820|eng          |304        |47490        |2153              |\n",
      "|26    |The Lost Continent: Travels in Small Town America                                                           |Bill Bryson                                  |3.83          |0060920084|9780060920081|en-US        |299        |43779        |2146              |\n",
      "|27    |Neither Here nor There: Travels in Europe                                                                   |Bill Bryson                                  |3.87          |0380713802|9780380713806|eng          |254        |46397        |2127              |\n",
      "|28    |Notes from a Small Island                                                                                   |Bill Bryson                                  |3.92          |0380727501|9780380727506|eng          |324        |76476        |3159              |\n",
      "|29    |The Mother Tongue: English and How It Got That Way                                                          |Bill Bryson                                  |3.94          |0380715430|9780380715435|eng          |270        |26672        |1986              |\n",
      "|30    |J.R.R. Tolkien 4-Book Boxed Set: The Hobbit and The Lord of the Rings                                       |J.R.R. Tolkien                               |4.59          |0345538374|9780345538376|eng          |1728       |97731        |1536              |\n",
      "|31    |The Lord of the Rings (The Lord of the Rings  #1-3)                                                         |J.R.R. Tolkien                               |4.49          |0618517650|9780618517657|eng          |1184       |1670         |91                |\n",
      "|32    |The Lord of the Rings (The Lord of the Rings  #1-3)                                                         |J.R.R. Tolkien                               |4.49          |0618346244|9780618346240|eng          |1137       |2819         |139               |\n",
      "|34    |The Fellowship of the Ring (The Lord of the Rings  #1)                                                      |J.R.R. Tolkien                               |4.35          |0618346252|9780618346257|eng          |398        |2009749      |12784             |\n",
      "|35    |The Lord of the Rings (The Lord of the Rings  #1-3)                                                         |J.R.R. Tolkien-Alan  Lee                     |4.49          |0618260587|9780618260584|en-US        |1216       |1606         |139               |\n",
      "|36    |The Lord of the Rings: Weapons and Warfare                                                                  |Chris   Smith-Christopher  Lee-Richard Taylor|4.53          |0618391002|9780618391004|eng          |218        |18934        |43                |\n",
      "|37    |The Lord of the Rings: Complete Visual Companion                                                            |Jude Fisher                                  |4.50          |0618510826|9780618510825|eng          |224        |343          |6                 |\n",
      "|38    |The Lord of the Rings Box Set                                                                               |J.R.R. Tolkien                               |4.49          |0618153977|9780618153978|eng          |1223       |216          |19                |\n",
      "+------+------------------------------------------------------------------------------------------------------------+---------------------------------------------+--------------+----------+-------------+-------------+-----------+-------------+------------------+\n",
      "only showing top 30 rows\n"
     ]
    },
    {
     "name": "stdout",
     "output_type": "stream",
     "text": [
      "\n"
     ]
    }
   ],
   "source": [
    "booksDF.show(numRows=30, truncate=false)"
   ]
  },
  {
   "cell_type": "code",
   "execution_count": 45,
   "metadata": {},
   "outputs": [
    {
     "name": "stdout",
     "output_type": "stream",
     "text": [
      "-RECORD 0--------------------------------------------\n",
      " bookID             | 1                              \n",
      " title              | Harry Potter and the Half-B... \n",
      " authors            | J.K. Rowling-Mary GrandPré     \n",
      " average_rating     | 4.56                           \n",
      " isbn               | 0439785960                     \n",
      " isbn13             | 9780439785969                  \n",
      " language_code      | eng                            \n",
      " # num_pages        | 652                            \n",
      " ratings_count      | 1944099                        \n",
      " text_reviews_count | 26249                          \n",
      "-RECORD 1--------------------------------------------\n",
      " bookID             | 2                              \n",
      " title              | Harry Potter and the Order ... \n",
      " authors            | J.K. Rowling-Mary GrandPré     \n",
      " average_rating     | 4.49                           \n",
      " isbn               | 0439358078                     \n",
      " isbn13             | 9780439358071                  \n",
      " language_code      | eng                            \n",
      " # num_pages        | 870                            \n",
      " ratings_count      | 1996446                        \n",
      " text_reviews_count | 27613                          \n",
      "-RECORD 2--------------------------------------------\n",
      " bookID             | 3                              \n",
      " title              | Harry Potter and the Sorcer... \n",
      " authors            | J.K. Rowling-Mary GrandPré     \n",
      " average_rating     | 4.47                           \n",
      " isbn               | 0439554934                     \n",
      " isbn13             | 9780439554930                  \n",
      " language_code      | eng                            \n",
      " # num_pages        | 320                            \n",
      " ratings_count      | 5629932                        \n",
      " text_reviews_count | 70390                          \n",
      "-RECORD 3--------------------------------------------\n",
      " bookID             | 4                              \n",
      " title              | Harry Potter and the Chambe... \n",
      " authors            | J.K. Rowling                   \n",
      " average_rating     | 4.41                           \n",
      " isbn               | 0439554896                     \n",
      " isbn13             | 9780439554893                  \n",
      " language_code      | eng                            \n",
      " # num_pages        | 352                            \n",
      " ratings_count      | 6267                           \n",
      " text_reviews_count | 272                            \n",
      "-RECORD 4--------------------------------------------\n",
      " bookID             | 5                              \n",
      " title              | Harry Potter and the Prison... \n",
      " authors            | J.K. Rowling-Mary GrandPré     \n",
      " average_rating     | 4.55                           \n",
      " isbn               | 043965548X                     \n",
      " isbn13             | 9780439655484                  \n",
      " language_code      | eng                            \n",
      " # num_pages        | 435                            \n",
      " ratings_count      | 2149872                        \n",
      " text_reviews_count | 33964                          \n",
      "-RECORD 5--------------------------------------------\n",
      " bookID             | 8                              \n",
      " title              | Harry Potter Boxed Set  Boo... \n",
      " authors            | J.K. Rowling-Mary GrandPré     \n",
      " average_rating     | 4.78                           \n",
      " isbn               | 0439682584                     \n",
      " isbn13             | 9780439682589                  \n",
      " language_code      | eng                            \n",
      " # num_pages        | 2690                           \n",
      " ratings_count      | 38872                          \n",
      " text_reviews_count | 154                            \n",
      "-RECORD 6--------------------------------------------\n",
      " bookID             | 9                              \n",
      " title              | Unauthorized Harry Potter B... \n",
      " authors            | W. Frederick Zimmerman         \n",
      " average_rating     | 3.69                           \n",
      " isbn               | 0976540606                     \n",
      " isbn13             | 9780976540601                  \n",
      " language_code      | en-US                          \n",
      " # num_pages        | 152                            \n",
      " ratings_count      | 18                             \n",
      " text_reviews_count | 1                              \n",
      "-RECORD 7--------------------------------------------\n",
      " bookID             | 10                             \n",
      " title              | Harry Potter Collection (Ha... \n",
      " authors            | J.K. Rowling                   \n",
      " average_rating     | 4.73                           \n",
      " isbn               | 0439827604                     \n",
      " isbn13             | 9780439827607                  \n",
      " language_code      | eng                            \n",
      " # num_pages        | 3342                           \n",
      " ratings_count      | 27410                          \n",
      " text_reviews_count | 820                            \n",
      "-RECORD 8--------------------------------------------\n",
      " bookID             | 12                             \n",
      " title              | The Ultimate Hitchhiker's G... \n",
      " authors            | Douglas Adams                  \n",
      " average_rating     | 4.38                           \n",
      " isbn               | 0517226952                     \n",
      " isbn13             | 9780517226957                  \n",
      " language_code      | eng                            \n",
      " # num_pages        | 815                            \n",
      " ratings_count      | 3602                           \n",
      " text_reviews_count | 258                            \n",
      "-RECORD 9--------------------------------------------\n",
      " bookID             | 13                             \n",
      " title              | The Ultimate Hitchhiker's G... \n",
      " authors            | Douglas Adams                  \n",
      " average_rating     | 4.38                           \n",
      " isbn               | 0345453743                     \n",
      " isbn13             | 9780345453747                  \n",
      " language_code      | eng                            \n",
      " # num_pages        | 815                            \n",
      " ratings_count      | 240189                         \n",
      " text_reviews_count | 3954                           \n",
      "-RECORD 10-------------------------------------------\n",
      " bookID             | 14                             \n",
      " title              | The Hitchhiker's Guide to t... \n",
      " authors            | Douglas Adams                  \n",
      " average_rating     | 4.22                           \n",
      " isbn               | 1400052920                     \n",
      " isbn13             | 9781400052929                  \n",
      " language_code      | eng                            \n",
      " # num_pages        | 215                            \n",
      " ratings_count      | 4416                           \n",
      " text_reviews_count | 408                            \n",
      "-RECORD 11-------------------------------------------\n",
      " bookID             | 16                             \n",
      " title              | The Hitchhiker's Guide to t... \n",
      " authors            | Douglas Adams-Stephen Fry      \n",
      " average_rating     | 4.22                           \n",
      " isbn               | 0739322206                     \n",
      " isbn13             | 9780739322208                  \n",
      " language_code      | eng                            \n",
      " # num_pages        | 6                              \n",
      " ratings_count      | 1222                           \n",
      " text_reviews_count | 253                            \n",
      "-RECORD 12-------------------------------------------\n",
      " bookID             | 18                             \n",
      " title              | The Ultimate Hitchhiker's G... \n",
      " authors            | Douglas Adams                  \n",
      " average_rating     | 4.38                           \n",
      " isbn               | 0517149257                     \n",
      " isbn13             | 9780517149256                  \n",
      " language_code      | en-US                          \n",
      " # num_pages        | 815                            \n",
      " ratings_count      | 2801                           \n",
      " text_reviews_count | 192                            \n",
      "-RECORD 13-------------------------------------------\n",
      " bookID             | 21                             \n",
      " title              | A Short History of Nearly E... \n",
      " authors            | Bill Bryson-William Roberts    \n",
      " average_rating     | 4.20                           \n",
      " isbn               | 076790818X                     \n",
      " isbn13             | 9780767908184                  \n",
      " language_code      | eng                            \n",
      " # num_pages        | 544                            \n",
      " ratings_count      | 228522                         \n",
      " text_reviews_count | 8840                           \n",
      "-RECORD 14-------------------------------------------\n",
      " bookID             | 22                             \n",
      " title              | Bill Bryson's African Diary    \n",
      " authors            | Bill Bryson                    \n",
      " average_rating     | 3.43                           \n",
      " isbn               | 0767915062                     \n",
      " isbn13             | 9780767915069                  \n",
      " language_code      | eng                            \n",
      " # num_pages        | 55                             \n",
      " ratings_count      | 6993                           \n",
      " text_reviews_count | 470                            \n",
      "-RECORD 15-------------------------------------------\n",
      " bookID             | 23                             \n",
      " title              | Bryson's Dictionary of Trou... \n",
      " authors            | Bill Bryson                    \n",
      " average_rating     | 3.88                           \n",
      " isbn               | 0767910435                     \n",
      " isbn13             | 9780767910439                  \n",
      " language_code      | eng                            \n",
      " # num_pages        | 256                            \n",
      " ratings_count      | 2020                           \n",
      " text_reviews_count | 124                            \n",
      "-RECORD 16-------------------------------------------\n",
      " bookID             | 24                             \n",
      " title              | In a Sunburned Country         \n",
      " authors            | Bill Bryson                    \n",
      " average_rating     | 4.07                           \n",
      " isbn               | 0767903862                     \n",
      " isbn13             | 9780767903868                  \n",
      " language_code      | eng                            \n",
      " # num_pages        | 335                            \n",
      " ratings_count      | 68213                          \n",
      " text_reviews_count | 4077                           \n",
      "-RECORD 17-------------------------------------------\n",
      " bookID             | 25                             \n",
      " title              | I'm a Stranger Here Myself:... \n",
      " authors            | Bill Bryson                    \n",
      " average_rating     | 3.90                           \n",
      " isbn               | 076790382X                     \n",
      " isbn13             | 9780767903820                  \n",
      " language_code      | eng                            \n",
      " # num_pages        | 304                            \n",
      " ratings_count      | 47490                          \n",
      " text_reviews_count | 2153                           \n",
      "-RECORD 18-------------------------------------------\n",
      " bookID             | 26                             \n",
      " title              | The Lost Continent: Travels... \n",
      " authors            | Bill Bryson                    \n",
      " average_rating     | 3.83                           \n",
      " isbn               | 0060920084                     \n",
      " isbn13             | 9780060920081                  \n",
      " language_code      | en-US                          \n",
      " # num_pages        | 299                            \n",
      " ratings_count      | 43779                          \n",
      " text_reviews_count | 2146                           \n",
      "-RECORD 19-------------------------------------------\n",
      " bookID             | 27                             \n",
      " title              | Neither Here nor There: Tra... \n",
      " authors            | Bill Bryson                    \n",
      " average_rating     | 3.87                           \n",
      " isbn               | 0380713802                     \n",
      " isbn13             | 9780380713806                  \n",
      " language_code      | eng                            \n",
      " # num_pages        | 254                            \n",
      " ratings_count      | 46397                          \n",
      " text_reviews_count | 2127                           \n",
      "-RECORD 20-------------------------------------------\n",
      " bookID             | 28                             \n",
      " title              | Notes from a Small Island      \n",
      " authors            | Bill Bryson                    \n",
      " average_rating     | 3.92                           \n",
      " isbn               | 0380727501                     \n",
      " isbn13             | 9780380727506                  \n",
      " language_code      | eng                            \n",
      " # num_pages        | 324                            \n",
      " ratings_count      | 76476                          \n",
      " text_reviews_count | 3159                           \n",
      "-RECORD 21-------------------------------------------\n",
      " bookID             | 29                             \n",
      " title              | The Mother Tongue: English ... \n",
      " authors            | Bill Bryson                    \n",
      " average_rating     | 3.94                           \n",
      " isbn               | 0380715430                     \n",
      " isbn13             | 9780380715435                  \n",
      " language_code      | eng                            \n",
      " # num_pages        | 270                            \n",
      " ratings_count      | 26672                          \n",
      " text_reviews_count | 1986                           \n",
      "-RECORD 22-------------------------------------------\n",
      " bookID             | 30                             \n",
      " title              | J.R.R. Tolkien 4-Book Boxed... \n",
      " authors            | J.R.R. Tolkien                 \n",
      " average_rating     | 4.59                           \n",
      " isbn               | 0345538374                     \n",
      " isbn13             | 9780345538376                  \n",
      " language_code      | eng                            \n",
      " # num_pages        | 1728                           \n",
      " ratings_count      | 97731                          \n",
      " text_reviews_count | 1536                           \n",
      "-RECORD 23-------------------------------------------\n",
      " bookID             | 31                             \n",
      " title              | The Lord of the Rings (The ... \n",
      " authors            | J.R.R. Tolkien                 \n",
      " average_rating     | 4.49                           \n",
      " isbn               | 0618517650                     \n",
      " isbn13             | 9780618517657                  \n",
      " language_code      | eng                            \n",
      " # num_pages        | 1184                           \n",
      " ratings_count      | 1670                           \n",
      " text_reviews_count | 91                             \n",
      "-RECORD 24-------------------------------------------\n",
      " bookID             | 32                             \n",
      " title              | The Lord of the Rings (The ... \n",
      " authors            | J.R.R. Tolkien                 \n",
      " average_rating     | 4.49                           \n",
      " isbn               | 0618346244                     \n",
      " isbn13             | 9780618346240                  \n",
      " language_code      | eng                            \n",
      " # num_pages        | 1137                           \n",
      " ratings_count      | 2819                           \n",
      " text_reviews_count | 139                            \n",
      "-RECORD 25-------------------------------------------\n",
      " bookID             | 34                             \n",
      " title              | The Fellowship of the Ring ... \n",
      " authors            | J.R.R. Tolkien                 \n",
      " average_rating     | 4.35                           \n",
      " isbn               | 0618346252                     \n",
      " isbn13             | 9780618346257                  \n",
      " language_code      | eng                            \n",
      " # num_pages        | 398                            \n",
      " ratings_count      | 2009749                        \n",
      " text_reviews_count | 12784                          \n",
      "-RECORD 26-------------------------------------------\n",
      " bookID             | 35                             \n",
      " title              | The Lord of the Rings (The ... \n",
      " authors            | J.R.R. Tolkien-Alan  Lee       \n",
      " average_rating     | 4.49                           \n",
      " isbn               | 0618260587                     \n",
      " isbn13             | 9780618260584                  \n",
      " language_code      | en-US                          \n",
      " # num_pages        | 1216                           \n",
      " ratings_count      | 1606                           \n",
      " text_reviews_count | 139                            \n",
      "-RECORD 27-------------------------------------------\n",
      " bookID             | 36                             \n",
      " title              | The Lord of the Rings: Weap... \n",
      " authors            | Chris   Smith-Christopher  ... \n",
      " average_rating     | 4.53                           \n",
      " isbn               | 0618391002                     \n"
     ]
    },
    {
     "name": "stdout",
     "output_type": "stream",
     "text": [
      " isbn13             | 9780618391004                  \n",
      " language_code      | eng                            \n",
      " # num_pages        | 218                            \n",
      " ratings_count      | 18934                          \n",
      " text_reviews_count | 43                             \n",
      "-RECORD 28-------------------------------------------\n",
      " bookID             | 37                             \n",
      " title              | The Lord of the Rings: Comp... \n",
      " authors            | Jude Fisher                    \n",
      " average_rating     | 4.50                           \n",
      " isbn               | 0618510826                     \n",
      " isbn13             | 9780618510825                  \n",
      " language_code      | eng                            \n",
      " # num_pages        | 224                            \n",
      " ratings_count      | 343                            \n",
      " text_reviews_count | 6                              \n",
      "-RECORD 29-------------------------------------------\n",
      " bookID             | 38                             \n",
      " title              | The Lord of the Rings Box Set  \n",
      " authors            | J.R.R. Tolkien                 \n",
      " average_rating     | 4.49                           \n",
      " isbn               | 0618153977                     \n",
      " isbn13             | 9780618153978                  \n",
      " language_code      | eng                            \n",
      " # num_pages        | 1223                           \n",
      " ratings_count      | 216                            \n",
      " text_reviews_count | 19                             \n",
      "only showing top 30 rows\n",
      "\n"
     ]
    }
   ],
   "source": [
    "booksDF.show(numRows=30, vertical=true, truncate=30)"
   ]
  },
  {
   "cell_type": "markdown",
   "metadata": {},
   "source": [
    "## Spark Data Types\n",
    "\n",
    "In Spark, it is good to know the certain data types so that we can either interpret or cast, here is the list of data types. In the **Scala Type** column all types are in the `org.apache.spark.sql.types` package.  The latest types API for Scala [can be found here](https://spark.apache.org/docs/latest/api/java/org/apache/spark/sql/types/package-summary.html)\n",
    "\n",
    "\n",
    "| Spark Type             | Scala Type                 | Scala API       |\n",
    "| -----------------------| :-------------------------:| ---------------:|\n",
    "| `ByteType`             | `Byte`                     | `ByteType`      |\n",
    "| `ShortType`            | `Short`                    | `ShortType`     |\n",
    "| `IntegerType`          | `Int`                      | `IntegerType`   |\n",
    "| `LongType`             | `Long`                     | `LongType`      |\n",
    "| `FloatType`            | `Float`                    | `FloatType`     |\n",
    "| `DoubleType`           | `Double`                   | `DoubleType`    |\n",
    "| `DecimalType`          | `java.math.BigDecimal`     | `DecimalType`   |\n",
    "| `StringType`           | `String`                   | `StringType`    |\n",
    "| `BinaryType`           | `Array[Byte]`              | `BinaryType`    |\n",
    "| `TimestampType`        | `java.sql.Timestamp`       | `TimestampType` |\n",
    "| `DateType`             | `java.sql.Date`            | `DateType`      |\n",
    "| `ArrayType`            | `scala.collection.Seq`     | `ArrayType`     |\n",
    "| `MapType`              | `scala.collection.Map`     | `MapType`       |\n",
    "| `StructType`           | `org.apache.spark.sql.Row` | `StructType`    |\n",
    "| `StructField`          | `StructField`              | `StructField`   |"
   ]
  },
  {
   "cell_type": "markdown",
   "metadata": {},
   "source": [
    "## Explicitly Setting our Schema"
   ]
  },
  {
   "cell_type": "markdown",
   "metadata": {},
   "source": [
    "First let's take a look at the original schema"
   ]
  },
  {
   "cell_type": "code",
   "execution_count": 46,
   "metadata": {},
   "outputs": [
    {
     "name": "stdout",
     "output_type": "stream",
     "text": [
      "root\n",
      " |-- bookID: integer (nullable = true)\n",
      " |-- title: string (nullable = true)\n",
      " |-- authors: string (nullable = true)\n",
      " |-- average_rating: string (nullable = true)\n",
      " |-- isbn: string (nullable = true)\n",
      " |-- isbn13: string (nullable = true)\n",
      " |-- language_code: string (nullable = true)\n",
      " |-- # num_pages: string (nullable = true)\n",
      " |-- ratings_count: integer (nullable = true)\n",
      " |-- text_reviews_count: integer (nullable = true)\n",
      "\n"
     ]
    }
   ],
   "source": [
    "booksDF.printSchema()"
   ]
  },
  {
   "cell_type": "code",
   "execution_count": 47,
   "metadata": {},
   "outputs": [
    {
     "data": {
      "text/plain": [
       "import org.apache.spark.sql.types._\n",
       "bookSchema: org.apache.spark.sql.types.StructType = StructType(StructField(bookID,IntegerType,false), StructField(title,StringType,false), StructField(authors,StringType,false), StructField(average_rating,FloatType,false), StructField(isbn,StringType,false), StructField(isbn13,StringType,false), StructField(language_code,StringType,false), StructField(num_pages,IntegerType,false), StructField(ratings_count,IntegerType,false), StructField(text_reviews_count,IntegerType,false))\n"
      ]
     },
     "execution_count": 47,
     "metadata": {},
     "output_type": "execute_result"
    }
   ],
   "source": [
    "import org.apache.spark.sql.types._\n",
    "val bookSchema = new StructType(Array(\n",
    "   new StructField(\"bookID\", IntegerType, false),\n",
    "   new StructField(\"title\", StringType, false),\n",
    "   new StructField(\"authors\", StringType, false),\n",
    "   new StructField(\"average_rating\", FloatType, false),\n",
    "   new StructField(\"isbn\", StringType, false),\n",
    "   new StructField(\"isbn13\", StringType, false),\n",
    "   new StructField(\"language_code\", StringType, false),\n",
    "   new StructField(\"num_pages\", IntegerType, false),\n",
    "   new StructField(\"ratings_count\", IntegerType, false),\n",
    "   new StructField(\"text_reviews_count\", IntegerType, false)))"
   ]
  },
  {
   "cell_type": "markdown",
   "metadata": {},
   "source": [
    "## Reading the Data Again with a Schema"
   ]
  },
  {
   "cell_type": "code",
   "execution_count": 48,
   "metadata": {},
   "outputs": [
    {
     "name": "stdout",
     "output_type": "stream",
     "text": [
      "root\n",
      " |-- bookID: integer (nullable = true)\n",
      " |-- title: string (nullable = true)\n",
      " |-- authors: string (nullable = true)\n",
      " |-- average_rating: float (nullable = true)\n",
      " |-- isbn: string (nullable = true)\n",
      " |-- isbn13: string (nullable = true)\n",
      " |-- language_code: string (nullable = true)\n",
      " |-- num_pages: integer (nullable = true)\n",
      " |-- ratings_count: integer (nullable = true)\n",
      " |-- text_reviews_count: integer (nullable = true)\n",
      "\n"
     ]
    },
    {
     "data": {
      "text/plain": [
       "booksSchemaDF: org.apache.spark.sql.DataFrame = [bookID: int, title: string ... 8 more fields]\n"
      ]
     },
     "execution_count": 48,
     "metadata": {},
     "output_type": "execute_result"
    }
   ],
   "source": [
    "val booksSchemaDF = spark.read.format(\"csv\")\n",
    "                         .schema(bookSchema)\n",
    "                         .option(\"inferSchema\", \"true\")\n",
    "                         .option(\"header\", \"true\")\n",
    "                         .load(\"../data/books.csv\")\n",
    "booksSchemaDF.printSchema()"
   ]
  },
  {
   "cell_type": "markdown",
   "metadata": {},
   "source": [
    "## Creating a Custom DataFrame"
   ]
  },
  {
   "cell_type": "markdown",
   "metadata": {},
   "source": [
    "## Creating from a `RDD`\n",
    "\n",
    "* Reminder: `RDD` or Resilient Distributed Dataset is often less performant than the `DataFrame`, `DataSet`, and `SparkSQL` counterparts.\n",
    "* It is still useful and used to create the `DataFrame` in the first place, especially with `parallelize`\n",
    "* `parralelize` is a method factory from an object called the `SparkContext`. \n",
    "* `SparkContext` was used extensively in the 1.x versions of Spark.\n",
    "* It can be obtained from the `SparkSession` by the `sparkContext` method"
   ]
  },
  {
   "cell_type": "code",
   "execution_count": 54,
   "metadata": {},
   "outputs": [
    {
     "data": {
      "text/plain": [
       "sparkContext: org.apache.spark.SparkContext = org.apache.spark.SparkContext@5c909ebd\n",
       "rddRows: org.apache.spark.rdd.RDD[org.apache.spark.sql.Row] = ParallelCollectionRDD[93] at parallelize at <console>:48\n"
      ]
     },
     "execution_count": 54,
     "metadata": {},
     "output_type": "execute_result"
    }
   ],
   "source": [
    "val sparkContext = spark.sparkContext\n",
    "val rddRows = sparkContext.parallelize(Seq(Row(\"Abe\", null, \"Lincoln\", 40000),\n",
    "           Row(\"Martin\", \"Luther\", \"King\", 80000),\n",
    "           Row(\"Ben\", null, \"Franklin\", 82000),\n",
    "           Row(\"Toni\", null, \"Morrisson\", 82000)))\n"
   ]
  },
  {
   "cell_type": "code",
   "execution_count": 59,
   "metadata": {},
   "outputs": [
    {
     "name": "stdout",
     "output_type": "stream",
     "text": [
      "+---------+----------+---------+-------------+\n",
      "|firstName|middleName| lastName|salaryPerYear|\n",
      "+---------+----------+---------+-------------+\n",
      "|      Abe|      null|  Lincoln|        40000|\n",
      "|   Martin|    Luther|     King|        80000|\n",
      "|      Ben|      null| Franklin|        82000|\n",
      "|     Toni|      null|Morrisson|        82000|\n",
      "+---------+----------+---------+-------------+\n",
      "\n"
     ]
    },
    {
     "data": {
      "text/plain": [
       "employeeSchema: org.apache.spark.sql.types.StructType = StructType(StructField(firstName,StringType,false), StructField(middleName,StringType,true), StructField(lastName,StringType,false), StructField(salaryPerYear,IntegerType,false))\n",
       "dataFrame: org.apache.spark.sql.DataFrame = [firstName: string, middleName: string ... 2 more fields]\n"
      ]
     },
     "execution_count": 59,
     "metadata": {},
     "output_type": "execute_result"
    }
   ],
   "source": [
    "val employeeSchema = new StructType(Array(\n",
    "      StructField(\"firstName\", StringType, nullable = false),\n",
    "      StructField(\"middleName\", StringType, nullable = true),\n",
    "      StructField(\"lastName\", StringType, nullable = false),\n",
    "      StructField(\"salaryPerYear\", IntegerType, nullable = false)\n",
    "    ))\n",
    "\n",
    "val dataFrame = spark.createDataFrame(rddRows, employeeSchema)\n",
    "dataFrame.show()"
   ]
  },
  {
   "cell_type": "markdown",
   "metadata": {},
   "source": [
    "## Lab: Read Wine Data\n",
    "\n",
    "For our lab, we will be reading data from the Wine Data Set at Kaggle. https://www.kaggle.com/zynicide/wine-reviews. We already downloaded and made it a part of your notebook in the `data` directory.\n",
    "\n",
    "**Step 1:** Read wine data from `../data/winemag.csv` first without setting headers or infering the schema\n",
    "\n",
    "**Step 2:** See what you glean from the data\n",
    "\n",
    "**Step 3:** Apply headers, infer the schema\n",
    "\n",
    "**Step 4:** `show` some of the data\n",
    "\n",
    "**Step 5:** Apply your own schema"
   ]
  }
 ],
 "metadata": {
  "kernelspec": {
   "display_name": "spylon-kernel",
   "language": "scala",
   "name": "spylon-kernel"
  },
  "language_info": {
   "codemirror_mode": "text/x-scala",
   "file_extension": ".scala",
   "help_links": [
    {
     "text": "MetaKernel Magics",
     "url": "https://metakernel.readthedocs.io/en/latest/source/README.html"
    }
   ],
   "mimetype": "text/x-scala",
   "name": "scala",
   "pygments_lexer": "scala",
   "version": "0.4.1"
  }
 },
 "nbformat": 4,
 "nbformat_minor": 2
}

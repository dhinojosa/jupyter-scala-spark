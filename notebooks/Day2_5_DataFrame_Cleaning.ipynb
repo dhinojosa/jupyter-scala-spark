{
 "cells": [
  {
   "cell_type": "markdown",
   "metadata": {},
   "source": [
    "# Cleaning DataFrames\n",
    "\n",
    "* Much of the data that we manage needs to be continually cleaned\n",
    "* This chapter is dedicated on techniques for cleaning our data for tasks like:\n",
    "  * Reporting\n",
    "  * Machine Learning\n",
    "* Please open a tab that shows [the API for dealing with `null` values](https://spark.apache.org/docs/2.3.0/api/scala/index.html?org/apache/spark/sql/Dataset.html#org.apache.spark.sql.DataFrameNaFunctions)"
   ]
  },
  {
   "cell_type": "markdown",
   "metadata": {},
   "source": [
    "## Bringing in a small `DataFrame`\n",
    "\n",
    "Here we will bring in a small dataframe with country data from the United Nations"
   ]
  },
  {
   "cell_type": "code",
   "execution_count": 180,
   "metadata": {},
   "outputs": [
    {
     "name": "stdout",
     "output_type": "stream",
     "text": [
      "root\n",
      " |-- bookID: integer (nullable = true)\n",
      " |-- title: string (nullable = true)\n",
      " |-- authors: string (nullable = true)\n",
      " |-- average_rating: float (nullable = true)\n",
      " |-- isbn: string (nullable = true)\n",
      " |-- isbn13: string (nullable = true)\n",
      " |-- language_code: string (nullable = true)\n",
      " |-- num_pages: integer (nullable = true)\n",
      " |-- ratings_count: integer (nullable = true)\n",
      " |-- text_reviews_count: integer (nullable = true)\n",
      "\n"
     ]
    },
    {
     "data": {
      "text/plain": [
       "import org.apache.spark.sql.types._\n",
       "bookSchema: org.apache.spark.sql.types.StructType = StructType(StructField(bookID,IntegerType,false), StructField(title,StringType,false), StructField(authors,StringType,false), StructField(average_rating,FloatType,false), StructField(isbn,StringType,false), StructField(isbn13,StringType,false), StructField(language_code,StringType,false), StructField(num_pages,IntegerType,false), StructField(ratings_count,IntegerType,false), StructField(text_reviews_count,IntegerType,false))\n",
       "booksDF: org.apache.spark.sql.DataFrame = [bookID: int, title: string ... 8 more fields]\n"
      ]
     },
     "execution_count": 180,
     "metadata": {},
     "output_type": "execute_result"
    }
   ],
   "source": [
    "import org.apache.spark.sql.types._\n",
    "val bookSchema = new StructType(Array(\n",
    "   new StructField(\"bookID\", IntegerType, false),\n",
    "   new StructField(\"title\", StringType, false),\n",
    "   new StructField(\"authors\", StringType, false),\n",
    "   new StructField(\"average_rating\", FloatType, false),\n",
    "   new StructField(\"isbn\", StringType, false),\n",
    "   new StructField(\"isbn13\", StringType, false),\n",
    "   new StructField(\"language_code\", StringType, false),\n",
    "   new StructField(\"num_pages\", IntegerType, false),\n",
    "   new StructField(\"ratings_count\", IntegerType, false),\n",
    "   new StructField(\"text_reviews_count\", IntegerType, false)))\n",
    "\n",
    "val booksDF = spark.read.format(\"csv\")\n",
    "                         .schema(bookSchema)\n",
    "                         .option(\"header\", \"true\")\n",
    "                         .load(\"../data/books.csv\")\n",
    "booksDF.printSchema()"
   ]
  },
  {
   "cell_type": "code",
   "execution_count": 181,
   "metadata": {},
   "outputs": [
    {
     "name": "stdout",
     "output_type": "stream",
     "text": [
      "+------+-----+-------+--------------+----+------+-------------+---------+-------------+------------------+\n",
      "|bookID|title|authors|average_rating|isbn|isbn13|language_code|num_pages|ratings_count|text_reviews_count|\n",
      "+------+-----+-------+--------------+----+------+-------------+---------+-------------+------------------+\n",
      "|  null| null|   null|          null|null|  null|         null|     null|         null|              null|\n",
      "|  null| null|   null|          null|null|  null|         null|     null|         null|              null|\n",
      "|  null| null|   null|          null|null|  null|         null|     null|         null|              null|\n",
      "|  null| null|   null|          null|null|  null|         null|     null|         null|              null|\n",
      "|  null| null|   null|          null|null|  null|         null|     null|         null|              null|\n",
      "+------+-----+-------+--------------+----+------+-------------+---------+-------------+------------------+\n",
      "\n"
     ]
    }
   ],
   "source": [
    "booksDF.filter(_.anyNull).show(1000)"
   ]
  },
  {
   "cell_type": "code",
   "execution_count": 182,
   "metadata": {},
   "outputs": [
    {
     "name": "stdout",
     "output_type": "stream",
     "text": [
      "+------+--------------------+--------------------+--------------+----------+-------------+-------------+---------+-------------+------------------+\n",
      "|bookID|               title|             authors|average_rating|      isbn|       isbn13|language_code|num_pages|ratings_count|text_reviews_count|\n",
      "+------+--------------------+--------------------+--------------+----------+-------------+-------------+---------+-------------+------------------+\n",
      "|     1|Harry Potter and ...|J.K. Rowling-Mary...|          4.56|0439785960|9780439785969|          eng|      652|      1944099|             26249|\n",
      "|     2|Harry Potter and ...|J.K. Rowling-Mary...|          4.49|0439358078|9780439358071|          eng|      870|      1996446|             27613|\n",
      "|     3|Harry Potter and ...|J.K. Rowling-Mary...|          4.47|0439554934|9780439554930|          eng|      320|      5629932|             70390|\n",
      "|     4|Harry Potter and ...|        J.K. Rowling|          4.41|0439554896|9780439554893|          eng|      352|         6267|               272|\n",
      "|     5|Harry Potter and ...|J.K. Rowling-Mary...|          4.55|043965548X|9780439655484|          eng|      435|      2149872|             33964|\n",
      "|     8|Harry Potter Boxe...|J.K. Rowling-Mary...|          4.78|0439682584|9780439682589|          eng|     2690|        38872|               154|\n",
      "|     9|Unauthorized Harr...|W. Frederick Zimm...|          3.69|0976540606|9780976540601|        en-US|      152|           18|                 1|\n",
      "|    10|Harry Potter Coll...|        J.K. Rowling|          4.73|0439827604|9780439827607|          eng|     3342|        27410|               820|\n",
      "|    12|The Ultimate Hitc...|       Douglas Adams|          4.38|0517226952|9780517226957|          eng|      815|         3602|               258|\n",
      "|    13|The Ultimate Hitc...|       Douglas Adams|          4.38|0345453743|9780345453747|          eng|      815|       240189|              3954|\n",
      "|    14|The Hitchhiker's ...|       Douglas Adams|          4.22|1400052920|9781400052929|          eng|      215|         4416|               408|\n",
      "|    16|The Hitchhiker's ...|Douglas Adams-Ste...|          4.22|0739322206|9780739322208|          eng|        6|         1222|               253|\n",
      "|    18|The Ultimate Hitc...|       Douglas Adams|          4.38|0517149257|9780517149256|        en-US|      815|         2801|               192|\n",
      "|    21|A Short History o...|Bill Bryson-Willi...|           4.2|076790818X|9780767908184|          eng|      544|       228522|              8840|\n",
      "|    22|Bill Bryson's Afr...|         Bill Bryson|          3.43|0767915062|9780767915069|          eng|       55|         6993|               470|\n",
      "|    23|Bryson's Dictiona...|         Bill Bryson|          3.88|0767910435|9780767910439|          eng|      256|         2020|               124|\n",
      "|    24|In a Sunburned Co...|         Bill Bryson|          4.07|0767903862|9780767903868|          eng|      335|        68213|              4077|\n",
      "|    25|I'm a Stranger He...|         Bill Bryson|           3.9|076790382X|9780767903820|          eng|      304|        47490|              2153|\n",
      "|    26|The Lost Continen...|         Bill Bryson|          3.83|0060920084|9780060920081|        en-US|      299|        43779|              2146|\n",
      "|    27|Neither Here nor ...|         Bill Bryson|          3.87|0380713802|9780380713806|          eng|      254|        46397|              2127|\n",
      "|    28|Notes from a Smal...|         Bill Bryson|          3.92|0380727501|9780380727506|          eng|      324|        76476|              3159|\n",
      "|    29|The Mother Tongue...|         Bill Bryson|          3.94|0380715430|9780380715435|          eng|      270|        26672|              1986|\n",
      "|    30|J.R.R. Tolkien 4-...|      J.R.R. Tolkien|          4.59|0345538374|9780345538376|          eng|     1728|        97731|              1536|\n",
      "|    31|The Lord of the R...|      J.R.R. Tolkien|          4.49|0618517650|9780618517657|          eng|     1184|         1670|                91|\n",
      "|    32|The Lord of the R...|      J.R.R. Tolkien|          4.49|0618346244|9780618346240|          eng|     1137|         2819|               139|\n",
      "|    34|The Fellowship of...|      J.R.R. Tolkien|          4.35|0618346252|9780618346257|          eng|      398|      2009749|             12784|\n",
      "|    35|The Lord of the R...|J.R.R. Tolkien-Al...|          4.49|0618260587|9780618260584|        en-US|     1216|         1606|               139|\n",
      "|    36|The Lord of the R...|Chris   Smith-Chr...|          4.53|0618391002|9780618391004|          eng|      218|        18934|                43|\n",
      "|    37|The Lord of the R...|         Jude Fisher|           4.5|0618510826|9780618510825|          eng|      224|          343|                 6|\n",
      "|    38|The Lord of the R...|      J.R.R. Tolkien|          4.49|0618153977|9780618153978|          eng|     1223|          216|                19|\n",
      "|    40|Cooking with Fern...|James Hamilton-Pa...|          3.61|193337201X|9781933372013|          eng|      288|         1214|               202|\n",
      "|    45|Agile Web Develop...|Dave Thomas-David...|          3.89|097669400X|9780976694007|          eng|      558|         1269|                59|\n",
      "|    50|             Hatchet|        Gary Paulsen|           3.7|0689840926|9780689840920|          eng|      208|       254827|             11346|\n",
      "|    51|Hatchet: A Guide ...|Donna Ickes-Edwar...|          3.97|1557344493|9781557344496|          eng|       48|           35|                 2|\n",
      "|    53|Guts: The True St...|        Gary Paulsen|          3.87|0385326505|9780385326506|          eng|      144|         1996|               326|\n",
      "|    54|Molly Hatchet - 5...|       Molly Hatchet|          4.33|1575606240|9781575606248|          eng|       56|            6|                 0|\n",
      "|    55|Hatchet Jobs: Wri...|           Dale Peck|          3.48|1595580271|9781595580276|        en-US|      228|           99|                16|\n",
      "|    57|A Changeling for ...|Angela Knight-Sah...|          3.75|1595962808|9781595962805|          eng|      304|          167|                 4|\n",
      "|    58|Changeling (Chang...|       Delia Sherman|           3.6|0670059676|9780670059676|          eng|      256|          957|               112|\n",
      "|    59|  The Changeling Sea|Patricia A. McKillip|          4.07|0141312629|9780141312620|          eng|      137|         4319|               289|\n",
      "|    61|      The Changeling|Zilpha Keatley Sn...|          4.17|0595321801|9780595321803|          eng|      228|         1155|                92|\n",
      "|    63|      The Changeling|        Kate Horsley|          3.56|1590301943|9781590301944|          eng|      339|          295|                42|\n",
      "|    66|The Changeling (D...|       Philippa Carr|          3.99|0449146979|9780449146972|          eng|      369|          341|                12|\n",
      "|    67|     The Known World|     Edward P. Jones|          3.83|0061159174|9780061159176|          eng|      388|        28962|              2576|\n",
      "|    68|     The Known World|Edward P. Jones-K...|          3.83|006076273X|9780060762735|        en-US|       14|           50|                12|\n",
      "|    69|     The Known World|     Edward P. Jones|          3.83|0060749911|9780060749910|          eng|      576|           22|                 3|\n",
      "|    71|Traders  Guns & M...|        Satyajit Das|          3.83|0273704745|9780273704744|          eng|      334|         1398|                78|\n",
      "|    72|Artesia: Adventur...|         Mark Smylie|          4.16|1932386106|9781932386103|          eng|      352|           50|                 4|\n",
      "|    73|     The Known World|     Edward P. Jones|          3.83|096513671X|9780965136716|          eng|      388|           15|                 2|\n",
      "|    74|The John McPhee R...|John McPhee-Willi...|          4.43|0374517193|9780374517199|          eng|      416|          550|                36|\n",
      "|    75|   Uncommon Carriers|         John McPhee|          3.95|0374280398|9780374280390|        en-US|      248|         1561|               192|\n",
      "|    76|Heirs of General ...|         John McPhee|          4.15|0374519749|9780374519742|          eng|      128|          253|                18|\n",
      "|    77|The Control of Na...|         John McPhee|          4.24|0374522596|9780374522599|        en-US|      288|         3365|               290|\n",
      "|    78|Annals of the For...|         John McPhee|          4.33|0374518734|9780374518738|          eng|      720|         2966|               211|\n",
      "|    79|Coming Into the C...|         John McPhee|          4.22|0374522871|9780374522872|          eng|      448|         5452|               245|\n",
      "|    80|La Place de la Co...|         John McPhee|          3.91|0374519323|9780374519322|          eng|      160|          671|                52|\n",
      "|    81|  Giving Good Weight|         John McPhee|          4.22|0374516006|9780374516000|          eng|      288|          533|                34|\n",
      "|    83|Rising from the P...|         John McPhee|          4.22|0374520658|9780374520656|          eng|      208|         1263|                91|\n",
      "|    85|The Heidi Chronicles|   Wendy Wasserstein|          3.73|0822205106|9780822205104|          eng|       81|         1348|                69|\n",
      "|    86|The Heidi Chronic...|   Wendy Wasserstein|          3.83|0679734996|9780679734994|          eng|      249|         2732|                63|\n",
      "|    89|Active Literacy A...|  Heidi Hayes Jacobs|          3.94|1596670231|9781596670235|          eng|      138|           31|                 1|\n",
      "|    90|Simply Beautiful ...|          Heidi Boyd|          3.75|1581807740|9781581807745|        en-US|      128|           61|                 4|\n",
      "|    91|Always Enough: Go...|Heidi Baker-Rolla...|          4.45|0800793617|9780800793616|          eng|      192|          822|                53|\n",
      "|    92|Mapping the Big P...|  Heidi Hayes Jacobs|           3.7|0871202867|9780871202864|        en-US|       72|           71|                 2|\n",
      "|    93|               Heidi|Johanna Spyri-Bev...|          3.98|0753454947|9780753454947|          eng|      352|       150657|              2175|\n",
      "|    94|Getting Results w...|  Heidi Hayes Jacobs|          3.28|0871209993|9780871209993|          eng|      192|           53|                 5|\n",
      "|    96|There's Always En...|Rolland Baker-Hei...|          4.45|1852402873|9781852402877|          eng|      192|           34|                 6|\n",
      "|    98|What to Expect th...|Heidi Murkoff-Sha...|          3.88|0761129588|9780761129585|          eng|      832|        11489|               658|\n",
      "|    99|The Player's Hand...|Heidi Fleiss-Libb...|          3.82|0972016414|9780972016414|          eng|      123|           34|                 8|\n",
      "|   100|Simply Beautiful ...|          Heidi Boyd|          3.75|1581805632|9781581805635|        en-US|      128|           75|                 4|\n",
      "|   103|God Emperor of Du...|       Frank Herbert|          3.83|0441294677|9780441294671|          eng|      423|         2692|               168|\n",
      "|   105|Chapterhouse: Dun...|       Frank Herbert|           3.9|0441102670|9780441102679|          eng|      436|        38651|               552|\n",
      "|   106|Dune Messiah (Dun...|       Frank Herbert|          3.87|0441172695|9780441172696|          eng|      331|        96649|              2306|\n",
      "|   107|Dreamer of Dune: ...|       Brian Herbert|           4.0|0765306476|9780765306470|        en-US|      592|          755|                21|\n",
      "|   109|Heretics of Dune ...|       Frank Herbert|          3.85|0399128980|9780399128981|          eng|      480|          261|                18|\n",
      "|   110|The Road to Dune ...|Frank Herbert-Bri...|          3.87|0765353709|9780765353702|          eng|      426|         4561|                76|\n",
      "|   112|Children of Dune ...|       Frank Herbert|          3.92|0441104029|9780441104024|          eng|      408|        84276|              1370|\n",
      "|   117|Heretics of Dune ...|       Frank Herbert|          3.85|0441328008|9780441328000|          eng|      471|        45211|               616|\n",
      "|   122|The Power of One ...|     Bryce Courtenay|          4.35|034541005X|9780345410054|          eng|      544|        66687|              4445|\n",
      "|   123|The Power of One ...|     Bryce Courtenay|          4.35|0385732546|9780385732543|          eng|      291|           44|                12|\n",
      "|   129|The Power of One:...|John C. Maxwell-S...|          4.28|0785260056|9780785260059|        en-US|      256|           16|                 1|\n",
      "|   130|Power of an Hour:...|        Dave Lakhani|          3.31|0471780936|9780471780939|          eng|      205|          163|                16|\n",
      "|   131|The Power of One:...|     Louis E. Catron|          3.79|0325001537|9780325001531|          eng|      240|           10|                 0|\n",
      "|   132|How to Buy  Sell ...|       Adam Ginsberg|          3.49|006076287X|9780060762872|          eng|      336|           73|                 9|\n",
      "|   133|    eBay for Dummies|      Marsha Collier|           3.5|0470045299|9780470045299|          eng|      386|          102|                 9|\n",
      "|   135|What to Sell on e...|Chris Malta-Lisa ...|          3.62|0072262788|9780072262780|          eng|      260|           24|                 0|\n",
      "|   137|Starting an eBay ...|      Marsha Collier|          3.52|0764569244|9780764569241|          eng|      384|           51|                 4|\n",
      "|   138|eBay: Top 100 Sim...|     Julia Wilkinson|          4.27|0471933821|9780471933823|          eng|      260|            9|                 0|\n",
      "|   139|ebay Timesaving T...|      Marsha Collier|          3.55|0764559915|9780764559914|        en-US|      391|           19|                 1|\n",
      "|   140|eBay Business All...|      Marsha Collier|          3.89|0764584383|9780764584381|        en-US|      864|           17|                 3|\n",
      "|   141|       Ruby Cookbook|Lucas Carlson-Leo...|          3.82|0596523696|9780596523695|          eng|      873|          163|                 4|\n",
      "|   142|Ruby Ann's Down H...|     Ruby Ann Boxcar|          4.09|0806523492|9780806523491|          eng|      240|           47|                 5|\n",
      "|   144|Ruby Ann's Down H...|     Ruby Ann Boxcar|          4.08|0806525363|9780806525365|          eng|      206|           12|                 2|\n",
      "|   147|Rails Cookbook: R...|          Rob Orsini|          3.65|0596527314|9780596527310|          eng|      514|           49|                 1|\n",
      "|   151|       Anna Karenina|Leo Tolstoy-Richa...|          4.04|0143035002|9780143035008|          eng|      838|        15747|              1795|\n",
      "|   152|       Anna Karenina|Leo Tolstoy-David...|          4.04|0451528611|9780451528612|          eng|      960|       108970|              5694|\n",
      "|   153|       Anna Karenina|Leo Tolstoy-Richa...|          4.04|0140449175|9780140449174|          eng|      837|         2835|               300|\n",
      "|   154|CliffsNotes on To...|Marianne Sturman-...|          3.89|0822001837|9780822001836|          eng|       80|           15|                 3|\n",
      "|   155|       Anna Karenina|Leo Tolstoy-Amy M...|          4.04|1593080271|9781593080273|          eng|      803|         9362|               710|\n",
      "|   156|       Anna Karenina|Leo Tolstoy-Louis...|          4.04|0486437965|9780486437965|          eng|      752|          460|                71|\n",
      "+------+--------------------+--------------------+--------------+----------+-------------+-------------+---------+-------------+------------------+\n",
      "only showing top 100 rows\n"
     ]
    },
    {
     "name": "stdout",
     "output_type": "stream",
     "text": [
      "\n"
     ]
    },
    {
     "data": {
      "text/plain": [
       "cleanBooksDF: org.apache.spark.sql.DataFrame = [bookID: int, title: string ... 8 more fields]\n"
      ]
     },
     "execution_count": 182,
     "metadata": {},
     "output_type": "execute_result"
    }
   ],
   "source": [
    "val cleanBooksDF = booksDF.na.drop(how=\"any\")\n",
    "cleanBooksDF.show(100)"
   ]
  },
  {
   "cell_type": "code",
   "execution_count": 187,
   "metadata": {},
   "outputs": [
    {
     "name": "stdout",
     "output_type": "stream",
     "text": [
      "+-------------+-----+\n",
      "|language_code|count|\n",
      "+-------------+-----+\n",
      "|          fre|  209|\n",
      "|          zho|   16|\n",
      "|          glg|    4|\n",
      "|        en-CA|    9|\n",
      "|          rus|    7|\n",
      "|          nor|    1|\n",
      "|          ale|    1|\n",
      "|          cat|    3|\n",
      "|          ara|    2|\n",
      "|          por|   27|\n",
      "|          lat|    3|\n",
      "|          swe|    6|\n",
      "|          gla|    1|\n",
      "|          mul|   21|\n",
      "|          eng|10594|\n",
      "|          jpn|   64|\n",
      "|           nl|    7|\n",
      "|          grc|   12|\n",
      "|          dan|    1|\n",
      "|          srp|    1|\n",
      "|        en-GB|  341|\n",
      "|          heb|    1|\n",
      "|          tur|    3|\n",
      "|          enm|    3|\n",
      "|          msa|    1|\n",
      "|          wel|    1|\n",
      "|          ita|   19|\n",
      "|        en-US| 1699|\n",
      "|          spa|  419|\n",
      "|          ger|  238|\n",
      "+-------------+-----+\n",
      "\n"
     ]
    }
   ],
   "source": [
    "cleanBooksDF.groupBy(\"language_code\").count().show(100)"
   ]
  },
  {
   "cell_type": "code",
   "execution_count": 195,
   "metadata": {},
   "outputs": [
    {
     "name": "stdout",
     "output_type": "stream",
     "text": [
      "+-------------+-----+\n",
      "|language_code|count|\n",
      "+-------------+-----+\n",
      "|          fre|  209|\n",
      "|          zho|   16|\n",
      "|          glg|    4|\n",
      "|          rus|    7|\n",
      "|          nor|    1|\n",
      "|          ale|    1|\n",
      "|          cat|    3|\n",
      "|          ara|    2|\n",
      "|          por|   27|\n",
      "|          lat|    3|\n",
      "|          swe|    6|\n",
      "|          gla|    1|\n",
      "|          mul|   21|\n",
      "|          eng|12643|\n",
      "|          jpn|   64|\n",
      "|           nl|    7|\n",
      "|          grc|   12|\n",
      "|          dan|    1|\n",
      "|          srp|    1|\n",
      "|          heb|    1|\n",
      "|          tur|    3|\n",
      "|          enm|    3|\n",
      "|          msa|    1|\n",
      "|          wel|    1|\n",
      "|          ita|   19|\n",
      "|          spa|  419|\n",
      "|          ger|  238|\n",
      "+-------------+-----+\n",
      "\n"
     ]
    },
    {
     "data": {
      "text/plain": [
       "engCleanDF: org.apache.spark.sql.DataFrame = [bookID: int, title: string ... 8 more fields]\n"
      ]
     },
     "execution_count": 195,
     "metadata": {},
     "output_type": "execute_result"
    }
   ],
   "source": [
    "val engCleanDF = cleanBooksDF.na.replace(cols = Seq(\"language_code\"), \n",
    "                                         replacement = Map(\"en-US\" -> \"eng\", \"en-CA\" -> \"eng\", \"en-GB\" -> \"eng\"))\n",
    "engCleanDF.groupBy(\"language_code\").count().show(100)"
   ]
  }
 ],
 "metadata": {
  "kernelspec": {
   "display_name": "spylon-kernel",
   "language": "scala",
   "name": "spylon-kernel"
  },
  "language_info": {
   "codemirror_mode": "text/x-scala",
   "file_extension": ".scala",
   "help_links": [
    {
     "text": "MetaKernel Magics",
     "url": "https://metakernel.readthedocs.io/en/latest/source/README.html"
    }
   ],
   "mimetype": "text/x-scala",
   "name": "scala",
   "pygments_lexer": "scala",
   "version": "0.4.1"
  }
 },
 "nbformat": 4,
 "nbformat_minor": 2
}

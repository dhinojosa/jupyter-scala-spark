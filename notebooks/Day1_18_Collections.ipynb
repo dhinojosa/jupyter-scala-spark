{
 "cells": [
  {
   "cell_type": "markdown",
   "metadata": {},
   "source": [
    "# Collections"
   ]
  },
  {
   "cell_type": "markdown",
   "metadata": {},
   "source": [
    "## `List`\n",
    "\n",
    "* `List` are like `java.util.List` where they are indexed collections that hold usually homogeneous data\n",
    "* `List` are unlike java.util.List where they are an immutable List\n",
    "* `List` generally allows duplicates\n",
    "\n",
    "Varying Ways to create a List"
   ]
  },
  {
   "cell_type": "code",
   "execution_count": 1,
   "metadata": {},
   "outputs": [
    {
     "data": {
      "text/plain": [
       "Intitializing Scala interpreter ..."
      ]
     },
     "metadata": {},
     "output_type": "display_data"
    },
    {
     "data": {
      "text/plain": [
       "Spark Web UI available at http://32c6e00c8fb3:4043\n",
       "SparkContext available as 'sc' (version = 2.4.3, master = local[*], app id = local-1562173490938)\n",
       "SparkSession available as 'spark'\n"
      ]
     },
     "metadata": {},
     "output_type": "display_data"
    },
    {
     "data": {
      "text/plain": [
       "a: List[Int] = List(1, 2, 3, 4, 5)\n",
       "b: List[Int] = List(1, 2, 3, 4, 5)\n",
       "c: List[String] = List()\n"
      ]
     },
     "execution_count": 1,
     "metadata": {},
     "output_type": "execute_result"
    }
   ],
   "source": [
    "val a = List(1,2,3,4,5) //What is this call?\n",
    "val b = 1 :: 2 :: 3 :: 4 :: 5 :: Nil\n",
    "val c = Nil:List[String]"
   ]
  },
  {
   "cell_type": "markdown",
   "metadata": {},
   "source": [
    "## Some methods for `List`"
   ]
  },
  {
   "cell_type": "code",
   "execution_count": 2,
   "metadata": {},
   "outputs": [
    {
     "name": "stdout",
     "output_type": "stream",
     "text": [
      "1\n"
     ]
    }
   ],
   "source": [
    "println(a.head)"
   ]
  },
  {
   "cell_type": "code",
   "execution_count": 3,
   "metadata": {},
   "outputs": [
    {
     "name": "stdout",
     "output_type": "stream",
     "text": [
      "List(2, 3, 4, 5)\n"
     ]
    }
   ],
   "source": [
    "println(a.tail)"
   ]
  },
  {
   "cell_type": "code",
   "execution_count": null,
   "metadata": {},
   "outputs": [],
   "source": [
    "println(a.init)"
   ]
  },
  {
   "cell_type": "code",
   "execution_count": null,
   "metadata": {},
   "outputs": [],
   "source": [
    "println(a.last)"
   ]
  },
  {
   "cell_type": "code",
   "execution_count": null,
   "metadata": {},
   "outputs": [],
   "source": [
    "println(a(4)) //5 <--Wait what is this?"
   ]
  },
  {
   "cell_type": "code",
   "execution_count": null,
   "metadata": {},
   "outputs": [],
   "source": [
    "println(a.max)"
   ]
  },
  {
   "cell_type": "code",
   "execution_count": null,
   "metadata": {},
   "outputs": [],
   "source": [
    "println(a.min)"
   ]
  },
  {
   "cell_type": "code",
   "execution_count": null,
   "metadata": {},
   "outputs": [],
   "source": [
    "println(a.isEmpty)"
   ]
  },
  {
   "cell_type": "code",
   "execution_count": null,
   "metadata": {},
   "outputs": [],
   "source": [
    "println(a.nonEmpty)"
   ]
  },
  {
   "cell_type": "code",
   "execution_count": null,
   "metadata": {},
   "outputs": [],
   "source": [
    "println(a.updated(3, 100)) //Underused"
   ]
  },
  {
   "cell_type": "code",
   "execution_count": null,
   "metadata": {},
   "outputs": [],
   "source": [
    "println(a.mkString(\",\")) //available on all collections!"
   ]
  },
  {
   "cell_type": "code",
   "execution_count": null,
   "metadata": {},
   "outputs": [],
   "source": [
    "println(a.mkString(\"{\", \" ## \", \"}\"))"
   ]
  },
  {
   "cell_type": "markdown",
   "metadata": {},
   "source": [
    "## `List` Conclusion\n",
    "\n",
    "* `List` are a immutable collection, duplicates allowed\n",
    "* `Nil` is an empty List\n",
    "* `List` are created with the object and an apply factory\n",
    "* `List` have all the functional properties as other collections have"
   ]
  },
  {
   "cell_type": "markdown",
   "metadata": {},
   "source": [
    "## `Range`\n",
    "\n",
    "### `Range` direct\n",
    "\n",
    "Obtaining 0…​4, exclusively"
   ]
  },
  {
   "cell_type": "code",
   "execution_count": null,
   "metadata": {},
   "outputs": [],
   "source": [
    "val exclusive = Range(0, 4) //0,1,2,3"
   ]
  },
  {
   "cell_type": "markdown",
   "metadata": {},
   "source": [
    "Obtaining 0…​4, inclusively"
   ]
  },
  {
   "cell_type": "code",
   "execution_count": null,
   "metadata": {},
   "outputs": [],
   "source": [
    "val inclusive = Range.inclusive(0, 4) //0,1,2,3,4"
   ]
  },
  {
   "cell_type": "markdown",
   "metadata": {},
   "source": [
    "Source: https://www.scala-lang.org/api/current/scala/collection/immutable/Range$.html"
   ]
  },
  {
   "cell_type": "markdown",
   "metadata": {},
   "source": [
    "### `Range` with implicit trickery\n",
    "\n",
    "Obtaining 0…​4, exclusively"
   ]
  },
  {
   "cell_type": "code",
   "execution_count": 5,
   "metadata": {},
   "outputs": [
    {
     "data": {
      "text/plain": [
       "exclusive: scala.collection.immutable.Range = Range(0, 1, 2, 3)\n"
      ]
     },
     "execution_count": 5,
     "metadata": {},
     "output_type": "execute_result"
    }
   ],
   "source": [
    "val exclusive = 0 until 4 //0,1,2,3"
   ]
  },
  {
   "cell_type": "markdown",
   "metadata": {},
   "source": [
    "Obtaining 0…​4, inclusively"
   ]
  },
  {
   "cell_type": "code",
   "execution_count": 4,
   "metadata": {},
   "outputs": [
    {
     "data": {
      "text/plain": [
       "inclusive: scala.collection.immutable.Range.Inclusive = Range(0, 1, 2, 3, 4)\n"
      ]
     },
     "execution_count": 4,
     "metadata": {},
     "output_type": "execute_result"
    }
   ],
   "source": [
    "val inclusive = 0 to 4 //0,1,2,3,4"
   ]
  },
  {
   "cell_type": "markdown",
   "metadata": {},
   "source": [
    "Source: https://www.scala-lang.org/api/current/scala/collection/immutable/Range$.html"
   ]
  },
  {
   "cell_type": "markdown",
   "metadata": {},
   "source": [
    "### `Range` exclusively with Positive Steps\n",
    "\n",
    "Obtaining 1…​20 with a positive step of 2, exclusively, using Standard API"
   ]
  },
  {
   "cell_type": "code",
   "execution_count": null,
   "metadata": {},
   "outputs": [],
   "source": [
    "Range(0, 20, 2).toVector //Vector(0, 2, 4, 6, 8, 10, 12, 14, 16, 18)"
   ]
  },
  {
   "cell_type": "markdown",
   "metadata": {},
   "source": [
    "The above obviously uses the `apply` method"
   ]
  },
  {
   "cell_type": "markdown",
   "metadata": {},
   "source": [
    "Obtaining 1…​20 with a positive step of 2, exclusively, using Implicit Trickery"
   ]
  },
  {
   "cell_type": "markdown",
   "metadata": {},
   "source": [
    "(0 until 20 by 2).toVector //Vector(0, 2, 4, 6, 8, 10, 12, 14, 16, 18)"
   ]
  },
  {
   "cell_type": "markdown",
   "metadata": {},
   "source": [
    "### Range inclusively with Positive Steps\n",
    "Obtaining 1…​20 with a positive step of 2, inclusively, using Standard API"
   ]
  },
  {
   "cell_type": "code",
   "execution_count": 12,
   "metadata": {},
   "outputs": [
    {
     "data": {
      "text/plain": [
       "res7: Vector[Int] = Vector(0, 2, 4, 6, 8, 10, 12, 14, 16, 18, 20)\n"
      ]
     },
     "execution_count": 12,
     "metadata": {},
     "output_type": "execute_result"
    }
   ],
   "source": [
    "Range.inclusive(0, 20, 2).toVector //Vector(0, 2, 4, 6, 8, 10, 12, 14, 16, 18, 20)"
   ]
  },
  {
   "cell_type": "markdown",
   "metadata": {},
   "source": [
    "The above uses the apply method"
   ]
  },
  {
   "cell_type": "markdown",
   "metadata": {},
   "source": [
    "Obtaining 1…​20 with a positive step of 2, inclusively, using Implicit Trickery"
   ]
  },
  {
   "cell_type": "code",
   "execution_count": 13,
   "metadata": {},
   "outputs": [
    {
     "data": {
      "text/plain": [
       "res8: Vector[Int] = Vector(1, 3, 5, 7, 9, 11, 13, 15, 17, 19)\n"
      ]
     },
     "execution_count": 13,
     "metadata": {},
     "output_type": "execute_result"
    }
   ],
   "source": [
    "(1 to 20 by 2).toVector //Vector(0, 2, 4, 6, 8, 10, 12, 14, 16, 18, 20)"
   ]
  },
  {
   "cell_type": "markdown",
   "metadata": {},
   "source": [
    "Range exclusively with Negative Steps"
   ]
  },
  {
   "cell_type": "markdown",
   "metadata": {},
   "source": [
    "Obtaining 20…​0 with a negative step of -2, exclusively, using Standard API"
   ]
  },
  {
   "cell_type": "code",
   "execution_count": 14,
   "metadata": {},
   "outputs": [
    {
     "data": {
      "text/plain": [
       "res9: Vector[Int] = Vector(20, 18, 16, 14, 12, 10, 8, 6, 4, 2)\n"
      ]
     },
     "execution_count": 14,
     "metadata": {},
     "output_type": "execute_result"
    }
   ],
   "source": [
    "Range(20, 0, -2).toVector //Vector(20, 18, 16, 14, 12, 10, 8, 6, 4, 2)"
   ]
  },
  {
   "cell_type": "markdown",
   "metadata": {},
   "source": [
    "The above uses the `apply` method"
   ]
  },
  {
   "cell_type": "markdown",
   "metadata": {},
   "source": [
    "Obtaining 20…​0 with a negative step of -2, exclusively, using Implicit Trickery"
   ]
  },
  {
   "cell_type": "code",
   "execution_count": 15,
   "metadata": {},
   "outputs": [
    {
     "data": {
      "text/plain": [
       "res10: Vector[Int] = Vector(20, 18, 16, 14, 12, 10, 8, 6, 4, 2)\n"
      ]
     },
     "execution_count": 15,
     "metadata": {},
     "output_type": "execute_result"
    }
   ],
   "source": [
    "(20 until 0 by -2).toVector  //Vector(20, 18, 16, 14, 12, 10, 8, 6, 4, 2)"
   ]
  },
  {
   "cell_type": "markdown",
   "metadata": {},
   "source": [
    "### `Range` inclusively with Negative Steps\n",
    "\n",
    "Using Standard API\n",
    "\n",
    "Obtaining 20…​0 with a negative step of -2, inclusively, using Standard API"
   ]
  },
  {
   "cell_type": "code",
   "execution_count": 11,
   "metadata": {},
   "outputs": [
    {
     "data": {
      "text/plain": [
       "res6: Vector[Int] = Vector(20, 18, 16, 14, 12, 10, 8, 6, 4, 2, 0)\n"
      ]
     },
     "execution_count": 11,
     "metadata": {},
     "output_type": "execute_result"
    }
   ],
   "source": [
    "Range.inclusive(20, 0, -2).toVector //Vector(20, 18, 16, 14, 12, 10, 8, 6, 4, 2, 0)"
   ]
  },
  {
   "cell_type": "markdown",
   "metadata": {},
   "source": [
    "The above uses the apply method"
   ]
  },
  {
   "cell_type": "markdown",
   "metadata": {},
   "source": [
    "Obtaining 20…​0 with a negative step of -2, inclusively, using Implicit Trickery"
   ]
  },
  {
   "cell_type": "code",
   "execution_count": 10,
   "metadata": {},
   "outputs": [
    {
     "data": {
      "text/plain": [
       "res5: Vector[Int] = Vector(20, 18, 16, 14, 12, 10, 8, 6, 4, 2, 0)\n"
      ]
     },
     "execution_count": 10,
     "metadata": {},
     "output_type": "execute_result"
    }
   ],
   "source": [
    "(20 to 0 by -2).toVector  //Vector(20, 18, 16, 14, 12, 10, 8, 6, 4, 2, 0)"
   ]
  },
  {
   "cell_type": "markdown",
   "metadata": {},
   "source": [
    "## `Set`\n",
    "\n",
    "* Just like underlying Java and most programming languages, a `Set` is:\n",
    "* `Collection` that doesn’t have duplicate elements\n",
    "* Generally have more mathematical methods than `List`\n",
    "* Doesn’t maintain order\n",
    "\n",
    "Some of the characteristics of `Set`:\n",
    "\n",
    "* `head`, `tail` are not available\n",
    "* `apply` has a different behavior"
   ]
  },
  {
   "cell_type": "markdown",
   "metadata": {},
   "source": [
    "### Creating a `Set`"
   ]
  },
  {
   "cell_type": "code",
   "execution_count": 9,
   "metadata": {},
   "outputs": [
    {
     "data": {
      "text/plain": [
       "set: scala.collection.immutable.Set[Int] = Set(1, 2, 3, 4)\n",
       "set2: scala.collection.immutable.Set[Int] = Set(5, 1, 2, 3, 4)\n"
      ]
     },
     "execution_count": 9,
     "metadata": {},
     "output_type": "execute_result"
    }
   ],
   "source": [
    "val set =  Set(1,2,3,4)\n",
    "val set2 = Set.apply(1,2,3,4,5)"
   ]
  },
  {
   "cell_type": "markdown",
   "metadata": {},
   "source": [
    "Calculating the differences of a Set\n",
    "The following calculates the differences of a Set"
   ]
  },
  {
   "cell_type": "code",
   "execution_count": null,
   "metadata": {},
   "outputs": [],
   "source": [
    "Set(1,2,3,4) diff Set(1,2,3,4,5,6,7)"
   ]
  },
  {
   "cell_type": "markdown",
   "metadata": {},
   "source": [
    "Whereas, the opposite…​"
   ]
  },
  {
   "cell_type": "code",
   "execution_count": 8,
   "metadata": {},
   "outputs": [
    {
     "data": {
      "text/plain": [
       "res4: scala.collection.immutable.Set[Int] = Set(5, 6, 7)\n"
      ]
     },
     "execution_count": 8,
     "metadata": {},
     "output_type": "execute_result"
    }
   ],
   "source": [
    "Set(1,2,3,4,5,6,7) diff Set(1,2,3,4)"
   ]
  },
  {
   "cell_type": "markdown",
   "metadata": {},
   "source": [
    "### Calculating the `union` of two `Set`\n",
    "\n",
    "A union will provide the combination of the two Set"
   ]
  },
  {
   "cell_type": "code",
   "execution_count": null,
   "metadata": {},
   "outputs": [],
   "source": [
    "Set(1,2,3,4) union Set(5,10)"
   ]
  },
  {
   "cell_type": "markdown",
   "metadata": {},
   "source": [
    "### Calculating the `intersect` of two Set\n",
    "\n",
    "intersect is the opposite of a diff and shows the commonality of two Set"
   ]
  },
  {
   "cell_type": "code",
   "execution_count": 6,
   "metadata": {},
   "outputs": [
    {
     "data": {
      "text/plain": [
       "res2: scala.collection.immutable.Set[Int] = Set(2, 3)\n"
      ]
     },
     "execution_count": 6,
     "metadata": {},
     "output_type": "execute_result"
    }
   ],
   "source": [
    "Set(1,2,3,4) intersect Set(19,2,3,10)"
   ]
  },
  {
   "cell_type": "markdown",
   "metadata": {},
   "source": [
    "### Using `apply` with a `Set`\n",
    "\n",
    "`apply` will only return the same as `contains` and that is whether the element is in the `Set` or not"
   ]
  },
  {
   "cell_type": "code",
   "execution_count": 7,
   "metadata": {},
   "outputs": [
    {
     "data": {
      "text/plain": [
       "set: scala.collection.immutable.Set[Int] = Set(1, 2, 3, 4)\n",
       "res3: Boolean = true\n"
      ]
     },
     "execution_count": 7,
     "metadata": {},
     "output_type": "execute_result"
    }
   ],
   "source": [
    "val set = Set(1,2,3,4)\n",
    "set.apply(4) //true\n",
    "set.apply(10) //false\n",
    "set.contains(4) //true"
   ]
  },
  {
   "cell_type": "markdown",
   "metadata": {},
   "source": [
    "### `Set`  Conclusion\n",
    "\n",
    "* `Set`s are collections with no duplicate elements\n",
    "* More mathematically powerful than the `List` counter part\n",
    "* `Set`s have a hash order that is undetermined (if less than 5)\n",
    "* `apply` will return `true` or `false`"
   ]
  },
  {
   "cell_type": "markdown",
   "metadata": {},
   "source": [
    "## Using `Map`s"
   ]
  },
  {
   "cell_type": "markdown",
   "metadata": {},
   "source": [
    "### `Map`s\n",
    "\n",
    "* Called associative arrays, dictionary, or tables in other languages\n",
    "* Table of keys and values\n",
    "* Items are looked up by key"
   ]
  },
  {
   "cell_type": "markdown",
   "metadata": {},
   "source": [
    "### Creating a Map\n",
    "\n",
    "The following calls all create the same Map"
   ]
  },
  {
   "cell_type": "code",
   "execution_count": 16,
   "metadata": {},
   "outputs": [
    {
     "data": {
      "text/plain": [
       "m: scala.collection.immutable.Map[Int,String] = Map(1 -> One, 2 -> Two, 3 -> Three)\n"
      ]
     },
     "execution_count": 16,
     "metadata": {},
     "output_type": "execute_result"
    }
   ],
   "source": [
    "val m = Map.apply((1, \"One\"), (2, \"Two\"), (3, \"Three\"))"
   ]
  },
  {
   "cell_type": "code",
   "execution_count": 17,
   "metadata": {},
   "outputs": [
    {
     "data": {
      "text/plain": [
       "m: scala.collection.immutable.Map[Int,String] = Map(1 -> One, 2 -> Two, 3 -> Three)\n"
      ]
     },
     "execution_count": 17,
     "metadata": {},
     "output_type": "execute_result"
    }
   ],
   "source": [
    "val m = Map((1, \"One\"), (2, \"Two\"), (3, \"Three\"))"
   ]
  },
  {
   "cell_type": "markdown",
   "metadata": {},
   "source": [
    "Reminder, on tuples, the `->` creates a `Tuple2`"
   ]
  },
  {
   "cell_type": "code",
   "execution_count": 19,
   "metadata": {},
   "outputs": [
    {
     "data": {
      "text/plain": [
       "t: (Int, String) = (1,One)\n"
      ]
     },
     "execution_count": 19,
     "metadata": {},
     "output_type": "execute_result"
    }
   ],
   "source": [
    "val t:(Int, String) = 1 -> \"One\""
   ]
  },
  {
   "cell_type": "code",
   "execution_count": 20,
   "metadata": {},
   "outputs": [
    {
     "data": {
      "text/plain": [
       "m: scala.collection.immutable.Map[Int,String] = Map(1 -> One, 2 -> Two, 3 -> Three)\n"
      ]
     },
     "execution_count": 20,
     "metadata": {},
     "output_type": "execute_result"
    }
   ],
   "source": [
    "val m = Map(1 -> \"One\", 2 -> \"Two\", 3 -> \"Three\")"
   ]
  },
  {
   "cell_type": "markdown",
   "metadata": {},
   "source": [
    "### `Map` safe retrieval by key\n",
    "Given a Map we created previously."
   ]
  },
  {
   "cell_type": "code",
   "execution_count": 22,
   "metadata": {},
   "outputs": [
    {
     "data": {
      "text/plain": [
       "m: scala.collection.immutable.Map[Int,String] = Map(1 -> One, 2 -> Two, 3 -> Three)\n"
      ]
     },
     "execution_count": 22,
     "metadata": {},
     "output_type": "execute_result"
    }
   ],
   "source": [
    "val m = Map(1 -> \"One\", 2 -> \"Two\", 3 -> \"Three\")"
   ]
  },
  {
   "cell_type": "markdown",
   "metadata": {},
   "source": [
    "To retrieve by key:"
   ]
  },
  {
   "cell_type": "code",
   "execution_count": 23,
   "metadata": {},
   "outputs": [
    {
     "data": {
      "text/plain": [
       "res11: Option[String] = Some(One)\n"
      ]
     },
     "execution_count": 23,
     "metadata": {},
     "output_type": "execute_result"
    }
   ],
   "source": [
    "m.get(1)"
   ]
  },
  {
   "cell_type": "markdown",
   "metadata": {},
   "source": [
    "When no key is available, then the result will be None"
   ]
  },
  {
   "cell_type": "code",
   "execution_count": 24,
   "metadata": {},
   "outputs": [
    {
     "data": {
      "text/plain": [
       "res12: Option[String] = None\n"
      ]
     },
     "execution_count": 24,
     "metadata": {},
     "output_type": "execute_result"
    }
   ],
   "source": [
    "m.get(4)"
   ]
  },
  {
   "cell_type": "markdown",
   "metadata": {},
   "source": [
    "### `Map` unsafe retrieval by key\n",
    "\n",
    "Given a Map we created previously."
   ]
  },
  {
   "cell_type": "code",
   "execution_count": 25,
   "metadata": {},
   "outputs": [
    {
     "data": {
      "text/plain": [
       "m: scala.collection.immutable.Map[Int,String] = Map(1 -> One, 2 -> Two, 3 -> Three)\n"
      ]
     },
     "execution_count": 25,
     "metadata": {},
     "output_type": "execute_result"
    }
   ],
   "source": [
    "val m = Map(1 -> \"One\", 2 -> \"Two\", 3 -> \"Three\")"
   ]
  },
  {
   "cell_type": "markdown",
   "metadata": {},
   "source": [
    "Calling apply will retreive the value direct without wrapping it in an Option"
   ]
  },
  {
   "cell_type": "code",
   "execution_count": 26,
   "metadata": {},
   "outputs": [
    {
     "data": {
      "text/plain": [
       "res13: String = One\n"
      ]
     },
     "execution_count": 26,
     "metadata": {},
     "output_type": "execute_result"
    }
   ],
   "source": [
    "m.apply(1)"
   ]
  },
  {
   "cell_type": "markdown",
   "metadata": {},
   "source": [
    "The problem that you will have to be careful about when calling an apply on a Map that doesn’t contain the key"
   ]
  },
  {
   "cell_type": "code",
   "execution_count": 27,
   "metadata": {},
   "outputs": [
    {
     "ename": "java.util.NoSuchElementException",
     "evalue": " key not found: 4",
     "output_type": "error",
     "traceback": [
      "java.util.NoSuchElementException: key not found: 4",
      "  at scala.collection.MapLike$class.default(MapLike.scala:228)",
      "  at scala.collection.AbstractMap.default(Map.scala:59)",
      "  at scala.collection.MapLike$class.apply(MapLike.scala:141)",
      "  at scala.collection.AbstractMap.apply(Map.scala:59)",
      "  ... 36 elided",
      ""
     ]
    }
   ],
   "source": [
    "m.apply(4)"
   ]
  },
  {
   "cell_type": "markdown",
   "metadata": {},
   "source": [
    "### `Map` retrieval of key Iterable\n",
    "\n",
    "Given a Map we created previously."
   ]
  },
  {
   "cell_type": "code",
   "execution_count": 28,
   "metadata": {},
   "outputs": [
    {
     "data": {
      "text/plain": [
       "m: scala.collection.immutable.Map[Int,String] = Map(1 -> One, 2 -> Two, 3 -> Three)\n"
      ]
     },
     "execution_count": 28,
     "metadata": {},
     "output_type": "execute_result"
    }
   ],
   "source": [
    "val m = Map(1 -> \"One\", 2 -> \"Two\", 3 -> \"Three\")"
   ]
  },
  {
   "cell_type": "markdown",
   "metadata": {},
   "source": [
    "To retrieve an Iterable of keys"
   ]
  },
  {
   "cell_type": "code",
   "execution_count": 29,
   "metadata": {},
   "outputs": [
    {
     "data": {
      "text/plain": [
       "res15: Iterable[Int] = Set(1, 2, 3)\n"
      ]
     },
     "execution_count": 29,
     "metadata": {},
     "output_type": "execute_result"
    }
   ],
   "source": [
    "m.keys"
   ]
  },
  {
   "cell_type": "markdown",
   "metadata": {},
   "source": [
    "To retreive them as a `Set`"
   ]
  },
  {
   "cell_type": "code",
   "execution_count": 30,
   "metadata": {},
   "outputs": [
    {
     "data": {
      "text/plain": [
       "res16: scala.collection.immutable.Set[Int] = Set(1, 2, 3)\n"
      ]
     },
     "execution_count": 30,
     "metadata": {},
     "output_type": "execute_result"
    }
   ],
   "source": [
    "m.keySet"
   ]
  },
  {
   "cell_type": "markdown",
   "metadata": {},
   "source": [
    "### `Map` Conclusion\n",
    "\n",
    "* `Map` are a table-like collection that store keys and values\n",
    "* Internally, `Map`s are a collection of tuples, and can be operated on as such"
   ]
  },
  {
   "cell_type": "markdown",
   "metadata": {},
   "source": [
    "## `Vector`\n",
    "\n",
    "* `Vector` is a different kind of sequence like `List`\n",
    "* Offers differing characteristics, particularly in storage using tries\n",
    "* It is generally faster in many operations\n",
    "* Has an API very similar to `List`"
   ]
  },
  {
   "cell_type": "code",
   "execution_count": 2,
   "metadata": {},
   "outputs": [
    {
     "data": {
      "text/plain": [
       "res0: scala.collection.immutable.Vector[Double] = Vector(303.0, -230.2, -12.0, 19.0, 22.01, -132.0)\n"
      ]
     },
     "execution_count": 2,
     "metadata": {},
     "output_type": "execute_result"
    }
   ],
   "source": [
    "Vector(303.00, -230.2, -12, 19.0, 22.01, -132.00)"
   ]
  },
  {
   "cell_type": "markdown",
   "metadata": {},
   "source": [
    "## `Stream`\n",
    "\n",
    "* Collection that evaluates the elements when needed\n",
    "* To create your own it typically requires use of the `cons` operation and perhaps `Stream.empty[A]`\n",
    "* To use a `Stream`, particularly if it is infinite, requires the use of `take` which takes a certain number of elements\n",
    "* In Scala 2.13, it has been replaced with `LazyList` which has nearly the same functionality but different evaluation semantics"
   ]
  },
  {
   "cell_type": "code",
   "execution_count": 7,
   "metadata": {},
   "outputs": [
    {
     "data": {
      "text/plain": [
       "continuousEvens: ()Stream[BigInt]\n",
       "res5: String = 2,4,6,8,10\n"
      ]
     },
     "execution_count": 7,
     "metadata": {},
     "output_type": "execute_result"
    }
   ],
   "source": [
    "def continuousEvens(): Stream[BigInt] = {\n",
    "  def ce(n:BigInt):Stream[BigInt] = Stream.cons(n, ce(n + 2))\n",
    "  ce(2)\n",
    "}\n",
    "continuousEvens().take(5).mkString(\",\")"
   ]
  },
  {
   "cell_type": "markdown",
   "metadata": {},
   "source": [
    "Cons can be expressed using the `#::` operator, and please not the colon on the right hand side"
   ]
  },
  {
   "cell_type": "code",
   "execution_count": 8,
   "metadata": {},
   "outputs": [
    {
     "data": {
      "text/plain": [
       "continuousEvens: ()Stream[BigInt]\n",
       "res6: String = 2,4,6,8,10\n"
      ]
     },
     "execution_count": 8,
     "metadata": {},
     "output_type": "execute_result"
    }
   ],
   "source": [
    "def continuousEvens(): Stream[BigInt] = {\n",
    "  def ce(n:BigInt):Stream[BigInt] = n #:: ce(n + 2)\n",
    "  ce(2)\n",
    "}\n",
    "continuousEvens().take(5).mkString(\",\")"
   ]
  },
  {
   "cell_type": "markdown",
   "metadata": {},
   "source": [
    "## Collection Performance\n",
    "\n",
    "* In determine performance as to which collection you want here is a chart\n",
    "* The chart is direct from https://docs.scala-lang.org/overviews/collections/performance-characteristics.html\n",
    "* The notation is as follows\n",
    "  * **eC** - Effectively Constants\n",
    "  * **aC** - Amortized constant time, isn't always constant but over an average it comes close\n",
    "  * **C** - Constant Time\n",
    "  * **Log** - Logarithmic Time with the collection size.\n",
    "  * **L** - Linear, propertional to size of collection\n",
    "  \n",
    "<img src=\"../images/scala_collection_performance.png\" alt=\"Scala Collection Performance\" style=\"width: 50%;\"/>"
   ]
  },
  {
   "cell_type": "markdown",
   "metadata": {},
   "source": [
    "## The Importance of a Clean API\n",
    "\n",
    "* In Scala, methods names and parameters were curated with care\n",
    "* Lesson: Once you learn most if not all methods of List you will also know\n",
    "  * `Set`\n",
    "  * `Map`\n",
    "  * `Stream`\n",
    "  * `String`\n",
    "  * `Future`\n",
    "  * `Option`\n",
    "  * `Queue`\n",
    "  * `Range`\n",
    "  * `Vector`\n",
    "\n",
    "* In some capacity that will also include mutable collections\n",
    "* Knowing this the learning curve drops significantly\n",
    "* This also aids in how we learn and understand Spark"
   ]
  }
 ],
 "metadata": {
  "kernelspec": {
   "display_name": "spylon-kernel",
   "language": "scala",
   "name": "spylon-kernel"
  },
  "language_info": {
   "codemirror_mode": "text/x-scala",
   "file_extension": ".scala",
   "help_links": [
    {
     "text": "MetaKernel Magics",
     "url": "https://metakernel.readthedocs.io/en/latest/source/README.html"
    }
   ],
   "mimetype": "text/x-scala",
   "name": "scala",
   "pygments_lexer": "scala",
   "version": "0.4.1"
  }
 },
 "nbformat": 4,
 "nbformat_minor": 2
}

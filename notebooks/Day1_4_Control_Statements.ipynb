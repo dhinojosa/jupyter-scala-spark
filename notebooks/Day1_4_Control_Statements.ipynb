{
 "cells": [
  {
   "cell_type": "markdown",
   "metadata": {},
   "source": [
    "# Control Statements"
   ]
  },
  {
   "cell_type": "markdown",
   "metadata": {},
   "source": [
    "## `if`, `else if`, `else` imperative\n",
    "\n",
    "Scala programmers often do not use var although that is not quite exactly a hard rule.\n",
    "\n",
    "This is imperative style code and thus not common or preferred. `if` statements can be made imperatively, but will often require a mutable variable `var`. *_NOTE: This is not Scala convention_*"
   ]
  },
  {
   "cell_type": "code",
   "execution_count": null,
   "metadata": {},
   "outputs": [],
   "source": [
    "val a = 10\n",
    "var result = \"\" // var is usually a code smell\n",
    "if (a < 10) {\n",
    "  result = \"Less than 10\"\n",
    "} else if (a > 10) {\n",
    "  result = \"Greater than 10\"\n",
    "} else {\n",
    "  result = \"It is 10!\"\n",
    "}"
   ]
  },
  {
   "cell_type": "markdown",
   "metadata": {},
   "source": [
    "## `if`, `else if`, `else` functional\n",
    "\n",
    "What is different about `if` statements in Scala as well as other functions is that they are assignable\n",
    "\n",
    "In this case we are assigning to result, a `val`\n",
    "\n",
    "Arguably, cleaner and concise code."
   ]
  },
  {
   "cell_type": "code",
   "execution_count": null,
   "metadata": {},
   "outputs": [],
   "source": [
    "val a = 10\n",
    "val result = if (a < 10) \"Less than 10\"\n",
    "             else if (a > 10) \"Greater than 10\"\n",
    "             else \"It is 10!\""
   ]
  },
  {
   "cell_type": "markdown",
   "metadata": {},
   "source": [
    "NOTE: There is no \"ternary\" operator in Scala. This is as close as you'll get."
   ]
  },
  {
   "cell_type": "markdown",
   "metadata": {},
   "source": [
    "## `while` loops\n",
    "\n",
    "* Nearly the same as in Java\n",
    "* Imperative Style\n",
    "* Runs the code within the block until there the boolean condition becomes `false`\n",
    "* Not used as much by Scala programmers, unless\n",
    "  * You are writing APIs\n",
    "  * Using a mutable collection\n",
    "  * A few other rare occasions"
   ]
  },
  {
   "cell_type": "code",
   "execution_count": null,
   "metadata": {},
   "outputs": [],
   "source": [
    "var a = 10\n",
    "var result = \"\" // var is usually a code smell\n",
    "while (a > 0) {\n",
    "   result = result + a\n",
    "   if (a > 1) result = result + \",\"\n",
    "   a = a - 1\n",
    "}\n",
    "result"
   ]
  },
  {
   "cell_type": "markdown",
   "metadata": {},
   "source": [
    "For a taste of idiomatic Scala, see if you can piece together what is happening here."
   ]
  },
  {
   "cell_type": "code",
   "execution_count": null,
   "metadata": {},
   "outputs": [],
   "source": [
    "(100 to 1 by -1).mkString(\",\") //Deliciousness!"
   ]
  },
  {
   "cell_type": "markdown",
   "metadata": {},
   "source": [
    "## `do`-`while` loops\n",
    "\n",
    "* Nearly the same as in Java\n",
    "* Imperative Style\n",
    "* Runs the code within the block until there the boolean condition becomes false\n",
    "* At least runs once\n",
    "* Not used as much by Scala programmers"
   ]
  },
  {
   "cell_type": "code",
   "execution_count": null,
   "metadata": {},
   "outputs": [],
   "source": [
    "var a = 10 // var is usually a code smell\n",
    "var result = \"\"\n",
    "do {\n",
    "   result = result + a\n",
    "   if (a > 1) result = result + \",\"\n",
    "   a = a - 1\n",
    "} while (a > 0)"
   ]
  },
  {
   "cell_type": "markdown",
   "metadata": {},
   "source": [
    "## `for` loops\n",
    "\n",
    "* You can still perform the classic idea of a for-loop\n",
    "* Often underused in the Scala community\n",
    "* Replaced in favor of _for comprehensions_"
   ]
  },
  {
   "cell_type": "code",
   "execution_count": null,
   "metadata": {},
   "outputs": [],
   "source": [
    "var result = \"\" // var is usually a code smell\n",
    "for (a <- 1 to 10) { // a for loop\n",
    "   if (a != 1) result = result + \",\"\n",
    "   result = result + a\n",
    "}"
   ]
  },
  {
   "cell_type": "markdown",
   "metadata": {},
   "source": [
    "The above was useless since it can be written concisely with the following."
   ]
  },
  {
   "cell_type": "code",
   "execution_count": null,
   "metadata": {},
   "outputs": [],
   "source": [
    "(1 to 10).mkString(\",\")"
   ]
  },
  {
   "cell_type": "markdown",
   "metadata": {},
   "source": [
    "## `for` comprehensions\n",
    "For the flavor of `for` comprehensions here is an example using a collection type called a `List`."
   ]
  },
  {
   "cell_type": "code",
   "execution_count": null,
   "metadata": {},
   "outputs": [],
   "source": [
    "for (i <- List(1,2,3,4)) yield (i * 2)"
   ]
  },
  {
   "cell_type": "markdown",
   "metadata": {},
   "source": [
    "This has very little relation to its cousin `for` loop. The above says \"for every element in this collection, multiply by 2\" and put it into a new collection of the same type. The same type being in this case is a `List`"
   ]
  },
  {
   "cell_type": "markdown",
   "metadata": {},
   "source": [
    "## Control Statements Conclusion\n",
    "\n",
    "* `if` statements exist like other languages except they are assignable to a `val` or `var` (preferably a `val`)\n",
    "* `while`, `do`-`while` exists but are rarely used in Scala, because they cause the programmer to resort to variables (`var`)\n",
    "* `for`-loops are also available, those too are underused, we use `for`-comprehensions in favor of `for`-loops"
   ]
  },
  {
   "cell_type": "code",
   "execution_count": null,
   "metadata": {},
   "outputs": [],
   "source": []
  }
 ],
 "metadata": {
  "kernelspec": {
   "display_name": "spylon-kernel",
   "language": "scala",
   "name": "spylon-kernel"
  },
  "language_info": {
   "codemirror_mode": "text/x-scala",
   "file_extension": ".scala",
   "help_links": [
    {
     "text": "MetaKernel Magics",
     "url": "https://metakernel.readthedocs.io/en/latest/source/README.html"
    }
   ],
   "mimetype": "text/x-scala",
   "name": "scala",
   "pygments_lexer": "scala",
   "version": "0.4.1"
  }
 },
 "nbformat": 4,
 "nbformat_minor": 2
}

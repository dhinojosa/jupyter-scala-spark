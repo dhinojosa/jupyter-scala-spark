{
 "cells": [
  {
   "cell_type": "markdown",
   "metadata": {},
   "source": [
    "# Querying `DataFrame` "
   ]
  },
  {
   "cell_type": "markdown",
   "metadata": {},
   "source": [
    "## Retrieving our Books"
   ]
  },
  {
   "cell_type": "code",
   "execution_count": 2,
   "metadata": {},
   "outputs": [
    {
     "name": "stdout",
     "output_type": "stream",
     "text": [
      "root\n",
      " |-- bookID: integer (nullable = true)\n",
      " |-- title: string (nullable = true)\n",
      " |-- authors: string (nullable = true)\n",
      " |-- average_rating: float (nullable = true)\n",
      " |-- isbn: string (nullable = true)\n",
      " |-- isbn13: string (nullable = true)\n",
      " |-- language_code: string (nullable = true)\n",
      " |-- num_pages: integer (nullable = true)\n",
      " |-- ratings_count: integer (nullable = true)\n",
      " |-- text_reviews_count: integer (nullable = true)\n",
      "\n"
     ]
    },
    {
     "data": {
      "text/plain": [
       "import org.apache.spark.sql.types._\n",
       "bookSchema: org.apache.spark.sql.types.StructType = StructType(StructField(bookID,IntegerType,false), StructField(title,StringType,false), StructField(authors,StringType,false), StructField(average_rating,FloatType,false), StructField(isbn,StringType,false), StructField(isbn13,StringType,false), StructField(language_code,StringType,false), StructField(num_pages,IntegerType,false), StructField(ratings_count,IntegerType,false), StructField(text_reviews_count,IntegerType,false))\n",
       "booksDF: org.apache.spark.sql.DataFrame = [bookID: int, title: string ... 8 more fields]\n"
      ]
     },
     "execution_count": 2,
     "metadata": {},
     "output_type": "execute_result"
    }
   ],
   "source": [
    "import org.apache.spark.sql.types._\n",
    "val bookSchema = new StructType(Array(\n",
    "   new StructField(\"bookID\", IntegerType, false),\n",
    "   new StructField(\"title\", StringType, false),\n",
    "   new StructField(\"authors\", StringType, false),\n",
    "   new StructField(\"average_rating\", FloatType, false),\n",
    "   new StructField(\"isbn\", StringType, false),\n",
    "   new StructField(\"isbn13\", StringType, false),\n",
    "   new StructField(\"language_code\", StringType, false),\n",
    "   new StructField(\"num_pages\", IntegerType, false),\n",
    "   new StructField(\"ratings_count\", IntegerType, false),\n",
    "   new StructField(\"text_reviews_count\", IntegerType, false)))\n",
    "\n",
    "val booksDF = spark.read.format(\"csv\")\n",
    "                         .schema(bookSchema)\n",
    "                         .option(\"inferSchema\", \"true\")\n",
    "                         .option(\"header\", \"true\")\n",
    "                         .load(\"../data/books.csv\")\n",
    "booksDF.printSchema()"
   ]
  },
  {
   "cell_type": "markdown",
   "metadata": {},
   "source": [
    "## Filtering Rows"
   ]
  },
  {
   "cell_type": "markdown",
   "metadata": {},
   "source": [
    "### `where`\n",
    "\n",
    "* Can be applied to filter rows from the `DataFrame`/`DataSet`\n",
    "* Can take as an argument\n",
    "  * A `Column` with some criteria\n",
    "  * A `String` that represents a query\n",
    "* Returns a new `DataFrame` with the query results\n",
    "\n",
    "Here we will procure a `Column` either using `df(\"..\")`, `$\"..\"`, `'..`, `col(..)`, or `column(..)` where `..` is the name of the column. Also please open the [column API reference](https://spark.apache.org/docs/2.3.0/api/scala/index.html#org.apache.spark.sql.Column) to see what kind of calls can be made."
   ]
  },
  {
   "cell_type": "code",
   "execution_count": 4,
   "metadata": {},
   "outputs": [
    {
     "name": "stdout",
     "output_type": "stream",
     "text": [
      "+------+--------------------+--------------------+--------------+----------+-------------+-------------+---------+-------------+------------------+\n",
      "|bookID|               title|             authors|average_rating|      isbn|       isbn13|language_code|num_pages|ratings_count|text_reviews_count|\n",
      "+------+--------------------+--------------------+--------------+----------+-------------+-------------+---------+-------------+------------------+\n",
      "|  4978|Wolves of the Cal...|Stephen King-Bern...|          4.19|141651693X|9781416516934|          eng|      931|       120906|              2640|\n",
      "|  5094|The Drawing of th...|        Stephen King|          4.23|0451210859|9780451210852|          eng|      463|       163647|              4846|\n",
      "|  5095|The Waste Lands (...|        Stephen King|          4.24|034082977X|9780340829776|          eng|      584|         1073|                82|\n",
      "|  5096|Wizard and Glass ...|Stephen King-Dave...|          4.25|0340829788|9780340829783|          eng|      845|       122796|              3396|\n",
      "|  5098|The Gunslinger (T...|        Stephen King|          3.96|0340829753|9780340829752|          eng|      238|         1598|               189|\n",
      "|  5373|The Waste Lands (...|Stephen King-Ned ...|          4.24|0747411875|9780747411871|          eng|      509|           73|                 6|\n",
      "|  5399|           The Stand|        Stephen King|          4.34|1568495714|9781568495712|          eng|     1344|          412|                33|\n",
      "|  5412|The Stand: Das le...|Stephen King-Joac...|          4.34|3404134117|9783404134113|          ger|     1227|          229|                14|\n",
      "|  5413|        'Salem's Lot|Stephen King-Jerr...|          4.25|0385516487|9780385516488|          eng|      594|        81170|               504|\n",
      "|  5414|        'Salem's Lot|Stephen King-Ron ...|          4.01|0743536967|9780743536967|          eng|       17|          227|                55|\n",
      "+------+--------------------+--------------------+--------------+----------+-------------+-------------+---------+-------------+------------------+\n",
      "only showing top 10 rows\n",
      "\n"
     ]
    },
    {
     "data": {
      "text/plain": [
       "stephenKing: org.apache.spark.sql.Dataset[org.apache.spark.sql.Row] = [bookID: int, title: string ... 8 more fields]\n"
      ]
     },
     "execution_count": 4,
     "metadata": {},
     "output_type": "execute_result"
    }
   ],
   "source": [
    "val stephenKing = booksDF.where($\"authors\".contains(\"Stephen King\"))\n",
    "stephenKing.show(10)"
   ]
  },
  {
   "cell_type": "markdown",
   "metadata": {},
   "source": [
    "### `where` with `like`\n",
    "\n",
    "Here we will run the same query as above but using `like`, and using the `col` method to procure a column"
   ]
  },
  {
   "cell_type": "code",
   "execution_count": 8,
   "metadata": {},
   "outputs": [
    {
     "name": "stdout",
     "output_type": "stream",
     "text": [
      "+------+--------------------+------------+--------------+----------+-------------+-------------+---------+-------------+------------------+\n",
      "|bookID|               title|     authors|average_rating|      isbn|       isbn13|language_code|num_pages|ratings_count|text_reviews_count|\n",
      "+------+--------------------+------------+--------------+----------+-------------+-------------+---------+-------------+------------------+\n",
      "|  5094|The Drawing of th...|Stephen King|          4.23|0451210859|9780451210852|          eng|      463|       163647|              4846|\n",
      "|  5095|The Waste Lands (...|Stephen King|          4.24|034082977X|9780340829776|          eng|      584|         1073|                82|\n",
      "|  5098|The Gunslinger (T...|Stephen King|          3.96|0340829753|9780340829752|          eng|      238|         1598|               189|\n",
      "|  5399|           The Stand|Stephen King|          4.34|1568495714|9781568495712|          eng|     1344|          412|                33|\n",
      "|  5415|        'Salem's Lot|Stephen King|          4.01|0965772411|9780965772419|          eng|      405|          959|               121|\n",
      "|  5416|The Shining / Sal...|Stephen King|          4.67|0905712609|9780905712604|          eng|      991|         1838|                27|\n",
      "|  5417|Carrie / 'Salem's...|Stephen King|          4.53|0517219026|9780517219027|          eng|     1096|        12320|                58|\n",
      "|  5418|        'Salem's Lot|Stephen King|          4.01|0451150651|9780451150653|          eng|      446|          399|                45|\n",
      "|  5419|        'Salem's Lot|Stephen King|          4.01|0451092317|9780451092311|        en-US|      427|          169|                33|\n",
      "|  5420|        'Salem's Lot|Stephen King|          4.01|0340770538|9780340770535|          eng|      586|           24|                 6|\n",
      "+------+--------------------+------------+--------------+----------+-------------+-------------+---------+-------------+------------------+\n",
      "only showing top 10 rows\n",
      "\n"
     ]
    },
    {
     "data": {
      "text/plain": [
       "stephenKing: org.apache.spark.sql.Dataset[org.apache.spark.sql.Row] = [bookID: int, title: string ... 8 more fields]\n"
      ]
     },
     "execution_count": 8,
     "metadata": {},
     "output_type": "execute_result"
    }
   ],
   "source": [
    "val stephenKing = booksDF.where(col(\"authors\").like(\"Stephen King\"))\n",
    "stephenKing.show(10)"
   ]
  },
  {
   "cell_type": "markdown",
   "metadata": {},
   "source": [
    "### Using `where` with a `String`\n",
    "\n",
    "Here we will use a `String` with a SQL like format, which will be a nice segue to SparkSQL. For more on the SQL calls that can be made with `where`, [here is a handy reference](https://spark.apache.org/docs/2.3.0/api/sql/index.html)"
   ]
  },
  {
   "cell_type": "code",
   "execution_count": 12,
   "metadata": {},
   "outputs": [
    {
     "name": "stdout",
     "output_type": "stream",
     "text": [
      "+------+--------------------+--------------------+--------------+----------+-------------+-------------+---------+-------------+------------------+\n",
      "|bookID|               title|             authors|average_rating|      isbn|       isbn13|language_code|num_pages|ratings_count|text_reviews_count|\n",
      "+------+--------------------+--------------------+--------------+----------+-------------+-------------+---------+-------------+------------------+\n",
      "| 10586|The Stephen King ...|Stephen King-John...|          3.99|0739317369|9780739317365|          eng|       11|           55|                 9|\n",
      "| 10594|Stephen King: Ame...|        George Beahm|          3.79|0836254279|9780836254273|        en-US|      304|           49|                 3|\n",
      "| 10597|The Illustrated S...|Brian James Freem...|          4.23|1587671166|9781587671166|          eng|      404|           22|                 5|\n",
      "| 10604|The Body Snatcher...|Jack Finney-Steph...|          3.89|1582881804|9781582881805|          eng|      224|          181|                10|\n",
      "| 10606|Stephen King from...|        George Beahm|          3.83|0836269144|9780836269147|          eng|      251|           53|                 2|\n",
      "| 10612|The Stephen King ...|Stanley Wiater-Ch...|          4.14|1580631606|9781580631600|        en-US|      478|         6241|                37|\n",
      "| 11601|The Science of St...|Lois H. Gresh-Rob...|          3.49|0471782475|9780471782476|          eng|      272|           58|                 9|\n",
      "| 11606|The Bachman Books...|Stephen King-Rich...|          4.11|0453005071|9780453005074|          eng|      692|         1064|                81|\n",
      "| 12676|Carrie (Bibliotec...|Stephen King-Greg...|          3.95|0609810901|9780609810903|          spa|      288|           64|                 3|\n",
      "| 32664|The Stephen King ...|Stephen King-John...|          3.99|0553527401|9780553527407|          eng|        9|          659|                22|\n",
      "| 32689|Bare Bones: Conve...|Tim Underwood-Chu...|          4.16|0446390577|9780446390576|          eng|      224|         3050|                23|\n",
      "+------+--------------------+--------------------+--------------+----------+-------------+-------------+---------+-------------+------------------+\n",
      "\n"
     ]
    },
    {
     "data": {
      "text/plain": [
       "stephenKing: org.apache.spark.sql.Dataset[org.apache.spark.sql.Row] = [bookID: int, title: string ... 8 more fields]\n"
      ]
     },
     "execution_count": 12,
     "metadata": {},
     "output_type": "execute_result"
    }
   ],
   "source": [
    "val stephenKing = booksDF.where(\"title like '%Stephen King%'\")\n",
    "stephenKing.show()"
   ]
  },
  {
   "cell_type": "markdown",
   "metadata": {},
   "source": [
    "### `filter` \n",
    "\n",
    "* `filter` takes a functional approach. \n",
    "* `DataFrame` and `Dataset` are the same\n",
    "  * A `DataFrame` is a `Dataset[Row]`\n",
    "* Has the same signature as `where` but also has the ability to select information using a Scala function"
   ]
  },
  {
   "cell_type": "code",
   "execution_count": 17,
   "metadata": {},
   "outputs": [
    {
     "name": "stdout",
     "output_type": "stream",
     "text": [
      "+------+--------------------+--------------------+--------------+----------+-------------+-------------+---------+-------------+------------------+\n",
      "|bookID|               title|             authors|average_rating|      isbn|       isbn13|language_code|num_pages|ratings_count|text_reviews_count|\n",
      "+------+--------------------+--------------------+--------------+----------+-------------+-------------+---------+-------------+------------------+\n",
      "|  4978|Wolves of the Cal...|Stephen King-Bern...|          4.19|141651693X|9781416516934|          eng|      931|       120906|              2640|\n",
      "|  5094|The Drawing of th...|        Stephen King|          4.23|0451210859|9780451210852|          eng|      463|       163647|              4846|\n",
      "|  5095|The Waste Lands (...|        Stephen King|          4.24|034082977X|9780340829776|          eng|      584|         1073|                82|\n",
      "|  5096|Wizard and Glass ...|Stephen King-Dave...|          4.25|0340829788|9780340829783|          eng|      845|       122796|              3396|\n",
      "|  5098|The Gunslinger (T...|        Stephen King|          3.96|0340829753|9780340829752|          eng|      238|         1598|               189|\n",
      "+------+--------------------+--------------------+--------------+----------+-------------+-------------+---------+-------------+------------------+\n",
      "only showing top 5 rows\n",
      "\n"
     ]
    },
    {
     "data": {
      "text/plain": [
       "stephenKing: org.apache.spark.sql.Dataset[org.apache.spark.sql.Row] = [bookID: int, title: string ... 8 more fields]\n"
      ]
     },
     "execution_count": 17,
     "metadata": {},
     "output_type": "execute_result"
    }
   ],
   "source": [
    "val stephenKing = booksDF.filter(booksDF(\"authors\").contains(\"Stephen King\"))\n",
    "stephenKing.show(5)"
   ]
  },
  {
   "cell_type": "code",
   "execution_count": 26,
   "metadata": {},
   "outputs": [
    {
     "name": "stdout",
     "output_type": "stream",
     "text": [
      "+------+--------------------+--------------------+--------------+----------+-------------+-------------+---------+-------------+------------------+\n",
      "|bookID|               title|             authors|average_rating|      isbn|       isbn13|language_code|num_pages|ratings_count|text_reviews_count|\n",
      "+------+--------------------+--------------------+--------------+----------+-------------+-------------+---------+-------------+------------------+\n",
      "|     1|Harry Potter and ...|J.K. Rowling-Mary...|          4.56|0439785960|9780439785969|          eng|      652|      1944099|             26249|\n",
      "|     2|Harry Potter and ...|J.K. Rowling-Mary...|          4.49|0439358078|9780439358071|          eng|      870|      1996446|             27613|\n",
      "|     3|Harry Potter and ...|J.K. Rowling-Mary...|          4.47|0439554934|9780439554930|          eng|      320|      5629932|             70390|\n",
      "|     4|Harry Potter and ...|        J.K. Rowling|          4.41|0439554896|9780439554893|          eng|      352|         6267|               272|\n",
      "|     5|Harry Potter and ...|J.K. Rowling-Mary...|          4.55|043965548X|9780439655484|          eng|      435|      2149872|             33964|\n",
      "+------+--------------------+--------------------+--------------+----------+-------------+-------------+---------+-------------+------------------+\n",
      "only showing top 5 rows\n",
      "\n"
     ]
    },
    {
     "data": {
      "text/plain": [
       "jkRowling: org.apache.spark.sql.Dataset[org.apache.spark.sql.Row] = [bookID: int, title: string ... 8 more fields]\n"
      ]
     },
     "execution_count": 26,
     "metadata": {},
     "output_type": "execute_result"
    }
   ],
   "source": [
    "val jkRowling = booksDF.filter(\"authors like '%J.K. Rowling%'\")\n",
    "jkRowling.show(5)"
   ]
  },
  {
   "cell_type": "markdown",
   "metadata": {},
   "source": [
    "## `filter` using functional programming\n",
    "\n",
    "* We can use functional programming to filter out a `DataFrame`/`Dataset`\n",
    "* That includes a `filter` that will query information based on `Row`\n",
    "* Seek out the [Row Spark API](https://spark.apache.org/docs/2.3.0/api/scala/index.html#org.apache.spark.sql.Row) on how to dig into the row and get the information you desire\n",
    "* Here we will use something different called `getAs[T]` where `[T]` is the generic type"
   ]
  },
  {
   "cell_type": "code",
   "execution_count": 31,
   "metadata": {},
   "outputs": [
    {
     "name": "stdout",
     "output_type": "stream",
     "text": [
      "+------+--------------------+--------------------+--------------+----------+-------------+-------------+---------+-------------+------------------+\n",
      "|bookID|               title|             authors|average_rating|      isbn|       isbn13|language_code|num_pages|ratings_count|text_reviews_count|\n",
      "+------+--------------------+--------------------+--------------+----------+-------------+-------------+---------+-------------+------------------+\n",
      "|   159|Dinner with Anna ...|    Gloria Goldreich|          2.96|0778322270|9780778322276|          eng|      368|          400|                64|\n",
      "|   799|Out to Eat London...|Lonely Planet-Mar...|           0.0|1740592050|9781740592055|          eng|      295|            0|                 0|\n",
      "|  1302|Juiced Official S...|          Doug Walsh|           0.0|0744005612|9780744005615|          eng|      112|            0|                 0|\n",
      "|  1584|Cliffs Notes on A...|    W. John Campbell|          2.33|0822007762|0049086007763|          eng|       80|            3|                 0|\n",
      "|  1658|American Governme...|Karen  O'Connor-L...|          2.95|0321317106|9780321317100|          eng|      664|            0|                 0|\n",
      "+------+--------------------+--------------------+--------------+----------+-------------+-------------+---------+-------------+------------------+\n",
      "only showing top 5 rows\n",
      "\n"
     ]
    },
    {
     "data": {
      "text/plain": [
       "badBooks: org.apache.spark.sql.Dataset[org.apache.spark.sql.Row] = [bookID: int, title: string ... 8 more fields]\n"
      ]
     },
     "execution_count": 31,
     "metadata": {},
     "output_type": "execute_result"
    }
   ],
   "source": [
    "val badBooks = booksDF.filter(row => row.getAs[Float](\"average_rating\") < 3)\n",
    "badBooks.show(5)"
   ]
  },
  {
   "cell_type": "markdown",
   "metadata": {},
   "source": [
    "Query columns using expr"
   ]
  },
  {
   "cell_type": "markdown",
   "metadata": {},
   "source": [
    "Query columns using selectExpr"
   ]
  },
  {
   "cell_type": "markdown",
   "metadata": {},
   "source": [
    "Sorting\n"
   ]
  },
  {
   "cell_type": "markdown",
   "metadata": {},
   "source": [
    "GroupBy and Aggregate functions"
   ]
  },
  {
   "cell_type": "code",
   "execution_count": 19,
   "metadata": {
    "scrolled": true
   },
   "outputs": [
    {
     "name": "stdout",
     "output_type": "stream",
     "text": [
      "+-------------+--------------------+--------------------+\n",
      "|ratings_count|               title|             authors|\n",
      "+-------------+--------------------+--------------------+\n",
      "|      1944099|Harry Potter and ...|J.K. Rowling-Mary...|\n",
      "|      1996446|Harry Potter and ...|J.K. Rowling-Mary...|\n",
      "|      5629932|Harry Potter and ...|J.K. Rowling-Mary...|\n",
      "|         6267|Harry Potter and ...|        J.K. Rowling|\n",
      "|      2149872|Harry Potter and ...|J.K. Rowling-Mary...|\n",
      "|        38872|Harry Potter Boxe...|J.K. Rowling-Mary...|\n",
      "|           18|Unauthorized Harr...|W. Frederick Zimm...|\n",
      "|        27410|Harry Potter Coll...|        J.K. Rowling|\n",
      "|         3602|The Ultimate Hitc...|       Douglas Adams|\n",
      "|       240189|The Ultimate Hitc...|       Douglas Adams|\n",
      "|         4416|The Hitchhiker's ...|       Douglas Adams|\n",
      "|         1222|The Hitchhiker's ...|Douglas Adams-Ste...|\n",
      "|         2801|The Ultimate Hitc...|       Douglas Adams|\n",
      "|       228522|A Short History o...|Bill Bryson-Willi...|\n",
      "|         6993|Bill Bryson's Afr...|         Bill Bryson|\n",
      "|         2020|Bryson's Dictiona...|         Bill Bryson|\n",
      "|        68213|In a Sunburned Co...|         Bill Bryson|\n",
      "|        47490|I'm a Stranger He...|         Bill Bryson|\n",
      "|        43779|The Lost Continen...|         Bill Bryson|\n",
      "|        46397|Neither Here nor ...|         Bill Bryson|\n",
      "+-------------+--------------------+--------------------+\n",
      "only showing top 20 rows\n",
      "\n"
     ]
    },
    {
     "data": {
      "text/plain": [
       "subset: org.apache.spark.sql.DataFrame = [ratings_count: int, title: string ... 1 more field]\n"
      ]
     },
     "execution_count": 19,
     "metadata": {},
     "output_type": "execute_result"
    }
   ],
   "source": [
    "val subset = booksDF.select($\"ratings_count\", col(\"title\"), 'authors)\n",
    "subset.show()"
   ]
  },
  {
   "cell_type": "code",
   "execution_count": 20,
   "metadata": {},
   "outputs": [
    {
     "name": "stdout",
     "output_type": "stream",
     "text": [
      "+-----------+--------------------+--------------------+\n",
      "|num_ratings|               title|             authors|\n",
      "+-----------+--------------------+--------------------+\n",
      "|    1944099|Harry Potter and ...|J.K. Rowling-Mary...|\n",
      "|    1996446|Harry Potter and ...|J.K. Rowling-Mary...|\n",
      "|    5629932|Harry Potter and ...|J.K. Rowling-Mary...|\n",
      "|       6267|Harry Potter and ...|        J.K. Rowling|\n",
      "|    2149872|Harry Potter and ...|J.K. Rowling-Mary...|\n",
      "|      38872|Harry Potter Boxe...|J.K. Rowling-Mary...|\n",
      "|         18|Unauthorized Harr...|W. Frederick Zimm...|\n",
      "|      27410|Harry Potter Coll...|        J.K. Rowling|\n",
      "|       3602|The Ultimate Hitc...|       Douglas Adams|\n",
      "|     240189|The Ultimate Hitc...|       Douglas Adams|\n",
      "|       4416|The Hitchhiker's ...|       Douglas Adams|\n",
      "|       1222|The Hitchhiker's ...|Douglas Adams-Ste...|\n",
      "|       2801|The Ultimate Hitc...|       Douglas Adams|\n",
      "|     228522|A Short History o...|Bill Bryson-Willi...|\n",
      "|       6993|Bill Bryson's Afr...|         Bill Bryson|\n",
      "|       2020|Bryson's Dictiona...|         Bill Bryson|\n",
      "|      68213|In a Sunburned Co...|         Bill Bryson|\n",
      "|      47490|I'm a Stranger He...|         Bill Bryson|\n",
      "|      43779|The Lost Continen...|         Bill Bryson|\n",
      "|      46397|Neither Here nor ...|         Bill Bryson|\n",
      "+-----------+--------------------+--------------------+\n",
      "only showing top 20 rows\n",
      "\n"
     ]
    },
    {
     "data": {
      "text/plain": [
       "subset: org.apache.spark.sql.DataFrame = [num_ratings: int, title: string ... 1 more field]\n"
      ]
     },
     "execution_count": 20,
     "metadata": {},
     "output_type": "execute_result"
    }
   ],
   "source": [
    "val subset = booksDF.select($\"ratings_count\".as(\"num_ratings\"), col(\"title\"), 'authors)\n",
    "subset.show()"
   ]
  },
  {
   "cell_type": "code",
   "execution_count": 21,
   "metadata": {
    "scrolled": true
   },
   "outputs": [
    {
     "name": "stdout",
     "output_type": "stream",
     "text": [
      "root\n",
      " |-- num_ratings: integer (nullable = true)\n",
      " |-- title: string (nullable = true)\n",
      " |-- authors: string (nullable = true)\n",
      "\n"
     ]
    }
   ],
   "source": [
    "subset.printSchema()"
   ]
  },
  {
   "cell_type": "code",
   "execution_count": null,
   "metadata": {},
   "outputs": [],
   "source": []
  },
  {
   "cell_type": "markdown",
   "metadata": {},
   "source": [
    "## Sorting the data\n",
    "\n",
    "We can sort the data with the `sort` method providing a column. The default is ascending order"
   ]
  },
  {
   "cell_type": "code",
   "execution_count": 31,
   "metadata": {
    "scrolled": true
   },
   "outputs": [
    {
     "name": "stdout",
     "output_type": "stream",
     "text": [
      "+--------------------+----------+-----------+\n",
      "|               title|      isbn|# num_pages|\n",
      "+--------------------+----------+-----------+\n",
      "|Harry Potter und ...|3895849618|         13|\n",
      "|Unauthorized Harr...|0976540606|        152|\n",
      "|Harry Potter Boxe...|0439434866|       1820|\n",
      "|Mapping the World...|1932100598|        195|\n",
      "|Mugglenet.Com's W...|1569755833|        216|\n",
      "|Looking for God i...|1414306342|        234|\n",
      "|Harry Potter Scho...|043932162X|        240|\n",
      "|Harry Potter and ...|0812694554|        243|\n",
      "|Harry Potter and ...|158234681X|        250|\n",
      "|Harry Potter Y La...|0613359607|        254|\n",
      "|Harry Potter Boxe...|0439682584|       2690|\n",
      "|Harry Potter y la...|8498380138|        288|\n",
      "|Harry Potter and ...|0439554934|        320|\n",
      "|Harry Potter und ...|3551354014|        334|\n",
      "|Harry Potter Coll...|0439827604|       3342|\n",
      "|Harry Potter and ...|0439064864|        341|\n",
      "|Harry Potter et l...|2070541304|        349|\n",
      "|Harry Potter und ...|3551552096|        351|\n",
      "|Harry Potter and ...|0439554896|        352|\n",
      "|Harry Potter ve F...|3570211010|        353|\n",
      "+--------------------+----------+-----------+\n",
      "only showing top 20 rows\n",
      "\n"
     ]
    }
   ],
   "source": [
    "harryPotters.sort($\"# num_pages\").show()"
   ]
  },
  {
   "cell_type": "markdown",
   "metadata": {},
   "source": [
    "## Bring in some more functions\n",
    "\n",
    "* For descending order we need some help, a common import is the `import org.apache.spark.sql.functions._` package\n",
    "* Contains a wide range of functions that compliment what is in `DataFrame` API\n",
    "* Nearly all of the functions of this Scala `object` is "
   ]
  },
  {
   "cell_type": "code",
   "execution_count": 32,
   "metadata": {},
   "outputs": [
    {
     "data": {
      "text/plain": [
       "import org.apache.spark.sql.functions._\n"
      ]
     },
     "execution_count": 32,
     "metadata": {},
     "output_type": "execute_result"
    }
   ],
   "source": [
    "import org.apache.spark.sql.functions._"
   ]
  },
  {
   "cell_type": "markdown",
   "metadata": {},
   "source": [
    "## Sorting in Descending\n",
    "\n",
    "* For descending order we need some help, a common import is the `import org.apache.spark.sql.functions._` package\n",
    "* Contains a wide range of functions that compliment what is in `DataFrame` API"
   ]
  },
  {
   "cell_type": "code",
   "execution_count": 37,
   "metadata": {},
   "outputs": [
    {
     "name": "stdout",
     "output_type": "stream",
     "text": [
      "+--------------------+----------+-----------+\n",
      "|               title|      isbn|# num_pages|\n",
      "+--------------------+----------+-----------+\n",
      "|J.K. Rowling's Ha...|0826452329|         96|\n",
      "|Harry Potter y la...|8478887423|        896|\n",
      "|Harry Potter y la...|8478888845|        893|\n",
      "|Harry Potter and ...|0439358078|        870|\n",
      "|Harry Potter and ...|0747584664|        768|\n",
      "|Harry Potter and ...|0439785960|        652|\n",
      "|Harry Potter and ...|074754624X|        636|\n",
      "|Harry Potter e il...|888451049X|        627|\n",
      "|Harry Potter y el...|8478889930|        602|\n",
      "|Harry Potter and ...|074757362X|        480|\n",
      "|Harry Potter und ...|355155210X|        448|\n",
      "|Harry Potter and ...|043965548X|        435|\n",
      "|Harry Potter and ...|0786222727|        424|\n",
      "|Ultimate Unoffici...|0972393617|        412|\n",
      "|Harry Potter ve S...|3570211029|        403|\n",
      "|Гарри Поттер и фи...|535300308X|        400|\n",
      "|The Science Of Ha...|0755311515|        374|\n",
      "|Harry Potter y el...|8478886559|        359|\n",
      "|Harry Potter ve F...|3570211010|        353|\n",
      "|Harry Potter and ...|0439554896|        352|\n",
      "+--------------------+----------+-----------+\n",
      "only showing top 20 rows\n",
      "\n"
     ]
    }
   ],
   "source": [
    "harryPotters.sort(desc(\"# num_pages\")).show()"
   ]
  },
  {
   "cell_type": "markdown",
   "metadata": {},
   "source": [
    "## Inappropriate Types\n",
    "\n",
    "The `# num_pages` column is not in a numerical format we can prove it by calling `printSchema`"
   ]
  },
  {
   "cell_type": "code",
   "execution_count": 38,
   "metadata": {},
   "outputs": [
    {
     "name": "stdout",
     "output_type": "stream",
     "text": [
      "root\n",
      " |-- title: string (nullable = true)\n",
      " |-- isbn: string (nullable = true)\n",
      " |-- # num_pages: string (nullable = true)\n",
      "\n"
     ]
    }
   ],
   "source": [
    "harryPotters.printSchema()"
   ]
  },
  {
   "cell_type": "code",
   "execution_count": null,
   "metadata": {},
   "outputs": [],
   "source": [
    "df = harryPotters.withColumn(\"num_pages\", df(\"num_pages\").cast(IntegerType)).drop(\"# num_pages\")"
   ]
  },
  {
   "cell_type": "code",
   "execution_count": 31,
   "metadata": {},
   "outputs": [
    {
     "name": "stdout",
     "output_type": "stream",
     "text": [
      "root\n",
      " |-- title: string (nullable = true)\n",
      " |-- isbn: string (nullable = true)\n",
      " |-- # num_pages: integer (nullable = true)\n",
      "\n"
     ]
    },
    {
     "data": {
      "text/plain": [
       "import org.apache.spark.sql.functions._\n",
       "import org.apache.spark.sql.types.IntegerType\n",
       "converted: org.apache.spark.sql.DataFrame = [title: string, isbn: string ... 1 more field]\n"
      ]
     },
     "execution_count": 31,
     "metadata": {},
     "output_type": "execute_result"
    }
   ],
   "source": [
    "import org.apache.spark.sql.functions._\n",
    "import org.apache.spark.sql.types.IntegerType\n",
    "val converted = harryPotters.withColumn(\"# num_pages\", $\"# num_pages\".cast(IntegerType))\n",
    "converted.printSchema()"
   ]
  },
  {
   "cell_type": "markdown",
   "metadata": {},
   "source": [
    "val total = converted.agg(sum($\"# num_pages\"))\n",
    "total.show()"
   ]
  },
  {
   "cell_type": "code",
   "execution_count": 40,
   "metadata": {},
   "outputs": [
    {
     "name": "stdout",
     "output_type": "stream",
     "text": [
      "+-----------------------------------------------------------+\n",
      "|title                                                      |\n",
      "+-----------------------------------------------------------+\n",
      "|Harry Potter and the Prisoner of Azkaban (Harry Potter  #3)|\n",
      "|Harry Potter and the Prisoner of Azkaban (Harry Potter  #3)|\n",
      "+-----------------------------------------------------------+\n",
      "\n"
     ]
    }
   ],
   "source": [
    "harryPotters.select(\"title\").where($\"title\".contains(\"Prisoner\")).show(20, false)"
   ]
  },
  {
   "cell_type": "code",
   "execution_count": null,
   "metadata": {},
   "outputs": [],
   "source": [
    "collect_list($\"title\")"
   ]
  },
  {
   "cell_type": "code",
   "execution_count": 54,
   "metadata": {},
   "outputs": [
    {
     "name": "stdout",
     "output_type": "stream",
     "text": [
      "+--------------------+--------------------+\n",
      "|             authors|              titles|\n",
      "+--------------------+--------------------+\n",
      "|Abraham Lincoln-D...|[Speeches and Wri...|\n",
      "|    Amanda Eyre Ward|    [How to Be Lost]|\n",
      "|         Ann Beattie|[The Doctor's Hou...|\n",
      "|         Ann Rinaldi|[A Break with Cha...|\n",
      "|Charles Dickens-S...|[A Tale of Two Ci...|\n",
      "|          Dava Sobel|[Galileo's Daught...|\n",
      "|        Doug Stanton|[In Harm's Way: T...|\n",
      "|     Eric Klinenberg|[Heat Wave: A Soc...|\n",
      "|Gayle Lynds-Rober...|[The Altman Code ...|\n",
      "|Haruki Murakami-U...|    [Naokos Lächeln]|\n",
      "|          Ian Ogilvy|[Measle and the D...|\n",
      "|J.E. Austen Leigh...|[A Memoir of Jane...|\n",
      "|        Jack Meadows|[The Future of th...|\n",
      "|          James Frey|[A Million Little...|\n",
      "|Johanna Hurwitz-V...|[Anne Frank: Life...|\n",
      "|John  Baxter-Mel Bay|[Deluxe Encyclope...|\n",
      "|Jonathan Swift-YKids|[Gulliver's Travels]|\n",
      "|     Karen Armstrong|[A History of God...|\n",
      "|Laura  Jordan-San...|   [Anhelos ocultos]|\n",
      "|    Laurence Olivier|[Confessions of a...|\n",
      "+--------------------+--------------------+\n",
      "only showing top 20 rows\n",
      "\n"
     ]
    }
   ],
   "source": [
    "booksDF.groupBy($\"authors\").agg(collect_list($\"title\").alias(\"titles\")).show()"
   ]
  },
  {
   "cell_type": "markdown",
   "metadata": {},
   "source": [
    "Lab: What are the harry potter's books average rating?"
   ]
  },
  {
   "cell_type": "code",
   "execution_count": null,
   "metadata": {},
   "outputs": [],
   "source": []
  }
 ],
 "metadata": {
  "kernelspec": {
   "display_name": "spylon-kernel",
   "language": "scala",
   "name": "spylon-kernel"
  },
  "language_info": {
   "codemirror_mode": "text/x-scala",
   "file_extension": ".scala",
   "help_links": [
    {
     "text": "MetaKernel Magics",
     "url": "https://metakernel.readthedocs.io/en/latest/source/README.html"
    }
   ],
   "mimetype": "text/x-scala",
   "name": "scala",
   "pygments_lexer": "scala",
   "version": "0.4.1"
  }
 },
 "nbformat": 4,
 "nbformat_minor": 2
}

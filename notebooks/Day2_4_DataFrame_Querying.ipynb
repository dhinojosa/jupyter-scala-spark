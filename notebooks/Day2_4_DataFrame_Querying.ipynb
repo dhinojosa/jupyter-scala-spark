{
 "cells": [
  {
   "cell_type": "markdown",
   "metadata": {},
   "source": [
    "## Sorting the data\n",
    "\n",
    "We can sort the data with the `sort` method providing a column. The default is ascending order"
   ]
  },
  {
   "cell_type": "code",
   "execution_count": 31,
   "metadata": {
    "scrolled": true
   },
   "outputs": [
    {
     "name": "stdout",
     "output_type": "stream",
     "text": [
      "+--------------------+----------+-----------+\n",
      "|               title|      isbn|# num_pages|\n",
      "+--------------------+----------+-----------+\n",
      "|Harry Potter und ...|3895849618|         13|\n",
      "|Unauthorized Harr...|0976540606|        152|\n",
      "|Harry Potter Boxe...|0439434866|       1820|\n",
      "|Mapping the World...|1932100598|        195|\n",
      "|Mugglenet.Com's W...|1569755833|        216|\n",
      "|Looking for God i...|1414306342|        234|\n",
      "|Harry Potter Scho...|043932162X|        240|\n",
      "|Harry Potter and ...|0812694554|        243|\n",
      "|Harry Potter and ...|158234681X|        250|\n",
      "|Harry Potter Y La...|0613359607|        254|\n",
      "|Harry Potter Boxe...|0439682584|       2690|\n",
      "|Harry Potter y la...|8498380138|        288|\n",
      "|Harry Potter and ...|0439554934|        320|\n",
      "|Harry Potter und ...|3551354014|        334|\n",
      "|Harry Potter Coll...|0439827604|       3342|\n",
      "|Harry Potter and ...|0439064864|        341|\n",
      "|Harry Potter et l...|2070541304|        349|\n",
      "|Harry Potter und ...|3551552096|        351|\n",
      "|Harry Potter and ...|0439554896|        352|\n",
      "|Harry Potter ve F...|3570211010|        353|\n",
      "+--------------------+----------+-----------+\n",
      "only showing top 20 rows\n",
      "\n"
     ]
    }
   ],
   "source": [
    "harryPotters.sort($\"# num_pages\").show()"
   ]
  },
  {
   "cell_type": "markdown",
   "metadata": {},
   "source": [
    "## Bring in some more functions\n",
    "\n",
    "* For descending order we need some help, a common import is the `import org.apache.spark.sql.functions._` package\n",
    "* Contains a wide range of functions that compliment what is in `DataFrame` API\n",
    "* Nearly all of the functions of this Scala `object` is "
   ]
  },
  {
   "cell_type": "code",
   "execution_count": 32,
   "metadata": {},
   "outputs": [
    {
     "data": {
      "text/plain": [
       "import org.apache.spark.sql.functions._\n"
      ]
     },
     "execution_count": 32,
     "metadata": {},
     "output_type": "execute_result"
    }
   ],
   "source": [
    "import org.apache.spark.sql.functions._"
   ]
  },
  {
   "cell_type": "markdown",
   "metadata": {},
   "source": [
    "## Sorting in Descending\n",
    "\n",
    "* For descending order we need some help, a common import is the `import org.apache.spark.sql.functions._` package\n",
    "* Contains a wide range of functions that compliment what is in `DataFrame` API"
   ]
  },
  {
   "cell_type": "code",
   "execution_count": 37,
   "metadata": {},
   "outputs": [
    {
     "name": "stdout",
     "output_type": "stream",
     "text": [
      "+--------------------+----------+-----------+\n",
      "|               title|      isbn|# num_pages|\n",
      "+--------------------+----------+-----------+\n",
      "|J.K. Rowling's Ha...|0826452329|         96|\n",
      "|Harry Potter y la...|8478887423|        896|\n",
      "|Harry Potter y la...|8478888845|        893|\n",
      "|Harry Potter and ...|0439358078|        870|\n",
      "|Harry Potter and ...|0747584664|        768|\n",
      "|Harry Potter and ...|0439785960|        652|\n",
      "|Harry Potter and ...|074754624X|        636|\n",
      "|Harry Potter e il...|888451049X|        627|\n",
      "|Harry Potter y el...|8478889930|        602|\n",
      "|Harry Potter and ...|074757362X|        480|\n",
      "|Harry Potter und ...|355155210X|        448|\n",
      "|Harry Potter and ...|043965548X|        435|\n",
      "|Harry Potter and ...|0786222727|        424|\n",
      "|Ultimate Unoffici...|0972393617|        412|\n",
      "|Harry Potter ve S...|3570211029|        403|\n",
      "|Гарри Поттер и фи...|535300308X|        400|\n",
      "|The Science Of Ha...|0755311515|        374|\n",
      "|Harry Potter y el...|8478886559|        359|\n",
      "|Harry Potter ve F...|3570211010|        353|\n",
      "|Harry Potter and ...|0439554896|        352|\n",
      "+--------------------+----------+-----------+\n",
      "only showing top 20 rows\n",
      "\n"
     ]
    }
   ],
   "source": [
    "harryPotters.sort(desc(\"# num_pages\")).show()"
   ]
  },
  {
   "cell_type": "markdown",
   "metadata": {},
   "source": [
    "## Inappropriate Types\n",
    "\n",
    "The `# num_pages` column is not in a numerical format we can prove it by calling `printSchema`"
   ]
  },
  {
   "cell_type": "code",
   "execution_count": 38,
   "metadata": {},
   "outputs": [
    {
     "name": "stdout",
     "output_type": "stream",
     "text": [
      "root\n",
      " |-- title: string (nullable = true)\n",
      " |-- isbn: string (nullable = true)\n",
      " |-- # num_pages: string (nullable = true)\n",
      "\n"
     ]
    }
   ],
   "source": [
    "harryPotters.printSchema()"
   ]
  },
  {
   "cell_type": "code",
   "execution_count": null,
   "metadata": {},
   "outputs": [],
   "source": [
    "df = harryPotters.withColumn(\"num_pages\", df(\"num_pages\").cast(IntegerType)).drop(\"# num_pages\")"
   ]
  },
  {
   "cell_type": "code",
   "execution_count": 31,
   "metadata": {},
   "outputs": [
    {
     "name": "stdout",
     "output_type": "stream",
     "text": [
      "root\n",
      " |-- title: string (nullable = true)\n",
      " |-- isbn: string (nullable = true)\n",
      " |-- # num_pages: integer (nullable = true)\n",
      "\n"
     ]
    },
    {
     "data": {
      "text/plain": [
       "import org.apache.spark.sql.functions._\n",
       "import org.apache.spark.sql.types.IntegerType\n",
       "converted: org.apache.spark.sql.DataFrame = [title: string, isbn: string ... 1 more field]\n"
      ]
     },
     "execution_count": 31,
     "metadata": {},
     "output_type": "execute_result"
    }
   ],
   "source": [
    "import org.apache.spark.sql.functions._\n",
    "import org.apache.spark.sql.types.IntegerType\n",
    "val converted = harryPotters.withColumn(\"# num_pages\", $\"# num_pages\".cast(IntegerType))\n",
    "converted.printSchema()"
   ]
  },
  {
   "cell_type": "markdown",
   "metadata": {},
   "source": [
    "## Creating Rows"
   ]
  },
  {
   "cell_type": "markdown",
   "metadata": {},
   "source": [
    "## Adding Rows"
   ]
  },
  {
   "cell_type": "markdown",
   "metadata": {},
   "source": [
    "## Dropping Rows"
   ]
  },
  {
   "cell_type": "markdown",
   "metadata": {},
   "source": [
    "## Taking Rows"
   ]
  },
  {
   "cell_type": "markdown",
   "metadata": {},
   "source": [
    "## Creating Columns"
   ]
  },
  {
   "cell_type": "code",
   "execution_count": null,
   "metadata": {},
   "outputs": [],
   "source": []
  },
  {
   "cell_type": "markdown",
   "metadata": {},
   "source": [
    "val total = converted.agg(sum($\"# num_pages\"))\n",
    "total.show()"
   ]
  },
  {
   "cell_type": "code",
   "execution_count": 40,
   "metadata": {},
   "outputs": [
    {
     "name": "stdout",
     "output_type": "stream",
     "text": [
      "+-----------------------------------------------------------+\n",
      "|title                                                      |\n",
      "+-----------------------------------------------------------+\n",
      "|Harry Potter and the Prisoner of Azkaban (Harry Potter  #3)|\n",
      "|Harry Potter and the Prisoner of Azkaban (Harry Potter  #3)|\n",
      "+-----------------------------------------------------------+\n",
      "\n"
     ]
    }
   ],
   "source": [
    "harryPotters.select(\"title\").where($\"title\".contains(\"Prisoner\")).show(20, false)"
   ]
  },
  {
   "cell_type": "code",
   "execution_count": null,
   "metadata": {},
   "outputs": [],
   "source": [
    "collect_list($\"title\")"
   ]
  },
  {
   "cell_type": "code",
   "execution_count": 54,
   "metadata": {},
   "outputs": [
    {
     "name": "stdout",
     "output_type": "stream",
     "text": [
      "+--------------------+--------------------+\n",
      "|             authors|              titles|\n",
      "+--------------------+--------------------+\n",
      "|Abraham Lincoln-D...|[Speeches and Wri...|\n",
      "|    Amanda Eyre Ward|    [How to Be Lost]|\n",
      "|         Ann Beattie|[The Doctor's Hou...|\n",
      "|         Ann Rinaldi|[A Break with Cha...|\n",
      "|Charles Dickens-S...|[A Tale of Two Ci...|\n",
      "|          Dava Sobel|[Galileo's Daught...|\n",
      "|        Doug Stanton|[In Harm's Way: T...|\n",
      "|     Eric Klinenberg|[Heat Wave: A Soc...|\n",
      "|Gayle Lynds-Rober...|[The Altman Code ...|\n",
      "|Haruki Murakami-U...|    [Naokos Lächeln]|\n",
      "|          Ian Ogilvy|[Measle and the D...|\n",
      "|J.E. Austen Leigh...|[A Memoir of Jane...|\n",
      "|        Jack Meadows|[The Future of th...|\n",
      "|          James Frey|[A Million Little...|\n",
      "|Johanna Hurwitz-V...|[Anne Frank: Life...|\n",
      "|John  Baxter-Mel Bay|[Deluxe Encyclope...|\n",
      "|Jonathan Swift-YKids|[Gulliver's Travels]|\n",
      "|     Karen Armstrong|[A History of God...|\n",
      "|Laura  Jordan-San...|   [Anhelos ocultos]|\n",
      "|    Laurence Olivier|[Confessions of a...|\n",
      "+--------------------+--------------------+\n",
      "only showing top 20 rows\n",
      "\n"
     ]
    }
   ],
   "source": [
    "booksDF.groupBy($\"authors\").agg(collect_list($\"title\").alias(\"titles\")).show()"
   ]
  },
  {
   "cell_type": "markdown",
   "metadata": {},
   "source": [
    "Lab: What are the harry potter's books average rating?"
   ]
  },
  {
   "cell_type": "code",
   "execution_count": null,
   "metadata": {},
   "outputs": [],
   "source": []
  }
 ],
 "metadata": {
  "kernelspec": {
   "display_name": "spylon-kernel",
   "language": "scala",
   "name": "spylon-kernel"
  },
  "language_info": {
   "codemirror_mode": "text/x-scala",
   "file_extension": ".scala",
   "help_links": [
    {
     "text": "MetaKernel Magics",
     "url": "https://metakernel.readthedocs.io/en/latest/source/README.html"
    }
   ],
   "mimetype": "text/x-scala",
   "name": "scala",
   "pygments_lexer": "scala",
   "version": "0.4.1"
  }
 },
 "nbformat": 4,
 "nbformat_minor": 2
}

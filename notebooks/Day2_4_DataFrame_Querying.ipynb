{
 "cells": [
  {
   "cell_type": "markdown",
   "metadata": {},
   "source": [
    "# Querying `DataFrame` "
   ]
  },
  {
   "cell_type": "markdown",
   "metadata": {},
   "source": [
    "## Retrieving our Books"
   ]
  },
  {
   "cell_type": "code",
   "execution_count": 38,
   "metadata": {},
   "outputs": [
    {
     "name": "stdout",
     "output_type": "stream",
     "text": [
      "root\n",
      " |-- bookID: integer (nullable = true)\n",
      " |-- title: string (nullable = true)\n",
      " |-- authors: string (nullable = true)\n",
      " |-- average_rating: float (nullable = true)\n",
      " |-- isbn: string (nullable = true)\n",
      " |-- isbn13: string (nullable = true)\n",
      " |-- language_code: string (nullable = true)\n",
      " |-- num_pages: integer (nullable = true)\n",
      " |-- ratings_count: integer (nullable = true)\n",
      " |-- text_reviews_count: integer (nullable = true)\n",
      "\n"
     ]
    },
    {
     "data": {
      "text/plain": [
       "import org.apache.spark.sql.types._\n",
       "bookSchema: org.apache.spark.sql.types.StructType = StructType(StructField(bookID,IntegerType,false), StructField(title,StringType,false), StructField(authors,StringType,false), StructField(average_rating,FloatType,false), StructField(isbn,StringType,false), StructField(isbn13,StringType,false), StructField(language_code,StringType,false), StructField(num_pages,IntegerType,false), StructField(ratings_count,IntegerType,false), StructField(text_reviews_count,IntegerType,false))\n",
       "booksDF: org.apache.spark.sql.DataFrame = [bookID: int, title: string ... 8 more fields]\n"
      ]
     },
     "execution_count": 38,
     "metadata": {},
     "output_type": "execute_result"
    }
   ],
   "source": [
    "import org.apache.spark.sql.types._\n",
    "val bookSchema = new StructType(Array(\n",
    "   new StructField(\"bookID\", IntegerType, false),\n",
    "   new StructField(\"title\", StringType, false),\n",
    "   new StructField(\"authors\", StringType, false),\n",
    "   new StructField(\"average_rating\", FloatType, false),\n",
    "   new StructField(\"isbn\", StringType, false),\n",
    "   new StructField(\"isbn13\", StringType, false),\n",
    "   new StructField(\"language_code\", StringType, false),\n",
    "   new StructField(\"num_pages\", IntegerType, false),\n",
    "   new StructField(\"ratings_count\", IntegerType, false),\n",
    "   new StructField(\"text_reviews_count\", IntegerType, false)))\n",
    "\n",
    "val booksDF = spark.read.format(\"csv\")\n",
    "                         .schema(bookSchema)\n",
    "                         .option(\"header\", \"true\")\n",
    "                         .load(\"../data/books.csv\")\n",
    "booksDF.printSchema()"
   ]
  },
  {
   "cell_type": "markdown",
   "metadata": {},
   "source": [
    "## Filtering Rows"
   ]
  },
  {
   "cell_type": "markdown",
   "metadata": {},
   "source": [
    "### `where`\n",
    "\n",
    "* Can be applied to filter rows from the `DataFrame`/`DataSet`\n",
    "* Can take as an argument\n",
    "  * A `Column` with some criteria\n",
    "  * A `String` that represents a query\n",
    "* Returns a new `DataFrame` with the query results\n",
    "\n",
    "Here we will procure a `Column` either using `df(\"..\")`, `$\"..\"`, `'..`, `col(..)`, or `column(..)` where `..` is the name of the column. Also please open the [column API reference](https://spark.apache.org/docs/2.3.0/api/scala/index.html#org.apache.spark.sql.Column) to see what kind of calls can be made."
   ]
  },
  {
   "cell_type": "code",
   "execution_count": 39,
   "metadata": {},
   "outputs": [
    {
     "name": "stdout",
     "output_type": "stream",
     "text": [
      "+------+--------------------+--------------------+--------------+----------+-------------+-------------+---------+-------------+------------------+\n",
      "|bookID|               title|             authors|average_rating|      isbn|       isbn13|language_code|num_pages|ratings_count|text_reviews_count|\n",
      "+------+--------------------+--------------------+--------------+----------+-------------+-------------+---------+-------------+------------------+\n",
      "|  4978|Wolves of the Cal...|Stephen King-Bern...|          4.19|141651693X|9781416516934|          eng|      931|       120906|              2640|\n",
      "|  5094|The Drawing of th...|        Stephen King|          4.23|0451210859|9780451210852|          eng|      463|       163647|              4846|\n",
      "|  5095|The Waste Lands (...|        Stephen King|          4.24|034082977X|9780340829776|          eng|      584|         1073|                82|\n",
      "|  5096|Wizard and Glass ...|Stephen King-Dave...|          4.25|0340829788|9780340829783|          eng|      845|       122796|              3396|\n",
      "|  5098|The Gunslinger (T...|        Stephen King|          3.96|0340829753|9780340829752|          eng|      238|         1598|               189|\n",
      "|  5373|The Waste Lands (...|Stephen King-Ned ...|          4.24|0747411875|9780747411871|          eng|      509|           73|                 6|\n",
      "|  5399|           The Stand|        Stephen King|          4.34|1568495714|9781568495712|          eng|     1344|          412|                33|\n",
      "|  5412|The Stand: Das le...|Stephen King-Joac...|          4.34|3404134117|9783404134113|          ger|     1227|          229|                14|\n",
      "|  5413|        'Salem's Lot|Stephen King-Jerr...|          4.25|0385516487|9780385516488|          eng|      594|        81170|               504|\n",
      "|  5414|        'Salem's Lot|Stephen King-Ron ...|          4.01|0743536967|9780743536967|          eng|       17|          227|                55|\n",
      "+------+--------------------+--------------------+--------------+----------+-------------+-------------+---------+-------------+------------------+\n",
      "only showing top 10 rows\n",
      "\n"
     ]
    },
    {
     "data": {
      "text/plain": [
       "stephenKing: org.apache.spark.sql.Dataset[org.apache.spark.sql.Row] = [bookID: int, title: string ... 8 more fields]\n"
      ]
     },
     "execution_count": 39,
     "metadata": {},
     "output_type": "execute_result"
    }
   ],
   "source": [
    "val stephenKing = booksDF.where($\"authors\".contains(\"Stephen King\"))\n",
    "stephenKing.show(10)"
   ]
  },
  {
   "cell_type": "markdown",
   "metadata": {},
   "source": [
    "### `where` with `like`\n",
    "\n",
    "Here we will run the same query as above but using `like`, and using the `col` method to procure a column"
   ]
  },
  {
   "cell_type": "code",
   "execution_count": 40,
   "metadata": {},
   "outputs": [
    {
     "name": "stdout",
     "output_type": "stream",
     "text": [
      "+------+--------------------+------------+--------------+----------+-------------+-------------+---------+-------------+------------------+\n",
      "|bookID|               title|     authors|average_rating|      isbn|       isbn13|language_code|num_pages|ratings_count|text_reviews_count|\n",
      "+------+--------------------+------------+--------------+----------+-------------+-------------+---------+-------------+------------------+\n",
      "|  5094|The Drawing of th...|Stephen King|          4.23|0451210859|9780451210852|          eng|      463|       163647|              4846|\n",
      "|  5095|The Waste Lands (...|Stephen King|          4.24|034082977X|9780340829776|          eng|      584|         1073|                82|\n",
      "|  5098|The Gunslinger (T...|Stephen King|          3.96|0340829753|9780340829752|          eng|      238|         1598|               189|\n",
      "|  5399|           The Stand|Stephen King|          4.34|1568495714|9781568495712|          eng|     1344|          412|                33|\n",
      "|  5415|        'Salem's Lot|Stephen King|          4.01|0965772411|9780965772419|          eng|      405|          959|               121|\n",
      "|  5416|The Shining / Sal...|Stephen King|          4.67|0905712609|9780905712604|          eng|      991|         1838|                27|\n",
      "|  5417|Carrie / 'Salem's...|Stephen King|          4.53|0517219026|9780517219027|          eng|     1096|        12320|                58|\n",
      "|  5418|        'Salem's Lot|Stephen King|          4.01|0451150651|9780451150653|          eng|      446|          399|                45|\n",
      "|  5419|        'Salem's Lot|Stephen King|          4.01|0451092317|9780451092311|        en-US|      427|          169|                33|\n",
      "|  5420|        'Salem's Lot|Stephen King|          4.01|0340770538|9780340770535|          eng|      586|           24|                 6|\n",
      "+------+--------------------+------------+--------------+----------+-------------+-------------+---------+-------------+------------------+\n",
      "only showing top 10 rows\n",
      "\n"
     ]
    },
    {
     "data": {
      "text/plain": [
       "stephenKing: org.apache.spark.sql.Dataset[org.apache.spark.sql.Row] = [bookID: int, title: string ... 8 more fields]\n"
      ]
     },
     "execution_count": 40,
     "metadata": {},
     "output_type": "execute_result"
    }
   ],
   "source": [
    "val stephenKing = booksDF.where(col(\"authors\").like(\"Stephen King\"))\n",
    "stephenKing.show(10)"
   ]
  },
  {
   "cell_type": "markdown",
   "metadata": {},
   "source": [
    "### Using `where` with a `String`\n",
    "\n",
    "Here we will use a `String` with a SQL like format, which will be a nice segue to SparkSQL. For more on the SQL calls that can be made with `where`, [here is a handy reference](https://spark.apache.org/docs/2.3.0/api/sql/index.html)"
   ]
  },
  {
   "cell_type": "code",
   "execution_count": 41,
   "metadata": {},
   "outputs": [
    {
     "name": "stdout",
     "output_type": "stream",
     "text": [
      "+------+--------------------+--------------------+--------------+----------+-------------+-------------+---------+-------------+------------------+\n",
      "|bookID|               title|             authors|average_rating|      isbn|       isbn13|language_code|num_pages|ratings_count|text_reviews_count|\n",
      "+------+--------------------+--------------------+--------------+----------+-------------+-------------+---------+-------------+------------------+\n",
      "| 10586|The Stephen King ...|Stephen King-John...|          3.99|0739317369|9780739317365|          eng|       11|           55|                 9|\n",
      "| 10594|Stephen King: Ame...|        George Beahm|          3.79|0836254279|9780836254273|        en-US|      304|           49|                 3|\n",
      "| 10597|The Illustrated S...|Brian James Freem...|          4.23|1587671166|9781587671166|          eng|      404|           22|                 5|\n",
      "| 10604|The Body Snatcher...|Jack Finney-Steph...|          3.89|1582881804|9781582881805|          eng|      224|          181|                10|\n",
      "| 10606|Stephen King from...|        George Beahm|          3.83|0836269144|9780836269147|          eng|      251|           53|                 2|\n",
      "| 10612|The Stephen King ...|Stanley Wiater-Ch...|          4.14|1580631606|9781580631600|        en-US|      478|         6241|                37|\n",
      "| 11601|The Science of St...|Lois H. Gresh-Rob...|          3.49|0471782475|9780471782476|          eng|      272|           58|                 9|\n",
      "| 11606|The Bachman Books...|Stephen King-Rich...|          4.11|0453005071|9780453005074|          eng|      692|         1064|                81|\n",
      "| 12676|Carrie (Bibliotec...|Stephen King-Greg...|          3.95|0609810901|9780609810903|          spa|      288|           64|                 3|\n",
      "| 32664|The Stephen King ...|Stephen King-John...|          3.99|0553527401|9780553527407|          eng|        9|          659|                22|\n",
      "| 32689|Bare Bones: Conve...|Tim Underwood-Chu...|          4.16|0446390577|9780446390576|          eng|      224|         3050|                23|\n",
      "+------+--------------------+--------------------+--------------+----------+-------------+-------------+---------+-------------+------------------+\n",
      "\n"
     ]
    },
    {
     "data": {
      "text/plain": [
       "stephenKing: org.apache.spark.sql.Dataset[org.apache.spark.sql.Row] = [bookID: int, title: string ... 8 more fields]\n"
      ]
     },
     "execution_count": 41,
     "metadata": {},
     "output_type": "execute_result"
    }
   ],
   "source": [
    "val stephenKing = booksDF.where(\"title like '%Stephen King%'\")\n",
    "stephenKing.show()"
   ]
  },
  {
   "cell_type": "markdown",
   "metadata": {},
   "source": [
    "### `filter` \n",
    "\n",
    "* `filter` takes a functional approach. \n",
    "* `DataFrame` and `Dataset` are the same\n",
    "  * A `DataFrame` is a `Dataset[Row]`\n",
    "* Has the same signature as `where` but also has the ability to select information using a Scala function"
   ]
  },
  {
   "cell_type": "code",
   "execution_count": 42,
   "metadata": {},
   "outputs": [
    {
     "name": "stdout",
     "output_type": "stream",
     "text": [
      "+------+--------------------+--------------------+--------------+----------+-------------+-------------+---------+-------------+------------------+\n",
      "|bookID|               title|             authors|average_rating|      isbn|       isbn13|language_code|num_pages|ratings_count|text_reviews_count|\n",
      "+------+--------------------+--------------------+--------------+----------+-------------+-------------+---------+-------------+------------------+\n",
      "|  4978|Wolves of the Cal...|Stephen King-Bern...|          4.19|141651693X|9781416516934|          eng|      931|       120906|              2640|\n",
      "|  5094|The Drawing of th...|        Stephen King|          4.23|0451210859|9780451210852|          eng|      463|       163647|              4846|\n",
      "|  5095|The Waste Lands (...|        Stephen King|          4.24|034082977X|9780340829776|          eng|      584|         1073|                82|\n",
      "|  5096|Wizard and Glass ...|Stephen King-Dave...|          4.25|0340829788|9780340829783|          eng|      845|       122796|              3396|\n",
      "|  5098|The Gunslinger (T...|        Stephen King|          3.96|0340829753|9780340829752|          eng|      238|         1598|               189|\n",
      "+------+--------------------+--------------------+--------------+----------+-------------+-------------+---------+-------------+------------------+\n",
      "only showing top 5 rows\n",
      "\n"
     ]
    },
    {
     "data": {
      "text/plain": [
       "stephenKing: org.apache.spark.sql.Dataset[org.apache.spark.sql.Row] = [bookID: int, title: string ... 8 more fields]\n"
      ]
     },
     "execution_count": 42,
     "metadata": {},
     "output_type": "execute_result"
    }
   ],
   "source": [
    "val stephenKing = booksDF.filter(booksDF(\"authors\").contains(\"Stephen King\"))\n",
    "stephenKing.show(5)"
   ]
  },
  {
   "cell_type": "code",
   "execution_count": 43,
   "metadata": {},
   "outputs": [
    {
     "name": "stdout",
     "output_type": "stream",
     "text": [
      "+------+--------------------+--------------------+--------------+----------+-------------+-------------+---------+-------------+------------------+\n",
      "|bookID|               title|             authors|average_rating|      isbn|       isbn13|language_code|num_pages|ratings_count|text_reviews_count|\n",
      "+------+--------------------+--------------------+--------------+----------+-------------+-------------+---------+-------------+------------------+\n",
      "|     1|Harry Potter and ...|J.K. Rowling-Mary...|          4.56|0439785960|9780439785969|          eng|      652|      1944099|             26249|\n",
      "|     2|Harry Potter and ...|J.K. Rowling-Mary...|          4.49|0439358078|9780439358071|          eng|      870|      1996446|             27613|\n",
      "|     3|Harry Potter and ...|J.K. Rowling-Mary...|          4.47|0439554934|9780439554930|          eng|      320|      5629932|             70390|\n",
      "|     4|Harry Potter and ...|        J.K. Rowling|          4.41|0439554896|9780439554893|          eng|      352|         6267|               272|\n",
      "|     5|Harry Potter and ...|J.K. Rowling-Mary...|          4.55|043965548X|9780439655484|          eng|      435|      2149872|             33964|\n",
      "+------+--------------------+--------------------+--------------+----------+-------------+-------------+---------+-------------+------------------+\n",
      "only showing top 5 rows\n",
      "\n"
     ]
    },
    {
     "data": {
      "text/plain": [
       "jkRowling: org.apache.spark.sql.Dataset[org.apache.spark.sql.Row] = [bookID: int, title: string ... 8 more fields]\n"
      ]
     },
     "execution_count": 43,
     "metadata": {},
     "output_type": "execute_result"
    }
   ],
   "source": [
    "val jkRowling = booksDF.filter(\"authors like '%J.K. Rowling%'\")\n",
    "jkRowling.show(5)"
   ]
  },
  {
   "cell_type": "markdown",
   "metadata": {},
   "source": [
    "## `filter` using functional programming\n",
    "\n",
    "* We can use functional programming to filter out a `DataFrame`/`Dataset`\n",
    "* That includes a `filter` that will query information based on `Row`\n",
    "* Seek out the [Row Spark API](https://spark.apache.org/docs/2.3.0/api/scala/index.html#org.apache.spark.sql.Row) on how to dig into the row and get the information you desire\n",
    "* Here we will use something different called `getAs[T]` where `[T]` is the generic type"
   ]
  },
  {
   "cell_type": "code",
   "execution_count": 44,
   "metadata": {},
   "outputs": [
    {
     "name": "stdout",
     "output_type": "stream",
     "text": [
      "+------+--------------------+--------------------+--------------+----------+-------------+-------------+---------+-------------+------------------+\n",
      "|bookID|               title|             authors|average_rating|      isbn|       isbn13|language_code|num_pages|ratings_count|text_reviews_count|\n",
      "+------+--------------------+--------------------+--------------+----------+-------------+-------------+---------+-------------+------------------+\n",
      "|   159|Dinner with Anna ...|    Gloria Goldreich|          2.96|0778322270|9780778322276|          eng|      368|          400|                64|\n",
      "|   799|Out to Eat London...|Lonely Planet-Mar...|           0.0|1740592050|9781740592055|          eng|      295|            0|                 0|\n",
      "|  1302|Juiced Official S...|          Doug Walsh|           0.0|0744005612|9780744005615|          eng|      112|            0|                 0|\n",
      "|  1584|Cliffs Notes on A...|    W. John Campbell|          2.33|0822007762|0049086007763|          eng|       80|            3|                 0|\n",
      "|  1658|American Governme...|Karen  O'Connor-L...|          2.95|0321317106|9780321317100|          eng|      664|            0|                 0|\n",
      "+------+--------------------+--------------------+--------------+----------+-------------+-------------+---------+-------------+------------------+\n",
      "only showing top 5 rows\n",
      "\n"
     ]
    },
    {
     "data": {
      "text/plain": [
       "badBooks: org.apache.spark.sql.Dataset[org.apache.spark.sql.Row] = [bookID: int, title: string ... 8 more fields]\n"
      ]
     },
     "execution_count": 44,
     "metadata": {},
     "output_type": "execute_result"
    }
   ],
   "source": [
    "val badBooks = booksDF.filter(row => row.getAs[Float](\"average_rating\") < 3)\n",
    "badBooks.show(5)"
   ]
  },
  {
   "cell_type": "markdown",
   "metadata": {},
   "source": [
    "### Query columns using `select`\n",
    "\n",
    "* `select` selects which columns and aliases you can apply to your query\n",
    "* Works very much the way `SELECT` works on a SQL Query\n",
    "* STOP and remember: `select` for columns, `where` and `filter` for rows\n",
    "* Again, worth restating that it is worthwhile to [use the Column API](https://spark.apache.org/docs/2.3.0/api/scala/index.html#org.apache.spark.sql.Column)"
   ]
  },
  {
   "cell_type": "code",
   "execution_count": 45,
   "metadata": {},
   "outputs": [
    {
     "name": "stdout",
     "output_type": "stream",
     "text": [
      "+------------------------------------------------------------+\n",
      "|title                                                       |\n",
      "+------------------------------------------------------------+\n",
      "|Harry Potter and the Half-Blood Prince (Harry Potter  #6)   |\n",
      "|Harry Potter and the Order of the Phoenix (Harry Potter  #5)|\n",
      "|Harry Potter and the Sorcerer's Stone (Harry Potter  #1)    |\n",
      "|Harry Potter and the Chamber of Secrets (Harry Potter  #2)  |\n",
      "|Harry Potter and the Prisoner of Azkaban (Harry Potter  #3) |\n",
      "+------------------------------------------------------------+\n",
      "only showing top 5 rows\n",
      "\n"
     ]
    },
    {
     "data": {
      "text/plain": [
       "bookTitlesOnly: org.apache.spark.sql.DataFrame = [title: string]\n"
      ]
     },
     "execution_count": 45,
     "metadata": {},
     "output_type": "execute_result"
    }
   ],
   "source": [
    "val bookTitlesOnly = booksDF.select(\"title\")\n",
    "bookTitlesOnly.show(5, truncate=false)"
   ]
  },
  {
   "cell_type": "code",
   "execution_count": 46,
   "metadata": {},
   "outputs": [
    {
     "name": "stdout",
     "output_type": "stream",
     "text": [
      "+------------------------------------------------------------+\n",
      "|title                                                       |\n",
      "+------------------------------------------------------------+\n",
      "|Harry Potter and the Half-Blood Prince (Harry Potter  #6)   |\n",
      "|Harry Potter and the Order of the Phoenix (Harry Potter  #5)|\n",
      "|Harry Potter and the Sorcerer's Stone (Harry Potter  #1)    |\n",
      "|Harry Potter and the Chamber of Secrets (Harry Potter  #2)  |\n",
      "|Harry Potter and the Prisoner of Azkaban (Harry Potter  #3) |\n",
      "+------------------------------------------------------------+\n",
      "only showing top 5 rows\n",
      "\n"
     ]
    },
    {
     "data": {
      "text/plain": [
       "bookTitlesOnly: org.apache.spark.sql.DataFrame = [title: string]\n"
      ]
     },
     "execution_count": 46,
     "metadata": {},
     "output_type": "execute_result"
    }
   ],
   "source": [
    "val bookTitlesOnly = booksDF.select(col(\"title\"))\n",
    "bookTitlesOnly.show(5, truncate=false)"
   ]
  },
  {
   "cell_type": "code",
   "execution_count": 47,
   "metadata": {},
   "outputs": [
    {
     "name": "stdout",
     "output_type": "stream",
     "text": [
      "+------------------------------------------------------------+--------------------------+\n",
      "|title                                                       |authors                   |\n",
      "+------------------------------------------------------------+--------------------------+\n",
      "|Harry Potter and the Half-Blood Prince (Harry Potter  #6)   |J.K. Rowling-Mary GrandPré|\n",
      "|Harry Potter and the Order of the Phoenix (Harry Potter  #5)|J.K. Rowling-Mary GrandPré|\n",
      "|Harry Potter and the Sorcerer's Stone (Harry Potter  #1)    |J.K. Rowling-Mary GrandPré|\n",
      "|Harry Potter and the Chamber of Secrets (Harry Potter  #2)  |J.K. Rowling              |\n",
      "|Harry Potter and the Prisoner of Azkaban (Harry Potter  #3) |J.K. Rowling-Mary GrandPré|\n",
      "+------------------------------------------------------------+--------------------------+\n",
      "only showing top 5 rows\n",
      "\n"
     ]
    },
    {
     "data": {
      "text/plain": [
       "bookTitlesOnly: org.apache.spark.sql.DataFrame = [title: string, authors: string]\n"
      ]
     },
     "execution_count": 47,
     "metadata": {},
     "output_type": "execute_result"
    }
   ],
   "source": [
    "val bookTitlesOnly = booksDF.select(col(\"title\"), $\"authors\")\n",
    "bookTitlesOnly.show(5, truncate=false)"
   ]
  },
  {
   "cell_type": "code",
   "execution_count": 49,
   "metadata": {},
   "outputs": [
    {
     "name": "stdout",
     "output_type": "stream",
     "text": [
      "+------------------------------------------------------------+--------------------------+------------+\n",
      "|title                                                       |authors                   |highly_rated|\n",
      "+------------------------------------------------------------+--------------------------+------------+\n",
      "|Harry Potter and the Half-Blood Prince (Harry Potter  #6)   |J.K. Rowling-Mary GrandPré|true        |\n",
      "|Harry Potter and the Order of the Phoenix (Harry Potter  #5)|J.K. Rowling-Mary GrandPré|false       |\n",
      "|Harry Potter and the Sorcerer's Stone (Harry Potter  #1)    |J.K. Rowling-Mary GrandPré|false       |\n",
      "|Harry Potter and the Chamber of Secrets (Harry Potter  #2)  |J.K. Rowling              |false       |\n",
      "|Harry Potter and the Prisoner of Azkaban (Harry Potter  #3) |J.K. Rowling-Mary GrandPré|true        |\n",
      "+------------------------------------------------------------+--------------------------+------------+\n",
      "only showing top 5 rows\n",
      "\n"
     ]
    },
    {
     "data": {
      "text/plain": [
       "bookTitlesOnly: org.apache.spark.sql.DataFrame = [title: string, authors: string ... 1 more field]\n"
      ]
     },
     "execution_count": 49,
     "metadata": {},
     "output_type": "execute_result"
    }
   ],
   "source": [
    "val bookTitlesOnly = booksDF.select(col(\"title\"), $\"authors\", ($\"average_rating\" > 4.5).as(\"highly_rated\"))\n",
    "bookTitlesOnly.show(5, truncate=false)"
   ]
  },
  {
   "cell_type": "markdown",
   "metadata": {},
   "source": [
    "### Using `expr`\n",
    "\n",
    "* Uses SQL-Like expressions to select which columns and which kind of manipulations\n",
    "* Can contain just the column name\n",
    "* Can also contain some intricate queries"
   ]
  },
  {
   "cell_type": "code",
   "execution_count": 50,
   "metadata": {},
   "outputs": [
    {
     "name": "stdout",
     "output_type": "stream",
     "text": [
      "+------------------------------------------------------------+--------------------------+------------+\n",
      "|title                                                       |authors                   |highly_rated|\n",
      "+------------------------------------------------------------+--------------------------+------------+\n",
      "|Harry Potter and the Half-Blood Prince (Harry Potter  #6)   |J.K. Rowling-Mary GrandPré|true        |\n",
      "|Harry Potter and the Order of the Phoenix (Harry Potter  #5)|J.K. Rowling-Mary GrandPré|false       |\n",
      "|Harry Potter and the Sorcerer's Stone (Harry Potter  #1)    |J.K. Rowling-Mary GrandPré|false       |\n",
      "|Harry Potter and the Chamber of Secrets (Harry Potter  #2)  |J.K. Rowling              |false       |\n",
      "|Harry Potter and the Prisoner of Azkaban (Harry Potter  #3) |J.K. Rowling-Mary GrandPré|true        |\n",
      "+------------------------------------------------------------+--------------------------+------------+\n",
      "only showing top 5 rows\n",
      "\n"
     ]
    },
    {
     "data": {
      "text/plain": [
       "bookTitlesOnly: org.apache.spark.sql.DataFrame = [title: string, authors: string ... 1 more field]\n"
      ]
     },
     "execution_count": 50,
     "metadata": {},
     "output_type": "execute_result"
    }
   ],
   "source": [
    "val bookTitlesOnly = booksDF.select(expr(\"title\"), expr(\"authors\"), expr(\"(average_rating > 4.5) as highly_rated\"))\n",
    "bookTitlesOnly.show(5, truncate=false)"
   ]
  },
  {
   "cell_type": "markdown",
   "metadata": {},
   "source": [
    "### `selectExpr`\n",
    "\n",
    "* Since it is so common to use `select` and `expr` together there is an all-in-one command called `selectExpr`"
   ]
  },
  {
   "cell_type": "code",
   "execution_count": 51,
   "metadata": {},
   "outputs": [
    {
     "name": "stdout",
     "output_type": "stream",
     "text": [
      "+------------------------------------------------------------+--------------------------+------------+\n",
      "|title                                                       |authors                   |highly_rated|\n",
      "+------------------------------------------------------------+--------------------------+------------+\n",
      "|Harry Potter and the Half-Blood Prince (Harry Potter  #6)   |J.K. Rowling-Mary GrandPré|true        |\n",
      "|Harry Potter and the Order of the Phoenix (Harry Potter  #5)|J.K. Rowling-Mary GrandPré|false       |\n",
      "|Harry Potter and the Sorcerer's Stone (Harry Potter  #1)    |J.K. Rowling-Mary GrandPré|false       |\n",
      "|Harry Potter and the Chamber of Secrets (Harry Potter  #2)  |J.K. Rowling              |false       |\n",
      "|Harry Potter and the Prisoner of Azkaban (Harry Potter  #3) |J.K. Rowling-Mary GrandPré|true        |\n",
      "+------------------------------------------------------------+--------------------------+------------+\n",
      "only showing top 5 rows\n",
      "\n"
     ]
    },
    {
     "data": {
      "text/plain": [
       "bookTitlesOnly: org.apache.spark.sql.DataFrame = [title: string, authors: string ... 1 more field]\n"
      ]
     },
     "execution_count": 51,
     "metadata": {},
     "output_type": "execute_result"
    }
   ],
   "source": [
    "val bookTitlesOnly = booksDF.selectExpr(\"title\", \"authors\", \"(average_rating > 4.5) as highly_rated\")\n",
    "bookTitlesOnly.show(5, truncate=false)"
   ]
  },
  {
   "cell_type": "code",
   "execution_count": 59,
   "metadata": {},
   "outputs": [
    {
     "name": "stdout",
     "output_type": "stream",
     "text": [
      "+------------------------------------------------------------+--------------------+----------------------+\n",
      "|title                                                       |split(authors, -)[0]|(average_rating > 4.5)|\n",
      "+------------------------------------------------------------+--------------------+----------------------+\n",
      "|Harry Potter and the Half-Blood Prince (Harry Potter  #6)   |J.K. Rowling        |true                  |\n",
      "|Harry Potter and the Order of the Phoenix (Harry Potter  #5)|J.K. Rowling        |false                 |\n",
      "|Harry Potter and the Sorcerer's Stone (Harry Potter  #1)    |J.K. Rowling        |false                 |\n",
      "|Harry Potter and the Chamber of Secrets (Harry Potter  #2)  |J.K. Rowling        |false                 |\n",
      "|Harry Potter and the Prisoner of Azkaban (Harry Potter  #3) |J.K. Rowling        |true                  |\n",
      "+------------------------------------------------------------+--------------------+----------------------+\n",
      "only showing top 5 rows\n",
      "\n"
     ]
    },
    {
     "data": {
      "text/plain": [
       "highlyRatedBooksWithPrimaryAuthors: org.apache.spark.sql.DataFrame = [title: string, split(authors, -)[0]: string ... 1 more field]\n"
      ]
     },
     "execution_count": 59,
     "metadata": {},
     "output_type": "execute_result"
    }
   ],
   "source": [
    "val highlyRatedBooksWithPrimaryAuthors = booksDF.selectExpr(\"title\", \"(split(authors, '-')[0])\", \"(average_rating > 4.5)\")\n",
    "highlyRatedBooksWithPrimaryAuthors.show(5, truncate=false)\n"
   ]
  },
  {
   "cell_type": "markdown",
   "metadata": {},
   "source": [
    "### Applying an alias to our `select` columns"
   ]
  },
  {
   "cell_type": "code",
   "execution_count": 61,
   "metadata": {},
   "outputs": [
    {
     "name": "stdout",
     "output_type": "stream",
     "text": [
      "+------------------------------------------------------------+--------------+------------+\n",
      "|title                                                       |primary_author|highly_rated|\n",
      "+------------------------------------------------------------+--------------+------------+\n",
      "|Harry Potter and the Half-Blood Prince (Harry Potter  #6)   |J.K. Rowling  |true        |\n",
      "|Harry Potter and the Order of the Phoenix (Harry Potter  #5)|J.K. Rowling  |false       |\n",
      "|Harry Potter and the Sorcerer's Stone (Harry Potter  #1)    |J.K. Rowling  |false       |\n",
      "|Harry Potter and the Chamber of Secrets (Harry Potter  #2)  |J.K. Rowling  |false       |\n",
      "|Harry Potter and the Prisoner of Azkaban (Harry Potter  #3) |J.K. Rowling  |true        |\n",
      "+------------------------------------------------------------+--------------+------------+\n",
      "only showing top 5 rows\n",
      "\n"
     ]
    },
    {
     "data": {
      "text/plain": [
       "highlyRatedBooksWithPrimaryAuthors: org.apache.spark.sql.DataFrame = [title: string, primary_author: string ... 1 more field]\n"
      ]
     },
     "execution_count": 61,
     "metadata": {},
     "output_type": "execute_result"
    }
   ],
   "source": [
    "val highlyRatedBooksWithPrimaryAuthors = booksDF.selectExpr(\"title\", \"(split(authors, '-')[0]) as primary_author\", \"(average_rating > 4.5) as highly_rated\")\n",
    "highlyRatedBooksWithPrimaryAuthors.show(5, truncate=false)\n"
   ]
  },
  {
   "cell_type": "markdown",
   "metadata": {},
   "source": [
    "## Sorting a `DataFrame`\n",
    "\n",
    "* We can sort the data with the `sort` method providing a column. \n",
    "* The default is _ascending order_\n",
    "\n",
    "Here we are using every knowledge we've accumulated so far to build a solid result"
   ]
  },
  {
   "cell_type": "markdown",
   "metadata": {},
   "source": [
    "### Sorting in default ascending order "
   ]
  },
  {
   "cell_type": "code",
   "execution_count": 81,
   "metadata": {
    "scrolled": true
   },
   "outputs": [
    {
     "name": "stdout",
     "output_type": "stream",
     "text": [
      "+----------------------------------------+----------+----------------------------------------+---------+\n",
      "|                                   title|      isbn|                                 authors|num_pages|\n",
      "+----------------------------------------+----------+----------------------------------------+---------+\n",
      "|                                The Nose|0688104649|              Nikolai Gogol-Kevin Hawkes|       31|\n",
      "|The Cognitive Style of PowerPoint: Pi...|0961392169|                         Edward R. Tufte|       31|\n",
      "|     The Chronicles of Narnia CD Box Set|0694524751|              C.S. Lewis-Kenneth Branagh|       31|\n",
      "|               Blueberries for the Queen|0066239427|John  Paterson-Katherine Paterson-Sus...|       32|\n",
      "|The Little Mouse  the Red Ripe Strawb...|0859533301|                             Don    Wood|       32|\n",
      "|Literature Circle Guide: Bridge to Te...|0439271711|                          Tara MacCarthy|       32|\n",
      "|Literature Circle Guide: A Wrinkle in...|043927169X|                          Tara MacCarthy|       32|\n",
      "|          Secret of the Peaceful Warrior|0915811235|Dan Millman-Robert D. San Souci-T. Ta...|       32|\n",
      "|The Sun Rises: and Other Questions Ab...|0753459647|                          Brenda Walpole|       32|\n",
      "|I Blink: And Other Questions About My...|0753456109|                           Brigid Avison|       32|\n",
      "+----------------------------------------+----------+----------------------------------------+---------+\n",
      "only showing top 10 rows\n",
      "\n"
     ]
    }
   ],
   "source": [
    "booksDF.select($\"title\", $\"isbn\", $\"authors\", $\"num_pages\")\n",
    "       .where(($\"num_pages\".isNotNull) && ($\"num_pages\" > 30))\n",
    "       .sort($\"num_pages\")\n",
    "       .show(10, truncate=40)"
   ]
  },
  {
   "cell_type": "markdown",
   "metadata": {},
   "source": [
    "### Sorting explicitly in ascending order using `Column`'s `asc` method\n",
    "\n",
    "* Each `Column` has a `asc` method that can be used with `sort` to sort in ascending order"
   ]
  },
  {
   "cell_type": "code",
   "execution_count": 87,
   "metadata": {},
   "outputs": [
    {
     "name": "stdout",
     "output_type": "stream",
     "text": [
      "+----------------------------------------+----------+----------------------------------------+---------+\n",
      "|                                   title|      isbn|                                 authors|num_pages|\n",
      "+----------------------------------------+----------+----------------------------------------+---------+\n",
      "|                                The Nose|0688104649|              Nikolai Gogol-Kevin Hawkes|       31|\n",
      "|The Cognitive Style of PowerPoint: Pi...|0961392169|                         Edward R. Tufte|       31|\n",
      "|     The Chronicles of Narnia CD Box Set|0694524751|              C.S. Lewis-Kenneth Branagh|       31|\n",
      "|               Blueberries for the Queen|0066239427|John  Paterson-Katherine Paterson-Sus...|       32|\n",
      "|The Little Mouse  the Red Ripe Strawb...|0859533301|                             Don    Wood|       32|\n",
      "|Literature Circle Guide: Bridge to Te...|0439271711|                          Tara MacCarthy|       32|\n",
      "|Literature Circle Guide: A Wrinkle in...|043927169X|                          Tara MacCarthy|       32|\n",
      "|          Secret of the Peaceful Warrior|0915811235|Dan Millman-Robert D. San Souci-T. Ta...|       32|\n",
      "|The Sun Rises: and Other Questions Ab...|0753459647|                          Brenda Walpole|       32|\n",
      "|I Blink: And Other Questions About My...|0753456109|                           Brigid Avison|       32|\n",
      "+----------------------------------------+----------+----------------------------------------+---------+\n",
      "only showing top 10 rows\n",
      "\n"
     ]
    }
   ],
   "source": [
    "booksDF.select($\"title\", $\"isbn\", $\"authors\", $\"num_pages\")\n",
    "       .where(($\"num_pages\".isNotNull) && ($\"num_pages\" > 30))\n",
    "       .sort($\"num_pages\".asc)\n",
    "       .show(10, truncate=40)"
   ]
  },
  {
   "cell_type": "markdown",
   "metadata": {},
   "source": [
    "### Sorting in ascending order using Spark Functions\n",
    "\n",
    "* Recall that Spark has functions in `org.apache.spark.sql.functions` that can be imported and used in a Spark query\n",
    "* Be sure to [consult the API](https://spark.apache.org/docs/2.3.0/api/scala/index.html#org.apache.spark.sql.functions$) on this functions\n",
    "* Note: The online docs will not hyperlink very well"
   ]
  },
  {
   "cell_type": "code",
   "execution_count": 92,
   "metadata": {},
   "outputs": [
    {
     "name": "stdout",
     "output_type": "stream",
     "text": [
      "+----------------------------------------+----------+----------------------------------------+---------+\n",
      "|                                   title|      isbn|                                 authors|num_pages|\n",
      "+----------------------------------------+----------+----------------------------------------+---------+\n",
      "|                                The Nose|0688104649|              Nikolai Gogol-Kevin Hawkes|       31|\n",
      "|The Cognitive Style of PowerPoint: Pi...|0961392169|                         Edward R. Tufte|       31|\n",
      "|     The Chronicles of Narnia CD Box Set|0694524751|              C.S. Lewis-Kenneth Branagh|       31|\n",
      "|               Blueberries for the Queen|0066239427|John  Paterson-Katherine Paterson-Sus...|       32|\n",
      "|The Little Mouse  the Red Ripe Strawb...|0859533301|                             Don    Wood|       32|\n",
      "|Literature Circle Guide: Bridge to Te...|0439271711|                          Tara MacCarthy|       32|\n",
      "|Literature Circle Guide: A Wrinkle in...|043927169X|                          Tara MacCarthy|       32|\n",
      "|          Secret of the Peaceful Warrior|0915811235|Dan Millman-Robert D. San Souci-T. Ta...|       32|\n",
      "|The Sun Rises: and Other Questions Ab...|0753459647|                          Brenda Walpole|       32|\n",
      "|I Blink: And Other Questions About My...|0753456109|                           Brigid Avison|       32|\n",
      "+----------------------------------------+----------+----------------------------------------+---------+\n",
      "only showing top 10 rows\n",
      "\n"
     ]
    },
    {
     "data": {
      "text/plain": [
       "import org.apache.spark.sql.functions\n"
      ]
     },
     "execution_count": 92,
     "metadata": {},
     "output_type": "execute_result"
    }
   ],
   "source": [
    "import org.apache.spark.sql.functions\n",
    "\n",
    "booksDF.select($\"title\", $\"isbn\", $\"authors\", $\"num_pages\")\n",
    "       .where(($\"num_pages\".isNotNull) && ($\"num_pages\" > 30))\n",
    "       .sort(asc(\"num_pages\")) //Note this call uses functions\n",
    "       .show(10, truncate=40)"
   ]
  },
  {
   "cell_type": "markdown",
   "metadata": {},
   "source": [
    "### Sorting explicitly in ascending order using `Column`'s `desc` method\n",
    "\n",
    "* Each `Column` has a `desc` method that can be used with sort to sort in descending order"
   ]
  },
  {
   "cell_type": "code",
   "execution_count": 91,
   "metadata": {},
   "outputs": [
    {
     "name": "stdout",
     "output_type": "stream",
     "text": [
      "+----------------------------------------+----------+----------------------------------------+---------+\n",
      "|                                   title|      isbn|                                 authors|num_pages|\n",
      "+----------------------------------------+----------+----------------------------------------+---------+\n",
      "|The Complete Aubrey/Maturin Novels (5...|039306011X|                         Patrick O'Brian|     6576|\n",
      "|                    The Second World War|039541685X|        Winston S. Churchill-John Keegan|     4736|\n",
      "|      In Search of Lost Time (6 Volumes)|0812969642|Marcel Proust-C.K. Scott Moncrieff-An...|     4211|\n",
      "|The Norton Anthology of English Liter...|0393928330|M.H. Abrams-Stephen Greenblatt-James ...|     3956|\n",
      "|  Remembrance of Things Past (Boxed Set)|0701125594|Marcel Proust-C.K. Scott Moncrieff-Fr...|     3400|\n",
      "|Harry Potter Collection (Harry Potter...|0439827604|                            J.K. Rowling|     3342|\n",
      "|The Norton Anthology of English Liter...|0393925315|          M.H. Abrams-Stephen Greenblatt|     3072|\n",
      "|The Norton Anthology of English Liter...|0393925323|M.H. Abrams-Stephen Greenblatt-James ...|     3072|\n",
      "|                Summa Theologica  5 Vols|0870610635|                          Thomas Aquinas|     3020|\n",
      "|                  Civil War: a Narrative|0394749138|                            Shelby Foote|     2965|\n",
      "+----------------------------------------+----------+----------------------------------------+---------+\n",
      "only showing top 10 rows\n",
      "\n"
     ]
    }
   ],
   "source": [
    "import org.apache.spark.sql.functions\n",
    "\n",
    "booksDF.select($\"title\", $\"isbn\", $\"authors\", $\"num_pages\")\n",
    "       .where(($\"num_pages\".isNotNull) && ($\"num_pages\" > 30))\n",
    "       .sort(desc(\"num_pages\"))\n",
    "       .show(10, truncate=40)"
   ]
  },
  {
   "cell_type": "markdown",
   "metadata": {},
   "source": [
    "### Sorting in descending order using Spark Functions\n",
    "\n",
    "* Recall that Spark has functions in `org.apache.spark.sql.functions` that can be imported and used in a Spark query\n",
    "* Note: The `desc` method from the `functions` object only takes a `String`"
   ]
  },
  {
   "cell_type": "code",
   "execution_count": null,
   "metadata": {},
   "outputs": [],
   "source": [
    "booksDF.select($\"title\", $\"isbn\", $\"authors\", $\"num_pages\")\n",
    "       .where(($\"num_pages\".isNotNull) && ($\"num_pages\" > 30))\n",
    "       .sort($\"num_pages\".desc)\n",
    "       .show(10, truncate=40)"
   ]
  },
  {
   "cell_type": "markdown",
   "metadata": {},
   "source": [
    "### Specialized sorting with nulls\n",
    "\n",
    "* Both the `Column` and the `functions` objects have to sort `null` values:\n",
    "  * `nulls_first`\n",
    "  * `nulls_last` "
   ]
  },
  {
   "cell_type": "code",
   "execution_count": 97,
   "metadata": {},
   "outputs": [
    {
     "name": "stdout",
     "output_type": "stream",
     "text": [
      "+----------------------------------------+----------+----------------------------------------+---------+\n",
      "|                                   title|      isbn|                                 authors|num_pages|\n",
      "+----------------------------------------+----------+----------------------------------------+---------+\n",
      "|                                    null|      null|                                    null|     null|\n",
      "|                                    null|      null|                                    null|     null|\n",
      "|                                    null|      null|                                    null|     null|\n",
      "|                                    null|      null|                                    null|     null|\n",
      "|                                    null|      null|                                    null|     null|\n",
      "|The Complete Aubrey/Maturin Novels (5...|039306011X|                         Patrick O'Brian|     6576|\n",
      "|                    The Second World War|039541685X|        Winston S. Churchill-John Keegan|     4736|\n",
      "|      In Search of Lost Time (6 Volumes)|0812969642|Marcel Proust-C.K. Scott Moncrieff-An...|     4211|\n",
      "|The Norton Anthology of English Liter...|0393928330|M.H. Abrams-Stephen Greenblatt-James ...|     3956|\n",
      "|  Remembrance of Things Past (Boxed Set)|0701125594|Marcel Proust-C.K. Scott Moncrieff-Fr...|     3400|\n",
      "+----------------------------------------+----------+----------------------------------------+---------+\n",
      "only showing top 10 rows\n",
      "\n"
     ]
    }
   ],
   "source": [
    "booksDF.select($\"title\", $\"isbn\", $\"authors\", $\"num_pages\")\n",
    "       .sort($\"num_pages\".desc_nulls_first)\n",
    "       .show(10, truncate=40)"
   ]
  },
  {
   "cell_type": "code",
   "execution_count": 98,
   "metadata": {},
   "outputs": [
    {
     "name": "stdout",
     "output_type": "stream",
     "text": [
      "+----------------------------------------+----------+---------------------------------------+---------+\n",
      "|                                   title|      isbn|                                authors|num_pages|\n",
      "+----------------------------------------+----------+---------------------------------------+---------+\n",
      "|                                    null|      null|                                   null|     null|\n",
      "|                                    null|      null|                                   null|     null|\n",
      "|                                    null|      null|                                   null|     null|\n",
      "|                                    null|      null|                                   null|     null|\n",
      "|                                    null|      null|                                   null|     null|\n",
      "|              The Summons / The Brethren|0739342770|John Grisham-Michael Beck-Frank  Muller|        0|\n",
      "|        The Tragedy of Pudd'nhead Wilson|140015068X|            Mark Twain-Michael Prichard|        0|\n",
      "|The Clan of the Cave Bear  Part 1 of ...|0736606378|            Jean M. Auel-Donada  Peters|        0|\n",
      "|                The Lady and the Unicorn|0965903532|                        Tracy Chevalier|        0|\n",
      "|  The Da Vinci Code (Robert Langdon  #2)|0739339788|                 Dan Brown-Paul Michael|        0|\n",
      "+----------------------------------------+----------+---------------------------------------+---------+\n",
      "only showing top 10 rows\n",
      "\n"
     ]
    }
   ],
   "source": [
    "booksDF.select($\"title\", $\"isbn\", $\"authors\", $\"num_pages\")\n",
    "       .sort($\"num_pages\".asc_nulls_first)\n",
    "       .show(10, truncate=40)"
   ]
  },
  {
   "cell_type": "code",
   "execution_count": 103,
   "metadata": {},
   "outputs": [
    {
     "name": "stdout",
     "output_type": "stream",
     "text": [
      "+----------------------------------------+----------+----------------------------------------+---------+\n",
      "|                                   title|      isbn|                                 authors|num_pages|\n",
      "+----------------------------------------+----------+----------------------------------------+---------+\n",
      "|                                    null|      null|                                    null|     null|\n",
      "|                                    null|      null|                                    null|     null|\n",
      "|                                    null|      null|                                    null|     null|\n",
      "|                                    null|      null|                                    null|     null|\n",
      "|                                    null|      null|                                    null|     null|\n",
      "|The Complete Aubrey/Maturin Novels (5...|039306011X|                         Patrick O'Brian|     6576|\n",
      "|                    The Second World War|039541685X|        Winston S. Churchill-John Keegan|     4736|\n",
      "|      In Search of Lost Time (6 Volumes)|0812969642|Marcel Proust-C.K. Scott Moncrieff-An...|     4211|\n",
      "|The Norton Anthology of English Liter...|0393928330|M.H. Abrams-Stephen Greenblatt-James ...|     3956|\n",
      "|  Remembrance of Things Past (Boxed Set)|0701125594|Marcel Proust-C.K. Scott Moncrieff-Fr...|     3400|\n",
      "+----------------------------------------+----------+----------------------------------------+---------+\n",
      "only showing top 10 rows\n",
      "\n"
     ]
    },
    {
     "data": {
      "text/plain": [
       "import org.apache.spark.sql.functions\n"
      ]
     },
     "execution_count": 103,
     "metadata": {},
     "output_type": "execute_result"
    }
   ],
   "source": [
    "import org.apache.spark.sql.functions\n",
    "\n",
    "booksDF.select($\"title\", $\"isbn\", $\"authors\", $\"num_pages\")\n",
    "       .sort(desc_nulls_first(\"num_pages\"))\n",
    "       .show(10, truncate=40)"
   ]
  },
  {
   "cell_type": "code",
   "execution_count": 104,
   "metadata": {},
   "outputs": [
    {
     "name": "stdout",
     "output_type": "stream",
     "text": [
      "+----------------------------------------+----------+---------------------------------------+---------+\n",
      "|                                   title|      isbn|                                authors|num_pages|\n",
      "+----------------------------------------+----------+---------------------------------------+---------+\n",
      "|                                    null|      null|                                   null|     null|\n",
      "|                                    null|      null|                                   null|     null|\n",
      "|                                    null|      null|                                   null|     null|\n",
      "|                                    null|      null|                                   null|     null|\n",
      "|                                    null|      null|                                   null|     null|\n",
      "|              The Summons / The Brethren|0739342770|John Grisham-Michael Beck-Frank  Muller|        0|\n",
      "|        The Tragedy of Pudd'nhead Wilson|140015068X|            Mark Twain-Michael Prichard|        0|\n",
      "|The Clan of the Cave Bear  Part 1 of ...|0736606378|            Jean M. Auel-Donada  Peters|        0|\n",
      "|                The Lady and the Unicorn|0965903532|                        Tracy Chevalier|        0|\n",
      "|  The Da Vinci Code (Robert Langdon  #2)|0739339788|                 Dan Brown-Paul Michael|        0|\n",
      "+----------------------------------------+----------+---------------------------------------+---------+\n",
      "only showing top 10 rows\n",
      "\n"
     ]
    },
    {
     "data": {
      "text/plain": [
       "import org.apache.spark.sql.functions\n"
      ]
     },
     "execution_count": 104,
     "metadata": {},
     "output_type": "execute_result"
    }
   ],
   "source": [
    "import org.apache.spark.sql.functions\n",
    "\n",
    "booksDF.select($\"title\", $\"isbn\", $\"authors\", $\"num_pages\")\n",
    "       .sort(asc_nulls_first(\"num_pages\"))\n",
    "       .show(10, truncate=40)"
   ]
  },
  {
   "cell_type": "markdown",
   "metadata": {},
   "source": [
    "## `groupBy` and aggregate functions"
   ]
  },
  {
   "cell_type": "markdown",
   "metadata": {},
   "source": [
    "* `groupBy` groups by one or more columns\n",
    "* `groupBy` returns _always_ a `org.apache.spark.sql.RelationalGroupedDataset`\n",
    "* From the `RelationalGroupedDataset` you can call any what are called _Aggregate Functions_"
   ]
  },
  {
   "cell_type": "markdown",
   "metadata": {},
   "source": [
    "### Setting up data before the `groupBy`\n",
    "\n",
    "First some setup, it seems that authors are split by a dash `-`, so let's do a split, and get the first item and rename the column `primary_author`. We will also select the `title`, `average_rating`, `ratings_count` and the `num_pages`"
   ]
  },
  {
   "cell_type": "code",
   "execution_count": 145,
   "metadata": {
    "scrolled": true
   },
   "outputs": [
    {
     "name": "stdout",
     "output_type": "stream",
     "text": [
      "+----------------------+------------------------------+--------------+-------------+---------+\n",
      "|        primary_author|                         title|average_rating|ratings_count|num_pages|\n",
      "+----------------------+------------------------------+--------------+-------------+---------+\n",
      "|          J.K. Rowling|Harry Potter and the Half-B...|          4.56|      1944099|      652|\n",
      "|          J.K. Rowling|Harry Potter and the Order ...|          4.49|      1996446|      870|\n",
      "|          J.K. Rowling|Harry Potter and the Sorcer...|          4.47|      5629932|      320|\n",
      "|          J.K. Rowling|Harry Potter and the Chambe...|          4.41|         6267|      352|\n",
      "|          J.K. Rowling|Harry Potter and the Prison...|          4.55|      2149872|      435|\n",
      "|          J.K. Rowling|Harry Potter Boxed Set  Boo...|          4.78|        38872|     2690|\n",
      "|W. Frederick Zimmerman|Unauthorized Harry Potter B...|          3.69|           18|      152|\n",
      "|          J.K. Rowling|Harry Potter Collection (Ha...|          4.73|        27410|     3342|\n",
      "|         Douglas Adams|The Ultimate Hitchhiker's G...|          4.38|         3602|      815|\n",
      "|         Douglas Adams|The Ultimate Hitchhiker's G...|          4.38|       240189|      815|\n",
      "+----------------------+------------------------------+--------------+-------------+---------+\n",
      "only showing top 10 rows\n",
      "\n"
     ]
    },
    {
     "data": {
      "text/plain": [
       "booksByPrimaryAuthor: org.apache.spark.sql.DataFrame = [primary_author: string, title: string ... 3 more fields]\n"
      ]
     },
     "execution_count": 145,
     "metadata": {},
     "output_type": "execute_result"
    }
   ],
   "source": [
    "val booksByPrimaryAuthor = booksDF.select((split(col(\"authors\"), \"-\").getItem(0).as(\"primary_author\")), \n",
    "                                           col(\"title\"), \n",
    "                                           col(\"average_rating\"),\n",
    "                                           col(\"ratings_count\"),\n",
    "                                           col(\"num_pages\"))\n",
    "booksByPrimaryAuthor.show(10, truncate=30)"
   ]
  },
  {
   "cell_type": "markdown",
   "metadata": {},
   "source": [
    "### Doing the grouping\n",
    "\n",
    "* Notice in the response, this is returning a `org.apache.spark.sql.RelationalGroupedDataset`\n",
    "* Once established we can run any of the aggregate functions from the [RelationalGroupedDataset API](https://spark.apache.org/docs/2.3.0/api/scala/index.html#org.apache.spark.sql.RelationalGroupedDataset)"
   ]
  },
  {
   "cell_type": "code",
   "execution_count": 146,
   "metadata": {},
   "outputs": [
    {
     "data": {
      "text/plain": [
       "import org.apache.spark.sql.RelationalGroupedDataset\n",
       "groupDataset: org.apache.spark.sql.RelationalGroupedDataset = RelationalGroupedDataset: [grouping expressions: [primary_author: string], value: [primary_author: string, title: string ... 3 more fields], type: GroupBy]\n"
      ]
     },
     "execution_count": 146,
     "metadata": {},
     "output_type": "execute_result"
    }
   ],
   "source": [
    "import org.apache.spark.sql.RelationalGroupedDataset\n",
    "val groupDataset:RelationalGroupedDataset = booksByPrimaryAuthor.groupBy(\"primary_author\")"
   ]
  },
  {
   "cell_type": "code",
   "execution_count": 147,
   "metadata": {},
   "outputs": [
    {
     "name": "stdout",
     "output_type": "stream",
     "text": [
      "+--------------------+-------------------+\n",
      "|      primary_author|avg(average_rating)|\n",
      "+--------------------+-------------------+\n",
      "|          James Frey|  3.630000114440918|\n",
      "|     Eric Klinenberg| 3.8399999141693115|\n",
      "|     Karen Armstrong|  3.971249997615814|\n",
      "|                Éric|                3.5|\n",
      "|          Dava Sobel| 3.8925000429153442|\n",
      "|        Helena Grice|  3.700000047683716|\n",
      "|         Ann Rinaldi| 3.7899999618530273|\n",
      "|         Ann Beattie|  3.440000057220459|\n",
      "|Brian Michael Bendis| 3.8899999856948853|\n",
      "|Michael Eliot Howard|  4.050000190734863|\n",
      "+--------------------+-------------------+\n",
      "only showing top 10 rows\n",
      "\n"
     ]
    },
    {
     "data": {
      "text/plain": [
       "averageRatingsByAuthor: org.apache.spark.sql.DataFrame = [primary_author: string, avg(average_rating): double]\n"
      ]
     },
     "execution_count": 147,
     "metadata": {},
     "output_type": "execute_result"
    }
   ],
   "source": [
    "val averageRatingsByAuthor = groupDataset.avg(\"average_rating\")\n",
    "averageRatingsByAuthor.show(10)"
   ]
  },
  {
   "cell_type": "markdown",
   "metadata": {},
   "source": [
    "### Cleaning up the results\n",
    "\n",
    "This is kind of ugly and doesn't give us what we are looking for, let us do the following:\n",
    "* Clean up the `avg` column by rounding \n",
    "* Capture the top 10\n",
    "* Renaming the column \n",
    "* Sorting by descendingly"
   ]
  },
  {
   "cell_type": "code",
   "execution_count": 141,
   "metadata": {},
   "outputs": [
    {
     "name": "stdout",
     "output_type": "stream",
     "text": [
      "+--------------------+---------------------+\n",
      "|      primary_author|average_author_rating|\n",
      "+--------------------+---------------------+\n",
      "|          James Frey|    3.630000114440918|\n",
      "|     Eric Klinenberg|   3.8399999141693115|\n",
      "|     Karen Armstrong|    3.971249997615814|\n",
      "|                Éric|                  3.5|\n",
      "|          Dava Sobel|   3.8925000429153442|\n",
      "|        Helena Grice|    3.700000047683716|\n",
      "|         Ann Rinaldi|   3.7899999618530273|\n",
      "|         Ann Beattie|    3.440000057220459|\n",
      "|Brian Michael Bendis|   3.8899999856948853|\n",
      "|Michael Eliot Howard|    4.050000190734863|\n",
      "+--------------------+---------------------+\n",
      "only showing top 10 rows\n",
      "\n"
     ]
    },
    {
     "data": {
      "text/plain": [
       "averageRatingsByAuthor2: org.apache.spark.sql.DataFrame = [primary_author: string, average_author_rating: double]\n"
      ]
     },
     "execution_count": 141,
     "metadata": {},
     "output_type": "execute_result"
    }
   ],
   "source": [
    "val averageRatingsByAuthor2 = averageRatingsByAuthor.withColumn(\"average_author_rating\", $\"avg(average_rating)\").drop($\"avg(average_rating)\")\n",
    "averageRatingsByAuthor2.show(10)"
   ]
  },
  {
   "cell_type": "code",
   "execution_count": 142,
   "metadata": {},
   "outputs": [
    {
     "name": "stdout",
     "output_type": "stream",
     "text": [
      "+--------------------+---------------------+\n",
      "|      primary_author|average_author_rating|\n",
      "+--------------------+---------------------+\n",
      "|        Ross Garnaut|                  5.0|\n",
      "|      Chris    Green|                  5.0|\n",
      "|     Aaron Rosenberg|                  5.0|\n",
      "|     James E. Ingram|                  5.0|\n",
      "|       Chris Jiggins|                  5.0|\n",
      "|     Julie Sylvester|                  5.0|\n",
      "|      Laura Driscoll|                  5.0|\n",
      "|       John  Diamond|                  5.0|\n",
      "|     Svetlana Alpers|                  5.0|\n",
      "|Middlesex Borough...|                  5.0|\n",
      "+--------------------+---------------------+\n",
      "only showing top 10 rows\n",
      "\n"
     ]
    },
    {
     "data": {
      "text/plain": [
       "averageRatingsByAuthorDesc: org.apache.spark.sql.Dataset[org.apache.spark.sql.Row] = [primary_author: string, average_author_rating: double]\n"
      ]
     },
     "execution_count": 142,
     "metadata": {},
     "output_type": "execute_result"
    }
   ],
   "source": [
    "val averageRatingsByAuthorDesc = averageRatingsByAuthor2.sort($\"average_author_rating\".desc)\n",
    "averageRatingsByAuthorDesc.show(10)"
   ]
  },
  {
   "cell_type": "markdown",
   "metadata": {},
   "source": [
    "#### Doesn't seem right\n",
    "\n",
    "The above data doesn't seem right, one review with \"5.0\" shouldn't outweigh \"4.2\" with 1000s of reviews. Let's start with the grouping again, and add some more aggregations.\n",
    "\n",
    "In Spark, the `RelationalGroupedDataset` has a way to aggregate more than one column, and it is the aggregate method. We can use it in combination with with the `org.apache.spark.sql.functions`\n",
    "\n",
    "If you are consulting the `org.apache.spark.sql.functions` API, look for the _Aggregate Functions_ section"
   ]
  },
  {
   "cell_type": "code",
   "execution_count": 156,
   "metadata": {},
   "outputs": [
    {
     "name": "stdout",
     "output_type": "stream",
     "text": [
      "+--------------------+---------------------+-------------+\n",
      "|      primary_author|average_author_rating|total_ratings|\n",
      "+--------------------+---------------------+-------------+\n",
      "|          James Frey|    3.630000114440918|       195863|\n",
      "|     Eric Klinenberg|   3.8399999141693115|          674|\n",
      "|     Karen Armstrong|    3.971249997615814|        67247|\n",
      "|                Éric|                  3.5|         2080|\n",
      "|          Dava Sobel|   3.8925000429153442|        67718|\n",
      "|        Helena Grice|    3.700000047683716|           10|\n",
      "|         Ann Rinaldi|   3.7899999618530273|         4988|\n",
      "|         Ann Beattie|    3.440000057220459|         1174|\n",
      "|Brian Michael Bendis|   3.8899999856948853|         1665|\n",
      "|Michael Eliot Howard|    4.050000190734863|          190|\n",
      "+--------------------+---------------------+-------------+\n",
      "only showing top 10 rows\n",
      "\n"
     ]
    },
    {
     "data": {
      "text/plain": [
       "import org.apache.spark.sql.functions._\n",
       "authorAggregate: org.apache.spark.sql.DataFrame = [primary_author: string, average_author_rating: double ... 1 more field]\n"
      ]
     },
     "execution_count": 156,
     "metadata": {},
     "output_type": "execute_result"
    }
   ],
   "source": [
    "import org.apache.spark.sql.functions._\n",
    "val authorAggregate = groupDataset.agg(avg(\"average_rating\").as(\"average_author_rating\"),\n",
    "                                       sum(\"ratings_count\").as(\"total_ratings\"))\n",
    "authorAggregate.show(10)"
   ]
  },
  {
   "cell_type": "markdown",
   "metadata": {},
   "source": [
    "### Performing our calculation"
   ]
  },
  {
   "cell_type": "code",
   "execution_count": 159,
   "metadata": {},
   "outputs": [
    {
     "name": "stdout",
     "output_type": "stream",
     "text": [
      "+--------------------+---------------------+-------------+-------------------+\n",
      "|      primary_author|average_author_rating|total_ratings|sum_product_ratings|\n",
      "+--------------------+---------------------+-------------+-------------------+\n",
      "|          James Frey|    3.630000114440918|       195863|  710982.7124147415|\n",
      "|     Eric Klinenberg|   3.8399999141693115|          674|  2588.159942150116|\n",
      "|     Karen Armstrong|    3.971249997615814|        67247| 267054.64858967066|\n",
      "|                Éric|                  3.5|         2080|             7280.0|\n",
      "|          Dava Sobel|   3.8925000429153442|        67718|  263592.3179061413|\n",
      "|        Helena Grice|    3.700000047683716|           10|  37.00000047683716|\n",
      "|         Ann Rinaldi|   3.7899999618530273|         4988|   18904.5198097229|\n",
      "|         Ann Beattie|    3.440000057220459|         1174|  4038.560067176819|\n",
      "|Brian Michael Bendis|   3.8899999856948853|         1665|  6476.849976181984|\n",
      "|Michael Eliot Howard|    4.050000190734863|          190|   769.500036239624|\n",
      "+--------------------+---------------------+-------------+-------------------+\n",
      "only showing top 10 rows\n",
      "\n"
     ]
    },
    {
     "data": {
      "text/plain": [
       "authorAggregateWeighed: org.apache.spark.sql.DataFrame = [primary_author: string, average_author_rating: double ... 2 more fields]\n"
      ]
     },
     "execution_count": 159,
     "metadata": {},
     "output_type": "execute_result"
    }
   ],
   "source": [
    "val authorAggregateWeighed = authorAggregate\n",
    "                                .withColumn(\"sum_product_ratings\", $\"total_ratings\" * $\"average_author_rating\")\n",
    "authorAggregateWeighed.show(10)"
   ]
  },
  {
   "cell_type": "markdown",
   "metadata": {},
   "source": [
    "### Show the most prolific authors\n",
    "\n",
    "* Here we will limit the results just to the top 10"
   ]
  },
  {
   "cell_type": "code",
   "execution_count": 167,
   "metadata": {},
   "outputs": [
    {
     "name": "stdout",
     "output_type": "stream",
     "text": [
      "+-------------------+---------------------+\n",
      "|     primary_author|average_author_rating|\n",
      "+-------------------+---------------------+\n",
      "|       J.K. Rowling|    4.512857096535819|\n",
      "|     J.R.R. Tolkien|    4.235945927130209|\n",
      "|       Stephen King|    4.009765664115548|\n",
      "|William Shakespeare|   3.9309734812879986|\n",
      "|          Dan Brown|    3.799130460490351|\n",
      "|    Stephenie Meyer|   3.5899999141693115|\n",
      "|    Nicholas Sparks|    3.997692291553204|\n",
      "| George R.R. Martin|    4.148571389062064|\n",
      "|      J.D. Salinger|   3.9745454137975518|\n",
      "|      George Orwell|    4.166111177868313|\n",
      "+-------------------+---------------------+\n",
      "\n"
     ]
    },
    {
     "data": {
      "text/plain": [
       "topAuthors: org.apache.spark.sql.Dataset[org.apache.spark.sql.Row] = [primary_author: string, average_author_rating: double]\n"
      ]
     },
     "execution_count": 167,
     "metadata": {},
     "output_type": "execute_result"
    }
   ],
   "source": [
    "val topAuthors = authorAggregateWeighed\n",
    "                    .select($\"primary_author\", $\"average_author_rating\")\n",
    "                    .sort($\"sum_product_ratings\".desc)\n",
    "                    .limit(10)\n",
    "topAuthors.show()\n"
   ]
  }
 ],
 "metadata": {
  "kernelspec": {
   "display_name": "spylon-kernel",
   "language": "scala",
   "name": "spylon-kernel"
  },
  "language_info": {
   "codemirror_mode": "text/x-scala",
   "file_extension": ".scala",
   "help_links": [
    {
     "text": "MetaKernel Magics",
     "url": "https://metakernel.readthedocs.io/en/latest/source/README.html"
    }
   ],
   "mimetype": "text/x-scala",
   "name": "scala",
   "pygments_lexer": "scala",
   "version": "0.4.1"
  }
 },
 "nbformat": 4,
 "nbformat_minor": 2
}

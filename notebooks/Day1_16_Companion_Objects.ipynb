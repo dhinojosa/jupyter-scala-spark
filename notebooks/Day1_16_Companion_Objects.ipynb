{
 "cells": [
  {
   "cell_type": "markdown",
   "metadata": {},
   "source": [
    "# Companion Objects"
   ]
  },
  {
   "cell_type": "markdown",
   "metadata": {},
   "source": [
    "## Using Companion Objects\n",
    "\n",
    "Companion Objects\n",
    "* Still singletons\n",
    "* Services a `class`, `trait`, `abstract class`\n",
    "\n",
    "Companion Object Rules:\n",
    "* Must have the same name as the class, trait, abstract class it supports\n",
    "* The class and the object has to be in the same file\n",
    "* `trait` is analogous to an interface in Java\n",
    "\n",
    "Companion Object Benefits:\n",
    "* `class` and `object` can share private information\n",
    "* This makes `object` perfect for being a factory of the corresponding class\n",
    "* Stores logic for pattern matching"
   ]
  },
  {
   "cell_type": "markdown",
   "metadata": {},
   "source": [
    "## Accessing private shared state"
   ]
  },
  {
   "cell_type": "code",
   "execution_count": 2,
   "metadata": {},
   "outputs": [
    {
     "data": {
      "text/plain": [
       "defined class SecretAgent\n",
       "defined object SecretAgent\n"
      ]
     },
     "execution_count": 2,
     "metadata": {},
     "output_type": "execute_result"
    }
   ],
   "source": [
    "class SecretAgent(val name: String) {\n",
    "  def shoot(n: Int) {\n",
    "    SecretAgent.decrementBullets(n) //Can be imported and shortened\n",
    "                                    //using import SecretAgent._\n",
    "  }\n",
    "}\n",
    "\n",
    "object SecretAgent {\n",
    "  //This is encapsulated!\n",
    "  private var b: Int = 3000 //only available privately\n",
    "\n",
    "  private def decrementBullets(count: Int) {  //only available privately\n",
    "    if (b - count <= 0) b = 0\n",
    "    else b = b - count\n",
    "  }\n",
    "\n",
    "  def bullets = b\n",
    "}"
   ]
  },
  {
   "cell_type": "markdown",
   "metadata": {},
   "source": [
    "Running this would look like:"
   ]
  },
  {
   "cell_type": "code",
   "execution_count": 4,
   "metadata": {},
   "outputs": [],
   "source": [
    "val bond = new SecretAgent(\"James Bond\")\n",
    "val felix = new SecretAgent(\"Felix Leitner\")\n",
    "val jason = new SecretAgent(\"Jason Bourne\")\n",
    "val _99 = new SecretAgent(\"99\")\n",
    "val max = new SecretAgent(\"Max Smart\")\n",
    "\n",
    "bond.shoot(800)\n",
    "felix.shoot(200)\n",
    "jason.shoot(150)\n",
    "_99.shoot(150)\n",
    "max.shoot(200)\n",
    "\n",
    "println(SecretAgent.bullets) //How many bullets are left?"
   ]
  },
  {
   "cell_type": "markdown",
   "metadata": {},
   "source": [
    "## Creating a factory\n",
    "\n",
    "* One of the main uses of a companion object is to use it as a factory\n",
    "* To do so, lets say, direct invocation of `Department` in the following example is locked with `private`\n",
    "* We can then create a factory using the companion object to Department class"
   ]
  },
  {
   "cell_type": "code",
   "execution_count": 7,
   "metadata": {},
   "outputs": [
    {
     "data": {
      "text/plain": [
       "defined class Department\n",
       "defined object Department\n"
      ]
     },
     "execution_count": 7,
     "metadata": {},
     "output_type": "execute_result"
    }
   ],
   "source": [
    "class Department private(val name:String)\n",
    "object Department {\n",
    "   def create(name:String) = new Department(name)\n",
    "}"
   ]
  },
  {
   "cell_type": "markdown",
   "metadata": {},
   "source": [
    "The above really is just a static factory pattern that you would see in Java."
   ]
  },
  {
   "cell_type": "markdown",
   "metadata": {},
   "source": [
    "## Calling the factory from the companion object\n",
    "How can we call the factory?"
   ]
  },
  {
   "cell_type": "code",
   "execution_count": 9,
   "metadata": {},
   "outputs": [
    {
     "data": {
      "text/plain": [
       "department: Department = Department@78792922\n",
       "res1: String = Toys\n"
      ]
     },
     "execution_count": 9,
     "metadata": {},
     "output_type": "execute_result"
    }
   ],
   "source": [
    "val department = Department.create(\"Toys\")\n",
    "department.name"
   ]
  },
  {
   "cell_type": "markdown",
   "metadata": {},
   "source": [
    "## **Lab:** Redo `Department`"
   ]
  },
  {
   "cell_type": "markdown",
   "metadata": {},
   "source": [
    "**Step 1:** Important Question: Is there a better name instead of create? Decide and implement. "
   ]
  },
  {
   "cell_type": "code",
   "execution_count": null,
   "metadata": {},
   "outputs": [],
   "source": []
  },
  {
   "cell_type": "code",
   "execution_count": null,
   "metadata": {},
   "outputs": [],
   "source": []
  },
  {
   "cell_type": "markdown",
   "metadata": {},
   "source": [
    "**Step 2:** Look up how you create `List`, `Set`, `Map` in the Scala API https://www.scala-lang.org/files/archive/api/current/"
   ]
  },
  {
   "cell_type": "markdown",
   "metadata": {},
   "source": [
    "## Companion Object Conclusion\n",
    "\n",
    "* Companion Objects have the same name as the class that they work for\n",
    "* Companion Objects must be in the same file.\n",
    "* Companion Objects have access to their classes private information.\n",
    "* Classes have access to the companion’s private information."
   ]
  }
 ],
 "metadata": {
  "kernelspec": {
   "display_name": "spylon-kernel",
   "language": "scala",
   "name": "spylon-kernel"
  },
  "language_info": {
   "codemirror_mode": "text/x-scala",
   "file_extension": ".scala",
   "help_links": [
    {
     "text": "MetaKernel Magics",
     "url": "https://metakernel.readthedocs.io/en/latest/source/README.html"
    }
   ],
   "mimetype": "text/x-scala",
   "name": "scala",
   "pygments_lexer": "scala",
   "version": "0.4.1"
  }
 },
 "nbformat": 4,
 "nbformat_minor": 2
}

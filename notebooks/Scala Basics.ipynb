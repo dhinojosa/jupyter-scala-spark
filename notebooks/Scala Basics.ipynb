{
 "cells": [
  {
   "cell_type": "markdown",
   "metadata": {},
   "source": [
    "# Scala"
   ]
  },
  {
   "cell_type": "markdown",
   "metadata": {},
   "source": [
    "## What is Scala?\n",
    "\n",
    "* Multi-paradigm programming language\n",
    "  * Functional\n",
    "    * Every function is an object and a value\n",
    "    * Capable of anonymous and higher order functions\n",
    "  * Object Oriented\n",
    "    * Everything can considered an object, including integers, floats\n",
    "    * Inheritance through mixins and subclasses"
   ]
  },
  {
   "cell_type": "markdown",
   "metadata": {},
   "source": [
    "<hr/>\n",
    "\n",
    "## Statically Typed Language\n",
    "\n",
    "* Every value contains a type\n",
    "* Expressive type system\n",
    "* Types can be inferred\n",
    "  * Cleaner\n",
    "  * Less Physical Typing"
   ]
  },
  {
   "cell_type": "markdown",
   "metadata": {},
   "source": [
    "<hr/>\n",
    "\n",
    "## What are the advantages of Scala?\n",
    "\n",
    "* JVM Based\n",
    "* Highly Productive Language\n",
    "* Expressive Language\n",
    "* Concise Language\n",
    "  * Type Inference\n",
    "  * No `return` required\n",
    "  * No semicolons (`;`) required\n",
    "  * All methods `public` by default\n",
    "  * Above all, highly functional!"
   ]
  },
  {
   "attachments": {},
   "cell_type": "markdown",
   "metadata": {},
   "source": [
    "<hr/>\n",
    "\n",
    "## What are the disadvantages of Scala\n",
    "* Higher learning curve, until function programming becomes more prominent\n",
    "* Non-backwards compatibility\n",
    "  * Below you see that there is a library version (2.5.2) \n",
    "    and there is a the scala version that it \n",
    "    is compiled for (2.12 & 2.11). Spark has the same versioning scheme.\n",
    "    \n",
    "![Backwards Compatibility](../images/non-backwards-compatibility.png)    "
   ]
  },
  {
   "cell_type": "markdown",
   "metadata": {},
   "source": [
    "<hr/>\n",
    "\n",
    "## `println` for printing"
   ]
  },
  {
   "cell_type": "code",
   "execution_count": 1,
   "metadata": {},
   "outputs": [
    {
     "data": {
      "text/plain": [
       "Intitializing Scala interpreter ..."
      ]
     },
     "metadata": {},
     "output_type": "display_data"
    },
    {
     "data": {
      "text/plain": [
       "Spark Web UI available at http://8b88397e8913:4040\n",
       "SparkContext available as 'sc' (version = 2.4.3, master = local[*], app id = local-1561635899054)\n",
       "SparkSession available as 'spark'\n"
      ]
     },
     "metadata": {},
     "output_type": "display_data"
    },
    {
     "name": "stdout",
     "output_type": "stream",
     "text": [
      "Scala is Awesome\n"
     ]
    }
   ],
   "source": [
    "println(\"Scala is Awesome\")"
   ]
  },
  {
   "cell_type": "markdown",
   "metadata": {},
   "source": [
    "<hr/>\n",
    "\n",
    "## Creating classes\n",
    "* The property names (e.g. `firstName`) come first before the type (e.g. `String`)\n",
    "* The signature `(firstName:String, lastName:String, department:Department)` is the primary constructor\n",
    "* The signature `(firstName:String, lastName:String, department:Department)` also corresponds to the fields inside the object\n",
    "* Notice there is no `public` keyword\n",
    "* Notice that one of the constructor parameters is of `Department` and department is declared _after_ `Employee`\n",
    "* `Department` has one property `name` of type `String`\n"
   ]
  },
  {
   "cell_type": "code",
   "execution_count": 2,
   "metadata": {},
   "outputs": [
    {
     "data": {
      "text/plain": [
       "defined class Employee\n",
       "defined class Department\n"
      ]
     },
     "execution_count": 2,
     "metadata": {},
     "output_type": "execute_result"
    }
   ],
   "source": [
    "class Employee(firstName:String, lastName:String, department:Department)\n",
    "class Department(name:String)"
   ]
  },
  {
   "cell_type": "markdown",
   "metadata": {},
   "source": [
    "<hr/>\n",
    "\n",
    "## Instantiating the classes\n",
    "\n",
    "In Scala we can instantiate the `Employee` using the `new` keyword and filling in the properties/fields"
   ]
  },
  {
   "cell_type": "code",
   "execution_count": 3,
   "metadata": {},
   "outputs": [
    {
     "data": {
      "text/plain": [
       "emp: Employee = Employee@751ecd5c\n"
      ]
     },
     "execution_count": 3,
     "metadata": {},
     "output_type": "execute_result"
    }
   ],
   "source": [
    "val emp = new Employee(\"Bertrand\", \"Russell\", new Department(\"Toys\"))"
   ]
  },
  {
   "cell_type": "markdown",
   "metadata": {},
   "source": [
    "<hr/> \n",
    "\n",
    "## Running the classes\n",
    "\n",
    "Classes can be run as application by creating an `object` that contains a `main` method. \n",
    "The `main` method:\n",
    " * Accepts arguments as an `Array[String]` which is a Scala object that represents a Java array\n",
    " * `def` is method\n",
    " * `main` is the name of the method\n",
    " * `args` is the name of the `Array[String]` that can be referenced from with the `main` method\n",
    " * Housed inside an `object`\n",
    "\n",
    "To compile, put these classes in either one file, or multiple files and compile with `scalac`. For example, if we place these classes in a file called _Entities.scala_ we would compile with the following console command.\n",
    "\n",
    "  `scalac Entities.scala`\n",
    "  \n",
    "To run we would run the class using the command, keep in mind that `MyRunner` is the construct that we run.\n",
    "\n",
    "  `scala MyRunner`"
   ]
  },
  {
   "cell_type": "code",
   "execution_count": 4,
   "metadata": {},
   "outputs": [
    {
     "data": {
      "text/plain": [
       "defined class Employee\n",
       "defined class Department\n",
       "defined object MyRunner\n"
      ]
     },
     "execution_count": 4,
     "metadata": {},
     "output_type": "execute_result"
    }
   ],
   "source": [
    "class Employee(firstName:String, lastName:String, department:Department)\n",
    "class Department(name:String)\n",
    "object MyRunner {\n",
    "   def main(args:Array[String]) {\n",
    "        println(\"Hello, Scala\")\n",
    "   }\n",
    "}"
   ]
  },
  {
   "cell_type": "markdown",
   "metadata": {},
   "source": [
    "<hr/>\n",
    "\n",
    "## About `object`\n",
    "\n",
    "* object is a singleton\n",
    "* It is how we avoid `static`\n",
    "* Scala doesn’t have the `static` keyword\n",
    "* Reminder: All methods are public by default\n",
    "\n",
    "Therefore the following is the same as `public static void main(String[] args)` in Java."
   ]
  },
  {
   "cell_type": "code",
   "execution_count": 5,
   "metadata": {},
   "outputs": [
    {
     "data": {
      "text/plain": [
       "defined object MyRunner\n"
      ]
     },
     "execution_count": 5,
     "metadata": {},
     "output_type": "execute_result"
    }
   ],
   "source": [
    "object MyRunner {\n",
    "   def main(args:Array[String]) {\n",
    "        println(\"Hello, Scala\")\n",
    "   }\n",
    "}"
   ]
  },
  {
   "cell_type": "markdown",
   "metadata": {},
   "source": [
    "<hr/>\n",
    "\n",
    "## Using `App`\n",
    "\n",
    "* Turns `object` into an executable program\n",
    "* No need for a `main` method\n",
    "* `args` can be referenced to the `Array[String]` of arguments"
   ]
  },
  {
   "cell_type": "code",
   "execution_count": 6,
   "metadata": {},
   "outputs": [
    {
     "data": {
      "text/plain": [
       "defined object MyRunner\n"
      ]
     },
     "execution_count": 6,
     "metadata": {},
     "output_type": "execute_result"
    }
   ],
   "source": [
    "object MyRunner extends App {\n",
    "  println(\"Hello, Scala\")\n",
    "}"
   ]
  },
  {
   "cell_type": "markdown",
   "metadata": {},
   "source": [
    "<hr/>\n",
    "\n",
    "## Packaging the classes\n",
    "\n",
    "All classed can be placed into a `package` much like in java to organize classes:\n",
    "\n",
    "```\n",
    "package com.xyzcorp\n",
    "class Employee(firstName:String, lastName:String, department:Department)\n",
    "class Department(name:String)\n",
    "object MyRunner {\n",
    "   def main(args:Array[String]) {\n",
    "        println(\"Hello, Scala\")\n",
    "   }\n",
    "}\n",
    "```\n",
    "\n",
    "NOTE: We cannot run this in Jupyter notebook since it cannot recognize the `package`"
   ]
  },
  {
   "cell_type": "markdown",
   "metadata": {},
   "source": [
    "<hr/>\n",
    "\n",
    "## Packaging with containment\n",
    "\n",
    "Packages in Scala can be done in a hierarchical manner. Notice that `xyzcorp` and `abccorp` are both a `package` and are embedded with in the `com` package.  That means that the `Employee` and `Department` classes are in the `com.xyzcorp` package and the `MyRunner` class is in the `com.abccorp` package.\n",
    "\n",
    "```\n",
    "package com {\n",
    "  package xyzcorp {\n",
    "    class Employee(firstName:String, lastName:String, department:Department)\n",
    "    class Department(name:String)\n",
    "  }\n",
    "  package abccorp {\n",
    "    object MyRunner {\n",
    "      def main(args:Array[String]) {\n",
    "        println(\"Hello, Scala\")\n",
    "      }\n",
    "    }\n",
    "  }\n",
    "}\n",
    "```\n",
    "\n",
    "NOTE: We cannot run this in Jupyter notebook since it cannot recognize the package"
   ]
  },
  {
   "cell_type": "markdown",
   "metadata": {},
   "source": [
    "<hr/>\n",
    "\n",
    "## `val` and `var`\n",
    "\n",
    "### `val`\n",
    "\n",
    "* `val` is called a value\n",
    "* It is immutable, therefore unchangeable\n",
    "* No reassignment\n",
    "* Since Scala is mostly a functional language, and immutability is preferred, using `val` is absolutely preferred"
   ]
  },
  {
   "cell_type": "code",
   "execution_count": null,
   "metadata": {},
   "outputs": [],
   "source": [
    "val a = 10"
   ]
  },
  {
   "cell_type": "markdown",
   "metadata": {},
   "source": [
    "<hr/>\n",
    "\n",
    "### Reassignment of `val`\n",
    "\n",
    "A reassignment is out of the question with a `val`. Try it."
   ]
  },
  {
   "cell_type": "code",
   "execution_count": 8,
   "metadata": {},
   "outputs": [
    {
     "ename": "<console>",
     "evalue": "25: error: reassignment to val",
     "output_type": "error",
     "traceback": [
      "<console>:25: error: reassignment to val",
      "       a = 19 //error: reassignment to val",
      "         ^",
      ""
     ]
    }
   ],
   "source": [
    "val a = 10\n",
    "a = 19 //error: reassignment to val"
   ]
  },
  {
   "cell_type": "markdown",
   "metadata": {},
   "source": [
    "<hr/>\n",
    "\n",
    "### `var`\n",
    "\n",
    "\n",
    "* Called a variable\n",
    "* It is mutable, therefore changeable\n",
    "* Reassignable\n",
    "* Used sparingly, or not at all\n",
    "* Usually kept from being changed from the outside"
   ]
  },
  {
   "cell_type": "code",
   "execution_count": 10,
   "metadata": {},
   "outputs": [
    {
     "name": "stdout",
     "output_type": "stream",
     "text": [
      "19\n"
     ]
    },
    {
     "data": {
      "text/plain": [
       "a: Int = 19\n",
       "a: Int = 19\n"
      ]
     },
     "execution_count": 10,
     "metadata": {},
     "output_type": "execute_result"
    }
   ],
   "source": [
    "var a = 10\n",
    "a = 19\n",
    "println(19)"
   ]
  }
 ],
 "metadata": {
  "kernelspec": {
   "display_name": "spylon-kernel",
   "language": "scala",
   "name": "spylon-kernel"
  },
  "language_info": {
   "codemirror_mode": "text/x-scala",
   "file_extension": ".scala",
   "help_links": [
    {
     "text": "MetaKernel Magics",
     "url": "https://metakernel.readthedocs.io/en/latest/source/README.html"
    }
   ],
   "mimetype": "text/x-scala",
   "name": "scala",
   "pygments_lexer": "scala",
   "version": "0.4.1"
  }
 },
 "nbformat": 4,
 "nbformat_minor": 2
}

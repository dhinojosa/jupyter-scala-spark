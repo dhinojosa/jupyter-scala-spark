{
 "cells": [
  {
   "cell_type": "markdown",
   "metadata": {},
   "source": [
    "# Scala\n",
    "Authors: Daniel Hinojosa"
   ]
  },
  {
   "cell_type": "markdown",
   "metadata": {},
   "source": [
    "## What is Scala?\n",
    "\n",
    "* Multi-paradigm programming language\n",
    "  * Functional\n",
    "    * Every function is an object and a value\n",
    "    * Capable of anonymous and higher order functions\n",
    "  * Object Oriented\n",
    "    * Everything can considered an object, including integers, floats\n",
    "    * Inheritance through mixins and subclasses"
   ]
  },
  {
   "cell_type": "markdown",
   "metadata": {},
   "source": [
    "<hr/>\n",
    "\n",
    "## Statically Typed Language\n",
    "\n",
    "* Every value contains a type\n",
    "* Expressive type system\n",
    "* Types can be inferred\n",
    "  * Cleaner\n",
    "  * Less Physical Typing"
   ]
  },
  {
   "cell_type": "markdown",
   "metadata": {},
   "source": [
    "<hr/>\n",
    "\n",
    "## What are the advantages of Scala?\n",
    "\n",
    "* JVM Based\n",
    "* Highly Productive Language\n",
    "* Expressive Language\n",
    "* Concise Language\n",
    "  * Type Inference\n",
    "  * No `return` required\n",
    "  * No semicolons (`;`) required\n",
    "  * All methods `public` by default\n",
    "  * Above all, highly functional!"
   ]
  },
  {
   "cell_type": "markdown",
   "metadata": {},
   "source": [
    "<hr/>\n",
    "\n",
    "## What are the disadvantages of Scala\n",
    "* Higher learning curve, until function programming becomes more prominent\n",
    "* Non-backwards compatibility\n",
    "  * Below you see that there is a library version (2.5.2) \n",
    "    and there is a the scala version that it \n",
    "    is compiled for (2.12 & 2.11). Spark has the same versioning scheme.\n",
    "    \n",
    "![Backwards Compatibility](../images/non-backwards-compatibility.png)    "
   ]
  },
  {
   "cell_type": "markdown",
   "metadata": {},
   "source": [
    "<hr/>\n",
    "\n",
    "## `println` for printing"
   ]
  },
  {
   "cell_type": "code",
   "execution_count": 1,
   "metadata": {},
   "outputs": [
    {
     "data": {
      "text/plain": [
       "Intitializing Scala interpreter ..."
      ]
     },
     "metadata": {},
     "output_type": "display_data"
    },
    {
     "data": {
      "text/plain": [
       "Spark Web UI available at http://6e39fc3e73c4:4040\n",
       "SparkContext available as 'sc' (version = 2.4.3, master = local[*], app id = local-1562039360891)\n",
       "SparkSession available as 'spark'\n"
      ]
     },
     "metadata": {},
     "output_type": "display_data"
    },
    {
     "name": "stdout",
     "output_type": "stream",
     "text": [
      "Scala is Awesome\n"
     ]
    }
   ],
   "source": [
    "println(\"Scala is Awesome\")"
   ]
  },
  {
   "cell_type": "markdown",
   "metadata": {},
   "source": [
    "<hr/>\n",
    "\n",
    "## Creating classes\n",
    "* The property names (e.g. `firstName`) come first before the type (e.g. `String`)\n",
    "* The signature `(firstName:String, lastName:String, department:Department)` is the primary constructor\n",
    "* The signature `(firstName:String, lastName:String, department:Department)` also corresponds to the fields inside the object\n",
    "* Notice there is no `public` keyword\n",
    "* Notice that one of the constructor parameters is of `Department` and department is declared _after_ `Employee`\n",
    "* `Department` has one property `name` of type `String`\n"
   ]
  },
  {
   "cell_type": "code",
   "execution_count": 2,
   "metadata": {},
   "outputs": [
    {
     "data": {
      "text/plain": [
       "defined class Employee\n",
       "defined class Department\n"
      ]
     },
     "execution_count": 2,
     "metadata": {},
     "output_type": "execute_result"
    }
   ],
   "source": [
    "class Employee(firstName:String, lastName:String, department:Department)\n",
    "class Department(name:String)"
   ]
  },
  {
   "cell_type": "markdown",
   "metadata": {},
   "source": [
    "<hr/>\n",
    "\n",
    "## Instantiating the classes\n",
    "\n",
    "In Scala we can instantiate the `Employee` using the `new` keyword and filling in the properties/fields"
   ]
  },
  {
   "cell_type": "code",
   "execution_count": 3,
   "metadata": {},
   "outputs": [
    {
     "data": {
      "text/plain": [
       "emp: Employee = Employee@586acde4\n"
      ]
     },
     "execution_count": 3,
     "metadata": {},
     "output_type": "execute_result"
    }
   ],
   "source": [
    "val emp = new Employee(\"Bertrand\", \"Russell\", new Department(\"Toys\"))"
   ]
  },
  {
   "cell_type": "markdown",
   "metadata": {},
   "source": [
    "<hr/> \n",
    "\n",
    "## Running the classes\n",
    "\n",
    "Classes can be run as application by creating an `object` that contains a `main` method. \n",
    "The `main` method:\n",
    " * Accepts arguments as an `Array[String]` which is a Scala object that represents a Java array\n",
    " * `def` is method\n",
    " * `main` is the name of the method\n",
    " * `args` is the name of the `Array[String]` that can be referenced from with the `main` method\n",
    " * Housed inside an `object`\n",
    "\n",
    "To compile, put these classes in either one file, or multiple files and compile with `scalac`. For example, if we place these classes in a file called _Entities.scala_ we would compile with the following console command.\n",
    "\n",
    "  `scalac Entities.scala`\n",
    "  \n",
    "To run we would run the class using the command, keep in mind that `MyRunner` is the construct that we run.\n",
    "\n",
    "  `scala MyRunner`"
   ]
  },
  {
   "cell_type": "code",
   "execution_count": 4,
   "metadata": {},
   "outputs": [
    {
     "data": {
      "text/plain": [
       "defined class Employee\n",
       "defined class Department\n",
       "defined object MyRunner\n"
      ]
     },
     "execution_count": 4,
     "metadata": {},
     "output_type": "execute_result"
    }
   ],
   "source": [
    "class Employee(firstName:String, lastName:String, department:Department)\n",
    "class Department(name:String)\n",
    "object MyRunner {\n",
    "   def main(args:Array[String]) {\n",
    "        println(\"Hello, Scala\")\n",
    "   }\n",
    "}"
   ]
  },
  {
   "cell_type": "markdown",
   "metadata": {},
   "source": [
    "<hr/>\n",
    "\n",
    "## About `object`\n",
    "\n",
    "* object is a singleton\n",
    "* It is how we avoid `static`\n",
    "* Scala doesn’t have the `static` keyword\n",
    "* Reminder: All methods are public by default\n",
    "\n",
    "Therefore the following is the same as `public static void main(String[] args)` in Java."
   ]
  },
  {
   "cell_type": "code",
   "execution_count": 5,
   "metadata": {},
   "outputs": [
    {
     "data": {
      "text/plain": [
       "defined object MyRunner\n"
      ]
     },
     "execution_count": 5,
     "metadata": {},
     "output_type": "execute_result"
    }
   ],
   "source": [
    "object MyRunner {\n",
    "   def main(args:Array[String]) {\n",
    "        println(\"Hello, Scala\")\n",
    "   }\n",
    "}"
   ]
  },
  {
   "cell_type": "markdown",
   "metadata": {},
   "source": [
    "<hr/>\n",
    "\n",
    "## Using `App`\n",
    "\n",
    "* Turns `object` into an executable program\n",
    "* No need for a `main` method\n",
    "* `args` can be referenced to the `Array[String]` of arguments"
   ]
  },
  {
   "cell_type": "code",
   "execution_count": 6,
   "metadata": {},
   "outputs": [
    {
     "data": {
      "text/plain": [
       "defined object MyRunner\n"
      ]
     },
     "execution_count": 6,
     "metadata": {},
     "output_type": "execute_result"
    }
   ],
   "source": [
    "object MyRunner extends App {\n",
    "  println(\"Hello, Scala\")\n",
    "}"
   ]
  },
  {
   "cell_type": "markdown",
   "metadata": {},
   "source": [
    "<hr/>\n",
    "\n",
    "## Packaging the classes\n",
    "\n",
    "All classed can be placed into a `package` much like in java to organize classes:\n",
    "\n",
    "```\n",
    "package com.xyzcorp\n",
    "class Employee(firstName:String, lastName:String, department:Department)\n",
    "class Department(name:String)\n",
    "object MyRunner {\n",
    "   def main(args:Array[String]) {\n",
    "        println(\"Hello, Scala\")\n",
    "   }\n",
    "}\n",
    "```\n",
    "\n",
    "NOTE: We cannot run this in Jupyter notebook since it cannot recognize the `package`"
   ]
  },
  {
   "cell_type": "markdown",
   "metadata": {},
   "source": [
    "<hr/>\n",
    "\n",
    "## Packaging with containment\n",
    "\n",
    "Packages in Scala can be done in a hierarchical manner. Notice that `xyzcorp` and `abccorp` are both a `package` and are embedded with in the `com` package.  That means that the `Employee` and `Department` classes are in the `com.xyzcorp` package and the `MyRunner` class is in the `com.abccorp` package.\n",
    "\n",
    "```\n",
    "package com {\n",
    "  package xyzcorp {\n",
    "    class Employee(firstName:String, lastName:String, department:Department)\n",
    "    class Department(name:String)\n",
    "  }\n",
    "  package abccorp {\n",
    "    object MyRunner {\n",
    "      def main(args:Array[String]) {\n",
    "        println(\"Hello, Scala\")\n",
    "      }\n",
    "    }\n",
    "  }\n",
    "}\n",
    "```\n",
    "\n",
    "NOTE: We cannot run this in Jupyter notebook since it cannot recognize the package"
   ]
  },
  {
   "cell_type": "markdown",
   "metadata": {},
   "source": [
    "<hr/>\n",
    "\n",
    "## `val` and `var`\n",
    "\n",
    "### `val`\n",
    "\n",
    "* `val` is called a value\n",
    "* It is immutable, therefore unchangeable\n",
    "* No reassignment\n",
    "* Since Scala is mostly a functional language, and immutability is preferred, using `val` is absolutely preferred"
   ]
  },
  {
   "cell_type": "code",
   "execution_count": 7,
   "metadata": {},
   "outputs": [
    {
     "data": {
      "text/plain": [
       "a: Int = 10\n"
      ]
     },
     "execution_count": 7,
     "metadata": {},
     "output_type": "execute_result"
    }
   ],
   "source": [
    "val a = 10"
   ]
  },
  {
   "cell_type": "markdown",
   "metadata": {},
   "source": [
    "<hr/>\n",
    "\n",
    "### Reassignment of `val`\n",
    "\n",
    "A reassignment is out of the question with a `val`. Try it."
   ]
  },
  {
   "cell_type": "code",
   "execution_count": 8,
   "metadata": {},
   "outputs": [
    {
     "ename": "<console>",
     "evalue": "27: error: reassignment to val",
     "output_type": "error",
     "traceback": [
      "<console>:27: error: reassignment to val",
      "       a = 19 //error: reassignment to val",
      "         ^",
      ""
     ]
    }
   ],
   "source": [
    "val a = 10\n",
    "a = 19 //error: reassignment to val"
   ]
  },
  {
   "cell_type": "markdown",
   "metadata": {},
   "source": [
    "<hr/>\n",
    "\n",
    "### `var`\n",
    "\n",
    "\n",
    "* Called a variable\n",
    "* It is mutable, therefore changeable\n",
    "* Reassignable\n",
    "* Used sparingly, or not at all\n",
    "* Usually kept from being changed from the outside"
   ]
  },
  {
   "cell_type": "code",
   "execution_count": null,
   "metadata": {},
   "outputs": [],
   "source": [
    "var a = 10\n",
    "a = 19\n",
    "println(19)"
   ]
  },
  {
   "cell_type": "markdown",
   "metadata": {},
   "source": [
    "<hr/>\n",
    "\n",
    "## Primitive Types\n",
    "\n",
    "* All primitives are that of the JVM (`byte`, `short`, etc.)\n",
    "* JVM primitives are used as objects in Scala.\n",
    "* At compile time, depending on the use, may compile to a primitive or an object."
   ]
  },
  {
   "cell_type": "markdown",
   "metadata": {},
   "source": [
    "### `Byte`\n",
    "\n",
    "A byte is an 8 bit number, which is the same in Java.\n",
    "\n",
    "The maximum for each number in the JVM is defined as ${2^{n-1}}-1$ where $n$ is the number of bits.\n",
    "\n",
    "The minimum is defined as ${2^{n-1}}$\n",
    "\n",
    "That means that the maximum size for a byte, which is 8 bits, ${2^{8−1}−1}$, or ${2^{7} - 1}$ or 127.\n",
    "\n",
    "The minimum would be negative $2^{8−1}$, or $−{2^7}$ or -128"
   ]
  },
  {
   "cell_type": "code",
   "execution_count": null,
   "metadata": {},
   "outputs": [],
   "source": [
    "val b:Byte = 127"
   ]
  },
  {
   "cell_type": "markdown",
   "metadata": {},
   "source": [
    "or if we were to employ coersion"
   ]
  },
  {
   "cell_type": "code",
   "execution_count": null,
   "metadata": {},
   "outputs": [],
   "source": [
    "val b = 127:Byte"
   ]
  },
  {
   "cell_type": "markdown",
   "metadata": {},
   "source": [
    "Here we establishing a negative with the minimum size of a byte."
   ]
  },
  {
   "cell_type": "code",
   "execution_count": null,
   "metadata": {},
   "outputs": [],
   "source": [
    "val b = -128:Byte"
   ]
  },
  {
   "cell_type": "markdown",
   "metadata": {},
   "source": [
    "If you care to express yourself in hexadecimal the following is the same as 127"
   ]
  },
  {
   "cell_type": "code",
   "execution_count": null,
   "metadata": {},
   "outputs": [],
   "source": [
    "val b = 0x7F:Byte"
   ]
  },
  {
   "cell_type": "markdown",
   "metadata": {},
   "source": [
    "Any increase would either be an error in form of a type mismatch or cause an overflow depending on the operation."
   ]
  },
  {
   "cell_type": "code",
   "execution_count": null,
   "metadata": {},
   "outputs": [],
   "source": [
    "val maxByte:Byte = 128 //This will cause an compile time exception\n",
    "val minByte:Byte = -127"
   ]
  },
  {
   "cell_type": "markdown",
   "metadata": {},
   "source": [
    "<hr/>\n",
    "\n",
    "### Short\n",
    "\n",
    "Short being 16 bits, the maximum is $2^{16−1}−1$ or 32,767 and the minimum is ${−{2^{16−1}}}$, or -32,768"
   ]
  },
  {
   "cell_type": "code",
   "execution_count": null,
   "metadata": {},
   "outputs": [],
   "source": [
    "val maxShort = 32767:Short\n",
    "val minShort = -32768:Short"
   ]
  },
  {
   "cell_type": "markdown",
   "metadata": {},
   "source": [
    "### Int\n",
    "\n",
    "`Int` being 32 bits, the maximum is $2^{32−1}−1$ or 2,147,483,647 and the minimum is $−2^{32−1}$ or -2,147,483,648"
   ]
  },
  {
   "cell_type": "code",
   "execution_count": null,
   "metadata": {},
   "outputs": [],
   "source": [
    "val a = 301202"
   ]
  },
  {
   "cell_type": "markdown",
   "metadata": {},
   "source": [
    "You can be explicit. But often times this is unnecessary"
   ]
  },
  {
   "cell_type": "code",
   "execution_count": null,
   "metadata": {},
   "outputs": [],
   "source": [
    "val a:Int = 301202"
   ]
  },
  {
   "cell_type": "markdown",
   "metadata": {},
   "source": [
    "### Long\n",
    "\n",
    "64 bit and requires either the type declaration.\n",
    "\n",
    "Maximum: ${2^{64−1}−1}$\n",
    "Minimum: ${−2^{64−1}}$"
   ]
  },
  {
   "cell_type": "code",
   "execution_count": null,
   "metadata": {},
   "outputs": [],
   "source": [
    "val g:Long = 30010200"
   ]
  },
  {
   "cell_type": "markdown",
   "metadata": {},
   "source": [
    "or with coersion:"
   ]
  },
  {
   "cell_type": "code",
   "execution_count": null,
   "metadata": {},
   "outputs": [],
   "source": [
    "val g = 30010200:Long"
   ]
  },
  {
   "cell_type": "markdown",
   "metadata": {},
   "source": [
    "You can use an capital `L` using Java’s style"
   ]
  },
  {
   "cell_type": "code",
   "execution_count": null,
   "metadata": {},
   "outputs": [],
   "source": [
    "val g = 30010200L"
   ]
  },
  {
   "cell_type": "markdown",
   "metadata": {},
   "source": [
    "a small `l` as a suffix."
   ]
  },
  {
   "cell_type": "code",
   "execution_count": null,
   "metadata": {},
   "outputs": [],
   "source": [
    "val g = 30010200l"
   ]
  },
  {
   "cell_type": "markdown",
   "metadata": {},
   "source": [
    "A small `l` looks like a `1` and can lead to confusion."
   ]
  },
  {
   "cell_type": "markdown",
   "metadata": {},
   "source": [
    "<hr/>\n",
    "\n",
    "### Float and Double\n",
    "\n",
    "Float and Doubles are IEEE 754 Standard Floating Arithmetic Values. Float with a capital `F` or small `f`."
   ]
  },
  {
   "cell_type": "code",
   "execution_count": null,
   "metadata": {},
   "outputs": [],
   "source": [
    "val f = 19.0f"
   ]
  },
  {
   "cell_type": "code",
   "execution_count": null,
   "metadata": {},
   "outputs": [],
   "source": [
    "val f = 19.0F"
   ]
  },
  {
   "cell_type": "markdown",
   "metadata": {},
   "source": [
    "### Float Exponents\n",
    "\n",
    "Floats can also be expressed with exponents with a small e or a capital E."
   ]
  },
  {
   "cell_type": "code",
   "execution_count": null,
   "metadata": {},
   "outputs": [],
   "source": [
    "val f = 93e-9F"
   ]
  },
  {
   "cell_type": "code",
   "execution_count": null,
   "metadata": {},
   "outputs": [],
   "source": [
    "val f = 93E-9F"
   ]
  },
  {
   "cell_type": "markdown",
   "metadata": {},
   "source": [
    "<hr/>\n",
    "\n",
    "### Double\n",
    "\n",
    "Double on the other hand are the default when dealing with decimal point"
   ]
  },
  {
   "cell_type": "code",
   "execution_count": null,
   "metadata": {},
   "outputs": [],
   "source": [
    "val d0 = 19.0"
   ]
  },
  {
   "cell_type": "markdown",
   "metadata": {},
   "source": [
    "You can affix a type or a capital D or a small d at the end to ensure a correct type"
   ]
  },
  {
   "cell_type": "code",
   "execution_count": null,
   "metadata": {},
   "outputs": [],
   "source": [
    "val d1:Double = 19.0"
   ]
  },
  {
   "cell_type": "code",
   "execution_count": null,
   "metadata": {},
   "outputs": [],
   "source": [
    "val d2 = 19.0:Double"
   ]
  },
  {
   "cell_type": "code",
   "execution_count": null,
   "metadata": {},
   "outputs": [],
   "source": [
    "val d3 = 19.0D"
   ]
  },
  {
   "cell_type": "code",
   "execution_count": null,
   "metadata": {},
   "outputs": [],
   "source": [
    "val d4 = 19.0d"
   ]
  },
  {
   "cell_type": "markdown",
   "metadata": {},
   "source": [
    "Of course, you can also have double exponents"
   ]
  },
  {
   "cell_type": "code",
   "execution_count": null,
   "metadata": {},
   "outputs": [],
   "source": [
    "val d = 93.0E-9"
   ]
  },
  {
   "cell_type": "markdown",
   "metadata": {},
   "source": [
    "<hr />\n",
    "\n",
    "### Char\n",
    "Characters literals are much like java. Here is the character 'k'"
   ]
  },
  {
   "cell_type": "code",
   "execution_count": null,
   "metadata": {},
   "outputs": [],
   "source": [
    "val c:Char = 'k'"
   ]
  },
  {
   "cell_type": "markdown",
   "metadata": {},
   "source": [
    "Unicode in characters, can be done with a preceding backslash u."
   ]
  },
  {
   "cell_type": "code",
   "execution_count": null,
   "metadata": {},
   "outputs": [],
   "source": [
    "val c2 = '\\u03B8' //theta Θ"
   ]
  },
  {
   "cell_type": "markdown",
   "metadata": {},
   "source": [
    "<hr/>\n",
    "\n",
    "### Boolean\n",
    "\n",
    "Boolean also derive from Java"
   ]
  },
  {
   "cell_type": "code",
   "execution_count": null,
   "metadata": {},
   "outputs": [],
   "source": [
    "val b = true\n",
    "val b2 = false"
   ]
  },
  {
   "cell_type": "markdown",
   "metadata": {},
   "source": [
    "### Scala treats primitives like objects\n",
    "\n",
    "Unlike Java, Scala’s primitives may be treated like objects. When calling an operation that works perfectly fine as a primitive, Scala will not box or wrap the primitive. Only when calling a method that requires an object will an object be created.\n",
    "\n",
    "You don’t have to concern yourself how or when a wrapping occurs since the compiler will do that for you.\n",
    "\n",
    "Consider the following statement:"
   ]
  },
  {
   "cell_type": "code",
   "execution_count": null,
   "metadata": {},
   "outputs": [],
   "source": [
    "1 + 4"
   ]
  },
  {
   "cell_type": "markdown",
   "metadata": {},
   "source": [
    "In other words this operation looks just like `+` but is a method on the object `1` with a method parameter of `4`."
   ]
  },
  {
   "cell_type": "code",
   "execution_count": null,
   "metadata": {},
   "outputs": [],
   "source": [
    "1.+(4)"
   ]
  },
  {
   "cell_type": "markdown",
   "metadata": {},
   "source": [
    "Yes, there is operator overloading in Scala"
   ]
  },
  {
   "cell_type": "markdown",
   "metadata": {},
   "source": [
    "<hr/>\n",
    "\n",
    "### Primitive Wrappers\n",
    "\n",
    "There are times in Scala there objects are wrapped to add functionality. For example:"
   ]
  },
  {
   "cell_type": "code",
   "execution_count": null,
   "metadata": {},
   "outputs": [],
   "source": [
    "-5.abs"
   ]
  },
  {
   "cell_type": "markdown",
   "metadata": {},
   "source": [
    "If you are familiar with Java, you know that when you take the absolute value of something you require the static method call, Math.abs.\n",
    "\n",
    "In Scala, it is in inherit part of Int through a trick called an implicit wrapper.\n",
    "\n",
    "In this case there is an adapter called RichInt that wraps around a regular Int that provides a this method called abs among others.\n",
    "\n",
    "Every primitive type in Scala, has a corresponding wrapper.\n",
    "\n",
    "* `Char` there is `RichChar`\n",
    "* `Boolean` there is `RichBoolean`\n",
    "* `Long` there is `RichLong`, etc.\n",
    "\n",
    "<hr/>\n",
    "\n",
    "### Primitives Conclusion\n",
    "\n",
    "All primitives works much like Java with varying differences.\n",
    "\n",
    "Primitive assignments can be inferred by the type system, or you can add types manually as you see fit.\n",
    "\n",
    "Primitives may be wrapped by a rich wrapper depending on which method is called\n",
    "\n",
    "Scala primitives gives more methods and functionality than it had with Java."
   ]
  },
  {
   "cell_type": "markdown",
   "metadata": {},
   "source": [
    "## Control Statements"
   ]
  },
  {
   "cell_type": "markdown",
   "metadata": {},
   "source": [
    "### `if`, `else if`, `else` imperative\n",
    "\n",
    "Scala programmers often do not use var although that is not quite exactly a hard rule.\n",
    "\n",
    "This is imperative style code and thus not common or preferred. `if` statements can be made imperatively, but will often require a mutable variable `var`. *_NOTE: This is not Scala convention_*"
   ]
  },
  {
   "cell_type": "code",
   "execution_count": null,
   "metadata": {},
   "outputs": [],
   "source": [
    "val a = 10\n",
    "var result = \"\" // var is usually a code smell\n",
    "if (a < 10) {\n",
    "  result = \"Less than 10\"\n",
    "} else if (a > 10) {\n",
    "  result = \"Greater than 10\"\n",
    "} else {\n",
    "  result = \"It is 10!\"\n",
    "}"
   ]
  },
  {
   "cell_type": "markdown",
   "metadata": {},
   "source": [
    "### `if`, `else if`, `else` functional\n",
    "\n",
    "What is different about `if` statements in Scala as well as other functions is that they are assignable\n",
    "\n",
    "In this case we are assigning to result, a `val`\n",
    "\n",
    "Arguably, cleaner and concise code."
   ]
  },
  {
   "cell_type": "code",
   "execution_count": null,
   "metadata": {},
   "outputs": [],
   "source": [
    "val a = 10\n",
    "val result = if (a < 10) \"Less than 10\"\n",
    "             else if (a > 10) \"Greater than 10\"\n",
    "             else \"It is 10!\""
   ]
  },
  {
   "cell_type": "markdown",
   "metadata": {},
   "source": [
    "NOTE: There is no \"ternary\" operator in Scala. This is as close as you'll get."
   ]
  },
  {
   "cell_type": "markdown",
   "metadata": {},
   "source": [
    "### `while` loops\n",
    "\n",
    "* Nearly the same as in Java\n",
    "* Imperative Style\n",
    "* Runs the code within the block until there the boolean condition becomes `false`\n",
    "* Not used as much by Scala programmers, unless\n",
    "  * You are writing APIs\n",
    "  * Using a mutable collection\n",
    "  * A few other rare occasions"
   ]
  },
  {
   "cell_type": "code",
   "execution_count": null,
   "metadata": {},
   "outputs": [],
   "source": [
    "var a = 10\n",
    "var result = \"\" // var is usually a code smell\n",
    "while (a > 0) {\n",
    "   result = result + a\n",
    "   if (a > 1) result = result + \",\"\n",
    "   a = a - 1\n",
    "}\n",
    "result"
   ]
  },
  {
   "cell_type": "markdown",
   "metadata": {},
   "source": [
    "For a taste of idiomatic Scala, see if you can piece together what is happening here."
   ]
  },
  {
   "cell_type": "code",
   "execution_count": null,
   "metadata": {},
   "outputs": [],
   "source": [
    "(100 to 1 by -1).mkString(\",\") //Deliciousness!"
   ]
  },
  {
   "cell_type": "markdown",
   "metadata": {},
   "source": [
    "### `do`-`while` loops\n",
    "\n",
    "* Nearly the same as in Java\n",
    "* Imperative Style\n",
    "* Runs the code within the block until there the boolean condition becomes false\n",
    "* At least runs once\n",
    "* Not used as much by Scala programmers"
   ]
  },
  {
   "cell_type": "code",
   "execution_count": null,
   "metadata": {},
   "outputs": [],
   "source": [
    "var a = 10 // var is usually a code smell\n",
    "var result = \"\"\n",
    "do {\n",
    "   result = result + a\n",
    "   if (a > 1) result = result + \",\"\n",
    "   a = a - 1\n",
    "} while (a > 0)"
   ]
  },
  {
   "cell_type": "markdown",
   "metadata": {},
   "source": [
    "### `for` loops\n",
    "\n",
    "* You can still perform the classic idea of a for-loop\n",
    "* Often underused in the Scala community\n",
    "* Replaced in favor of _for comprehensions_"
   ]
  },
  {
   "cell_type": "code",
   "execution_count": null,
   "metadata": {},
   "outputs": [],
   "source": [
    "var result = \"\" // var is usually a code smell\n",
    "for (a <- 1 to 10) { // a for loop\n",
    "   if (a != 1) result = result + \",\"\n",
    "   result = result + a\n",
    "}"
   ]
  },
  {
   "cell_type": "markdown",
   "metadata": {},
   "source": [
    "The above was useless since it can be written concisely with the following."
   ]
  },
  {
   "cell_type": "code",
   "execution_count": null,
   "metadata": {},
   "outputs": [],
   "source": [
    "(1 to 10).mkString(\",\")"
   ]
  },
  {
   "cell_type": "markdown",
   "metadata": {},
   "source": [
    "### `for` comprehensions\n",
    "For the flavor of `for` comprehensions here is an example using a collection type called a `List`."
   ]
  },
  {
   "cell_type": "code",
   "execution_count": null,
   "metadata": {},
   "outputs": [],
   "source": [
    "for (i <- List(1,2,3,4)) yield (i * 2)"
   ]
  },
  {
   "cell_type": "markdown",
   "metadata": {},
   "source": [
    "This has very little relation to its cousin `for` loop. The above says \"for every element in this collection, multiply by 2\" and put it into a new collection of the same type. The same type being in this case is a `List`"
   ]
  },
  {
   "cell_type": "markdown",
   "metadata": {},
   "source": [
    "### Control Statements Conclusion\n",
    "\n",
    "* `if` statements exist like other languages except they are assignable to a `val` or `var` (preferably a `val`)\n",
    "* `while`, `do`-`while` exists but are rarely used in Scala, because they cause the programmer to resort to variables (`var`)\n",
    "* `for`-loops are also available, those too are underused, we use `for`-comprehensions in favor of `for`-loops"
   ]
  },
  {
   "cell_type": "markdown",
   "metadata": {},
   "source": [
    "## `String`\n",
    "\n",
    "String is the same object as in the Java\n",
    "\n",
    "`StringOps` is an implicit wrapper class to provide added functionality that Java does not have."
   ]
  },
  {
   "cell_type": "code",
   "execution_count": null,
   "metadata": {},
   "outputs": [],
   "source": [
    "val s = \"Scala\""
   ]
  },
  {
   "cell_type": "markdown",
   "metadata": {},
   "source": [
    "Can be declared, but unnecessary due to inference"
   ]
  },
  {
   "cell_type": "code",
   "execution_count": null,
   "metadata": {},
   "outputs": [],
   "source": [
    "val s:String = \"Scala\""
   ]
  },
  {
   "cell_type": "markdown",
   "metadata": {},
   "source": [
    "Type can be added by coercion"
   ]
  },
  {
   "cell_type": "code",
   "execution_count": null,
   "metadata": {},
   "outputs": [],
   "source": [
    "val s = \"Scala\":String"
   ]
  },
  {
   "cell_type": "markdown",
   "metadata": {},
   "source": [
    "### `String` format and Interpolation\n",
    "\n",
    "`String` can be formatted with C-style/Java format flags\n",
    "\n",
    "Here is the Java-Style before, which still works in Scala"
   ]
  },
  {
   "cell_type": "code",
   "execution_count": null,
   "metadata": {},
   "outputs": [],
   "source": [
    "String.format(\"This is a %s\", \"test\")"
   ]
  },
  {
   "cell_type": "markdown",
   "metadata": {},
   "source": [
    "Here is the Scala style:"
   ]
  },
  {
   "cell_type": "code",
   "execution_count": null,
   "metadata": {},
   "outputs": [],
   "source": [
    "\"This is a %s\".format(\"test\")"
   ]
  },
  {
   "cell_type": "markdown",
   "metadata": {},
   "source": [
    "For a reference on the types of flags: http://docs.oracle.com/javase/8/docs/api/java/util/Formatter.html"
   ]
  },
  {
   "cell_type": "markdown",
   "metadata": {},
   "source": [
    "Changing the order of arguments using format\n",
    "Without specifying order, format will use the order provided:"
   ]
  },
  {
   "cell_type": "code",
   "execution_count": null,
   "metadata": {},
   "outputs": [],
   "source": [
    "println(\"Because you're %s, %s, %s times a lady\".format(\"Three\", \"Twice\", \"Once\"))"
   ]
  },
  {
   "cell_type": "markdown",
   "metadata": {},
   "source": [
    "The above will surely render incorrectly (if you know the song):\n",
    "```\n",
    "Because you're Three, Twice, Once times a lady\n",
    "```"
   ]
  },
  {
   "cell_type": "markdown",
   "metadata": {},
   "source": [
    "To specify order we can use the `format %n$s` where `n` is the which argument we wish to use and `s` is the type. In this case, `String`."
   ]
  },
  {
   "cell_type": "code",
   "execution_count": null,
   "metadata": {},
   "outputs": [],
   "source": [
    "println(\"Because you're %3$s, %2$s, %1$s times a lady\".format(\"Three\", \"Twice\", \"Once\"))"
   ]
  },
  {
   "cell_type": "markdown",
   "metadata": {},
   "source": [
    "This will render:\n",
    "\n",
    "Because you're Once, Twice, Three times a lady\n",
    "The above can be trimmed to the following using printf"
   ]
  },
  {
   "cell_type": "markdown",
   "metadata": {},
   "source": [
    "printf(\"Because you're %3$s, %2$s, %1$s times a lady\", \"Three\", \"Twice\", \"Once\")"
   ]
  },
  {
   "cell_type": "markdown",
   "metadata": {},
   "source": [
    "### Formatting Dates and Times\n",
    "\n",
    "Java Time came with Java 8 and compliments well with Scala"
   ]
  },
  {
   "cell_type": "code",
   "execution_count": null,
   "metadata": {},
   "outputs": [],
   "source": [
    "import java.time._\n",
    "println(\"We will be eating lunch on %1$tB the %1$te in the year %1$tY\".format(LocalDate.now))"
   ]
  },
  {
   "cell_type": "markdown",
   "metadata": {},
   "source": [
    "NOTE: The underscore for the import (_) is analogous to the asterisk in (*) in Java"
   ]
  },
  {
   "cell_type": "markdown",
   "metadata": {},
   "source": [
    "### Smart Strings\n",
    "Smart Strings are surrounded 3 x `\"`\n",
    "\n",
    "They allow multi-lines of code"
   ]
  },
  {
   "cell_type": "code",
   "execution_count": null,
   "metadata": {},
   "outputs": [],
   "source": [
    "val prose = \"\"\"I see trees of green,\n",
    "               red roses too\n",
    "               I see them bloom,\n",
    "               for me and you,\n",
    "               and I think to myself,\n",
    "               what I wonderful world\"\"\""
   ]
  },
  {
   "cell_type": "markdown",
   "metadata": {},
   "source": [
    "The problem with the above is that it that the margins are misaligned."
   ]
  },
  {
   "cell_type": "markdown",
   "metadata": {},
   "source": [
    "### Smart Strings with stripMargin\n",
    "\n",
    "`stripMargin` can align the strings based on the pipe (`|`) by default"
   ]
  },
  {
   "cell_type": "code",
   "execution_count": null,
   "metadata": {},
   "outputs": [],
   "source": [
    "val prose = \"\"\"I see trees of green,\n",
    "               |red roses too\n",
    "               |I see them bloom,\n",
    "               |for me and you,\n",
    "               |and I think to myself,\n",
    "               |what I wonderful world\"\"\".stripMargin"
   ]
  },
  {
   "cell_type": "markdown",
   "metadata": {},
   "source": [
    "### Smart Strings with customized stripMargin\n",
    "stripMargin can align the strings based on a character of your choice."
   ]
  },
  {
   "cell_type": "code",
   "execution_count": null,
   "metadata": {},
   "outputs": [],
   "source": [
    "val prose = \"\"\"I see trees of green,\n",
    "               @red roses too\n",
    "               @I see them bloom,\n",
    "               @for me and you,\n",
    "               @and I think to myself,\n",
    "               @what I wonderful world\"\"\".stripMargin('@')"
   ]
  },
  {
   "cell_type": "markdown",
   "metadata": {},
   "source": [
    "### Smart Strings with combination format\n",
    "\n",
    "Since Smart Strings are just `String` you can use all the same methods, including `format`\n",
    "\n",
    "Here we will use format to include the colors"
   ]
  },
  {
   "cell_type": "code",
   "execution_count": 22,
   "metadata": {},
   "outputs": [
    {
     "data": {
      "text/plain": [
       "prose: String =\n",
       "I see trees of green,\n",
       "Red roses too\n",
       "I see them bloom,\n",
       "for me and you,\n",
       "and I think to myself,\n",
       "what I wonderful world\n"
      ]
     },
     "execution_count": 22,
     "metadata": {},
     "output_type": "execute_result"
    }
   ],
   "source": [
    "val prose = \"\"\"I see trees of %s,\n",
    "               |%s roses too\n",
    "               |I see them bloom,\n",
    "               |for me and you,\n",
    "               |and I think to myself,\n",
    "               |what I wonderful world\"\"\".stripMargin\n",
    "                                         .format(\"green\", \"Red\")"
   ]
  },
  {
   "cell_type": "markdown",
   "metadata": {},
   "source": [
    "### String Interpolation\n",
    "You can replace any variable in a string from it’s environment or context with string interpolation\n",
    "\n",
    "The only thing that you require is that the letter s precedes the string.\n",
    "\n",
    "You can refer to an outside variable by using `$` to precede it, for example `$a`\n",
    "\n",
    "If you require an expression wrap the expression in a bracket, for example, `${a + 1}`"
   ]
  },
  {
   "cell_type": "code",
   "execution_count": null,
   "metadata": {},
   "outputs": [],
   "source": [
    "val a = 99 //Setting up a value within the context\n",
    "println(s\"$a luftballoons floating in the summer sky\")"
   ]
  },
  {
   "cell_type": "markdown",
   "metadata": {},
   "source": [
    "### The `f` interpolator\n",
    "Used to combine `String.format` functionality with String interpolation"
   ]
  },
  {
   "cell_type": "code",
   "execution_count": null,
   "metadata": {},
   "outputs": [],
   "source": [
    "val ticketsCost = 50\n",
    "val bandName = \"Psychedelic Furs\"\n",
    "println(f\"The $bandName%s tickets are probably $$$ticketsCost%1.2f\")"
   ]
  },
  {
   "cell_type": "markdown",
   "metadata": {},
   "source": [
    "`$bandName%s` treats the interpolation as a String\n",
    "\n",
    "`ticketsCost%1.2f` treats the cost with a width of `1` if possible and two decimal points\n",
    "\n",
    "`$$` is used to escape the dollar sign"
   ]
  },
  {
   "cell_type": "markdown",
   "metadata": {},
   "source": [
    "### Extra decoration for the f interpolator\n",
    "\n",
    "The formats allowed after the `%` character are all part of the standard Formatter\n",
    "\n",
    "http://docs.oracle.com/javase/8/docs/api/java/util/Formatter.html\n",
    "\n",
    "Therefore, we can also try `%n` for a newline and `%%` for a percent."
   ]
  },
  {
   "cell_type": "code",
   "execution_count": null,
   "metadata": {},
   "outputs": [],
   "source": [
    "val ticketsCost = 50\n",
    "val bandName = \"Psychedelic Furs\"\n",
    "val percentIncrease = 20\n",
    "val musicGenre = \"New Wave\"\n",
    "println(f\"\"\"The $bandName%s tickets are probably $$${ticketsCost%1.2f}\n",
    "            |That's a ${percentIncrease}%% bump because everyone\n",
    "            |likes ${musicGenre}\"\"\")"
   ]
  },
  {
   "cell_type": "markdown",
   "metadata": {},
   "source": [
    "### Smart Strings and Regexes\n",
    "\n",
    "Regular Strings are pretty terrible for creating regular expressions since you have to escape backslashes with to two backslashes:"
   ]
  },
  {
   "cell_type": "code",
   "execution_count": null,
   "metadata": {},
   "outputs": [],
   "source": [
    "val regex = \"(\\\\d{3})-(\\\\d{4})\".r //Yuck"
   ]
  },
  {
   "cell_type": "markdown",
   "metadata": {},
   "source": [
    "the `.r` method creates a `scala.util.matching.Regex` object"
   ]
  },
  {
   "cell_type": "markdown",
   "metadata": {},
   "source": [
    "A Smart String allows us to create a regex without having the two backslashes"
   ]
  },
  {
   "cell_type": "code",
   "execution_count": null,
   "metadata": {},
   "outputs": [],
   "source": [
    "val regex = \"\"\"(\\d{3})-(\\d{4})\"\"\".r //Awesome!"
   ]
  },
  {
   "cell_type": "markdown",
   "metadata": {},
   "source": [
    "Here is an example of what one can do with a regex and a method called `foreach` which will print each element in a collection"
   ]
  },
  {
   "cell_type": "code",
   "execution_count": null,
   "metadata": {},
   "outputs": [],
   "source": [
    "regex.findAllIn(\"My number is 404-3030\").foreach(println)"
   ]
  },
  {
   "cell_type": "markdown",
   "metadata": {},
   "source": [
    "### `String `Conclusion\n",
    "\n",
    "* There are various ways to work with `String` in Scala\n",
    "* You can use the standard String mechanisms you find in Java\n",
    "* You can use smart string to create multilines.\n",
    "* You can use the `format` method to do `String` style formatting\n",
    "* You can also use string interpolation with varying flavors to do variable replacements in a `String`."
   ]
  },
  {
   "cell_type": "markdown",
   "metadata": {},
   "source": [
    "## Methods"
   ]
  },
  {
   "cell_type": "markdown",
   "metadata": {},
   "source": [
    "### About Methods\n",
    "\n",
    "* There is a differentiation between methods and functions, but it is slight, and many don't make the distinction\n",
    "* Methods in Scala belong to context like a `class`, `object`, `trait`, a script, or another method.\n",
    "* In Scala, a method starts with `def`\n",
    "* Parameters are in reverse of what is expected in Java, value or variable before the type, e.g `age:Int`"
   ]
  },
  {
   "cell_type": "markdown",
   "metadata": {},
   "source": [
    "### A Basic Non-Concise Method\n",
    "\n",
    "* The `:Int` is the return type\n",
    "* If you expect something in return you need, an equal sign (=)\n",
    "* If you do not then leave it out"
   ]
  },
  {
   "cell_type": "code",
   "execution_count": 9,
   "metadata": {},
   "outputs": [
    {
     "data": {
      "text/plain": [
       "add: (x: Int, y: Int)Int\n"
      ]
     },
     "execution_count": 9,
     "metadata": {},
     "output_type": "execute_result"
    }
   ],
   "source": [
    "def add(x: Int, y: Int):Int = {\n",
    "      return x + y\n",
    "}"
   ]
  },
  {
   "cell_type": "markdown",
   "metadata": {},
   "source": [
    "### Cleaning up our Method\n",
    "\n",
    "* A method can make use of type inference\n",
    "* The braces are optional\n",
    "* `return` is optional, in fact, it is rarely used\n",
    "\n",
    "Therefore…​"
   ]
  },
  {
   "cell_type": "code",
   "execution_count": 10,
   "metadata": {},
   "outputs": [
    {
     "data": {
      "text/plain": [
       "add: (x: Int, y: Int)Int\n"
      ]
     },
     "execution_count": 10,
     "metadata": {},
     "output_type": "execute_result"
    }
   ],
   "source": [
    "def add(x: Int, y: Int) = x + y"
   ]
  },
  {
   "cell_type": "markdown",
   "metadata": {},
   "source": [
    "Discuss: Why there no longer is :Int at the end?"
   ]
  },
  {
   "cell_type": "markdown",
   "metadata": {},
   "source": [
    "### When type inference is not good enough\n",
    "\n",
    "There are times when you need the type:\n",
    "\n",
    "* To make things clear\n",
    "* Because the type inferencer could be wrong\n",
    "* Your method might be overloaded and it would be needed disambiguate from other methods\n",
    "* You’re doing recursion\n",
    "* You’re doing method overloading"
   ]
  },
  {
   "cell_type": "markdown",
   "metadata": {},
   "source": [
    "### Figuring out the type\n",
    "\n",
    "Given the following, what return type is inferred? See if you can figure it out before running the cell."
   ]
  },
  {
   "cell_type": "code",
   "execution_count": 13,
   "metadata": {},
   "outputs": [
    {
     "data": {
      "text/plain": [
       "numberStatus: (a: Int)String\n"
      ]
     },
     "execution_count": 13,
     "metadata": {},
     "output_type": "execute_result"
    }
   ],
   "source": [
    "def numberStatus(a:Int) =\n",
    "   if (a < 10) \"Less than 10\"\n",
    "   else if (a > 10) \"Greater than 10\"\n",
    "   else \"It is 10!\""
   ]
  },
  {
   "cell_type": "markdown",
   "metadata": {},
   "source": [
    "### Methods Conclusion\n",
    "\n",
    "* Methods are defined using def and are always defined using def\n",
    "* Methods are not to be confused with functions.\n",
    "* The return keyword is unnecessary…​because the last evaluated statement will be returned\n",
    "* Most of the time you can omit the return type in method unless:\n",
    "  * You need it for clarity\n",
    "  * To override the type inferencer\n",
    "  * You will be performing recursion\n",
    "  * You will be performing method overloading"
   ]
  },
  {
   "cell_type": "markdown",
   "metadata": {},
   "source": [
    "## Methods Different Return Types"
   ]
  },
  {
   "cell_type": "markdown",
   "metadata": {},
   "source": [
    "### Type Inferencing\n",
    "\n",
    "* Scala’s type \"inferencer\"\n",
    "  * Will always make the best choice possible given the information that it has.\n",
    "  * If it cannot find a match it will search for the parent of the two classes\n",
    "  * This will apply to how a `List` (which we will see soon) is created and return types from an `if` \n",
    "  "
   ]
  },
  {
   "attachments": {
    "scalahierarchy.png": {
     "image/png": "[encoded data removed]"
    }
   },
   "cell_type": "markdown",
   "metadata": {},
   "source": [
    "### Scala's class hierarchy\n",
    "\n",
    "![scalahierarchy.png](attachment:scalahierarchy.png)\n",
    "\n",
    "* `Any` is the super most type, above all!\n",
    "* `AnyVal` is the super type of all JVM primitives\n",
    "* `AnyRef` is the super type of all objects, analagous to `java.lang.Object`"
   ]
  },
  {
   "cell_type": "markdown",
   "metadata": {},
   "source": [
    "### Lab: Colliding types\n",
    "* When there is a chance that two or more types are being returned, the type inferencer will choose the parent of the types being returned.\n",
    "\n",
    "**Step 1:** Try to guess what the return type for the following below will be before running it. Use the diagram above use your intuition as to where `String` will be in the diagram and run the cell.\n",
    "\n",
    "**Step 2:** Discuss reasons"
   ]
  },
  {
   "cell_type": "code",
   "execution_count": 16,
   "metadata": {},
   "outputs": [
    {
     "data": {
      "text/plain": [
       "add: (x: Int, y: Int)Any\n"
      ]
     },
     "execution_count": 16,
     "metadata": {},
     "output_type": "execute_result"
    }
   ],
   "source": [
    "def add(x: Int, y: Int) = {\n",
    "  if (x > 10) (x + y).toString\n",
    "  else x + y\n",
    "}"
   ]
  },
  {
   "cell_type": "markdown",
   "metadata": {},
   "source": [
    "**Step 3:** Try other combinations and ask questions"
   ]
  },
  {
   "cell_type": "markdown",
   "metadata": {},
   "source": [
    "### Methods Different Return Types Conclusion\n",
    "\n",
    "* Types inside of a method (this will also be applied to functions) will be inferred.\n",
    "* Type inferencer will make its judgment based on what is available\n",
    "* If types are different it will find a common ancestor and use that type"
   ]
  },
  {
   "cell_type": "markdown",
   "metadata": {},
   "source": [
    "## *Lab:* isPrime\n",
    "\n",
    "**Step 1:** Create a method that is called `isPrime` that takes a `Int` and returns whether the number provided is a prime number.\n",
    "A prime is a positive integer $p$ where $p > 1$ that has no positive integer divisors other than $1$ and $p$ itself. \n",
    "More concisely, a prime number $p$ is a positive integer having exactly one positive divisor other than $1$, meaning it is a\n",
    "number that cannot be factored.\n",
    "\n",
    "__Hint:__ `1` is not prime, `2` is prime, and use something like a for loop to iterate from `2` to `n` and determine if any number is divisible\n",
    "\n",
    "__More Hint:__ Here is a solution in Python:\n",
    "\n",
    "```\n",
    "def test_prime(n):\n",
    "   if (n==1):\n",
    "      return False\n",
    "   elif (n==2):\n",
    "      return True;\n",
    "   else:\n",
    "      for x in range(2,n):\n",
    "         if(n % x==0):\n",
    "            return False\n",
    "      return True\n",
    "```\n",
    "\n",
    "NOTE: `test_prime` is not our style, use `isPrime` to name the method for Scala-style"
   ]
  },
  {
   "cell_type": "markdown",
   "metadata": {},
   "source": [
    "## Type Hierarchy"
   ]
  },
  {
   "attachments": {
    "vmarchitect.png": {
     "image/png": "[encoded data removed]"
    }
   },
   "cell_type": "markdown",
   "metadata": {},
   "source": [
    "###  Reviewing the relationship of class and objects\n",
    "\n",
    "A type is a `class`, `trait`, a primitive, or an `object` in Scala.\n",
    "\n",
    "A class for those who don’t know is a code template, or blueprint, that describes what the objects created from the blueprint will look like.\n",
    "\n",
    "![vmarchitect.png](attachment:vmarchitect.png)\n",
    "\n",
    "* `Int` is a type\n",
    "* `String` is a type\n",
    "* If we created a `Car` class, `Car` would be a type\n",
    "* If we created `InvoiceJSONSerializer`, `InvoiceJSONSerializer` would be a type"
   ]
  },
  {
   "cell_type": "markdown",
   "metadata": {},
   "source": [
    "### Matching Types\n",
    "\n",
    "Given these two methods:"
   ]
  },
  {
   "cell_type": "code",
   "execution_count": 5,
   "metadata": {},
   "outputs": [
    {
     "data": {
      "text/plain": [
       "add: (x: Int, y: Int)Int\n",
       "subtract: (x: Int, y: Int)Int\n"
      ]
     },
     "execution_count": 5,
     "metadata": {},
     "output_type": "execute_result"
    }
   ],
   "source": [
    "def add(x:Int,y:Int):Int = x + y\n",
    "def subtract(x:Int, y:Int):Int = x - y"
   ]
  },
  {
   "cell_type": "markdown",
   "metadata": {},
   "source": [
    "To use them together, you would just need to match the types:"
   ]
  },
  {
   "cell_type": "code",
   "execution_count": 6,
   "metadata": {},
   "outputs": [
    {
     "data": {
      "text/plain": [
       "res2: Int = 85\n"
      ]
     },
     "execution_count": 6,
     "metadata": {},
     "output_type": "execute_result"
    }
   ],
   "source": [
    "add(subtract(10, 3), subtract(100, 22))"
   ]
  },
  {
   "cell_type": "markdown",
   "metadata": {},
   "source": [
    "If we changed `subtract` to use `Double` instead:"
   ]
  },
  {
   "cell_type": "code",
   "execution_count": 7,
   "metadata": {},
   "outputs": [
    {
     "data": {
      "text/plain": [
       "add: (x: Int, y: Int)Int\n",
       "subtract: (x: Double, y: Double)Double\n"
      ]
     },
     "execution_count": 7,
     "metadata": {},
     "output_type": "execute_result"
    }
   ],
   "source": [
    "def add(x:Int,y:Int):Int = x + y\n",
    "def subtract(x:Double, y:Double):Double = x - y"
   ]
  },
  {
   "cell_type": "markdown",
   "metadata": {},
   "source": [
    "We can no longer use the same invocation"
   ]
  },
  {
   "cell_type": "code",
   "execution_count": 8,
   "metadata": {},
   "outputs": [
    {
     "ename": "<console>",
     "evalue": "29: error: type mismatch;",
     "output_type": "error",
     "traceback": [
      "<console>:29: error: type mismatch;",
      " found   : Double",
      " required: Int",
      "       add(subtract(10, 3), subtract(100, 22))",
      "                   ^",
      "<console>:29: error: type mismatch;",
      " found   : Double",
      " required: Int",
      "       add(subtract(10, 3), subtract(100, 22))",
      "                                    ^",
      ""
     ]
    }
   ],
   "source": [
    "add(subtract(10, 3), subtract(100, 22))"
   ]
  },
  {
   "cell_type": "markdown",
   "metadata": {},
   "source": [
    "We would just need to make sure that that type matches:"
   ]
  },
  {
   "cell_type": "code",
   "execution_count": 9,
   "metadata": {},
   "outputs": [
    {
     "data": {
      "text/plain": [
       "res4: Int = 85\n"
      ]
     },
     "execution_count": 9,
     "metadata": {},
     "output_type": "execute_result"
    }
   ],
   "source": [
    "add(subtract(10.0, 3.0).round.toInt, subtract(100.0, 22.0).round.toInt)"
   ]
  },
  {
   "cell_type": "markdown",
   "metadata": {},
   "source": [
    "NOTE: This is going to be one of the key distinctions between a language like Scala and Python. Static types heavily matter in a language like Scala\n"
   ]
  },
  {
   "cell_type": "markdown",
   "metadata": {},
   "source": [
    "### Primitives Are Objects\n",
    "\n",
    "* In Scala we treat everything like an object\n",
    "* Therefore, you can treat all numbers, boolean, and characters as types\n",
    "* Every primitive is a member of `AnyVal` "
   ]
  },
  {
   "cell_type": "markdown",
   "metadata": {},
   "source": [
    "### `java.lang.Object` has been demoted\n",
    "\n",
    "* `java.lang.Object` is called AnyRef in Scala\n",
    "* `AnyRef` will be the super type of all object references\n",
    "* This includes:\n",
    "  * Scala API Classes\n",
    "  * Java API Classes\n",
    "  * Your custom classes"
   ]
  },
  {
   "cell_type": "markdown",
   "metadata": {},
   "source": [
    "### `Any` is the new leader\n",
    "\n",
    "* Super type of:\n",
    "  * `AnyVal` (Primitive Wrappers)\n",
    "  * `AnyRef` (Object References)"
   ]
  },
  {
   "attachments": {
    "scalahierarchy.png": {
     "image/png": "[encoded data removed]"
    }
   },
   "cell_type": "markdown",
   "metadata": {},
   "source": [
    "### Scala Family Tree\n",
    "\n",
    "![scalahierarchy.png](attachment:scalahierarchy.png)"
   ]
  },
  {
   "cell_type": "markdown",
   "metadata": {},
   "source": [
    "### **Lab:** Polymorphism\n",
    "\n",
    "**Step 1:** Try various combinations of references and see how everything is match together. Try some of these combinations that may or may not work to be sure:"
   ]
  },
  {
   "cell_type": "code",
   "execution_count": 11,
   "metadata": {},
   "outputs": [
    {
     "data": {
      "text/plain": [
       "a: AnyVal = 40\n"
      ]
     },
     "execution_count": 11,
     "metadata": {},
     "output_type": "execute_result"
    }
   ],
   "source": [
    "val a:AnyVal = 40"
   ]
  },
  {
   "cell_type": "code",
   "execution_count": 12,
   "metadata": {},
   "outputs": [
    {
     "data": {
      "text/plain": [
       "b: Any = 40\n"
      ]
     },
     "execution_count": 12,
     "metadata": {},
     "output_type": "execute_result"
    }
   ],
   "source": [
    "val b:Any = a"
   ]
  },
  {
   "cell_type": "code",
   "execution_count": 13,
   "metadata": {},
   "outputs": [
    {
     "data": {
      "text/plain": [
       "c: AnyRef = A String\n"
      ]
     },
     "execution_count": 13,
     "metadata": {},
     "output_type": "execute_result"
    }
   ],
   "source": [
    "val c:AnyRef = \"A String\""
   ]
  },
  {
   "cell_type": "code",
   "execution_count": 14,
   "metadata": {},
   "outputs": [
    {
     "data": {
      "text/plain": [
       "d: Any = A String\n"
      ]
     },
     "execution_count": 14,
     "metadata": {},
     "output_type": "execute_result"
    }
   ],
   "source": [
    "val d:Any = c"
   ]
  },
  {
   "cell_type": "code",
   "execution_count": 15,
   "metadata": {},
   "outputs": [
    {
     "ename": "<console>",
     "evalue": "24: error: the result type of an implicit conversion must be more specific than AnyRef",
     "output_type": "error",
     "traceback": [
      "<console>:24: error: the result type of an implicit conversion must be more specific than AnyRef",
      "       val e:AnyRef = 40",
      "                      ^",
      ""
     ]
    }
   ],
   "source": [
    "val e:AnyRef = 40"
   ]
  },
  {
   "cell_type": "code",
   "execution_count": 16,
   "metadata": {},
   "outputs": [
    {
     "ename": "<console>",
     "evalue": "24: error: the result type of an implicit conversion must be more specific than AnyVal",
     "output_type": "error",
     "traceback": [
      "<console>:24: error: the result type of an implicit conversion must be more specific than AnyVal",
      "       val f:AnyVal = \"A String\"",
      "                      ^",
      ""
     ]
    }
   ],
   "source": [
    "val f:AnyVal = \"A String\""
   ]
  },
  {
   "cell_type": "markdown",
   "metadata": {},
   "source": [
    "**Step 2:** Discuss and ask any questions."
   ]
  },
  {
   "attachments": {
    "scalaclasshierarchy.png": {
     "image/png": "[encoded data removed]"
    }
   },
   "cell_type": "markdown",
   "metadata": {},
   "source": [
    "### The Complete Hierarchy\n",
    "\n",
    "![scalaclasshierarchy.png](attachment:scalaclasshierarchy.png)"
   ]
  },
  {
   "cell_type": "markdown",
   "metadata": {},
   "source": [
    "### `Nothing`\n",
    "\n",
    "* `Nothing` is the sub type of everything\n",
    "* It is used for collections and other containers with no defined parameterized type\n",
    "* Used to represent a \"bottom\", a type that covers among other things, methods, that only throw `Throwable`"
   ]
  },
  {
   "cell_type": "markdown",
   "metadata": {},
   "source": [
    "### `Nothing` in List\n",
    "\n",
    "Given: A `List` with no parameterized type…​"
   ]
  },
  {
   "cell_type": "code",
   "execution_count": 18,
   "metadata": {},
   "outputs": [
    {
     "data": {
      "text/plain": [
       "list: List[Nothing] = List()\n"
      ]
     },
     "execution_count": 18,
     "metadata": {},
     "output_type": "execute_result"
    }
   ],
   "source": [
    "val list = List()"
   ]
  },
  {
   "cell_type": "markdown",
   "metadata": {},
   "source": [
    "Given: A List with a type, and note the difference"
   ]
  },
  {
   "cell_type": "code",
   "execution_count": null,
   "metadata": {},
   "outputs": [],
   "source": [
    "val list2 = List[Int]()"
   ]
  },
  {
   "cell_type": "markdown",
   "metadata": {},
   "source": [
    "### Nothing and throwing an Exception\n",
    "Given an exception, thrown from a method, and that’s all that is thrown:"
   ]
  },
  {
   "cell_type": "code",
   "execution_count": 19,
   "metadata": {},
   "outputs": [
    {
     "data": {
      "text/plain": [
       "ohoh: (i: Int)Nothing\n"
      ]
     },
     "execution_count": 19,
     "metadata": {},
     "output_type": "execute_result"
    }
   ],
   "source": [
    "def ohoh(i:Int):Nothing = { throw new Exception() }"
   ]
  },
  {
   "cell_type": "markdown",
   "metadata": {},
   "source": [
    "It shouldn’t matter if it is an `Exception` or a `RuntimeException`\n",
    "Link: http://www.scala-lang.org/api/current/scala/Nothing.html"
   ]
  },
  {
   "cell_type": "markdown",
   "metadata": {},
   "source": [
    "### `Null`\n",
    "\n",
    "* `Null` is a type in Scala that represents a null\n",
    "* `Null` is the sub type of all object references\n",
    "* `null` is not used in pure Scala applications, but only for those that interop with Java"
   ]
  },
  {
   "cell_type": "markdown",
   "metadata": {},
   "source": [
    "### `Null` in use"
   ]
  },
  {
   "cell_type": "code",
   "execution_count": 21,
   "metadata": {},
   "outputs": [
    {
     "data": {
      "text/plain": [
       "f: Null = null\n"
      ]
     },
     "execution_count": 21,
     "metadata": {},
     "output_type": "execute_result"
    }
   ],
   "source": [
    "val f = null"
   ]
  },
  {
   "cell_type": "markdown",
   "metadata": {},
   "source": [
    "NOTE: The type returned"
   ]
  },
  {
   "cell_type": "markdown",
   "metadata": {},
   "source": [
    "### `Null` when a type is established"
   ]
  },
  {
   "cell_type": "code",
   "execution_count": 20,
   "metadata": {},
   "outputs": [
    {
     "data": {
      "text/plain": [
       "x: String = null\n"
      ]
     },
     "execution_count": 20,
     "metadata": {},
     "output_type": "execute_result"
    }
   ],
   "source": [
    "val x:String = null"
   ]
  },
  {
   "cell_type": "markdown",
   "metadata": {},
   "source": [
    "NOTE: The type is `String`. The reason the about is that null is the subtype of all `AnyRef`. This is just pure polymorphism"
   ]
  },
  {
   "cell_type": "markdown",
   "metadata": {},
   "source": [
    "### Type Hierarchy Conclusion\n",
    "* Types are templates that make up an object.\n",
    "* Primitives are also types, Int, Short, Byte, Char, Boolean, etc.\n",
    "* Types need to matched up like a puzzle. If it isn’t the type system at compile time will tell you there is a type mismatch\n",
    "* Every type is in a relationship.\n",
    "  * `Any` is the parent for all types\n",
    "  * `AnyVal` is the parent for all primitives\n",
    "  * `AnyRef` is the parent for all Scala, Java, and custom classes that you create\n",
    "  * `Nothing` is the subtype for everything\n",
    "  * `Null` is the subtype of all references"
   ]
  },
  {
   "cell_type": "markdown",
   "metadata": {},
   "source": [
    "## `???`\n",
    "\n",
    "The triple question mark `???` is a way to mark that a method, `val`, `var` is unimplemented\n",
    "\n",
    "The signature:\n",
    "\n",
    "```\n",
    "/** <code>???</code> can be used for marking methods\n",
    "  *  that remain to be implemented.\n",
    "  *  @throws NotImplementedError\n",
    "  *  @group utilities\n",
    "  */\n",
    "def ??? : Nothing = throw new NotImplementedError\n",
    "```\n",
    "\n",
    "* It is of a type `Nothing`\n",
    "* That also means that it is type safe\n",
    "* Perfect for compilation without an actual implementation\n",
    "* Perfect for Test Driven Development"
   ]
  },
  {
   "cell_type": "markdown",
   "metadata": {},
   "source": [
    "### Example of using `???`\n",
    "\n",
    "* Compilation works\n",
    "* `???` throws a `NotImplementedError`\n",
    "* Therefore, the type returns `Nothing`\n",
    "* Nothing is the subtype of everything, including, `Int`"
   ]
  },
  {
   "cell_type": "code",
   "execution_count": 26,
   "metadata": {},
   "outputs": [
    {
     "ename": "scala.NotImplementedError",
     "evalue": " an implementation is missing",
     "output_type": "error",
     "traceback": [
      "scala.NotImplementedError: an implementation is missing",
      "  at scala.Predef$.$qmark$qmark$qmark(Predef.scala:230)",
      "  at add(<console>:26)",
      "  ... 36 elided",
      ""
     ]
    }
   ],
   "source": [
    "def add(x:Int, y:Int):Int = ???\n",
    "add(10, 12) + 3"
   ]
  },
  {
   "cell_type": "markdown",
   "metadata": {},
   "source": [
    "### `???` Conclusion\n",
    "\n",
    "* `???` is a method that returns `NotImplementedError`\n",
    "* `???` returns `Nothing` and therefore can be used in nearly any method as a placeholder until you have an implementation\n",
    "* It can be used for Test Driven Development"
   ]
  },
  {
   "cell_type": "markdown",
   "metadata": {},
   "source": [
    "## `Unit`\n",
    "\n",
    "* It can be invoked using `()`\n",
    "* A `Unit` is analogous to void in Java, C, C++\n",
    "* Used as an interpretation of not returning a something\n",
    "* Another way to interpret `Unit` is that there is nothing to give"
   ]
  },
  {
   "cell_type": "markdown",
   "metadata": {},
   "source": [
    "### About `Unit`"
   ]
  },
  {
   "cell_type": "code",
   "execution_count": 27,
   "metadata": {},
   "outputs": [
    {
     "data": {
      "text/plain": [
       "x: Unit = ()\n"
      ]
     },
     "execution_count": 27,
     "metadata": {},
     "output_type": "execute_result"
    }
   ],
   "source": [
    "val x = ()"
   ]
  },
  {
   "cell_type": "markdown",
   "metadata": {},
   "source": [
    "### `println` uses `Unit`?\n",
    "\n",
    "* There is a popular form of `Unit`\n",
    "* It is called `println`\n",
    "* `println` doesn’t return anything per se, but technically it returns `Unit`\n",
    "\n",
    "Take a look at the signature of `Unit` at the following URL:\n",
    "\n",
    "https://www.scala-lang.org/api/current/scala/Unit.html\n",
    "\n",
    "Take a look at the signature of `println` at the following URL:\n",
    "\n",
    "https://www.scala-lang.org/api/current/scala/Predef$.html"
   ]
  },
  {
   "cell_type": "markdown",
   "metadata": {},
   "source": [
    "### Assigning `println`"
   ]
  },
  {
   "cell_type": "code",
   "execution_count": 28,
   "metadata": {},
   "outputs": [
    {
     "name": "stdout",
     "output_type": "stream",
     "text": [
      "Hello, Scala\n"
     ]
    }
   ],
   "source": [
    "println(\"Hello, Scala\")"
   ]
  },
  {
   "cell_type": "markdown",
   "metadata": {},
   "source": [
    "Now assign to a value! Yes, you can!\n",
    "The type of `h` will resolve to `Unit`"
   ]
  },
  {
   "cell_type": "code",
   "execution_count": 29,
   "metadata": {},
   "outputs": [
    {
     "name": "stdout",
     "output_type": "stream",
     "text": [
      "Hello, Scala\n"
     ]
    },
    {
     "data": {
      "text/plain": [
       "h: Unit = ()\n"
      ]
     },
     "execution_count": 29,
     "metadata": {},
     "output_type": "execute_result"
    }
   ],
   "source": [
    "val h = println(\"Hello, Scala\")"
   ]
  },
  {
   "attachments": {
    "anyanyvalanyrefunit.png": {
     "image/png": "[encoded data removed]"
    }
   },
   "cell_type": "markdown",
   "metadata": {},
   "source": [
    "### Where is `Unit` in the Scala hierarchy?\n",
    "\n",
    "![anyanyvalanyrefunit.png](attachment:anyanyvalanyrefunit.png)"
   ]
  },
  {
   "cell_type": "markdown",
   "metadata": {},
   "source": [
    "### **Lab:** What is the return type of this?\n",
    "\n",
    "**Step 1:** Without running, what do you think the return type is for the following?"
   ]
  },
  {
   "cell_type": "code",
   "execution_count": 30,
   "metadata": {},
   "outputs": [
    {
     "data": {
      "text/plain": [
       "add: (x: Int, y: Int)AnyVal\n"
      ]
     },
     "execution_count": 30,
     "metadata": {},
     "output_type": "execute_result"
    }
   ],
   "source": [
    "def add(x: Int, y: Int) = {\n",
    "  if (x > 10) println(x)\n",
    "  else x + y\n",
    "}"
   ]
  },
  {
   "cell_type": "markdown",
   "metadata": {},
   "source": [
    "**Step 2:** Discuss the reasons why that returned what it did."
   ]
  },
  {
   "cell_type": "markdown",
   "metadata": {},
   "source": [
    "### `Unit` can be used anywhere\n",
    "\n",
    "* `Unit` is just an object that represents void\n",
    "* The following is a purely nonsensical method to prove that it can be treated like any object"
   ]
  },
  {
   "cell_type": "code",
   "execution_count": 31,
   "metadata": {},
   "outputs": [
    {
     "data": {
      "text/plain": [
       "nonsense: (g: Unit)Int\n"
      ]
     },
     "execution_count": 31,
     "metadata": {},
     "output_type": "execute_result"
    }
   ],
   "source": [
    "def nonsense(g:Unit):Int = 50"
   ]
  },
  {
   "cell_type": "code",
   "execution_count": 32,
   "metadata": {},
   "outputs": [
    {
     "data": {
      "text/plain": [
       "res10: Int = 50\n"
      ]
     },
     "execution_count": 32,
     "metadata": {},
     "output_type": "execute_result"
    }
   ],
   "source": [
    "nonsense(())"
   ]
  },
  {
   "cell_type": "markdown",
   "metadata": {},
   "source": [
    "### Unplanned `Unit`\n",
    "\n",
    "In methods, if you do not use the `=` that will implicitly mean that you are returning `Unit`\n",
    "\n",
    "Given the following which is correct, this will add `x` and `y`:"
   ]
  },
  {
   "cell_type": "code",
   "execution_count": 33,
   "metadata": {},
   "outputs": [
    {
     "name": "stdout",
     "output_type": "stream",
     "text": [
      "9\n"
     ]
    },
    {
     "data": {
      "text/plain": [
       "add: (x: Int, y: Int)Int\n"
      ]
     },
     "execution_count": 33,
     "metadata": {},
     "output_type": "execute_result"
    }
   ],
   "source": [
    "def add(x:Int, y:Int) = {\n",
    "   x + y\n",
    "}\n",
    "println(add(4,5))"
   ]
  },
  {
   "cell_type": "markdown",
   "metadata": {},
   "source": [
    "If we didn’t use `=` here, this will implicitly return `Unit`"
   ]
  },
  {
   "cell_type": "code",
   "execution_count": 34,
   "metadata": {},
   "outputs": [
    {
     "name": "stdout",
     "output_type": "stream",
     "text": [
      "()\n"
     ]
    },
    {
     "data": {
      "text/plain": [
       "badAdd: (x: Int, y: Int)Unit\n"
      ]
     },
     "execution_count": 34,
     "metadata": {},
     "output_type": "execute_result"
    }
   ],
   "source": [
    "def badAdd(x: Int, y: Int) {\n",
    "   x + y\n",
    "}\n",
    "\n",
    "println(badAdd(4, 5)) //Returns a ()!"
   ]
  },
  {
   "cell_type": "markdown",
   "metadata": {},
   "source": [
    "### Explicitly putting `Unit`\n",
    "\n",
    "If we can to write out the `Unit` explicitly by stipulating `Unit` as the return type"
   ]
  },
  {
   "cell_type": "code",
   "execution_count": 35,
   "metadata": {},
   "outputs": [
    {
     "name": "stdout",
     "output_type": "stream",
     "text": [
      "()\n"
     ]
    },
    {
     "data": {
      "text/plain": [
       "addUnit: (x: Int, y: Int)Unit\n"
      ]
     },
     "execution_count": 35,
     "metadata": {},
     "output_type": "execute_result"
    }
   ],
   "source": [
    "def addUnit(x: Int, y: Int):Unit = {\n",
    "   x + y\n",
    "}\n",
    "println(addUnit(4,5)) //Returns a ()!"
   ]
  },
  {
   "cell_type": "markdown",
   "metadata": {},
   "source": [
    "### Side Effects and `Unit`\n",
    "\n",
    "* When seeing `Unit` in functional programming when being returned from a method, it means likely it is creating a side effect\n",
    "* A side effect is when something is changed to the outside world either:\n",
    "  * Printing to a screen\n",
    "  * Printing to a printer\n",
    "  * Saving to Storage\n",
    "  * Changing State\n",
    "\n",
    "The following is changing state. Notice that this is returning `Unit`!\n",
    "Also, notice that there is `var` which is mutability!"
   ]
  },
  {
   "cell_type": "code",
   "execution_count": 36,
   "metadata": {},
   "outputs": [
    {
     "data": {
      "text/plain": [
       "a: Int = 1\n",
       "sideEffect: ()Unit\n"
      ]
     },
     "execution_count": 36,
     "metadata": {},
     "output_type": "execute_result"
    }
   ],
   "source": [
    "var a = 0\n",
    "def sideEffect() {\n",
    "   a = a + 1\n",
    "}\n",
    "sideEffect()"
   ]
  },
  {
   "cell_type": "markdown",
   "metadata": {},
   "source": [
    "### `Unit` Conclusion\n",
    "\n",
    "* Unit won’t give you anything. (Those jerks)\n",
    "* They are analogous to Java’s `void`.\n",
    "* `Unit` are actually objects and not a \n",
    "\n",
    "Units have a type, Unit.\n",
    "\n",
    "Units have one value, ().\n",
    "\n",
    "Whenever you see a () that means you have a Unit."
   ]
  }
 ],
 "metadata": {
  "kernelspec": {
   "display_name": "spylon-kernel",
   "language": "scala",
   "name": "spylon-kernel"
  },
  "language_info": {
   "codemirror_mode": "text/x-scala",
   "file_extension": ".scala",
   "help_links": [
    {
     "text": "MetaKernel Magics",
     "url": "https://metakernel.readthedocs.io/en/latest/source/README.html"
    }
   ],
   "mimetype": "text/x-scala",
   "name": "scala",
   "pygments_lexer": "scala",
   "version": "0.4.1"
  }
 },
 "nbformat": 4,
 "nbformat_minor": 2
}

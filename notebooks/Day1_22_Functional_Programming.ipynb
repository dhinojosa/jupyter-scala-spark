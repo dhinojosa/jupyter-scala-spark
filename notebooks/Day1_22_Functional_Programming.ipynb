{
 "cells": [
  {
   "cell_type": "markdown",
   "metadata": {},
   "source": [
    "# Functional Programming with Scala\n",
    "\n",
    "## About the Functions\n",
    "* Will will cover the essentials\n",
    "  * `map`\n",
    "  * `filter`\n",
    "  * `flatMap`\n",
    "  * `foreach`\n",
    "* There are many more, but these are the core functions that you will find in both Scala and Spark"
   ]
  },
  {
   "cell_type": "markdown",
   "metadata": {},
   "source": [
    "## `map` function\n",
    "\n",
    "* `map` applies a higher order function to every element in a collection or container\n",
    "* Available on nearly every collection or container in Scala\n",
    "* The structure and properties for `map` are nearly identical across all collections"
   ]
  },
  {
   "cell_type": "markdown",
   "metadata": {},
   "source": [
    "## `List` and `map`\n",
    "\n",
    "* This is the API Signature of `map` for `List`\n",
    "* Note that the parameterized type of the List in this case is `[A]`\n",
    "\n",
    "![list_map_function.png](../images/list_map_function.png)"
   ]
  },
  {
   "cell_type": "code",
   "execution_count": 5,
   "metadata": {},
   "outputs": [
    {
     "data": {
      "text/plain": [
       "res4: List[Int] = List(2, 3, 4, 5)\n"
      ]
     },
     "execution_count": 5,
     "metadata": {},
     "output_type": "execute_result"
    }
   ],
   "source": [
    "List(1,2,3,4).map(x => x + 1)"
   ]
  },
  {
   "cell_type": "markdown",
   "metadata": {},
   "source": [
    "Link: https://www.scala-lang.org/api/current/scala/collection/immutable/List.html"
   ]
  },
  {
   "cell_type": "markdown",
   "metadata": {},
   "source": [
    "## `Set` and `map`\n",
    "\n",
    "* This is the API Signature of map for Set\n",
    "* Note that the parameterized type of the Set in this case is `[A]`\n",
    "* Important to note to not expect a certain order when dealing with a `Set`\n",
    "\n",
    "![list_map_function.png](../images/set_map_function.png)"
   ]
  },
  {
   "cell_type": "code",
   "execution_count": 6,
   "metadata": {},
   "outputs": [
    {
     "data": {
      "text/plain": [
       "res5: scala.collection.immutable.Set[Int] = Set(6, 11, 14, 13)\n"
      ]
     },
     "execution_count": 6,
     "metadata": {},
     "output_type": "execute_result"
    }
   ],
   "source": [
    "Set(5,10,13,12).map(x => x + 1)"
   ]
  },
  {
   "cell_type": "markdown",
   "metadata": {},
   "source": [
    "Link: https://www.scala-lang.org/api/current/scala/collection/immutable/Set.html"
   ]
  },
  {
   "cell_type": "markdown",
   "metadata": {},
   "source": [
    "## `Map` and `map`\n",
    "\n",
    "* This is the API Signature of `map` for `Map`\n",
    "* Note that the parameterized type of the Map in this case is `[K,V]`\n",
    "* `K` is the key parameterized type\n",
    "* `V` is the value parameterized type\n",
    "\n",
    "![list_map_function.png](../images/map_map_function.png)"
   ]
  },
  {
   "cell_type": "code",
   "execution_count": 7,
   "metadata": {},
   "outputs": [
    {
     "data": {
      "text/plain": [
       "res6: scala.collection.immutable.Map[Int,String] = Map(101 -> One Hundred, 102 -> Two Hundred)\n"
      ]
     },
     "execution_count": 7,
     "metadata": {},
     "output_type": "execute_result"
    }
   ],
   "source": [
    "Map(1 -> \"One\", 2 -> \"Two\").map(t => (t._1 + 100, t._2 + \" Hundred\"))"
   ]
  },
  {
   "cell_type": "markdown",
   "metadata": {},
   "source": [
    "Link: https://www.scala-lang.org/api/current/scala/collection/immutable/Map.html"
   ]
  },
  {
   "cell_type": "markdown",
   "metadata": {},
   "source": [
    "## `String` and `map`\n",
    "\n",
    "* This is the API Signature of map under the `StringOps` wrapper\n",
    "* Note that the parameterized type of the `StringOps` in this case is actually `Char`\n",
    "\n",
    "![string_map_function.png](../images/string_map_function.png)"
   ]
  },
  {
   "cell_type": "code",
   "execution_count": 8,
   "metadata": {},
   "outputs": [
    {
     "data": {
      "text/plain": [
       "res7: String = Ifmmp\n"
      ]
     },
     "execution_count": 8,
     "metadata": {},
     "output_type": "execute_result"
    }
   ],
   "source": [
    "\"Hello\".map(c => (c + 1).toChar)"
   ]
  },
  {
   "cell_type": "markdown",
   "metadata": {},
   "source": [
    "## `map` Conclusion\n",
    "* `map` takes a function, and applies that function in every element in a collection.\n",
    "* `map` can be applied to `List`, `Set`, `Map`, `Stream`, `String`, even `Option`!"
   ]
  },
  {
   "cell_type": "markdown",
   "metadata": {},
   "source": [
    "## `filter` function\n",
    "\n",
    "* Using the `filter` function\n",
    "* `filter` removes elements from a collection based on a function or predicate\n",
    "* A predicate is a function that returns `true` or `false`\n",
    "* Available on nearly every collection in Scala\n",
    "* The structure and properties for filter are nearly identical across all collections"
   ]
  },
  {
   "attachments": {},
   "cell_type": "markdown",
   "metadata": {},
   "source": [
    "### `List` and `filter`\n",
    "\n",
    "* This is the API Signature of filter for List\n",
    "* Note that the parameterized type of the List in this case is `[A]`\n",
    "\n",
    "![list_filter_function.png](../images/list_filter_function.png)"
   ]
  },
  {
   "cell_type": "code",
   "execution_count": 2,
   "metadata": {},
   "outputs": [
    {
     "data": {
      "text/plain": [
       "res1: List[Int] = List(2, 4)\n"
      ]
     },
     "execution_count": 2,
     "metadata": {},
     "output_type": "execute_result"
    }
   ],
   "source": [
    "List(1,2,3,4).filter(x => x % 2 == 0)"
   ]
  },
  {
   "cell_type": "markdown",
   "metadata": {},
   "source": [
    "Link: https://www.scala-lang.org/api/current/scala/collection/immutable/List.html"
   ]
  },
  {
   "cell_type": "markdown",
   "metadata": {},
   "source": [
    "### `Set` and `filter`\n",
    "\n",
    "* This is the API Signature of `filter` for `Set`\n",
    "* Note that the parameterized type of the Set in this case is `[A]`\n",
    "\n",
    "![set_filter_function.png](../images/set_filter_function.png)"
   ]
  },
  {
   "cell_type": "code",
   "execution_count": 3,
   "metadata": {},
   "outputs": [
    {
     "data": {
      "text/plain": [
       "res2: scala.collection.immutable.Set[Int] = Set(2, 4)\n"
      ]
     },
     "execution_count": 3,
     "metadata": {},
     "output_type": "execute_result"
    }
   ],
   "source": [
    "Set(1,2,3,4).filter(x => x % 2 == 0)"
   ]
  },
  {
   "cell_type": "markdown",
   "metadata": {},
   "source": [
    "Link: https://www.scala-lang.org/api/current/scala/collection/immutable/Set.html"
   ]
  },
  {
   "cell_type": "markdown",
   "metadata": {},
   "source": [
    "### `Map` and `filter`\n",
    "\n",
    "* This is the API Signature of filter for Map\n",
    "* Note that the parameterized type of the Map in this case is `[K,V]`\n",
    "  * `K` is the key parameterized type\n",
    "  * `V` is the value parameterized type\n",
    "  \n",
    "![map_filter_function.png](../images/map_filter_function.png)"
   ]
  },
  {
   "cell_type": "code",
   "execution_count": 7,
   "metadata": {},
   "outputs": [
    {
     "data": {
      "text/plain": [
       "res6: scala.collection.immutable.Map[Int,String] = Map(2 -> Two, 3 -> Three)\n"
      ]
     },
     "execution_count": 7,
     "metadata": {},
     "output_type": "execute_result"
    }
   ],
   "source": [
    "Map(1 -> \"One\", 2 -> \"Two\", 3 -> \"Three\").filter(t => t._2.startsWith(\"T\"))"
   ]
  },
  {
   "cell_type": "markdown",
   "metadata": {},
   "source": [
    "Link: https://www.scala-lang.org/api/current/scala/collection/immutable/Map.html"
   ]
  },
  {
   "attachments": {},
   "cell_type": "markdown",
   "metadata": {},
   "source": [
    "### `String` and `filter`\n",
    "\n",
    "* This is the API Signature of filter for StringOps\n",
    "* Note that the type for `StringOps` in this case is actually `Char`\n",
    "\n",
    "![string_filter_function.png](../images/string_filter_function.png)"
   ]
  },
  {
   "cell_type": "code",
   "execution_count": 19,
   "metadata": {},
   "outputs": [
    {
     "data": {
      "text/plain": [
       "res17: String = eo\n"
      ]
     },
     "execution_count": 19,
     "metadata": {},
     "output_type": "execute_result"
    }
   ],
   "source": [
    "\"Hello\".filter(c => List('a', 'e', 'i', 'o', 'u').contains(c))"
   ]
  },
  {
   "cell_type": "markdown",
   "metadata": {},
   "source": [
    "## `foreach`\n",
    "\n",
    "* Like `map`, we apply a function to each element\n",
    "* Unlike `map`\n",
    "  * The return type for foreach function is `Unit`\n",
    "  * The function applied must also return a `Unit`\n",
    "  * `Unit` is an indication of a side effect\n",
    "* Using `map` instead of `foreach`"
   ]
  },
  {
   "cell_type": "markdown",
   "metadata": {},
   "source": [
    "If we ran the following:"
   ]
  },
  {
   "cell_type": "code",
   "execution_count": 12,
   "metadata": {},
   "outputs": [
    {
     "name": "stdout",
     "output_type": "stream",
     "text": [
      "1\n",
      "2\n",
      "3\n",
      "4\n",
      "5\n",
      "6\n",
      "7\n",
      "8\n",
      "9\n",
      "10\n",
      "Vector((), (), (), (), (), (), (), (), (), ())\n"
     ]
    },
    {
     "data": {
      "text/plain": [
       "a: scala.collection.immutable.Range.Inclusive = Range(1, 2, 3, 4, 5, 6, 7, 8, 9, 10)\n",
       "list: scala.collection.immutable.IndexedSeq[Unit] = Vector((), (), (), (), (), (), (), (), (), ())\n"
      ]
     },
     "execution_count": 12,
     "metadata": {},
     "output_type": "execute_result"
    }
   ],
   "source": [
    "val a = (1 to 10)\n",
    "val list = a.map(x => println(x))\n",
    "println(list)"
   ]
  },
  {
   "attachments": {},
   "cell_type": "markdown",
   "metadata": {},
   "source": [
    "### Cleaner output with `foreach`\n",
    "\n",
    "* Use `foreach` so that we don’t have to see that messy end result\n",
    "* Each item is given to the function returns a Unit (not mandatory)\n",
    "* Here is the `foreach` function for `List`\n",
    "\n",
    "![list_foreach_function.png](../images/list_foreach_function.png)"
   ]
  },
  {
   "cell_type": "markdown",
   "metadata": {},
   "source": [
    "### Change `map` to `foreach`\n",
    "\n",
    "Changing the previous slide contents this will look like:"
   ]
  },
  {
   "cell_type": "code",
   "execution_count": 13,
   "metadata": {},
   "outputs": [
    {
     "name": "stdout",
     "output_type": "stream",
     "text": [
      "1\n",
      "2\n",
      "3\n",
      "4\n",
      "5\n",
      "6\n",
      "7\n",
      "8\n",
      "9\n",
      "10\n",
      "()\n"
     ]
    },
    {
     "data": {
      "text/plain": [
       "a: scala.collection.immutable.Range.Inclusive = Range(1, 2, 3, 4, 5, 6, 7, 8, 9, 10)\n",
       "list: Unit = ()\n"
      ]
     },
     "execution_count": 13,
     "metadata": {},
     "output_type": "execute_result"
    }
   ],
   "source": [
    "val a = (1 to 10)\n",
    "val list = a.foreach(x => println(x))\n",
    "println(list)"
   ]
  },
  {
   "cell_type": "markdown",
   "metadata": {},
   "source": [
    "There we get the response we were looking for and the return is a `Unit`. We typically don't print out the result of the `foreach`. Below is the typical invocation."
   ]
  },
  {
   "cell_type": "code",
   "execution_count": 15,
   "metadata": {},
   "outputs": [
    {
     "name": "stdout",
     "output_type": "stream",
     "text": [
      "1\n",
      "2\n",
      "3\n",
      "4\n",
      "5\n",
      "6\n",
      "7\n",
      "8\n",
      "9\n",
      "10\n"
     ]
    },
    {
     "data": {
      "text/plain": [
       "a: scala.collection.immutable.Range.Inclusive = Range(1, 2, 3, 4, 5, 6, 7, 8, 9, 10)\n"
      ]
     },
     "execution_count": 15,
     "metadata": {},
     "output_type": "execute_result"
    }
   ],
   "source": [
    "val a = (1 to 10)\n",
    "a.foreach(x => println(x))"
   ]
  },
  {
   "cell_type": "markdown",
   "metadata": {},
   "source": [
    "### Refactoring foreach\n",
    "\n",
    "Clearing out the assignment we just have:"
   ]
  },
  {
   "cell_type": "code",
   "execution_count": 16,
   "metadata": {},
   "outputs": [
    {
     "name": "stdout",
     "output_type": "stream",
     "text": [
      "1\n",
      "2\n",
      "3\n",
      "4\n",
      "5\n",
      "6\n",
      "7\n",
      "8\n",
      "9\n",
      "10\n"
     ]
    },
    {
     "data": {
      "text/plain": [
       "a: scala.collection.immutable.Range.Inclusive = Range(1, 2, 3, 4, 5, 6, 7, 8, 9, 10)\n"
      ]
     },
     "execution_count": 16,
     "metadata": {},
     "output_type": "execute_result"
    }
   ],
   "source": [
    "val a = (1 to 10)\n",
    "a.foreach(x => println(x))"
   ]
  },
  {
   "cell_type": "markdown",
   "metadata": {},
   "source": [
    "Let’s just refactor foreach further using `_` placeholder"
   ]
  },
  {
   "cell_type": "markdown",
   "metadata": {},
   "source": [
    "val a = (1 to 10)\n",
    "a.foreach(println _) //println is a perfect candidate, it returns Unit."
   ]
  },
  {
   "cell_type": "markdown",
   "metadata": {},
   "source": [
    "The place holder `_` is the last item within the parenthesis, and if you remember the postfix operations of a function. We can remove the placeholder"
   ]
  },
  {
   "cell_type": "markdown",
   "metadata": {},
   "source": [
    "val a = (1 to 10)\n",
    "a.foreach(println) //println is a perfect candidate, it returns Unit."
   ]
  },
  {
   "cell_type": "markdown",
   "metadata": {},
   "source": [
    "### Final Refactoring with `foreach`\n",
    "\n",
    "Since `foreach` takes one argument we can call it as infix:"
   ]
  },
  {
   "cell_type": "code",
   "execution_count": 17,
   "metadata": {},
   "outputs": [
    {
     "name": "stdout",
     "output_type": "stream",
     "text": [
      "1\n",
      "2\n",
      "3\n",
      "4\n",
      "5\n",
      "6\n",
      "7\n",
      "8\n",
      "9\n",
      "10\n"
     ]
    },
    {
     "data": {
      "text/plain": [
       "a: scala.collection.immutable.Range.Inclusive = Range(1, 2, 3, 4, 5, 6, 7, 8, 9, 10)\n"
      ]
     },
     "execution_count": 17,
     "metadata": {},
     "output_type": "execute_result"
    }
   ],
   "source": [
    "val a = 1 to 10\n",
    "a foreach println"
   ]
  },
  {
   "cell_type": "markdown",
   "metadata": {},
   "source": [
    "Inlining the whole thing:"
   ]
  },
  {
   "cell_type": "code",
   "execution_count": 18,
   "metadata": {},
   "outputs": [
    {
     "name": "stdout",
     "output_type": "stream",
     "text": [
      "1\n",
      "2\n",
      "3\n",
      "4\n",
      "5\n",
      "6\n",
      "7\n",
      "8\n",
      "9\n",
      "10\n"
     ]
    }
   ],
   "source": [
    "1 to 10 foreach println"
   ]
  },
  {
   "cell_type": "markdown",
   "metadata": {},
   "source": [
    "### `Set` and `foreach`\n",
    "\n",
    "This is the API Signature of foreach for Set\n",
    "Note that the parameterized type of the Set in this case is `[A]`\n",
    "\n",
    "![set_foreach_function.png](../images/set_foreach_function.png)\n",
    "\n",
    "Link: http://www.scala-lang.org/api/current/scala/collection/immutable/Set.html"
   ]
  },
  {
   "cell_type": "code",
   "execution_count": 20,
   "metadata": {},
   "outputs": [
    {
     "name": "stdout",
     "output_type": "stream",
     "text": [
      "10\n",
      "22\n",
      "12\n",
      "50\n",
      "40\n",
      "19\n",
      "4\n"
     ]
    }
   ],
   "source": [
    "Set(4,10,50,40,22,12,19,50).foreach(x => println(x))"
   ]
  },
  {
   "cell_type": "code",
   "execution_count": 21,
   "metadata": {},
   "outputs": [
    {
     "name": "stdout",
     "output_type": "stream",
     "text": [
      "10\n",
      "22\n",
      "12\n",
      "50\n",
      "40\n",
      "19\n",
      "4\n"
     ]
    }
   ],
   "source": [
    "Set(4,10,50,40,22,12,19,50).foreach(println)"
   ]
  },
  {
   "attachments": {},
   "cell_type": "markdown",
   "metadata": {},
   "source": [
    "### `Map` and `foreach`\n",
    "This is the API Signature of foreach for Map\n",
    "\n",
    "* Note that the parameterized type of the Map in this case is `[K, V]`\n",
    "  * `K` is the key parameterized type\n",
    "  * `V` is the value parameterized type\n",
    "\n",
    "![map_foreach_function.png](../images/map_foreach_function.png)\n",
    "\n",
    "Link: http://www.scala-lang.org/api/current/scala/collection/immutable/Map.html"
   ]
  },
  {
   "cell_type": "code",
   "execution_count": 25,
   "metadata": {},
   "outputs": [
    {
     "name": "stdout",
     "output_type": "stream",
     "text": [
      "(1,One)\n",
      "(2,Two)\n",
      "(3,Three)\n",
      "(4,Four)\n"
     ]
    }
   ],
   "source": [
    "Map(1 -> \"One\", 2 -> \"Two\", 3 -> \"Three\", 4 -> \"Four\").foreach(x => println(x))"
   ]
  },
  {
   "attachments": {},
   "cell_type": "markdown",
   "metadata": {},
   "source": [
    "### `String` and `foreach`\n",
    "\n",
    "* This is the API Signature of foreach for String\n",
    "* Note that the parameterized type of the `StringOps` in this case is `[A]` but is usually `Char`\n",
    "\n",
    "![string_foreach_function.png](../images/string_foreach_function.png)\n",
    "\n",
    "Link: http://www.scala-lang.org/api/current/scala/collection/immutable/StringOps.html"
   ]
  },
  {
   "cell_type": "code",
   "execution_count": 26,
   "metadata": {},
   "outputs": [
    {
     "name": "stdout",
     "output_type": "stream",
     "text": [
      "H\n",
      "e\n",
      "l\n",
      "l\n",
      "o\n",
      ",\n",
      " \n",
      "T\n",
      "h\n",
      "e\n",
      "r\n",
      "e\n"
     ]
    }
   ],
   "source": [
    "\"Hello, There\".foreach(println)"
   ]
  },
  {
   "attachments": {},
   "cell_type": "markdown",
   "metadata": {},
   "source": [
    "### `Option` and `foreach`\n",
    "\n",
    "* This is the API Signature of `foreach` for Option\n",
    "* Note that the parameterized type of the `Set` in this case is `[A]`\n",
    "\n",
    "![option_foreach_function.png](../images/option_foreach_function.png)\n",
    "\n",
    "Link: http://www.scala-lang.org/api/current/scala/Option.html"
   ]
  },
  {
   "cell_type": "code",
   "execution_count": 27,
   "metadata": {},
   "outputs": [
    {
     "name": "stdout",
     "output_type": "stream",
     "text": [
      "40\n"
     ]
    }
   ],
   "source": [
    "Option(40).foreach(println)"
   ]
  },
  {
   "cell_type": "markdown",
   "metadata": {},
   "source": [
    "`Option.empty[Int]` will return a `None` with parameterized type of `Int`"
   ]
  },
  {
   "cell_type": "code",
   "execution_count": 29,
   "metadata": {},
   "outputs": [],
   "source": [
    "Option.empty[Int].foreach(println)"
   ]
  },
  {
   "cell_type": "markdown",
   "metadata": {},
   "source": [
    "### `foreach` Conclusion\n",
    "\n",
    "* `foreach` is a method that takes a higher order function that will take an element and return `Unit`\n",
    "* Perfect if you want to take an element and perform a side effect like print to screen\n",
    "* `foreach` can be done to `List`, `Set`, `Stream`, `String`, `Array`, and more"
   ]
  },
  {
   "cell_type": "markdown",
   "metadata": {},
   "source": [
    "## `flatMap`"
   ]
  },
  {
   "cell_type": "markdown",
   "metadata": {},
   "source": [
    "### Using `flatMap`\n",
    "\n",
    "* One of the most important functions/methods in functional programming\n",
    "* Takes the value or values of one \"container\" and creates another \"container\" using the value.\n",
    "* This is also important for for comprehensions"
   ]
  },
  {
   "cell_type": "markdown",
   "metadata": {},
   "source": [
    "### Starting from `map`\n",
    "Let’s say that we wish to `map` every element of a `List` into another `List`, seen below:"
   ]
  },
  {
   "cell_type": "code",
   "execution_count": 30,
   "metadata": {},
   "outputs": [
    {
     "name": "stdout",
     "output_type": "stream",
     "text": [
      "List(List(-1, 0, 1), List(-2, 0, 2), List(-3, 0, 3), List(-4, 0, 4), List(-5, 0, 5))\n"
     ]
    },
    {
     "data": {
      "text/plain": [
       "a: List[Int] = List(1, 2, 3, 4, 5)\n"
      ]
     },
     "execution_count": 30,
     "metadata": {},
     "output_type": "execute_result"
    }
   ],
   "source": [
    "val a = List(1,2,3,4,5)\n",
    "println(a.map(x => List(-x, 0, x)))"
   ]
  },
  {
   "cell_type": "markdown",
   "metadata": {},
   "source": [
    "This is just a plain map that returns a `List[List[Int]]`"
   ]
  },
  {
   "cell_type": "markdown",
   "metadata": {},
   "source": [
    "### Avoiding the `List[List[_]]` with `flatten` and `map`\n",
    "\n",
    "But let’s say that given all that we want to take that and flatten all that, this is where the `flatten` method can be used."
   ]
  },
  {
   "cell_type": "code",
   "execution_count": 31,
   "metadata": {},
   "outputs": [
    {
     "name": "stdout",
     "output_type": "stream",
     "text": [
      "List(-1, 0, 1, -2, 0, 2, -3, 0, 3, -4, 0, 4, -5, 0, 5)\n"
     ]
    },
    {
     "data": {
      "text/plain": [
       "a: List[Int] = List(1, 2, 3, 4, 5)\n"
      ]
     },
     "execution_count": 31,
     "metadata": {},
     "output_type": "execute_result"
    }
   ],
   "source": [
    "val a = List(1,2,3,4,5)\n",
    "println(a.map(x => List(-x, 0, x)).flatten)"
   ]
  },
  {
   "cell_type": "markdown",
   "metadata": {},
   "source": [
    "That works out great, we see that we not longer have a list of list, we have a single list.\n",
    "\n",
    "`flatten` is available in nearly all \"containers\", `List`, `Set`, `Map`, `Option`, `String`, `Stream`, etc."
   ]
  },
  {
   "cell_type": "markdown",
   "metadata": {},
   "source": [
    "### Avoiding the `List[List[_]]` with flatMap\n",
    "\n",
    "* Here is a memory trick that you may find helpful:\n",
    "* If you see a `Collection` in a `Collection` like we saw and you don’t want it like that, use `flatMap`."
   ]
  },
  {
   "cell_type": "code",
   "execution_count": 32,
   "metadata": {},
   "outputs": [
    {
     "name": "stdout",
     "output_type": "stream",
     "text": [
      "List(-1, 0, 1, -2, 0, 2, -3, 0, 3, -4, 0, 4, -5, 0, 5)\n"
     ]
    },
    {
     "data": {
      "text/plain": [
       "a: List[Int] = List(1, 2, 3, 4, 5)\n"
      ]
     },
     "execution_count": 32,
     "metadata": {},
     "output_type": "execute_result"
    }
   ],
   "source": [
    "val a = List(1,2,3,4,5)\n",
    "println(a.flatMap(x => List(-x, 0, x)))"
   ]
  },
  {
   "cell_type": "markdown",
   "metadata": {},
   "source": [
    "The previous result looks exactly the same as the flatten and map combination"
   ]
  },
  {
   "cell_type": "markdown",
   "metadata": {},
   "source": [
    "### `List` and `flatMap`\n",
    "\n",
    "* Here is the API Signature of `flatMap` for `List`\n",
    "* Note that the parameterized type of the `List` in this case is `[A]`\n",
    "* Notice the signature of flatMap: `(A) ⇒ GenTraversableOnce[B]`\n",
    "* Other `GenTraversableOnce[T]` subtypes include:\n",
    "  * `Set`\n",
    "  * `Map`\n",
    "  * `Array`\n",
    "  * `String`\n",
    "\n",
    "![list_flatmap_function.png](../images/list_flatmap_function.png)"
   ]
  },
  {
   "cell_type": "markdown",
   "metadata": {},
   "source": [
    "### `flatMap` with multiple layers\n",
    "\n",
    "* Given the known signature of `flatMap`\n",
    "* Even if the `Collection` are stacked in multiple layers we can `flatMap` until we get the collection we need."
   ]
  },
  {
   "cell_type": "markdown",
   "metadata": {},
   "source": [
    "val b:List[List[List[Int]]] =\n",
    "   List(List(List(1,2,3), List(4,5,6)),\n",
    "   List(List(7,8,9), List(10,11,12)))"
   ]
  },
  {
   "cell_type": "markdown",
   "metadata": {},
   "source": [
    "* So what is the result of performing a flatMap on a `List[List[List[Int]]]`?\n",
    "* Depends on the function\n",
    "\n",
    "### The `Identity` Function\n",
    "\n",
    "* The `identity` function is take the input and make it the output\n",
    "* Instead of writing `x ⇒ x`, you can opt for `identity(x)`\n",
    "* `identity` comes from the `Predef`\n",
    "\n",
    "### The `identity` function and `flatMap`"
   ]
  },
  {
   "cell_type": "code",
   "execution_count": 34,
   "metadata": {},
   "outputs": [
    {
     "data": {
      "text/plain": [
       "list: List[List[List[Int]]] = List(List(List(1, 2, 3), List(4, 5, 6)), List(List(7, 8, 9), List(10, 11, 12)))\n",
       "res32: List[List[Int]] = List(List(1, 2, 3), List(4, 5, 6), List(7, 8, 9), List(10, 11, 12))\n"
      ]
     },
     "execution_count": 34,
     "metadata": {},
     "output_type": "execute_result"
    }
   ],
   "source": [
    "val list:List[List[List[Int]]] =\n",
    "    List(List(List(1,2,3), List(4,5,6)),\n",
    "    List(List(7,8,9), List(10,11,12)))\n",
    "list.flatMap(x => x)"
   ]
  },
  {
   "cell_type": "markdown",
   "metadata": {},
   "source": [
    "### `Set` and `flatMap`\n",
    "\n",
    "* This is the API Signature of `flatMap` for `Set`\n",
    "* Note that the parameterized type of the `Set` in this case is `[A]`\n",
    "\n",
    "![set_flatmap_function.png](../images/set_flatmap_function.png)\n",
    "\n",
    "Link: https://www.scala-lang.org/api/current/scala/collection/Set.html"
   ]
  },
  {
   "cell_type": "code",
   "execution_count": 35,
   "metadata": {},
   "outputs": [
    {
     "data": {
      "text/plain": [
       "res33: scala.collection.immutable.Set[Int] = Set(10, 20, 2, 50, 11, 55, 4)\n"
      ]
     },
     "execution_count": 35,
     "metadata": {},
     "output_type": "execute_result"
    }
   ],
   "source": [
    "Set(2, 4, 10, 11).flatMap(x => Set(x, x*5))"
   ]
  },
  {
   "cell_type": "markdown",
   "metadata": {},
   "source": [
    "### `Map` and `flatMap`\n",
    "\n",
    "* This is the API Signature of `flatMap` for `Map`\n",
    "* Note that the parameterized type of the Map in this case is `[K, V]`\n",
    "  * `K` is the key parameterized type\n",
    "  * `V` is the value parameterized type\n",
    "\n",
    "![map_flatmap_function.png](../images/map_flatmap_function.png)\n",
    "\n",
    "Link: https://www.scala-lang.org/api/current/scala/collection/Map.html"
   ]
  },
  {
   "cell_type": "markdown",
   "metadata": {},
   "source": [
    "### **Lab:** Map with `flatMap`\n",
    "\n",
    "**Step 1:** Given what you know about `flatMap`, replace `???` with what you think it would take to produce the following output?\n",
    "\n",
    "```\n",
    "Map(1 -> \"One\", 2 -> \"Two\", 3 -> \"Three\",\n",
    "    300 -> \"Three Hundred\", 200 -> \"Two Hundred\",\n",
    "    100 -> \"One Hundred\")\n",
    "```"
   ]
  },
  {
   "cell_type": "code",
   "execution_count": 40,
   "metadata": {},
   "outputs": [
    {
     "ename": "scala.NotImplementedError",
     "evalue": " an implementation is missing",
     "output_type": "error",
     "traceback": [
      "scala.NotImplementedError: an implementation is missing",
      "  at scala.Predef$.$qmark$qmark$qmark(Predef.scala:230)",
      "  ... 36 elided",
      ""
     ]
    }
   ],
   "source": [
    "val origMap = Map(1 -> \"One\",\n",
    "    2 -> \"Two\",\n",
    "    3 -> \"Three\")\n",
    "\n",
    "val result:Map[Int, String] = ???\n",
    "println(result)"
   ]
  },
  {
   "cell_type": "markdown",
   "metadata": {},
   "source": [
    "### `flatMap` Conclusion\n",
    "\n",
    "* `flatMap` is the combination of `flatten` and `map`.\n",
    "* `flatMap` can be used with `List`, `Set`, `Map`, `String`, `Stream`, and `Option`\n",
    "* Your cue is when you see a `List[List[A]]`, `Set[Set[A]]`, etc.\n",
    "* `flatMap` can also be used with massive layering, `List[List[List[A]]]`"
   ]
  },
  {
   "cell_type": "markdown",
   "metadata": {},
   "source": [
    "### `mkString`\n",
    "\n",
    "* Concatenates all elements into one string given a delimiter\n",
    "* Can be given a before and after `String` to flank the result string"
   ]
  },
  {
   "cell_type": "code",
   "execution_count": 38,
   "metadata": {},
   "outputs": [
    {
     "data": {
      "text/plain": [
       "res36: String = 1:2:3:4\n"
      ]
     },
     "execution_count": 38,
     "metadata": {},
     "output_type": "execute_result"
    }
   ],
   "source": [
    "List(1,2,3,4).mkString(\":\")"
   ]
  },
  {
   "cell_type": "code",
   "execution_count": 37,
   "metadata": {},
   "outputs": [
    {
     "data": {
      "text/plain": [
       "res35: String = z~~a~~b~~c\n"
      ]
     },
     "execution_count": 37,
     "metadata": {},
     "output_type": "execute_result"
    }
   ],
   "source": [
    "Vector('z','a','b','c').mkString(\"~~\")"
   ]
  },
  {
   "cell_type": "code",
   "execution_count": 39,
   "metadata": {},
   "outputs": [
    {
     "data": {
      "text/plain": [
       "res37: String = $$Seattle#Los Angeles#Denver$$\n"
      ]
     },
     "execution_count": 39,
     "metadata": {},
     "output_type": "execute_result"
    }
   ],
   "source": [
    "Set(\"Seattle\", \"Los Angeles\", \"Denver\").mkString(\"$$\", \"#\", \"$$\")"
   ]
  },
  {
   "attachments": {},
   "cell_type": "markdown",
   "metadata": {},
   "source": [
    "### **Lab:** Doing a better isPrime\n",
    "*Step 1:* Knowing what you know now, is there a better `isPrime`? If so implement it!\n",
    "\n",
    "Hint: Start with a range like (1 to n) and work from there. Look at the range API, specifically at the method `forall` and see if that will work! You can also try something else, lots of methods to choose from! **_There should be no for loops!_**. We want you to do your own research on this using the documentation at https://www.scala-lang.org/files/archive/api/current/scala/"
   ]
  },
  {
   "cell_type": "code",
   "execution_count": null,
   "metadata": {},
   "outputs": [],
   "source": [
    "\n"
   ]
  }
 ],
 "metadata": {
  "kernelspec": {
   "display_name": "spylon-kernel",
   "language": "scala",
   "name": "spylon-kernel"
  },
  "language_info": {
   "codemirror_mode": "text/x-scala",
   "file_extension": ".scala",
   "help_links": [
    {
     "text": "MetaKernel Magics",
     "url": "https://metakernel.readthedocs.io/en/latest/source/README.html"
    }
   ],
   "mimetype": "text/x-scala",
   "name": "scala",
   "pygments_lexer": "scala",
   "version": "0.4.1"
  }
 },
 "nbformat": 4,
 "nbformat_minor": 2
}

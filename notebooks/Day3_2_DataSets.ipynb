{
 "cells": [
  {
   "cell_type": "markdown",
   "metadata": {},
   "source": [
    "# `Dataset`\n",
    "\n",
    "* `DataFrame` is a collection of `DataSet[Row]`\n",
    "* Datasets are a strictly Java Virtual Machine (JVM) language feature\n",
    "    * Work only with Scala and Java\n",
    "* Can use an internal model representation structure \n",
    "  * For Scala that would be a `case class`\n",
    "  * For Java that would be a Java Bean\n",
    "  * There is slower performance with `DataSet` than a `DataFrame` due to conversion to custom Java objects\n",
    "  * When using `case class`es it trivial to reuse them for both distributed and local workloads\n"
   ]
  },
  {
   "cell_type": "markdown",
   "metadata": {},
   "source": [
    "## DataSets are DataFrames\n",
    "\n",
    "* When reading in the data, `DataFrames` are `Dataset[Row]`\n",
    "* This is done as a type alias `type DataFrame = Dataset[Row]`\n",
    "* Therefore we can perform some functional programming like:\n",
    "  * `map`\n",
    "  * `flatMap`\n",
    "  * `filter`\n",
    "  * `foreach`"
   ]
  },
  {
   "cell_type": "markdown",
   "metadata": {},
   "source": [
    "## Reasons for a `Dataset`\n",
    "* Operations require functional programming solutions\n",
    "* Rigorous Type Safety"
   ]
  },
  {
   "cell_type": "markdown",
   "metadata": {},
   "source": [
    "### Creating the Schema"
   ]
  },
  {
   "cell_type": "code",
   "execution_count": 1,
   "metadata": {},
   "outputs": [
    {
     "data": {
      "text/plain": [
       "Intitializing Scala interpreter ..."
      ]
     },
     "metadata": {},
     "output_type": "display_data"
    },
    {
     "data": {
      "text/plain": [
       "Spark Web UI available at http://80f603593935:4040\n",
       "SparkContext available as 'sc' (version = 2.4.3, master = local[*], app id = local-1564085782545)\n",
       "SparkSession available as 'spark'\n"
      ]
     },
     "metadata": {},
     "output_type": "display_data"
    },
    {
     "data": {
      "text/plain": [
       "import org.apache.spark.sql.types._\n",
       "bookSchema: org.apache.spark.sql.types.StructType = StructType(StructField(bookID,IntegerType,false), StructField(title,StringType,false), StructField(authors,StringType,false), StructField(average_rating,FloatType,false), StructField(isbn,StringType,false), StructField(isbn13,StringType,false), StructField(language_code,StringType,false), StructField(# num_pages,IntegerType,false), StructField(ratings_count,IntegerType,false), StructField(text_reviews_count,IntegerType,false))\n"
      ]
     },
     "execution_count": 1,
     "metadata": {},
     "output_type": "execute_result"
    }
   ],
   "source": [
    "import org.apache.spark.sql.types._\n",
    "val bookSchema = new StructType(Array(\n",
    "   new StructField(\"bookID\", IntegerType, false),\n",
    "   new StructField(\"title\", StringType, false),\n",
    "   new StructField(\"authors\", StringType, false),\n",
    "   new StructField(\"average_rating\", FloatType, false),\n",
    "   new StructField(\"isbn\", StringType, false),\n",
    "   new StructField(\"isbn13\", StringType, false),\n",
    "   new StructField(\"language_code\", StringType, false),\n",
    "   new StructField(\"# num_pages\", IntegerType, false),\n",
    "   new StructField(\"ratings_count\", IntegerType, false),\n",
    "   new StructField(\"text_reviews_count\", IntegerType, false)))"
   ]
  },
  {
   "cell_type": "markdown",
   "metadata": {},
   "source": [
    "### Creating column names to match the `case class`"
   ]
  },
  {
   "cell_type": "code",
   "execution_count": 2,
   "metadata": {},
   "outputs": [
    {
     "data": {
      "text/plain": [
       "columnNames: Seq[String] = List(bookID, title, authors, averageRating, isbn, isbn13, languageCode, numPages, ratingsCount, textReviewsCount)\n"
      ]
     },
     "execution_count": 2,
     "metadata": {},
     "output_type": "execute_result"
    }
   ],
   "source": [
    "val columnNames = Seq(\"bookID\", \"title\", \"authors\",\n",
    "      \"averageRating\", \"isbn\",\n",
    "      \"isbn13\", \"languageCode\", \"numPages\", \"ratingsCount\",\n",
    "      \"textReviewsCount\")"
   ]
  },
  {
   "cell_type": "markdown",
   "metadata": {},
   "source": [
    "### Read the file"
   ]
  },
  {
   "cell_type": "code",
   "execution_count": 3,
   "metadata": {},
   "outputs": [
    {
     "name": "stdout",
     "output_type": "stream",
     "text": [
      "+------+--------------------+--------------------+-------------+----------+-------------+------------+--------+------------+----------------+\n",
      "|bookID|               title|             authors|averageRating|      isbn|       isbn13|languageCode|numPages|ratingsCount|textReviewsCount|\n",
      "+------+--------------------+--------------------+-------------+----------+-------------+------------+--------+------------+----------------+\n",
      "|     1|Harry Potter and ...|J.K. Rowling-Mary...|         4.56|0439785960|9780439785969|         eng|     652|     1944099|           26249|\n",
      "|     2|Harry Potter and ...|J.K. Rowling-Mary...|         4.49|0439358078|9780439358071|         eng|     870|     1996446|           27613|\n",
      "|     3|Harry Potter and ...|J.K. Rowling-Mary...|         4.47|0439554934|9780439554930|         eng|     320|     5629932|           70390|\n",
      "|     4|Harry Potter and ...|        J.K. Rowling|         4.41|0439554896|9780439554893|         eng|     352|        6267|             272|\n",
      "|     5|Harry Potter and ...|J.K. Rowling-Mary...|         4.55|043965548X|9780439655484|         eng|     435|     2149872|           33964|\n",
      "|     8|Harry Potter Boxe...|J.K. Rowling-Mary...|         4.78|0439682584|9780439682589|         eng|    2690|       38872|             154|\n",
      "|     9|Unauthorized Harr...|W. Frederick Zimm...|         3.69|0976540606|9780976540601|       en-US|     152|          18|               1|\n",
      "|    10|Harry Potter Coll...|        J.K. Rowling|         4.73|0439827604|9780439827607|         eng|    3342|       27410|             820|\n",
      "|    12|The Ultimate Hitc...|       Douglas Adams|         4.38|0517226952|9780517226957|         eng|     815|        3602|             258|\n",
      "|    13|The Ultimate Hitc...|       Douglas Adams|         4.38|0345453743|9780345453747|         eng|     815|      240189|            3954|\n",
      "+------+--------------------+--------------------+-------------+----------+-------------+------------+--------+------------+----------------+\n",
      "only showing top 10 rows\n",
      "\n"
     ]
    },
    {
     "data": {
      "text/plain": [
       "import org.apache.spark.sql.Row\n",
       "import org.apache.spark.sql.Dataset\n",
       "dataset: org.apache.spark.sql.DataFrame = [bookID: int, title: string ... 8 more fields]\n"
      ]
     },
     "execution_count": 3,
     "metadata": {},
     "output_type": "execute_result"
    }
   ],
   "source": [
    "import org.apache.spark.sql.Row\n",
    "import org.apache.spark.sql.Dataset\n",
    "\n",
    "val dataset = spark\n",
    "      .read\n",
    "      .option(\"header\", \"true\")\n",
    "      .option(\"encoding\", \"UTF-8\")\n",
    "      .schema(bookSchema)\n",
    "      .csv(\"../data/books.csv\")\n",
    "      .toDF(columnNames:_*) //Rename Columns\n",
    "      .na.drop()            //Drop NA Values\n",
    "dataset.show(10)"
   ]
  },
  {
   "cell_type": "code",
   "execution_count": 4,
   "metadata": {},
   "outputs": [
    {
     "name": "stdout",
     "output_type": "stream",
     "text": [
      "+------+--------------------+--------------------+-------------+----------+-------------+------------+--------+------------+----------------+\n",
      "|bookID|               title|             authors|averageRating|      isbn|       isbn13|languageCode|numPages|ratingsCount|textReviewsCount|\n",
      "+------+--------------------+--------------------+-------------+----------+-------------+------------+--------+------------+----------------+\n",
      "|  4381|      Fahrenheit 451|Ray Bradbury-Alfr...|         3.98|0307347974|9780307347978|         spa|     175|      690801|           14489|\n",
      "|  4382|      Fahrenheit 451|Ray Bradbury-Chri...|         3.98|078617627X|9780786176274|         eng|       5|         471|             142|\n",
      "|  7656|      Fahrenheit 451|        Ray Bradbury|         3.98|8445074873|9788445074879|         eng|     186|        5733|             613|\n",
      "| 32971|      Fahrenheit 451|        Ray Bradbury|         3.98|0965020592|9780965020596|         eng|     190|         185|              26|\n",
      "| 32972|      Fahrenheit 451|        Ray Bradbury|         3.98|0345023021|9780345023025|         eng|     147|         208|              30|\n",
      "| 32973|      Fahrenheit 451|Ray Bradbury-Fran...|         3.98|9505470010|9789505470013|         spa|     263|         173|              23|\n",
      "| 37683|      Fahrenheit 451|Ray Bradbury-Alfr...|         3.98|8497930053|9788497930055|         spa|     176|         574|              64|\n",
      "| 40582|Michael Moore's F...| Robert Brent Toplin|         3.38|0700614524|9780700614523|         eng|     161|           8|               1|\n",
      "| 40694|Ray Bradbury's Fa...|        Harold Bloom|         4.18|0791059294|9780791059296|         eng|     147|         938|              47|\n",
      "+------+--------------------+--------------------+-------------+----------+-------------+------------+--------+------------+----------------+\n",
      "\n"
     ]
    }
   ],
   "source": [
    "dataset.filter(_.getAs[String](\"title\")\n",
    "                 .contains(\"Fahrenheit\"))\n",
    "                 .show(10)"
   ]
  },
  {
   "cell_type": "markdown",
   "metadata": {},
   "source": [
    "### Creating the `case class`\n",
    "\n",
    "* While operating in rows is acceptable\n",
    "* For a static typed experience you can map the `Row` to a `case class`\n",
    "* The `case class` should match the first names, and may require renaming to do so"
   ]
  },
  {
   "cell_type": "code",
   "execution_count": 5,
   "metadata": {},
   "outputs": [
    {
     "data": {
      "text/plain": [
       "defined class Book\n"
      ]
     },
     "execution_count": 5,
     "metadata": {},
     "output_type": "execute_result"
    }
   ],
   "source": [
    "case class Book(bookID: Int,\n",
    "                title: String,\n",
    "                authors: String,\n",
    "                averageRating: Float,\n",
    "                isbn: String,\n",
    "                isbn13: String,\n",
    "                languageCode:String,\n",
    "                numPages: Int,\n",
    "                ratingsCount: Int,\n",
    "                textReviewsCount: Int)"
   ]
  },
  {
   "cell_type": "code",
   "execution_count": 6,
   "metadata": {},
   "outputs": [
    {
     "name": "stdout",
     "output_type": "stream",
     "text": [
      "+------+--------------------+--------------------+-------------+----------+-------------+------------+--------+------------+----------------+\n",
      "|bookID|               title|             authors|averageRating|      isbn|       isbn13|languageCode|numPages|ratingsCount|textReviewsCount|\n",
      "+------+--------------------+--------------------+-------------+----------+-------------+------------+--------+------------+----------------+\n",
      "|     1|Harry Potter and ...|J.K. Rowling-Mary...|         4.56|0439785960|9780439785969|         eng|     652|     1944099|           26249|\n",
      "|     2|Harry Potter and ...|J.K. Rowling-Mary...|         4.49|0439358078|9780439358071|         eng|     870|     1996446|           27613|\n",
      "|     3|Harry Potter and ...|J.K. Rowling-Mary...|         4.47|0439554934|9780439554930|         eng|     320|     5629932|           70390|\n",
      "|     4|Harry Potter and ...|        J.K. Rowling|         4.41|0439554896|9780439554893|         eng|     352|        6267|             272|\n",
      "|     5|Harry Potter and ...|J.K. Rowling-Mary...|         4.55|043965548X|9780439655484|         eng|     435|     2149872|           33964|\n",
      "|     8|Harry Potter Boxe...|J.K. Rowling-Mary...|         4.78|0439682584|9780439682589|         eng|    2690|       38872|             154|\n",
      "|     9|Unauthorized Harr...|W. Frederick Zimm...|         3.69|0976540606|9780976540601|       en-US|     152|          18|               1|\n",
      "|    10|Harry Potter Coll...|        J.K. Rowling|         4.73|0439827604|9780439827607|         eng|    3342|       27410|             820|\n",
      "|    12|The Ultimate Hitc...|       Douglas Adams|         4.38|0517226952|9780517226957|         eng|     815|        3602|             258|\n",
      "|    13|The Ultimate Hitc...|       Douglas Adams|         4.38|0345453743|9780345453747|         eng|     815|      240189|            3954|\n",
      "+------+--------------------+--------------------+-------------+----------+-------------+------------+--------+------------+----------------+\n",
      "only showing top 10 rows\n",
      "\n"
     ]
    },
    {
     "data": {
      "text/plain": [
       "import org.apache.spark.sql.Row\n",
       "import org.apache.spark.sql.Dataset\n",
       "bookDataset: org.apache.spark.sql.Dataset[Book] = [bookID: int, title: string ... 8 more fields]\n"
      ]
     },
     "execution_count": 6,
     "metadata": {},
     "output_type": "execute_result"
    }
   ],
   "source": [
    "/* The imports are required for use */\n",
    "import org.apache.spark.sql.Row\n",
    "import org.apache.spark.sql.Dataset\n",
    "\n",
    "val bookDataset: Dataset[Book] = spark\n",
    "      .read\n",
    "      .option(\"header\", \"true\")\n",
    "      .option(\"encoding\", \"UTF-8\")\n",
    "      .schema(bookSchema)\n",
    "      .csv(\"../data/books.csv\")\n",
    "      .toDF(columnNames:_*) //Rename Columns\n",
    "      .na.drop()            //Drop NA Values\n",
    "      .as[Book]             //Conversion to Case Class\n",
    "bookDataset.show(10)"
   ]
  },
  {
   "cell_type": "markdown",
   "metadata": {},
   "source": [
    "## Running some rudimentary functional programming \n",
    "\n",
    "* While it is better to run with our own custom types, we can also perform functional programming using `Row`\n",
    "* Unfortunately for this example we cannot run it, due to this issue\n",
    "https://github.com/Valassis-Digital-Media/spylon-kernel/issues/40\n",
    "* Outside of a notebook we can run all the functional methods found in Scala in order to manipulate the data\n",
    "  * `filter`\n",
    "  * `flatMap`\n",
    "  * `map`\n",
    "  * etc.\n",
    "* For example: `bookDataset.map(_.authors).show(10)`"
   ]
  },
  {
   "cell_type": "markdown",
   "metadata": {},
   "source": [
    "## `flatMap` is powerful\n",
    "\n",
    "* Given the `book` that is a `DataSet[Row]` one of the great things that we can with flatMap is explode records\n",
    "* Recall that `flatMap` takes a single item and creates multiple as a function\n",
    "* In our example the field `authors` has the potential for having multiple authors.\n",
    "* If we look at the signature for `flatMap` it has:\n",
    "   * `flatMap(scala.Function1<T,scala.collection.TraversableOnce<U>> func, Encoder<U> evidence)`\n",
    "   * `TraversableOnce` is a supertype for most collections: `Seq`, `List`, `Vector`\n",
    "* Any data engineer worth their salt must know `flatMap`\n",
    "* In the next example, under `authors` there can be multiple authors or contributors that are separated by a dash.\n",
    "  * For example, for many Harry Potter books, the authors are listed as \"J.K. Rowling-Mary GrandPré\"\n",
    "  * We can give each person their own row, if we care to _with `flatMap`"
   ]
  },
  {
   "cell_type": "markdown",
   "metadata": {},
   "source": [
    "Here is just a plain `map` that just takes the first author, which is handy"
   ]
  },
  {
   "cell_type": "code",
   "execution_count": 16,
   "metadata": {},
   "outputs": [
    {
     "name": "stdout",
     "output_type": "stream",
     "text": [
      "+------+--------------------+--------------------+-------------+----------+-------------+------------+--------+------------+----------------+\n",
      "|bookID|               title|              author|averageRating|      isbn|       isbn13|languageCode|numPages|ratingsCount|textReviewsCount|\n",
      "+------+--------------------+--------------------+-------------+----------+-------------+------------+--------+------------+----------------+\n",
      "|     1|Harry Potter and ...|        J.K. Rowling|         4.56|0439785960|9780439785969|         eng|     652|     1944099|           26249|\n",
      "|     2|Harry Potter and ...|        J.K. Rowling|         4.49|0439358078|9780439358071|         eng|     870|     1996446|           27613|\n",
      "|     3|Harry Potter and ...|        J.K. Rowling|         4.47|0439554934|9780439554930|         eng|     320|     5629932|           70390|\n",
      "|     4|Harry Potter and ...|        J.K. Rowling|         4.41|0439554896|9780439554893|         eng|     352|        6267|             272|\n",
      "|     5|Harry Potter and ...|        J.K. Rowling|         4.55|043965548X|9780439655484|         eng|     435|     2149872|           33964|\n",
      "|     8|Harry Potter Boxe...|        J.K. Rowling|         4.78|0439682584|9780439682589|         eng|    2690|       38872|             154|\n",
      "|     9|Unauthorized Harr...|W. Frederick Zimm...|         3.69|0976540606|9780976540601|       en-US|     152|          18|               1|\n",
      "|    10|Harry Potter Coll...|        J.K. Rowling|         4.73|0439827604|9780439827607|         eng|    3342|       27410|             820|\n",
      "|    12|The Ultimate Hitc...|       Douglas Adams|         4.38|0517226952|9780517226957|         eng|     815|        3602|             258|\n",
      "|    13|The Ultimate Hitc...|       Douglas Adams|         4.38|0345453743|9780345453747|         eng|     815|      240189|            3954|\n",
      "+------+--------------------+--------------------+-------------+----------+-------------+------------+--------+------------+----------------+\n",
      "only showing top 10 rows\n",
      "\n"
     ]
    }
   ],
   "source": [
    "dataset.map{row => \n",
    "    val authors = row.getAs[String](\"authors\").split(\"-\")\n",
    "    (row.getInt(0),    //bookID\n",
    "     row.getString(1), //title\n",
    "     authors(0),       //author\n",
    "     row.getFloat(3),  //averageRating\n",
    "     row.getString(4), //isbn\n",
    "     row.getString(5), //isbn13\n",
    "     row.getString(6), //languageCode\n",
    "     row.getInt(7),    //numPages\n",
    "     row.getInt(8),    //ratingsCount\n",
    "     row.getInt(9))    //textReviewsCount\n",
    "}.toDF(\"bookID\", \"title\", \"author\", \"averageRating\", \"isbn\", \n",
    "       \"isbn13\", \"languageCode\", \"numPages\", \"ratingsCount\", \"textReviewsCount\")\n",
    ".show(10)"
   ]
  },
  {
   "cell_type": "markdown",
   "metadata": {},
   "source": [
    "Here is `flatMap`, notice how in the result that _Mary GrandPré_ has her own row"
   ]
  },
  {
   "cell_type": "code",
   "execution_count": 21,
   "metadata": {},
   "outputs": [
    {
     "name": "stdout",
     "output_type": "stream",
     "text": [
      "+------+--------------------+-------------+-------------+----------+-------------+------------+--------+------------+----------------+\n",
      "|bookID|               title|       author|averageRating|      isbn|       isbn13|languageCode|numPages|ratingsCount|textReviewsCount|\n",
      "+------+--------------------+-------------+-------------+----------+-------------+------------+--------+------------+----------------+\n",
      "|     1|Harry Potter and ...| J.K. Rowling|         4.56|0439785960|9780439785969|         eng|     652|     1944099|           26249|\n",
      "|     1|Harry Potter and ...|Mary GrandPré|         4.56|0439785960|9780439785969|         eng|     652|     1944099|           26249|\n",
      "|     2|Harry Potter and ...| J.K. Rowling|         4.49|0439358078|9780439358071|         eng|     870|     1996446|           27613|\n",
      "|     2|Harry Potter and ...|Mary GrandPré|         4.49|0439358078|9780439358071|         eng|     870|     1996446|           27613|\n",
      "|     3|Harry Potter and ...| J.K. Rowling|         4.47|0439554934|9780439554930|         eng|     320|     5629932|           70390|\n",
      "|     3|Harry Potter and ...|Mary GrandPré|         4.47|0439554934|9780439554930|         eng|     320|     5629932|           70390|\n",
      "|     4|Harry Potter and ...| J.K. Rowling|         4.41|0439554896|9780439554893|         eng|     352|        6267|             272|\n",
      "|     5|Harry Potter and ...| J.K. Rowling|         4.55|043965548X|9780439655484|         eng|     435|     2149872|           33964|\n",
      "|     5|Harry Potter and ...|Mary GrandPré|         4.55|043965548X|9780439655484|         eng|     435|     2149872|           33964|\n",
      "|     8|Harry Potter Boxe...| J.K. Rowling|         4.78|0439682584|9780439682589|         eng|    2690|       38872|             154|\n",
      "+------+--------------------+-------------+-------------+----------+-------------+------------+--------+------------+----------------+\n",
      "only showing top 10 rows\n",
      "\n"
     ]
    }
   ],
   "source": [
    "dataset.flatMap{row => \n",
    "    val authors = row.getAs[String](\"authors\").split(\"-\")\n",
    "    authors.map(author => \n",
    "      (row.getInt(0),    //bookID\n",
    "       row.getString(1), //title\n",
    "       author,           //author\n",
    "       row.getFloat(3),  //averageRating\n",
    "       row.getString(4), //isbn\n",
    "       row.getString(5), //isbn13\n",
    "       row.getString(6), //languageCode\n",
    "       row.getInt(7),    //numPages\n",
    "       row.getInt(8),    //ratingsCount\n",
    "       row.getInt(9)))    //textReviewsCount\n",
    "}.toDF(\"bookID\", \"title\", \"author\", \"averageRating\", \"isbn\", \n",
    "       \"isbn13\", \"languageCode\", \"numPages\", \"ratingsCount\", \"textReviewsCount\")\n",
    ".show(10)"
   ]
  },
  {
   "cell_type": "markdown",
   "metadata": {},
   "source": [
    "## Lab: Functional Programming with DataSets"
   ]
  }
 ],
 "metadata": {
  "kernelspec": {
   "display_name": "spylon-kernel",
   "language": "scala",
   "name": "spylon-kernel"
  },
  "language_info": {
   "codemirror_mode": "text/x-scala",
   "file_extension": ".scala",
   "help_links": [
    {
     "text": "MetaKernel Magics",
     "url": "https://metakernel.readthedocs.io/en/latest/source/README.html"
    }
   ],
   "mimetype": "text/x-scala",
   "name": "scala",
   "pygments_lexer": "scala",
   "version": "0.4.1"
  }
 },
 "nbformat": 4,
 "nbformat_minor": 2
}

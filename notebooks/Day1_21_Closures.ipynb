{
 "cells": [
  {
   "cell_type": "markdown",
   "metadata": {},
   "source": [
    "# Closures"
   ]
  },
  {
   "cell_type": "markdown",
   "metadata": {},
   "source": [
    "## Closures close around the environment\n",
    "\n",
    "In the below example:\n",
    "* The `outer` value is inside of function `f` which closes around the environment and swallows the `outer`\n",
    "* `x` is not a closure, it is the input to the function `f`"
   ]
  },
  {
   "cell_type": "code",
   "execution_count": 1,
   "metadata": {},
   "outputs": [
    {
     "data": {
      "text/plain": [
       "Intitializing Scala interpreter ..."
      ]
     },
     "metadata": {},
     "output_type": "display_data"
    },
    {
     "data": {
      "text/plain": [
       "Spark Web UI available at http://32c6e00c8fb3:4044\n",
       "SparkContext available as 'sc' (version = 2.4.3, master = local[*], app id = local-1562182232641)\n",
       "SparkSession available as 'spark'\n"
      ]
     },
     "metadata": {},
     "output_type": "display_data"
    },
    {
     "data": {
      "text/plain": [
       "outer: Int = 99\n",
       "f: Int => Int = <function1>\n"
      ]
     },
     "execution_count": 1,
     "metadata": {},
     "output_type": "execute_result"
    }
   ],
   "source": [
    "val outer = 99\n",
    "val f = (x:Int) => outer + x"
   ]
  },
  {
   "cell_type": "markdown",
   "metadata": {},
   "source": [
    "When used, you can then call `f` in the above example and `outer` will \"come along for the ride\" since it is an enclosed value."
   ]
  },
  {
   "cell_type": "code",
   "execution_count": 2,
   "metadata": {},
   "outputs": [
    {
     "data": {
      "text/plain": [
       "res0: Int = 103\n"
      ]
     },
     "execution_count": 2,
     "metadata": {},
     "output_type": "execute_result"
    }
   ],
   "source": [
    "f(4) //103"
   ]
  },
  {
   "cell_type": "markdown",
   "metadata": {},
   "source": [
    "## **Lab:** Closure by example\n",
    "\n",
    "Given the following it seems that `MyFunctions.lessThan` is reusable\n",
    "\n",
    "This returns a function that will receive a number and ask if it less than the previously defined value\n",
    "\n",
    "**Step 1:** Implement what `MyFunctions.lessThan` look like?"
   ]
  },
  {
   "cell_type": "code",
   "execution_count": null,
   "metadata": {},
   "outputs": [],
   "source": []
  },
  {
   "cell_type": "code",
   "execution_count": null,
   "metadata": {},
   "outputs": [],
   "source": [
    "val isFreezingCelcius = MyFunctions.lessThan(0)\n",
    "val isFreezingFahrenheit = MyFunctions.lessThan(32)\n",
    "isFreezingFahrenheit.apply(25) // true\n",
    "isFreezingCelcius.apply(25) // false"
   ]
  }
 ],
 "metadata": {
  "kernelspec": {
   "display_name": "spylon-kernel",
   "language": "scala",
   "name": "spylon-kernel"
  },
  "language_info": {
   "codemirror_mode": "text/x-scala",
   "file_extension": ".scala",
   "help_links": [
    {
     "text": "MetaKernel Magics",
     "url": "https://metakernel.readthedocs.io/en/latest/source/README.html"
    }
   ],
   "mimetype": "text/x-scala",
   "name": "scala",
   "pygments_lexer": "scala",
   "version": "0.4.1"
  }
 },
 "nbformat": 4,
 "nbformat_minor": 2
}

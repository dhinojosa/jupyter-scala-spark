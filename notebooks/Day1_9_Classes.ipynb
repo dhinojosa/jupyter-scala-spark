{
 "cells": [
  {
   "cell_type": "markdown",
   "metadata": {},
   "source": [
    "# Classes"
   ]
  },
  {
   "cell_type": "markdown",
   "metadata": {},
   "source": [
    "## About `class`\n",
    "\n",
    "* Classes are the templates or blueprints of a construct that encapsulates state and manages behavior.\n",
    "* Classes have been around for a long time and in every object oriented language.\n",
    "* Since Scala is a half object oriented language, half functional language, there are naturally classes."
   ]
  },
  {
   "cell_type": "markdown",
   "metadata": {},
   "source": [
    "## Our first `class`\n",
    "\n",
    "* A `class` is `public` by default, so no need for a `public` modifier\n",
    "* The `(firstName:String, lastName:String)` is the primary constructor!\n",
    "* In Scala the primary constructor is \"top-heavy\" with a constructor that contains all the information\n",
    "* Other constructors are smaller constructors that feed the top constructor\n",
    "* The reason for the top heavy constructor is immutability"
   ]
  },
  {
   "cell_type": "code",
   "execution_count": 37,
   "metadata": {},
   "outputs": [
    {
     "data": {
      "text/plain": [
       "defined class Employee\n"
      ]
     },
     "execution_count": 37,
     "metadata": {},
     "output_type": "execute_result"
    }
   ],
   "source": [
    "class Employee(firstName:String, lastName:String)"
   ]
  },
  {
   "cell_type": "markdown",
   "metadata": {},
   "source": [
    "## Instantiating the `class`\n",
    "\n",
    "Instantiating the class is fairly straightforward"
   ]
  },
  {
   "cell_type": "code",
   "execution_count": 38,
   "metadata": {},
   "outputs": [
    {
     "data": {
      "text/plain": [
       "emp: Employee = Employee@1d79abe9\n"
      ]
     },
     "execution_count": 38,
     "metadata": {},
     "output_type": "execute_result"
    }
   ],
   "source": [
    "val emp = new Employee(\"Dennis\", \"Ritchie\")"
   ]
  },
  {
   "cell_type": "markdown",
   "metadata": {},
   "source": [
    "## Can’t access or modify member of a `class`?\n",
    "\n",
    "* As it stands in our class above, we can neither access or modify our class\n",
    "* Most of the time we don’t want to modify our class for immutability purposes\n",
    "* To be able to access the members, we will predicate each of the values with `val`\n",
    "* To be able to mutate the member variables, we predicate each of the values with `var` (Not recommended)\n",
    "\n",
    "As it stands, running `javap -p Employee` from the shows the following Java code:\n",
    "```\n",
    "public class Employee {\n",
    "  public Employee(java.lang.String, java.lang.String);\n",
    "}\n",
    "```\n",
    "\n",
    "NOTE: `javap -p` shows the translated Java code from Scala."
   ]
  },
  {
   "cell_type": "markdown",
   "metadata": {},
   "source": [
    "## Accessing and Mutating\n",
    "\n",
    "* `val` will create a Scala-style \"getter\"\n",
    "* `var` will create a Scala-style \"setter\""
   ]
  },
  {
   "cell_type": "code",
   "execution_count": 41,
   "metadata": {},
   "outputs": [
    {
     "data": {
      "text/plain": [
       "defined class Employee\n",
       "emp: Employee = Employee@79034a3b\n"
      ]
     },
     "execution_count": 41,
     "metadata": {},
     "output_type": "execute_result"
    }
   ],
   "source": [
    "class Employee(val firstName:String, var lastName:String)\n",
    "val emp = new Employee(\"Dennis\", \"Ritchie\")"
   ]
  },
  {
   "cell_type": "code",
   "execution_count": 42,
   "metadata": {},
   "outputs": [
    {
     "name": "stdout",
     "output_type": "stream",
     "text": [
      "Dennis\n"
     ]
    }
   ],
   "source": [
    "println(emp.firstName)           //Works because of val"
   ]
  },
  {
   "cell_type": "code",
   "execution_count": 43,
   "metadata": {},
   "outputs": [
    {
     "name": "stdout",
     "output_type": "stream",
     "text": [
      "Ritchie\n"
     ]
    }
   ],
   "source": [
    "println(emp.lastName)            //Works because of var"
   ]
  },
  {
   "cell_type": "code",
   "execution_count": 44,
   "metadata": {},
   "outputs": [
    {
     "data": {
      "text/plain": [
       "emp.lastName: String = Hopper\n"
      ]
     },
     "execution_count": 44,
     "metadata": {},
     "output_type": "execute_result"
    }
   ],
   "source": [
    "emp.lastName = \"Hopper\" //Works because of var"
   ]
  },
  {
   "cell_type": "code",
   "execution_count": 45,
   "metadata": {},
   "outputs": [
    {
     "name": "stdout",
     "output_type": "stream",
     "text": [
      "Hopper\n"
     ]
    }
   ],
   "source": [
    "println(emp.lastName)"
   ]
  },
  {
   "cell_type": "markdown",
   "metadata": {},
   "source": [
    "## Viewing bytecode with `val` and `var`\n",
    "\n",
    "* The bytecode generated from javap -p Employee\n",
    "  * Using `val` for firstName\n",
    "  * Using `var` for lastName\n",
    "\n",
    "```\n",
    "public class Employee {\n",
    "  private final java.lang.String firstName;\n",
    "  private java.lang.String lastName;\n",
    "  public java.lang.String firstName();\n",
    "  public java.lang.String lastName();\n",
    "  public void lastName_$eq(java.lang.String);\n",
    "  public Employee(java.lang.String, java.lang.String);\n",
    "}\n",
    "```"
   ]
  },
  {
   "cell_type": "markdown",
   "metadata": {},
   "source": [
    "## Classes Conclusion\n",
    "\n",
    "* Classes are templates or blueprints\n",
    "* `val` creates accessors, methods that will allow to access the inner state\n",
    "* `var` create mutators and accessors, mutators allow us to change inner state.\n",
    "\n",
    "**IMPORTANT:** We rarely use `var`, it would be best to avoid."
   ]
  },
  {
   "cell_type": "code",
   "execution_count": null,
   "metadata": {},
   "outputs": [],
   "source": []
  }
 ],
 "metadata": {
  "kernelspec": {
   "display_name": "spylon-kernel",
   "language": "scala",
   "name": "spylon-kernel"
  },
  "language_info": {
   "codemirror_mode": "text/x-scala",
   "file_extension": ".scala",
   "help_links": [
    {
     "text": "MetaKernel Magics",
     "url": "https://metakernel.readthedocs.io/en/latest/source/README.html"
    }
   ],
   "mimetype": "text/x-scala",
   "name": "scala",
   "pygments_lexer": "scala",
   "version": "0.4.1"
  }
 },
 "nbformat": 4,
 "nbformat_minor": 2
}

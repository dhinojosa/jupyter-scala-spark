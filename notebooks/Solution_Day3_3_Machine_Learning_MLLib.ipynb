{
 "cells": [
  {
   "cell_type": "markdown",
   "metadata": {},
   "source": [
    "## Lab: Machine Learning with the Titanic Dataset\n",
    "\n",
    "**Step 1** Read in two datasources from the `../data` folder, one is meant for training the other for testing, you do not need to split or clean the data. \n",
    "\n",
    "  * titanic_train_clean.csv\n",
    "  * titanic_test_clean.csv \n",
    "\n",
    "**Step 2:** Do the necessary preparation\n",
    "\n",
    "**Step 3:** Prepare the dataset to be used with a `VectorAssembler`\n",
    "\n",
    "**Step 4:** Create a `DecisionTreeClassifier`\n",
    "\n",
    "**Step 5:** `fit` the training data, and use `trasnform` with the testing data\n",
    "\n",
    "**Step 6:** Determine how well it did with a `BinaryClassificationEvaluator`\n",
    "\n",
    "**Step 7:** If time remaining, try using a `RandomForestClassifier`\n",
    "\n",
    "**Step 8:** `fit` the training data, and use `transform` with the testing data\n",
    "\n",
    "**Step 9:** Determine how well it did with a `BinaryClassificationEvaluator`"
   ]
  },
  {
   "cell_type": "code",
   "execution_count": null,
   "metadata": {},
   "outputs": [],
   "source": []
  },
  {
   "cell_type": "code",
   "execution_count": null,
   "metadata": {},
   "outputs": [],
   "source": []
  },
  {
   "cell_type": "code",
   "execution_count": null,
   "metadata": {},
   "outputs": [],
   "source": []
  },
  {
   "cell_type": "code",
   "execution_count": null,
   "metadata": {},
   "outputs": [],
   "source": []
  },
  {
   "cell_type": "code",
   "execution_count": null,
   "metadata": {},
   "outputs": [],
   "source": []
  },
  {
   "cell_type": "code",
   "execution_count": null,
   "metadata": {},
   "outputs": [],
   "source": []
  },
  {
   "cell_type": "code",
   "execution_count": null,
   "metadata": {},
   "outputs": [],
   "source": []
  },
  {
   "cell_type": "code",
   "execution_count": null,
   "metadata": {},
   "outputs": [],
   "source": []
  },
  {
   "cell_type": "code",
   "execution_count": null,
   "metadata": {},
   "outputs": [],
   "source": []
  },
  {
   "cell_type": "code",
   "execution_count": null,
   "metadata": {},
   "outputs": [],
   "source": []
  },
  {
   "cell_type": "code",
   "execution_count": null,
   "metadata": {},
   "outputs": [],
   "source": []
  }
 ],
 "metadata": {
  "kernelspec": {
   "display_name": "spylon-kernel",
   "language": "scala",
   "name": "spylon-kernel"
  },
  "language_info": {
   "codemirror_mode": "text/x-scala",
   "file_extension": ".scala",
   "help_links": [
    {
     "text": "MetaKernel Magics",
     "url": "https://metakernel.readthedocs.io/en/latest/source/README.html"
    }
   ],
   "mimetype": "text/x-scala",
   "name": "scala",
   "pygments_lexer": "scala",
   "version": "0.4.1"
  }
 },
 "nbformat": 4,
 "nbformat_minor": 2
}

{
 "cells": [
  {
   "cell_type": "markdown",
   "metadata": {},
   "source": [
    "# Type Hierarchy"
   ]
  },
  {
   "cell_type": "markdown",
   "metadata": {},
   "source": [
    "##  Reviewing the relationship of class and objects\n",
    "\n",
    "A type is a `class`, `trait`, a primitive, or an `object` in Scala.\n",
    "\n",
    "A class for those who don’t know is a code template, or blueprint, that describes what the objects created from the blueprint will look like.\n",
    "\n",
    "![vmarchitect.png](../images/vmarchitect.png)\n",
    "\n",
    "\n",
    "* `Int` is a type\n",
    "* `String` is a type\n",
    "* If we created a `Car` class, `Car` would be a type\n",
    "* If we created `InvoiceJSONSerializer`, `InvoiceJSONSerializer` would be a type"
   ]
  },
  {
   "cell_type": "markdown",
   "metadata": {},
   "source": [
    "## Matching Types\n",
    "\n",
    "Given these two methods:"
   ]
  },
  {
   "cell_type": "code",
   "execution_count": 5,
   "metadata": {},
   "outputs": [
    {
     "data": {
      "text/plain": [
       "add: (x: Int, y: Int)Int\n",
       "subtract: (x: Int, y: Int)Int\n"
      ]
     },
     "execution_count": 5,
     "metadata": {},
     "output_type": "execute_result"
    }
   ],
   "source": [
    "def add(x:Int,y:Int):Int = x + y\n",
    "def subtract(x:Int, y:Int):Int = x - y"
   ]
  },
  {
   "cell_type": "markdown",
   "metadata": {},
   "source": [
    "To use them together, you would just need to match the types:"
   ]
  },
  {
   "cell_type": "code",
   "execution_count": 6,
   "metadata": {},
   "outputs": [
    {
     "data": {
      "text/plain": [
       "res2: Int = 85\n"
      ]
     },
     "execution_count": 6,
     "metadata": {},
     "output_type": "execute_result"
    }
   ],
   "source": [
    "add(subtract(10, 3), subtract(100, 22))"
   ]
  },
  {
   "cell_type": "markdown",
   "metadata": {},
   "source": [
    "If we changed `subtract` to use `Double` instead:"
   ]
  },
  {
   "cell_type": "code",
   "execution_count": 7,
   "metadata": {},
   "outputs": [
    {
     "data": {
      "text/plain": [
       "add: (x: Int, y: Int)Int\n",
       "subtract: (x: Double, y: Double)Double\n"
      ]
     },
     "execution_count": 7,
     "metadata": {},
     "output_type": "execute_result"
    }
   ],
   "source": [
    "def add(x:Int,y:Int):Int = x + y\n",
    "def subtract(x:Double, y:Double):Double = x - y"
   ]
  },
  {
   "cell_type": "markdown",
   "metadata": {},
   "source": [
    "We can no longer use the same invocation"
   ]
  },
  {
   "cell_type": "code",
   "execution_count": 8,
   "metadata": {},
   "outputs": [
    {
     "ename": "<console>",
     "evalue": "29: error: type mismatch;",
     "output_type": "error",
     "traceback": [
      "<console>:29: error: type mismatch;",
      " found   : Double",
      " required: Int",
      "       add(subtract(10, 3), subtract(100, 22))",
      "                   ^",
      "<console>:29: error: type mismatch;",
      " found   : Double",
      " required: Int",
      "       add(subtract(10, 3), subtract(100, 22))",
      "                                    ^",
      ""
     ]
    }
   ],
   "source": [
    "add(subtract(10, 3), subtract(100, 22))"
   ]
  },
  {
   "cell_type": "markdown",
   "metadata": {},
   "source": [
    "We would just need to make sure that that type matches:"
   ]
  },
  {
   "cell_type": "code",
   "execution_count": 9,
   "metadata": {},
   "outputs": [
    {
     "data": {
      "text/plain": [
       "res4: Int = 85\n"
      ]
     },
     "execution_count": 9,
     "metadata": {},
     "output_type": "execute_result"
    }
   ],
   "source": [
    "add(subtract(10.0, 3.0).round.toInt, subtract(100.0, 22.0).round.toInt)"
   ]
  },
  {
   "cell_type": "markdown",
   "metadata": {},
   "source": [
    "NOTE: This is going to be one of the key distinctions between a language like Scala and Python. Static types heavily matter in a language like Scala\n"
   ]
  },
  {
   "cell_type": "markdown",
   "metadata": {},
   "source": [
    "## Primitives Are Objects\n",
    "\n",
    "* In Scala we treat everything like an object\n",
    "* Therefore, you can treat all numbers, boolean, and characters as types\n",
    "* Every primitive is a member of `AnyVal` "
   ]
  },
  {
   "cell_type": "markdown",
   "metadata": {},
   "source": [
    "## `java.lang.Object` has been demoted\n",
    "\n",
    "* `java.lang.Object` is called AnyRef in Scala\n",
    "* `AnyRef` will be the super type of all object references\n",
    "* This includes:\n",
    "  * Scala API Classes\n",
    "  * Java API Classes\n",
    "  * Your custom classes"
   ]
  },
  {
   "cell_type": "markdown",
   "metadata": {},
   "source": [
    "## `Any` is the new leader\n",
    "\n",
    "* Super type of:\n",
    "  * `AnyVal` (Primitive Wrappers)\n",
    "  * `AnyRef` (Object References)"
   ]
  },
  {
   "cell_type": "markdown",
   "metadata": {},
   "source": [
    "## Scala Family Tree\n",
    "\n",
    "![scalahierarchy.png](../images/scalahierarchy.png)"
   ]
  },
  {
   "cell_type": "markdown",
   "metadata": {},
   "source": [
    "## **Lab:** Polymorphism\n",
    "\n",
    "**Step 1:** Try various combinations of references and see how everything is match together. Try some of these combinations that may or may not work to be sure:"
   ]
  },
  {
   "cell_type": "code",
   "execution_count": 11,
   "metadata": {},
   "outputs": [
    {
     "data": {
      "text/plain": [
       "a: AnyVal = 40\n"
      ]
     },
     "execution_count": 11,
     "metadata": {},
     "output_type": "execute_result"
    }
   ],
   "source": [
    "val a:AnyVal = 40"
   ]
  },
  {
   "cell_type": "code",
   "execution_count": 12,
   "metadata": {},
   "outputs": [
    {
     "data": {
      "text/plain": [
       "b: Any = 40\n"
      ]
     },
     "execution_count": 12,
     "metadata": {},
     "output_type": "execute_result"
    }
   ],
   "source": [
    "val b:Any = a"
   ]
  },
  {
   "cell_type": "code",
   "execution_count": 13,
   "metadata": {},
   "outputs": [
    {
     "data": {
      "text/plain": [
       "c: AnyRef = A String\n"
      ]
     },
     "execution_count": 13,
     "metadata": {},
     "output_type": "execute_result"
    }
   ],
   "source": [
    "val c:AnyRef = \"A String\""
   ]
  },
  {
   "cell_type": "code",
   "execution_count": 14,
   "metadata": {},
   "outputs": [
    {
     "data": {
      "text/plain": [
       "d: Any = A String\n"
      ]
     },
     "execution_count": 14,
     "metadata": {},
     "output_type": "execute_result"
    }
   ],
   "source": [
    "val d:Any = c"
   ]
  },
  {
   "cell_type": "code",
   "execution_count": 15,
   "metadata": {},
   "outputs": [
    {
     "ename": "<console>",
     "evalue": "24: error: the result type of an implicit conversion must be more specific than AnyRef",
     "output_type": "error",
     "traceback": [
      "<console>:24: error: the result type of an implicit conversion must be more specific than AnyRef",
      "       val e:AnyRef = 40",
      "                      ^",
      ""
     ]
    }
   ],
   "source": [
    "val e:AnyRef = 40"
   ]
  },
  {
   "cell_type": "code",
   "execution_count": 16,
   "metadata": {},
   "outputs": [
    {
     "ename": "<console>",
     "evalue": "24: error: the result type of an implicit conversion must be more specific than AnyVal",
     "output_type": "error",
     "traceback": [
      "<console>:24: error: the result type of an implicit conversion must be more specific than AnyVal",
      "       val f:AnyVal = \"A String\"",
      "                      ^",
      ""
     ]
    }
   ],
   "source": [
    "val f:AnyVal = \"A String\""
   ]
  },
  {
   "cell_type": "markdown",
   "metadata": {},
   "source": [
    "**Step 2:** Discuss and ask any questions."
   ]
  },
  {
   "cell_type": "markdown",
   "metadata": {},
   "source": [
    "## The Complete Hierarchy\n",
    "\n",
    "![scalaclasshierarchy.png](../images/scalaclasshierarchy.png)"
   ]
  },
  {
   "cell_type": "markdown",
   "metadata": {},
   "source": [
    "## `Nothing`\n",
    "\n",
    "* `Nothing` is the sub type of everything\n",
    "* It is used for collections and other containers with no defined parameterized type\n",
    "* Used to represent a \"bottom\", a type that covers among other things, methods, that only throw `Throwable`"
   ]
  },
  {
   "cell_type": "markdown",
   "metadata": {},
   "source": [
    "## `Nothing` in List\n",
    "\n",
    "Given: A `List` with no parameterized type…​"
   ]
  },
  {
   "cell_type": "code",
   "execution_count": 18,
   "metadata": {},
   "outputs": [
    {
     "data": {
      "text/plain": [
       "list: List[Nothing] = List()\n"
      ]
     },
     "execution_count": 18,
     "metadata": {},
     "output_type": "execute_result"
    }
   ],
   "source": [
    "val list = List()"
   ]
  },
  {
   "cell_type": "markdown",
   "metadata": {},
   "source": [
    "Given: A List with a type, and note the difference"
   ]
  },
  {
   "cell_type": "code",
   "execution_count": null,
   "metadata": {},
   "outputs": [],
   "source": [
    "val list2 = List[Int]()"
   ]
  },
  {
   "cell_type": "markdown",
   "metadata": {},
   "source": [
    "## Nothing and throwing an Exception\n",
    "Given an exception, thrown from a method, and that’s all that is thrown:"
   ]
  },
  {
   "cell_type": "code",
   "execution_count": 19,
   "metadata": {},
   "outputs": [
    {
     "data": {
      "text/plain": [
       "ohoh: (i: Int)Nothing\n"
      ]
     },
     "execution_count": 19,
     "metadata": {},
     "output_type": "execute_result"
    }
   ],
   "source": [
    "def ohoh(i:Int):Nothing = { throw new Exception() }"
   ]
  },
  {
   "cell_type": "markdown",
   "metadata": {},
   "source": [
    "It shouldn’t matter if it is an `Exception` or a `RuntimeException`\n",
    "Link: http://www.scala-lang.org/api/current/scala/Nothing.html"
   ]
  },
  {
   "cell_type": "markdown",
   "metadata": {},
   "source": [
    "## `Null`\n",
    "\n",
    "* `Null` is a type in Scala that represents a null\n",
    "* `Null` is the sub type of all object references\n",
    "* `null` is not used in pure Scala applications, but only for those that interop with Java"
   ]
  },
  {
   "cell_type": "markdown",
   "metadata": {},
   "source": [
    "## `Null` in use"
   ]
  },
  {
   "cell_type": "code",
   "execution_count": 21,
   "metadata": {},
   "outputs": [
    {
     "data": {
      "text/plain": [
       "f: Null = null\n"
      ]
     },
     "execution_count": 21,
     "metadata": {},
     "output_type": "execute_result"
    }
   ],
   "source": [
    "val f = null"
   ]
  },
  {
   "cell_type": "markdown",
   "metadata": {},
   "source": [
    "NOTE: The type returned"
   ]
  },
  {
   "cell_type": "markdown",
   "metadata": {},
   "source": [
    "## `Null` when a type is established"
   ]
  },
  {
   "cell_type": "code",
   "execution_count": 20,
   "metadata": {},
   "outputs": [
    {
     "data": {
      "text/plain": [
       "x: String = null\n"
      ]
     },
     "execution_count": 20,
     "metadata": {},
     "output_type": "execute_result"
    }
   ],
   "source": [
    "val x:String = null"
   ]
  },
  {
   "cell_type": "markdown",
   "metadata": {},
   "source": [
    "NOTE: The type is `String`. The reason the about is that null is the subtype of all `AnyRef`. This is just pure polymorphism"
   ]
  },
  {
   "cell_type": "markdown",
   "metadata": {},
   "source": [
    "## `???`\n",
    "\n",
    "The triple question mark `???` is a way to mark that a method, `val`, `var` is unimplemented\n",
    "\n",
    "The signature:\n",
    "\n",
    "```\n",
    "/** <code>???</code> can be used for marking methods\n",
    "  *  that remain to be implemented.\n",
    "  *  @throws NotImplementedError\n",
    "  *  @group utilities\n",
    "  */\n",
    "def ??? : Nothing = throw new NotImplementedError\n",
    "```\n",
    "\n",
    "* It is of a type `Nothing`\n",
    "* That also means that it is type safe\n",
    "* Perfect for compilation without an actual implementation\n",
    "* Perfect for Test Driven Development"
   ]
  },
  {
   "cell_type": "markdown",
   "metadata": {},
   "source": [
    "## Example of using `???`\n",
    "\n",
    "* Compilation works\n",
    "* `???` throws a `NotImplementedError`\n",
    "* Therefore, the type returns `Nothing`\n",
    "* Nothing is the subtype of everything, including, `Int`"
   ]
  },
  {
   "cell_type": "code",
   "execution_count": 26,
   "metadata": {},
   "outputs": [
    {
     "ename": "scala.NotImplementedError",
     "evalue": " an implementation is missing",
     "output_type": "error",
     "traceback": [
      "scala.NotImplementedError: an implementation is missing",
      "  at scala.Predef$.$qmark$qmark$qmark(Predef.scala:230)",
      "  at add(<console>:26)",
      "  ... 36 elided",
      ""
     ]
    }
   ],
   "source": [
    "def add(x:Int, y:Int):Int = ???\n",
    "add(10, 12) + 3"
   ]
  },
  {
   "cell_type": "markdown",
   "metadata": {},
   "source": [
    "## Type Hierarchy Conclusion\n",
    "\n",
    "* Types are templates that make up an object.\n",
    "* Primitives are also types, Int, Short, Byte, Char, Boolean, etc.\n",
    "* Types need to matched up like a puzzle. If it isn’t the type system at compile time will tell you there is a type mismatch\n",
    "* Every type is in a relationship.\n",
    "  * `Any` is the parent for all types\n",
    "  * `AnyVal` is the parent for all primitives\n",
    "  * `AnyRef` is the parent for all Scala, Java, and custom classes that you create\n",
    "  * `Nothing` is the subtype for everything\n",
    "  * `Null` is the subtype of all references\n",
    "* `???` is a method that returns `NotImplementedError`\n",
    "* `???` returns `Nothing` and therefore can be used in nearly any method as a placeholder until you have an implementation\n",
    "* It can be used for Test Driven Development"
   ]
  },
  {
   "cell_type": "code",
   "execution_count": null,
   "metadata": {},
   "outputs": [],
   "source": []
  }
 ],
 "metadata": {
  "kernelspec": {
   "display_name": "spylon-kernel",
   "language": "scala",
   "name": "spylon-kernel"
  },
  "language_info": {
   "codemirror_mode": "text/x-scala",
   "file_extension": ".scala",
   "help_links": [
    {
     "text": "MetaKernel Magics",
     "url": "https://metakernel.readthedocs.io/en/latest/source/README.html"
    }
   ],
   "mimetype": "text/x-scala",
   "name": "scala",
   "pygments_lexer": "scala",
   "version": "0.4.1"
  }
 },
 "nbformat": 4,
 "nbformat_minor": 2
}

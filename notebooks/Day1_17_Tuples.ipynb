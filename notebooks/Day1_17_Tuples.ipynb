{
 "cells": [
  {
   "cell_type": "markdown",
   "metadata": {},
   "source": [
    "# Tuples"
   ]
  },
  {
   "cell_type": "markdown",
   "metadata": {},
   "source": [
    "## Defining Tuples\n",
    "\n",
    "* Tuples are dumb containers\n",
    "* Perfect for grouping items\n",
    "* Perfect for returning two items or three or four particularly if they are different types"
   ]
  },
  {
   "cell_type": "markdown",
   "metadata": {},
   "source": [
    "## Creating a Tuple"
   ]
  },
  {
   "cell_type": "code",
   "execution_count": 1,
   "metadata": {},
   "outputs": [
    {
     "data": {
      "text/plain": [
       "Intitializing Scala interpreter ..."
      ]
     },
     "metadata": {},
     "output_type": "display_data"
    },
    {
     "data": {
      "text/plain": [
       "Spark Web UI available at http://32c6e00c8fb3:4042\n",
       "SparkContext available as 'sc' (version = 2.4.3, master = local[*], app id = local-1562173222978)\n",
       "SparkSession available as 'spark'\n"
      ]
     },
     "metadata": {},
     "output_type": "display_data"
    },
    {
     "data": {
      "text/plain": [
       "ta: (Int, String, Double) = (1,cool,402.0)\n",
       "tb: (Int, String, Double) = (1,cool,402.0)\n",
       "tc: (Int, String, Double) = (1,cool,402.0)\n"
      ]
     },
     "execution_count": 1,
     "metadata": {},
     "output_type": "execute_result"
    }
   ],
   "source": [
    "val ta = (1, \"cool\", 402.00)\n",
    "val tb:(Int, String, Double) = (1, \"cool\", 402.00)\n",
    "val tc:Tuple3[Int, String, Double] = (1, \"cool\", 402.00)"
   ]
  },
  {
   "cell_type": "markdown",
   "metadata": {},
   "source": [
    "There is a `Tuple1`, `Tuple2`, `Tuple3`,…​`Tuple22`"
   ]
  },
  {
   "cell_type": "markdown",
   "metadata": {},
   "source": [
    "## Getting the values from a Tuple"
   ]
  },
  {
   "cell_type": "code",
   "execution_count": 2,
   "metadata": {},
   "outputs": [
    {
     "name": "stdout",
     "output_type": "stream",
     "text": [
      "1\n",
      "cool\n",
      "402.0\n"
     ]
    },
    {
     "data": {
      "text/plain": [
       "ta: (Int, String, Double) = (1,cool,402.0)\n"
      ]
     },
     "execution_count": 2,
     "metadata": {},
     "output_type": "execute_result"
    }
   ],
   "source": [
    "val ta = (1, \"cool\", 402.00)\n",
    "println(ta._1)\n",
    "println(ta._2)\n",
    "println(ta._3)"
   ]
  },
  {
   "cell_type": "markdown",
   "metadata": {},
   "source": [
    "The _1, _2 comes from Haskell’s first and second functions"
   ]
  },
  {
   "cell_type": "markdown",
   "metadata": {},
   "source": [
    "## Swapping Tuple\n",
    "\n",
    "Only a `Tuple2` can be swapped"
   ]
  },
  {
   "cell_type": "code",
   "execution_count": 3,
   "metadata": {},
   "outputs": [
    {
     "name": "stdout",
     "output_type": "stream",
     "text": [
      "(40.0,Foo)\n"
     ]
    },
    {
     "data": {
      "text/plain": [
       "t2: (String, Double) = (Foo,40.0)\n"
      ]
     },
     "execution_count": 3,
     "metadata": {},
     "output_type": "execute_result"
    }
   ],
   "source": [
    "val t2 = (\"Foo\", 40.00)\n",
    "println(t2.swap) //(40.00, \"Foo\")"
   ]
  },
  {
   "cell_type": "markdown",
   "metadata": {},
   "source": [
    "### Syntactic Sugar for Tuples\n",
    "\n",
    "* `Tuple2` can also be created with `→` (dash-arrow)\n",
    "* The `→` is a method that is on every object that accepts another object\n",
    "* If you're curious, the `→` is an implicit wrapper defined in `scala.Predef` "
   ]
  },
  {
   "cell_type": "code",
   "execution_count": 4,
   "metadata": {},
   "outputs": [
    {
     "data": {
      "text/plain": [
       "t2: (String, Double) = (Foo,40.0)\n"
      ]
     },
     "execution_count": 4,
     "metadata": {},
     "output_type": "execute_result"
    }
   ],
   "source": [
    "val t2 = \"Foo\" -> 40.00 // (40.00, \"Foo\")"
   ]
  },
  {
   "cell_type": "markdown",
   "metadata": {},
   "source": [
    "**Tip:** You can use the `-` and `>` or you can use the unicode rightwards arrow: `→`"
   ]
  },
  {
   "cell_type": "markdown",
   "metadata": {},
   "source": [
    "## Conclusion\n",
    "\n",
    "* Tuples are just dummy containers, they just hold stuff.\n",
    "* Tuples are typed\n",
    "* There are tuples that go all the way to Tuple22\n",
    "* Tuple2 has swap\n",
    "* Tuples are immutable, become an essential part not only in the Scala language, but functional programming as well."
   ]
  }
 ],
 "metadata": {
  "kernelspec": {
   "display_name": "spylon-kernel",
   "language": "scala",
   "name": "spylon-kernel"
  },
  "language_info": {
   "codemirror_mode": "text/x-scala",
   "file_extension": ".scala",
   "help_links": [
    {
     "text": "MetaKernel Magics",
     "url": "https://metakernel.readthedocs.io/en/latest/source/README.html"
    }
   ],
   "mimetype": "text/x-scala",
   "name": "scala",
   "pygments_lexer": "scala",
   "version": "0.4.1"
  }
 },
 "nbformat": 4,
 "nbformat_minor": 2
}

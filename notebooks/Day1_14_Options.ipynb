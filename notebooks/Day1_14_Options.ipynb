{
 "cells": [
  {
   "cell_type": "markdown",
   "metadata": {},
   "source": [
    "# Option"
   ]
  },
  {
   "cell_type": "markdown",
   "metadata": {},
   "source": [
    "## About Option\n",
    "\n",
    "* If I ask you if you have a middle name you’d either answer:\n",
    "  * Yes\n",
    "  * No\n",
    "* If it is yes, I might press further and ask \"What is it?\"\n",
    "* That is how `Option[T]` works\n",
    "* It is also a way that we avoid `null`\n",
    "* `null` is still available to interoperate with Java and its libraries"
   ]
  },
  {
   "cell_type": "markdown",
   "metadata": {},
   "source": [
    "## The problem with null\n",
    "\n",
    "Apologies from Tony Hoare 2009\n",
    "\n",
    "_\"I call it my billion-dollar mistake. It was the invention of the null reference in 1965. At that time, I was designing the first comprehensive type system for references in an object oriented language (ALGOL W). My goal was to ensure that all use of references should be absolutely safe, with checking performed automatically by the compiler. But I couldn’t resist the temptation to put in a null reference, simply because it was so easy to implement. This has led to innumerable errors, vulnerabilities, and system crashes, which have probably caused a billion dollars of pain and damage in the last forty years.\"_"
   ]
  },
  {
   "cell_type": "markdown",
   "metadata": {},
   "source": [
    "## The ambiguities of null\n",
    "\n",
    "If in a database, the middle name field has a `null`, does it mean:\n",
    "\n",
    "* The person doesn’t have a middle name\n",
    "* No one has entered the middle name"
   ]
  },
  {
   "cell_type": "markdown",
   "metadata": {},
   "source": [
    "## `Option[A]`\n",
    "\n",
    "* `Option[+A]` is the super type of `Some[T]` and `None`\n",
    "* `Option[+A]` is an `abstract class`\n",
    "\n",
    "https://www.scala-lang.org/api/current/scala/Option.html"
   ]
  },
  {
   "cell_type": "markdown",
   "metadata": {},
   "source": [
    "## How it is used:\n",
    "\n",
    "Using `Some`"
   ]
  },
  {
   "cell_type": "code",
   "execution_count": 2,
   "metadata": {},
   "outputs": [
    {
     "data": {
      "text/plain": [
       "middleName: Some[String] = Some(Antony)\n",
       "middleName2: Option[String] = Some(Antony)\n",
       "middleName3: Some[String] = Some(Antony)\n"
      ]
     },
     "execution_count": 2,
     "metadata": {},
     "output_type": "execute_result"
    }
   ],
   "source": [
    "val middleName = Some(\"Antony\") //type is inferred as Some\n",
    "val middleName2:Option[String] = middleName\n",
    "val middleName3:Some[String] = middleName"
   ]
  },
  {
   "cell_type": "markdown",
   "metadata": {},
   "source": [
    "Using `None`"
   ]
  },
  {
   "cell_type": "code",
   "execution_count": 4,
   "metadata": {},
   "outputs": [
    {
     "data": {
      "text/plain": [
       "noMiddleName: None.type = None\n",
       "noMiddleName2: Option[Nothing] = None\n",
       "noMiddleName3: None.type = None\n"
      ]
     },
     "execution_count": 4,
     "metadata": {},
     "output_type": "execute_result"
    }
   ],
   "source": [
    "val noMiddleName = None //Singleton\n",
    "val noMiddleName2:Option[Nothing] = noMiddleName\n",
    "val noMiddleName3:None.type = noMiddleName"
   ]
  },
  {
   "cell_type": "markdown",
   "metadata": {},
   "source": [
    "## How do we interact with an `Option`?\n",
    "\n",
    "To interact with an Option we can either call:\n",
    "\n",
    "* `get` (Dangerous)\n",
    "* `getOrElse` (Safe)\n",
    "* Pattern Matching (Whoa)\n",
    "* Functions (Sweet!)"
   ]
  },
  {
   "cell_type": "code",
   "execution_count": 5,
   "metadata": {},
   "outputs": [
    {
     "data": {
      "text/plain": [
       "res1: String = N/A\n"
      ]
     },
     "execution_count": 5,
     "metadata": {},
     "output_type": "execute_result"
    }
   ],
   "source": [
    "middleName.getOrElse(\"N/A\") //Antony\n",
    "noMiddleName.getOrElse(\"N/A\") //N/A"
   ]
  },
  {
   "cell_type": "markdown",
   "metadata": {},
   "source": [
    "If we chose `get` we run the danger of the last one of throwing an exception"
   ]
  },
  {
   "cell_type": "code",
   "execution_count": 8,
   "metadata": {},
   "outputs": [
    {
     "ename": "java.util.NoSuchElementException",
     "evalue": " None.get",
     "output_type": "error",
     "traceback": [
      "java.util.NoSuchElementException: None.get",
      "  at scala.None$.get(Option.scala:347)",
      "  ... 37 elided",
      ""
     ]
    }
   ],
   "source": [
    "middleName.get //Antony\n",
    "noMiddleName.get // java.util.NoSuchElementException: None.get"
   ]
  },
  {
   "cell_type": "markdown",
   "metadata": {},
   "source": [
    "## Getting the info using Pattern Matching:\n",
    "If we had a method that received an `Option[T]` we can use pattern matching to break it apart and analyze it"
   ]
  },
  {
   "cell_type": "code",
   "execution_count": 10,
   "metadata": {},
   "outputs": [
    {
     "data": {
      "text/plain": [
       "whatIsTheMiddleName_$qmark: (x: Option[String])String\n",
       "res5: String = Carmen\n"
      ]
     },
     "execution_count": 10,
     "metadata": {},
     "output_type": "execute_result"
    }
   ],
   "source": [
    "def whatIsTheMiddleName_?(x:Option[String]):String = {\n",
    "   x match {\n",
    "     case Some(a) => a\n",
    "     case None    => \"N/A\"\n",
    "   }\n",
    "}\n",
    "whatIsTheMiddleName_?(Some(\"Carmen\"))"
   ]
  },
  {
   "cell_type": "markdown",
   "metadata": {},
   "source": [
    "Here we can break up the `Option[T]` by specifically asking what particular type we are looking at, a `Some` or `None`\n",
    "\n",
    "If it is a `Some`, extract the value and return, if it is a `None` return \"N/A\""
   ]
  },
  {
   "cell_type": "markdown",
   "metadata": {},
   "source": [
    "## `Option` Conclusion\n",
    "\n",
    "* Scala programmers despise `null`, so we use `Option`\n",
    "* Options are modeled as `Some` or `None`, and if `Some`, we can extract the answer.\n",
    "* Extracting the answer can be done by calling `get`, `getOrElse`, or pattern matching, or functions (though we haven’t discussed functions yet)\n",
    "* Scala still has `null` to interoperate with Java, but in a pure Scala application, don’t use `null`."
   ]
  }
 ],
 "metadata": {
  "kernelspec": {
   "display_name": "spylon-kernel",
   "language": "scala",
   "name": "spylon-kernel"
  },
  "language_info": {
   "codemirror_mode": "text/x-scala",
   "file_extension": ".scala",
   "help_links": [
    {
     "text": "MetaKernel Magics",
     "url": "https://metakernel.readthedocs.io/en/latest/source/README.html"
    }
   ],
   "mimetype": "text/x-scala",
   "name": "scala",
   "pygments_lexer": "scala",
   "version": "0.4.1"
  }
 },
 "nbformat": 4,
 "nbformat_minor": 2
}

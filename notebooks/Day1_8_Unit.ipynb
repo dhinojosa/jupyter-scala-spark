{
 "cells": [
  {
   "cell_type": "markdown",
   "metadata": {},
   "source": [
    "# `Unit`\n",
    "\n",
    "* It can be invoked using `()`\n",
    "* A `Unit` is analogous to void in Java, C, C++\n",
    "* Used as an interpretation of not returning a something\n",
    "* Another way to interpret `Unit` is that there is nothing to give"
   ]
  },
  {
   "cell_type": "markdown",
   "metadata": {},
   "source": [
    "## About `Unit`"
   ]
  },
  {
   "cell_type": "code",
   "execution_count": 27,
   "metadata": {},
   "outputs": [
    {
     "data": {
      "text/plain": [
       "x: Unit = ()\n"
      ]
     },
     "execution_count": 27,
     "metadata": {},
     "output_type": "execute_result"
    }
   ],
   "source": [
    "val x = ()"
   ]
  },
  {
   "cell_type": "markdown",
   "metadata": {},
   "source": [
    "## `println` uses `Unit`\n",
    "\n",
    "* There is a popular form of `Unit`\n",
    "* It is called `println`\n",
    "* `println` doesn’t return anything per se, but technically it returns `Unit`\n",
    "\n",
    "Take a look at the signature of `Unit` at the following URL:\n",
    "\n",
    "https://www.scala-lang.org/api/current/scala/Unit.html\n",
    "\n",
    "Take a look at the signature of `println` at the following URL:\n",
    "\n",
    "https://www.scala-lang.org/api/current/scala/Predef$.html"
   ]
  },
  {
   "cell_type": "markdown",
   "metadata": {},
   "source": [
    "## Assigning `println`"
   ]
  },
  {
   "cell_type": "code",
   "execution_count": 28,
   "metadata": {},
   "outputs": [
    {
     "name": "stdout",
     "output_type": "stream",
     "text": [
      "Hello, Scala\n"
     ]
    }
   ],
   "source": [
    "println(\"Hello, Scala\")"
   ]
  },
  {
   "cell_type": "markdown",
   "metadata": {},
   "source": [
    "Now assign to a value! Yes, you can!\n",
    "The type of `h` will resolve to `Unit`"
   ]
  },
  {
   "cell_type": "code",
   "execution_count": 29,
   "metadata": {},
   "outputs": [
    {
     "name": "stdout",
     "output_type": "stream",
     "text": [
      "Hello, Scala\n"
     ]
    },
    {
     "data": {
      "text/plain": [
       "h: Unit = ()\n"
      ]
     },
     "execution_count": 29,
     "metadata": {},
     "output_type": "execute_result"
    }
   ],
   "source": [
    "val h = println(\"Hello, Scala\")"
   ]
  },
  {
   "cell_type": "markdown",
   "metadata": {},
   "source": [
    "### Where is `Unit` in the Scala hierarchy?\n",
    "\n",
    "![anyanyvalanyrefunit.png](../images/anyanyvalanyrefunit.png)"
   ]
  },
  {
   "cell_type": "markdown",
   "metadata": {},
   "source": [
    "## **Lab:** What is the return type of this?\n",
    "\n",
    "**Step 1:** Without running, what do you think the return type is for the following?"
   ]
  },
  {
   "cell_type": "code",
   "execution_count": 30,
   "metadata": {},
   "outputs": [
    {
     "data": {
      "text/plain": [
       "add: (x: Int, y: Int)AnyVal\n"
      ]
     },
     "execution_count": 30,
     "metadata": {},
     "output_type": "execute_result"
    }
   ],
   "source": [
    "def add(x: Int, y: Int) = {\n",
    "  if (x > 10) println(x)\n",
    "  else x + y\n",
    "}"
   ]
  },
  {
   "cell_type": "markdown",
   "metadata": {},
   "source": [
    "**Step 2:** Discuss the reasons why that returned what it did."
   ]
  },
  {
   "cell_type": "markdown",
   "metadata": {},
   "source": [
    "## `Unit` can be used anywhere\n",
    "\n",
    "* `Unit` is just an object that represents void\n",
    "* The following is a purely nonsensical method to prove that it can be treated like any object"
   ]
  },
  {
   "cell_type": "code",
   "execution_count": 31,
   "metadata": {},
   "outputs": [
    {
     "data": {
      "text/plain": [
       "nonsense: (g: Unit)Int\n"
      ]
     },
     "execution_count": 31,
     "metadata": {},
     "output_type": "execute_result"
    }
   ],
   "source": [
    "def nonsense(g:Unit):Int = 50"
   ]
  },
  {
   "cell_type": "code",
   "execution_count": 32,
   "metadata": {},
   "outputs": [
    {
     "data": {
      "text/plain": [
       "res10: Int = 50\n"
      ]
     },
     "execution_count": 32,
     "metadata": {},
     "output_type": "execute_result"
    }
   ],
   "source": [
    "nonsense(())"
   ]
  },
  {
   "cell_type": "markdown",
   "metadata": {},
   "source": [
    "## Unplanned `Unit`\n",
    "\n",
    "In methods, if you do not use the `=` that will implicitly mean that you are returning `Unit`\n",
    "\n",
    "Given the following which is correct, this will add `x` and `y`:"
   ]
  },
  {
   "cell_type": "code",
   "execution_count": 33,
   "metadata": {},
   "outputs": [
    {
     "name": "stdout",
     "output_type": "stream",
     "text": [
      "9\n"
     ]
    },
    {
     "data": {
      "text/plain": [
       "add: (x: Int, y: Int)Int\n"
      ]
     },
     "execution_count": 33,
     "metadata": {},
     "output_type": "execute_result"
    }
   ],
   "source": [
    "def add(x:Int, y:Int) = {\n",
    "   x + y\n",
    "}\n",
    "println(add(4,5))"
   ]
  },
  {
   "cell_type": "markdown",
   "metadata": {},
   "source": [
    "If we didn’t use `=` here, this will implicitly return `Unit`"
   ]
  },
  {
   "cell_type": "code",
   "execution_count": 34,
   "metadata": {},
   "outputs": [
    {
     "name": "stdout",
     "output_type": "stream",
     "text": [
      "()\n"
     ]
    },
    {
     "data": {
      "text/plain": [
       "badAdd: (x: Int, y: Int)Unit\n"
      ]
     },
     "execution_count": 34,
     "metadata": {},
     "output_type": "execute_result"
    }
   ],
   "source": [
    "def badAdd(x: Int, y: Int) {\n",
    "   x + y\n",
    "}\n",
    "\n",
    "println(badAdd(4, 5)) //Returns a ()!"
   ]
  },
  {
   "cell_type": "markdown",
   "metadata": {},
   "source": [
    "## Explicitly putting `Unit`\n",
    "\n",
    "If we can to write out the `Unit` explicitly by stipulating `Unit` as the return type"
   ]
  },
  {
   "cell_type": "code",
   "execution_count": 35,
   "metadata": {},
   "outputs": [
    {
     "name": "stdout",
     "output_type": "stream",
     "text": [
      "()\n"
     ]
    },
    {
     "data": {
      "text/plain": [
       "addUnit: (x: Int, y: Int)Unit\n"
      ]
     },
     "execution_count": 35,
     "metadata": {},
     "output_type": "execute_result"
    }
   ],
   "source": [
    "def addUnit(x: Int, y: Int):Unit = {\n",
    "   x + y\n",
    "}\n",
    "println(addUnit(4,5)) //Returns a ()!"
   ]
  },
  {
   "cell_type": "markdown",
   "metadata": {},
   "source": [
    "## Side Effects and `Unit`\n",
    "\n",
    "* When seeing `Unit` in functional programming when being returned from a method, it means likely it is creating a side effect\n",
    "* A side effect is when something is changed to the outside world either:\n",
    "  * Printing to a screen\n",
    "  * Printing to a printer\n",
    "  * Saving to Storage\n",
    "  * Changing State\n",
    "\n",
    "The following is changing state. Notice that this is returning `Unit`!\n",
    "Also, notice that there is `var` which is mutability!"
   ]
  },
  {
   "cell_type": "code",
   "execution_count": 36,
   "metadata": {},
   "outputs": [
    {
     "data": {
      "text/plain": [
       "a: Int = 1\n",
       "sideEffect: ()Unit\n"
      ]
     },
     "execution_count": 36,
     "metadata": {},
     "output_type": "execute_result"
    }
   ],
   "source": [
    "var a = 0\n",
    "def sideEffect() {\n",
    "   a = a + 1\n",
    "}\n",
    "sideEffect()"
   ]
  },
  {
   "cell_type": "markdown",
   "metadata": {},
   "source": [
    "## `Unit` Conclusion\n",
    "\n",
    "* Unit won’t give you anything. (Those jerks)\n",
    "* They are analogous to Java’s `void`.\n",
    "* `Unit` are actually objects and not just a keyword like in Java\n",
    "* `Unit` have a type, `Unit`\n",
    "* Units have one value, `()`.\n",
    "* Whenever you see a `()` that means you have a `Unit`."
   ]
  },
  {
   "cell_type": "code",
   "execution_count": null,
   "metadata": {},
   "outputs": [],
   "source": []
  }
 ],
 "metadata": {
  "kernelspec": {
   "display_name": "spylon-kernel",
   "language": "scala",
   "name": "spylon-kernel"
  },
  "language_info": {
   "codemirror_mode": "text/x-scala",
   "file_extension": ".scala",
   "help_links": [
    {
     "text": "MetaKernel Magics",
     "url": "https://metakernel.readthedocs.io/en/latest/source/README.html"
    }
   ],
   "mimetype": "text/x-scala",
   "name": "scala",
   "pygments_lexer": "scala",
   "version": "0.4.1"
  }
 },
 "nbformat": 4,
 "nbformat_minor": 2
}

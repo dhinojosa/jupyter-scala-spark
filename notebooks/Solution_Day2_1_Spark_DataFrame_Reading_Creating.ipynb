{
 "cells": [
  {
   "cell_type": "markdown",
   "metadata": {},
   "source": [
    "## Lab: Read Wine Data\n",
    "\n",
    "For our lab, we will be reading data from the Wine Data Set at Kaggle. https://www.kaggle.com/zynicide/wine-reviews. We already downloaded and made it a part of your notebook in the `data` directory.\n",
    "\n",
    "\n",
    "**Step 1:** Read wine data from `../data/winemag.csv` first without setting headers or infering the schema\n",
    "\n",
    "**Step 2:** See what you glean from the data\n",
    "\n",
    "**Step 3:** Print the schema\n",
    "\n",
    "**Step 4:** Apply headers, infer the schema\n",
    "\n",
    "**Step 5:** Print the schema again\n",
    "\n",
    "**Step 6:** `show` some of the data using some of the varying forms\n",
    "\n",
    "**Step 7:** Apply your own schema"
   ]
  },
  {
   "cell_type": "code",
   "execution_count": 19,
   "metadata": {},
   "outputs": [
    {
     "data": {
      "text/plain": [
       "winesDF: org.apache.spark.sql.DataFrame = [_c0: string, _c1: string ... 12 more fields]\n"
      ]
     },
     "execution_count": 19,
     "metadata": {},
     "output_type": "execute_result"
    }
   ],
   "source": [
    "val winesDF = spark.read.format(\"csv\")\n",
    "                     .load(\"../data/winemag.csv\")"
   ]
  },
  {
   "cell_type": "code",
   "execution_count": 20,
   "metadata": {},
   "outputs": [
    {
     "name": "stdout",
     "output_type": "stream",
     "text": [
      "+----+--------+--------------------+--------------------+------+-----+-----------------+-------------------+-----------------+------------------+--------------------+--------------------+------------------+-------------------+\n",
      "| _c0|     _c1|                 _c2|                 _c3|   _c4|  _c5|              _c6|                _c7|              _c8|               _c9|                _c10|                _c11|              _c12|               _c13|\n",
      "+----+--------+--------------------+--------------------+------+-----+-----------------+-------------------+-----------------+------------------+--------------------+--------------------+------------------+-------------------+\n",
      "|null| country|         description|         designation|points|price|         province|           region_1|         region_2|       taster_name|taster_twitter_ha...|               title|           variety|             winery|\n",
      "|   0|   Italy|Aromas include tr...|        Vulkà Bianco|    87| null|Sicily & Sardinia|               Etna|             null|     Kerin O’Keefe|        @kerinokeefe|Nicosia 2013 Vulk...|       White Blend|            Nicosia|\n",
      "|   1|Portugal|This is ripe and ...|            Avidagos|    87| 15.0|            Douro|               null|             null|        Roger Voss|          @vossroger|Quinta dos Avidag...|    Portuguese Red|Quinta dos Avidagos|\n",
      "|   2|      US|Tart and snappy, ...|                null|    87| 14.0|           Oregon|  Willamette Valley|Willamette Valley|      Paul Gregutt|         @paulgwine |Rainstorm 2013 Pi...|        Pinot Gris|          Rainstorm|\n",
      "|   3|      US|Pineapple rind, l...|Reserve Late Harvest|    87| 13.0|         Michigan|Lake Michigan Shore|             null|Alexander Peartree|                null|St. Julian 2013 R...|          Riesling|         St. Julian|\n",
      "|   4|      US|Much like the reg...|Vintner's Reserve...|    87| 65.0|           Oregon|  Willamette Valley|Willamette Valley|      Paul Gregutt|         @paulgwine |Sweet Cheeks 2012...|        Pinot Noir|       Sweet Cheeks|\n",
      "|   5|   Spain|Blackberry and ra...|        Ars In Vitro|    87| 15.0|   Northern Spain|            Navarra|             null| Michael Schachner|         @wineschach|Tandem 2011 Ars I...|Tempranillo-Merlot|             Tandem|\n",
      "|   6|   Italy|Here's a bright, ...|             Belsito|    87| 16.0|Sicily & Sardinia|           Vittoria|             null|     Kerin O’Keefe|        @kerinokeefe|Terre di Giurfo 2...|          Frappato|    Terre di Giurfo|\n",
      "|   7|  France|This dry and rest...|                null|    87| 24.0|           Alsace|             Alsace|             null|        Roger Voss|          @vossroger|Trimbach 2012 Gew...|    Gewürztraminer|           Trimbach|\n",
      "|   8| Germany|Savory dried thym...|               Shine|    87| 12.0|      Rheinhessen|               null|             null|Anna Lee C. Iijima|                null|Heinz Eifel 2013 ...|    Gewürztraminer|        Heinz Eifel|\n",
      "+----+--------+--------------------+--------------------+------+-----+-----------------+-------------------+-----------------+------------------+--------------------+--------------------+------------------+-------------------+\n",
      "only showing top 10 rows\n",
      "\n"
     ]
    }
   ],
   "source": [
    "winesDF.show(10)"
   ]
  },
  {
   "cell_type": "code",
   "execution_count": 21,
   "metadata": {},
   "outputs": [
    {
     "name": "stdout",
     "output_type": "stream",
     "text": [
      "root\n",
      " |-- _c0: string (nullable = true)\n",
      " |-- _c1: string (nullable = true)\n",
      " |-- _c2: string (nullable = true)\n",
      " |-- _c3: string (nullable = true)\n",
      " |-- _c4: string (nullable = true)\n",
      " |-- _c5: string (nullable = true)\n",
      " |-- _c6: string (nullable = true)\n",
      " |-- _c7: string (nullable = true)\n",
      " |-- _c8: string (nullable = true)\n",
      " |-- _c9: string (nullable = true)\n",
      " |-- _c10: string (nullable = true)\n",
      " |-- _c11: string (nullable = true)\n",
      " |-- _c12: string (nullable = true)\n",
      " |-- _c13: string (nullable = true)\n",
      "\n"
     ]
    }
   ],
   "source": [
    "winesDF.printSchema"
   ]
  },
  {
   "cell_type": "code",
   "execution_count": 22,
   "metadata": {},
   "outputs": [
    {
     "data": {
      "text/plain": [
       "winesDF: org.apache.spark.sql.DataFrame = [_c0: string, country: string ... 12 more fields]\n"
      ]
     },
     "execution_count": 22,
     "metadata": {},
     "output_type": "execute_result"
    }
   ],
   "source": [
    "val winesDF = spark.read.format(\"csv\")\n",
    "                     .option(\"inferSchema\", \"true\")\n",
    "                     .option(\"header\", \"true\")\n",
    "                     .load(\"../data/winemag.csv\")"
   ]
  },
  {
   "cell_type": "code",
   "execution_count": 23,
   "metadata": {},
   "outputs": [
    {
     "name": "stdout",
     "output_type": "stream",
     "text": [
      "root\n",
      " |-- _c0: string (nullable = true)\n",
      " |-- country: string (nullable = true)\n",
      " |-- description: string (nullable = true)\n",
      " |-- designation: string (nullable = true)\n",
      " |-- points: string (nullable = true)\n",
      " |-- price: string (nullable = true)\n",
      " |-- province: string (nullable = true)\n",
      " |-- region_1: string (nullable = true)\n",
      " |-- region_2: string (nullable = true)\n",
      " |-- taster_name: string (nullable = true)\n",
      " |-- taster_twitter_handle: string (nullable = true)\n",
      " |-- title: string (nullable = true)\n",
      " |-- variety: string (nullable = true)\n",
      " |-- winery: string (nullable = true)\n",
      "\n"
     ]
    }
   ],
   "source": [
    "winesDF.printSchema"
   ]
  },
  {
   "cell_type": "code",
   "execution_count": 24,
   "metadata": {},
   "outputs": [
    {
     "name": "stdout",
     "output_type": "stream",
     "text": [
      "+---+--------+--------------------+--------------------+------+-----+-----------------+-------------------+-----------------+------------------+---------------------+--------------------+------------------+-------------------+\n",
      "|_c0| country|         description|         designation|points|price|         province|           region_1|         region_2|       taster_name|taster_twitter_handle|               title|           variety|             winery|\n",
      "+---+--------+--------------------+--------------------+------+-----+-----------------+-------------------+-----------------+------------------+---------------------+--------------------+------------------+-------------------+\n",
      "|  0|   Italy|Aromas include tr...|        Vulkà Bianco|    87| null|Sicily & Sardinia|               Etna|             null|     Kerin O’Keefe|         @kerinokeefe|Nicosia 2013 Vulk...|       White Blend|            Nicosia|\n",
      "|  1|Portugal|This is ripe and ...|            Avidagos|    87| 15.0|            Douro|               null|             null|        Roger Voss|           @vossroger|Quinta dos Avidag...|    Portuguese Red|Quinta dos Avidagos|\n",
      "|  2|      US|Tart and snappy, ...|                null|    87| 14.0|           Oregon|  Willamette Valley|Willamette Valley|      Paul Gregutt|          @paulgwine |Rainstorm 2013 Pi...|        Pinot Gris|          Rainstorm|\n",
      "|  3|      US|Pineapple rind, l...|Reserve Late Harvest|    87| 13.0|         Michigan|Lake Michigan Shore|             null|Alexander Peartree|                 null|St. Julian 2013 R...|          Riesling|         St. Julian|\n",
      "|  4|      US|Much like the reg...|Vintner's Reserve...|    87| 65.0|           Oregon|  Willamette Valley|Willamette Valley|      Paul Gregutt|          @paulgwine |Sweet Cheeks 2012...|        Pinot Noir|       Sweet Cheeks|\n",
      "|  5|   Spain|Blackberry and ra...|        Ars In Vitro|    87| 15.0|   Northern Spain|            Navarra|             null| Michael Schachner|          @wineschach|Tandem 2011 Ars I...|Tempranillo-Merlot|             Tandem|\n",
      "|  6|   Italy|Here's a bright, ...|             Belsito|    87| 16.0|Sicily & Sardinia|           Vittoria|             null|     Kerin O’Keefe|         @kerinokeefe|Terre di Giurfo 2...|          Frappato|    Terre di Giurfo|\n",
      "|  7|  France|This dry and rest...|                null|    87| 24.0|           Alsace|             Alsace|             null|        Roger Voss|           @vossroger|Trimbach 2012 Gew...|    Gewürztraminer|           Trimbach|\n",
      "|  8| Germany|Savory dried thym...|               Shine|    87| 12.0|      Rheinhessen|               null|             null|Anna Lee C. Iijima|                 null|Heinz Eifel 2013 ...|    Gewürztraminer|        Heinz Eifel|\n",
      "|  9|  France|This has great de...|         Les Natures|    87| 27.0|           Alsace|             Alsace|             null|        Roger Voss|           @vossroger|Jean-Baptiste Ada...|        Pinot Gris| Jean-Baptiste Adam|\n",
      "+---+--------+--------------------+--------------------+------+-----+-----------------+-------------------+-----------------+------------------+---------------------+--------------------+------------------+-------------------+\n",
      "only showing top 10 rows\n",
      "\n"
     ]
    }
   ],
   "source": [
    "winesDF.show(10)"
   ]
  },
  {
   "cell_type": "code",
   "execution_count": 25,
   "metadata": {},
   "outputs": [
    {
     "name": "stdout",
     "output_type": "stream",
     "text": [
      "+---+---------+---------------------------------------------------------------------------------------------------------------------------------------------------------------------------------------------------------------------------------------------------------------------------------------------------------------------------+----------------------------------------------------------------+------+-----+-----------------+-------------------+-----------------+------------------+---------------------+--------------------------------------------------------------------------------------------------+------------------+-------------------+\n",
      "|_c0|country  |description                                                                                                                                                                                                                                                                                                                |designation                                                     |points|price|province         |region_1           |region_2         |taster_name       |taster_twitter_handle|title                                                                                             |variety           |winery             |\n",
      "+---+---------+---------------------------------------------------------------------------------------------------------------------------------------------------------------------------------------------------------------------------------------------------------------------------------------------------------------------------+----------------------------------------------------------------+------+-----+-----------------+-------------------+-----------------+------------------+---------------------+--------------------------------------------------------------------------------------------------+------------------+-------------------+\n",
      "|0  |Italy    |Aromas include tropical fruit, broom, brimstone and dried herb. The palate isn't overly expressive, offering unripened apple, citrus and dried sage alongside brisk acidity.                                                                                                                                               |Vulkà Bianco                                                    |87    |null |Sicily & Sardinia|Etna               |null             |Kerin O’Keefe     |@kerinokeefe         |Nicosia 2013 Vulkà Bianco  (Etna)                                                                 |White Blend       |Nicosia            |\n",
      "|1  |Portugal |This is ripe and fruity, a wine that is smooth while still structured. Firm tannins are filled out with juicy red berry fruits and freshened with acidity. It's  already drinkable, although it will certainly be better from 2016.                                                                                        |Avidagos                                                        |87    |15.0 |Douro            |null               |null             |Roger Voss        |@vossroger           |Quinta dos Avidagos 2011 Avidagos Red (Douro)                                                     |Portuguese Red    |Quinta dos Avidagos|\n",
      "|2  |US       |Tart and snappy, the flavors of lime flesh and rind dominate. Some green pineapple pokes through, with crisp acidity underscoring the flavors. The wine was all stainless-steel fermented.                                                                                                                                 |null                                                            |87    |14.0 |Oregon           |Willamette Valley  |Willamette Valley|Paul Gregutt      |@paulgwine           |Rainstorm 2013 Pinot Gris (Willamette Valley)                                                     |Pinot Gris        |Rainstorm          |\n",
      "|3  |US       |Pineapple rind, lemon pith and orange blossom start off the aromas. The palate is a bit more opulent, with notes of honey-drizzled guava and mango giving way to a slightly astringent, semidry finish.                                                                                                                    |Reserve Late Harvest                                            |87    |13.0 |Michigan         |Lake Michigan Shore|null             |Alexander Peartree|null                 |St. Julian 2013 Reserve Late Harvest Riesling (Lake Michigan Shore)                               |Riesling          |St. Julian         |\n",
      "|4  |US       |Much like the regular bottling from 2012, this comes across as rather rough and tannic, with rustic, earthy, herbal characteristics. Nonetheless, if you think of it as a pleasantly unfussy country wine, it's a good companion to a hearty winter stew.                                                                  |Vintner's Reserve Wild Child Block                              |87    |65.0 |Oregon           |Willamette Valley  |Willamette Valley|Paul Gregutt      |@paulgwine           |Sweet Cheeks 2012 Vintner's Reserve Wild Child Block Pinot Noir (Willamette Valley)               |Pinot Noir        |Sweet Cheeks       |\n",
      "|5  |Spain    |Blackberry and raspberry aromas show a typical Navarran whiff of green herbs and, in this case, horseradish. In the mouth, this is fairly full bodied, with tomatoey acidity. Spicy, herbal flavors complement dark plum fruit, while the finish is fresh but grabby.                                                      |Ars In Vitro                                                    |87    |15.0 |Northern Spain   |Navarra            |null             |Michael Schachner |@wineschach          |Tandem 2011 Ars In Vitro Tempranillo-Merlot (Navarra)                                             |Tempranillo-Merlot|Tandem             |\n",
      "|6  |Italy    |Here's a bright, informal red that opens with aromas of candied berry, white pepper and savory herb that carry over to the palate. It's balanced with fresh acidity and soft tannins.                                                                                                                                      |Belsito                                                         |87    |16.0 |Sicily & Sardinia|Vittoria           |null             |Kerin O’Keefe     |@kerinokeefe         |Terre di Giurfo 2013 Belsito Frappato (Vittoria)                                                  |Frappato          |Terre di Giurfo    |\n",
      "|7  |France   |This dry and restrained wine offers spice in profusion. Balanced with acidity and a firm texture, it's very much for food.                                                                                                                                                                                                 |null                                                            |87    |24.0 |Alsace           |Alsace             |null             |Roger Voss        |@vossroger           |Trimbach 2012 Gewurztraminer (Alsace)                                                             |Gewürztraminer    |Trimbach           |\n",
      "|8  |Germany  |Savory dried thyme notes accent sunnier flavors of preserved peach in this brisk, off-dry wine. It's fruity and fresh, with an elegant, sprightly footprint.                                                                                                                                                               |Shine                                                           |87    |12.0 |Rheinhessen      |null               |null             |Anna Lee C. Iijima|null                 |Heinz Eifel 2013 Shine Gewürztraminer (Rheinhessen)                                               |Gewürztraminer    |Heinz Eifel        |\n",
      "|9  |France   |This has great depth of flavor with its fresh apple and pear fruits and touch of spice. It's off dry while balanced with acidity and a crisp texture. Drink now.                                                                                                                                                           |Les Natures                                                     |87    |27.0 |Alsace           |Alsace             |null             |Roger Voss        |@vossroger           |Jean-Baptiste Adam 2012 Les Natures Pinot Gris (Alsace)                                           |Pinot Gris        |Jean-Baptiste Adam |\n",
      "|10 |US       |Soft, supple plum envelopes an oaky structure in this Cabernet, supported by 15% Merlot. Coffee and chocolate complete the picture, finishing strong at the end, resulting in a value-priced wine of attractive flavor and immediate accessibility.                                                                        |Mountain Cuvée                                                  |87    |19.0 |California       |Napa Valley        |Napa             |Virginie Boone    |@vboone              |Kirkland Signature 2011 Mountain Cuvée Cabernet Sauvignon (Napa Valley)                           |Cabernet Sauvignon|Kirkland Signature |\n",
      "|11 |France   |This is a dry wine, very spicy, with a tight, taut texture and strongly mineral character layered with citrus as well as pepper. It's a food wine with its almost crisp aftertaste.                                                                                                                                        |null                                                            |87    |30.0 |Alsace           |Alsace             |null             |Roger Voss        |@vossroger           |Leon Beyer 2012 Gewurztraminer (Alsace)                                                           |Gewürztraminer    |Leon Beyer         |\n",
      "|12 |US       |Slightly reduced, this wine offers a chalky, tannic backbone to an otherwise juicy explosion of rich black cherry, the whole accented throughout by firm oak and cigar box.                                                                                                                                                |null                                                            |87    |34.0 |California       |Alexander Valley   |Sonoma           |Virginie Boone    |@vboone              |Louis M. Martini 2012 Cabernet Sauvignon (Alexander Valley)                                       |Cabernet Sauvignon|Louis M. Martini   |\n",
      "|13 |Italy    |This is dominated by oak and oak-driven aromas that include roasted coffee bean, espresso, coconut and vanilla that carry over to the palate, together with plum and chocolate. Astringent, drying tannins give it a rather abrupt finish.                                                                                 |Rosso                                                           |87    |null |Sicily & Sardinia|Etna               |null             |Kerin O’Keefe     |@kerinokeefe         |Masseria Setteporte 2012 Rosso  (Etna)                                                            |Nerello Mascalese |Masseria Setteporte|\n",
      "|14 |US       |Building on 150 years and six generations of winemaking tradition, the winery trends toward a leaner style, with the classic California buttercream aroma cut by tart green apple. In this good everyday sipping wine, flavors that range from pear to barely ripe pineapple prove approachable but not distinctive.       |null                                                            |87    |12.0 |California       |Central Coast      |Central Coast    |Matt Kettmann     |@mattkettmann        |Mirassou 2012 Chardonnay (Central Coast)                                                          |Chardonnay        |Mirassou           |\n",
      "|15 |Germany  |Zesty orange peels and apple notes abound in this sprightly, mineral-toned Riesling. Off dry on the palate, yet racy and lean, it's a refreshing, easy quaffer with wide appeal.                                                                                                                                           |Devon                                                           |87    |24.0 |Mosel            |null               |null             |Anna Lee C. Iijima|null                 |Richard Böcking 2013 Devon Riesling (Mosel)                                                       |Riesling          |Richard Böcking    |\n",
      "|16 |Argentina|Baked plum, molasses, balsamic vinegar and cheesy oak aromas feed into a palate that's braced by a bolt of acidity. A compact set of saucy red-berry and plum flavors features tobacco and peppery accents, while the finish is mildly green in flavor, with respectable weight and balance.                               |Felix                                                           |87    |30.0 |Other            |Cafayate           |null             |Michael Schachner |@wineschach          |Felix Lavaque 2010 Felix Malbec (Cafayate)                                                        |Malbec            |Felix Lavaque      |\n",
      "|17 |Argentina|Raw black-cherry aromas are direct and simple but good. This has a juicy feel that thickens over time, with oak character and extract becoming more apparent. A flavor profile driven by dark-berry fruits and smoldering oak finishes meaty but hot.                                                                      |Winemaker Selection                                             |87    |13.0 |Mendoza Province |Mendoza            |null             |Michael Schachner |@wineschach          |Gaucho Andino 2011 Winemaker Selection Malbec (Mendoza)                                           |Malbec            |Gaucho Andino      |\n",
      "|18 |Spain    |Desiccated blackberry, leather, charred wood and mint aromas carry the nose on this full-bodied, tannic, heavily oaked Tinto Fino. Flavors of clove and woodspice sit on top of blackberry fruit, then hickory and other forceful oak-based aromas rise up and dominate the finish.                                        |Vendimia Seleccionada Finca Valdelayegua Single Vineyard Crianza|87    |28.0 |Northern Spain   |Ribera del Duero   |null             |Michael Schachner |@wineschach          |Pradorey 2010 Vendimia Seleccionada Finca Valdelayegua Single Vineyard Crianza  (Ribera del Duero)|Tempranillo Blend |Pradorey           |\n",
      "|19 |US       |Red fruit aromas pervade on the nose, with cigar box and menthol notes riding in the back. The palate is slightly restrained on entry, but opens up to riper notes of cherry and plum specked with crushed pepper. This blend of Merlot, Cabernet Sauvignon and Cabernet Franc is approachable now and ready to be enjoyed.|null                                                            |87    |32.0 |Virginia         |Virginia           |null             |Alexander Peartree|null                 |Quiévremont 2012 Meritage (Virginia)                                                              |Meritage          |Quiévremont        |\n",
      "+---+---------+---------------------------------------------------------------------------------------------------------------------------------------------------------------------------------------------------------------------------------------------------------------------------------------------------------------------------+----------------------------------------------------------------+------+-----+-----------------+-------------------+-----------------+------------------+---------------------+--------------------------------------------------------------------------------------------------+------------------+-------------------+\n",
      "only showing top 20 rows\n"
     ]
    },
    {
     "name": "stdout",
     "output_type": "stream",
     "text": [
      "\n"
     ]
    }
   ],
   "source": [
    "winesDF.show(truncate=false)"
   ]
  },
  {
   "cell_type": "code",
   "execution_count": 26,
   "metadata": {},
   "outputs": [
    {
     "name": "stdout",
     "output_type": "stream",
     "text": [
      "+---+--------+-----------+-----------+------+-----+----------+----------+----------+-----------+---------------------+----------+----------+----------+\n",
      "|_c0| country|description|designation|points|price|  province|  region_1|  region_2|taster_name|taster_twitter_handle|     title|   variety|    winery|\n",
      "+---+--------+-----------+-----------+------+-----+----------+----------+----------+-----------+---------------------+----------+----------+----------+\n",
      "|  0|   Italy| Aromas ...| Vulkà B...|    87| null|Sicily ...|      Etna|      null| Kerin O...|           @kerino...|Nicosia...|White B...|   Nicosia|\n",
      "|  1|Portugal| This is...|   Avidagos|    87| 15.0|     Douro|      null|      null| Roger Voss|           @vossroger|Quinta ...|Portugu...|Quinta ...|\n",
      "|  2|      US| Tart an...|       null|    87| 14.0|    Oregon|Willame...|Willame...| Paul Gr...|           @paulgw...|Rainsto...|Pinot Gris| Rainstorm|\n",
      "|  3|      US| Pineapp...| Reserve...|    87| 13.0|  Michigan|Lake Mi...|      null| Alexand...|                 null|St. Jul...|  Riesling|St. Julian|\n",
      "|  4|      US| Much li...| Vintner...|    87| 65.0|    Oregon|Willame...|Willame...| Paul Gr...|           @paulgw...|Sweet C...|Pinot Noir|Sweet C...|\n",
      "+---+--------+-----------+-----------+------+-----+----------+----------+----------+-----------+---------------------+----------+----------+----------+\n",
      "only showing top 5 rows\n",
      "\n"
     ]
    }
   ],
   "source": [
    "winesDF.show(5, truncate=10)"
   ]
  },
  {
   "cell_type": "markdown",
   "metadata": {},
   "source": [
    "Something is wrong with the data, yay! All the types right now should be `String` for now"
   ]
  },
  {
   "cell_type": "code",
   "execution_count": 34,
   "metadata": {},
   "outputs": [
    {
     "name": "stdout",
     "output_type": "stream",
     "text": [
      "+---+--------+------------------------------+------------------------------+------+-----+-----------------+-------------------+-----------------+------------------+---------------------+------------------------------+------------------+-------------------+\n",
      "|_c0| country|                   description|                   designation|points|price|         province|           region_1|         region_2|       taster_name|taster_twitter_handle|                         title|           variety|             winery|\n",
      "+---+--------+------------------------------+------------------------------+------+-----+-----------------+-------------------+-----------------+------------------+---------------------+------------------------------+------------------+-------------------+\n",
      "|  0|   Italy|Aromas include tropical fru...|                  Vulkà Bianco|    87| null|Sicily & Sardinia|               Etna|             null|     Kerin O’Keefe|         @kerinokeefe|Nicosia 2013 Vulkà Bianco  ...|       White Blend|            Nicosia|\n",
      "|  1|Portugal|This is ripe and fruity, a ...|                      Avidagos|    87| 15.0|            Douro|               null|             null|        Roger Voss|           @vossroger|Quinta dos Avidagos 2011 Av...|    Portuguese Red|Quinta dos Avidagos|\n",
      "|  2|      US|Tart and snappy, the flavor...|                          null|    87| 14.0|           Oregon|  Willamette Valley|Willamette Valley|      Paul Gregutt|          @paulgwine |Rainstorm 2013 Pinot Gris (...|        Pinot Gris|          Rainstorm|\n",
      "|  3|      US|Pineapple rind, lemon pith ...|          Reserve Late Harvest|    87| 13.0|         Michigan|Lake Michigan Shore|             null|Alexander Peartree|                 null|St. Julian 2013 Reserve Lat...|          Riesling|         St. Julian|\n",
      "|  4|      US|Much like the regular bottl...|Vintner's Reserve Wild Chil...|    87| 65.0|           Oregon|  Willamette Valley|Willamette Valley|      Paul Gregutt|          @paulgwine |Sweet Cheeks 2012 Vintner's...|        Pinot Noir|       Sweet Cheeks|\n",
      "|  5|   Spain|Blackberry and raspberry ar...|                  Ars In Vitro|    87| 15.0|   Northern Spain|            Navarra|             null| Michael Schachner|          @wineschach|Tandem 2011 Ars In Vitro Te...|Tempranillo-Merlot|             Tandem|\n",
      "|  6|   Italy|Here's a bright, informal r...|                       Belsito|    87| 16.0|Sicily & Sardinia|           Vittoria|             null|     Kerin O’Keefe|         @kerinokeefe|Terre di Giurfo 2013 Belsit...|          Frappato|    Terre di Giurfo|\n",
      "|  7|  France|This dry and restrained win...|                          null|    87| 24.0|           Alsace|             Alsace|             null|        Roger Voss|           @vossroger|Trimbach 2012 Gewurztramine...|    Gewürztraminer|           Trimbach|\n",
      "|  8| Germany|Savory dried thyme notes ac...|                         Shine|    87| 12.0|      Rheinhessen|               null|             null|Anna Lee C. Iijima|                 null|Heinz Eifel 2013 Shine Gewü...|    Gewürztraminer|        Heinz Eifel|\n",
      "|  9|  France|This has great depth of fla...|                   Les Natures|    87| 27.0|           Alsace|             Alsace|             null|        Roger Voss|           @vossroger|Jean-Baptiste Adam 2012 Les...|        Pinot Gris| Jean-Baptiste Adam|\n",
      "+---+--------+------------------------------+------------------------------+------+-----+-----------------+-------------------+-----------------+------------------+---------------------+------------------------------+------------------+-------------------+\n",
      "only showing top 10 rows\n",
      "\n"
     ]
    },
    {
     "data": {
      "text/plain": [
       "import org.apache.spark.sql.types._\n",
       "wineSchema: org.apache.spark.sql.types.StructType = StructType(StructField(_c0,StringType,true), StructField(country,StringType,true), StructField(description,StringType,true), StructField(designation,StringType,true), StructField(points,StringType,true), StructField(price,StringType,true), StructField(province,StringType,true), StructField(region_1,StringType,true), StructField(region_2,StringType,true), StructField(taster_name,StringType,true), StructField(taster_twitter_handle,StringType,true), StructField(title,StringType,true), StructField(variety,StringType,true), StructField(winery,StringType,true))\n",
       "winesDF: org.apache.spark.sql.DataFrame = [_c0: string, country: string ... 12 more fields]\n"
      ]
     },
     "execution_count": 34,
     "metadata": {},
     "output_type": "execute_result"
    }
   ],
   "source": [
    "import org.apache.spark.sql.types._\n",
    "\n",
    "val wineSchema = new StructType(Array(\n",
    "      new StructField(\"_c0\", StringType, nullable = true),\n",
    "      new StructField(\"country\", StringType, nullable = true),\n",
    "      new StructField(\"description\", StringType, nullable = true),\n",
    "      new StructField(\"designation\", StringType, nullable = true),\n",
    "      new StructField(\"points\", StringType, nullable = true),//*\n",
    "      new StructField(\"price\", StringType, nullable = true),//*\n",
    "      new StructField(\"province\", StringType, nullable = true),\n",
    "      new StructField(\"region_1\", StringType, nullable = true),\n",
    "      new StructField(\"region_2\", StringType, nullable = true),\n",
    "      new StructField(\"taster_name\", StringType, nullable = true),\n",
    "      new StructField(\"taster_twitter_handle\", StringType, nullable = true),\n",
    "      new StructField(\"title\", StringType, nullable = true),\n",
    "      new StructField(\"variety\", StringType, nullable = true),\n",
    "      new StructField(\"winery\", StringType, nullable = true)\n",
    "    ))\n",
    "\n",
    "val winesDF = spark.read.format(\"csv\")             \n",
    "                     .option(\"header\", \"true\")\n",
    "                     .schema(wineSchema)\n",
    "                     .load(\"../data/winemag.csv\")\n",
    "\n",
    "winesDF.show(10, truncate=30)"
   ]
  }
 ],
 "metadata": {
  "kernelspec": {
   "display_name": "spylon-kernel",
   "language": "scala",
   "name": "spylon-kernel"
  },
  "language_info": {
   "codemirror_mode": "text/x-scala",
   "file_extension": ".scala",
   "help_links": [
    {
     "text": "MetaKernel Magics",
     "url": "https://metakernel.readthedocs.io/en/latest/source/README.html"
    }
   ],
   "mimetype": "text/x-scala",
   "name": "scala",
   "pygments_lexer": "scala",
   "version": "0.4.1"
  }
 },
 "nbformat": 4,
 "nbformat_minor": 2
}

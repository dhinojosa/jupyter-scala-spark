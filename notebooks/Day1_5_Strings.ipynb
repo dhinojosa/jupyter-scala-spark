{
 "cells": [
  {
   "cell_type": "markdown",
   "metadata": {},
   "source": [
    "# `String`\n",
    "\n",
    "String is the same object as in the Java\n",
    "\n",
    "`StringOps` is an implicit wrapper class to provide added functionality that Java does not have."
   ]
  },
  {
   "cell_type": "code",
   "execution_count": null,
   "metadata": {},
   "outputs": [],
   "source": [
    "val s = \"Scala\""
   ]
  },
  {
   "cell_type": "markdown",
   "metadata": {},
   "source": [
    "Can be declared, but unnecessary due to inference"
   ]
  },
  {
   "cell_type": "code",
   "execution_count": null,
   "metadata": {},
   "outputs": [],
   "source": [
    "val s:String = \"Scala\""
   ]
  },
  {
   "cell_type": "markdown",
   "metadata": {},
   "source": [
    "Type can be added by coercion"
   ]
  },
  {
   "cell_type": "code",
   "execution_count": null,
   "metadata": {},
   "outputs": [],
   "source": [
    "val s = \"Scala\":String"
   ]
  },
  {
   "cell_type": "markdown",
   "metadata": {},
   "source": [
    "## `String` format and Interpolation\n",
    "\n",
    "`String` can be formatted with C-style/Java format flags\n",
    "\n",
    "Here is the Java-Style before, which still works in Scala"
   ]
  },
  {
   "cell_type": "code",
   "execution_count": null,
   "metadata": {},
   "outputs": [],
   "source": [
    "String.format(\"This is a %s\", \"test\")"
   ]
  },
  {
   "cell_type": "markdown",
   "metadata": {},
   "source": [
    "Here is the Scala style:"
   ]
  },
  {
   "cell_type": "code",
   "execution_count": null,
   "metadata": {},
   "outputs": [],
   "source": [
    "\"This is a %s\".format(\"test\")"
   ]
  },
  {
   "cell_type": "markdown",
   "metadata": {},
   "source": [
    "For a reference on the types of flags: http://docs.oracle.com/javase/8/docs/api/java/util/Formatter.html"
   ]
  },
  {
   "cell_type": "markdown",
   "metadata": {},
   "source": [
    "Changing the order of arguments using format\n",
    "Without specifying order, format will use the order provided:"
   ]
  },
  {
   "cell_type": "code",
   "execution_count": null,
   "metadata": {},
   "outputs": [],
   "source": [
    "println(\"Because you're %s, %s, %s times a lady\".format(\"Three\", \"Twice\", \"Once\"))"
   ]
  },
  {
   "cell_type": "markdown",
   "metadata": {},
   "source": [
    "The above will surely render incorrectly (if you know the song):\n",
    "```\n",
    "Because you're Three, Twice, Once times a lady\n",
    "```"
   ]
  },
  {
   "cell_type": "markdown",
   "metadata": {},
   "source": [
    "To specify order we can use the `format %n$s` where `n` is the which argument we wish to use and `s` is the type. In this case, `String`."
   ]
  },
  {
   "cell_type": "code",
   "execution_count": null,
   "metadata": {},
   "outputs": [],
   "source": [
    "println(\"Because you're %3$s, %2$s, %1$s times a lady\".format(\"Three\", \"Twice\", \"Once\"))"
   ]
  },
  {
   "cell_type": "markdown",
   "metadata": {},
   "source": [
    "This will render:\n",
    "\n",
    "Because you're Once, Twice, Three times a lady\n",
    "The above can be trimmed to the following using printf"
   ]
  },
  {
   "cell_type": "markdown",
   "metadata": {},
   "source": [
    "printf(\"Because you're %3$s, %2$s, %1$s times a lady\", \"Three\", \"Twice\", \"Once\")"
   ]
  },
  {
   "cell_type": "markdown",
   "metadata": {},
   "source": [
    "## Formatting Dates and Times\n",
    "\n",
    "Java Time came with Java 8 and compliments well with Scala"
   ]
  },
  {
   "cell_type": "code",
   "execution_count": null,
   "metadata": {},
   "outputs": [],
   "source": [
    "import java.time._\n",
    "println(\"We will be eating lunch on %1$tB the %1$te in the year %1$tY\".format(LocalDate.now))"
   ]
  },
  {
   "cell_type": "markdown",
   "metadata": {},
   "source": [
    "NOTE: The underscore for the import (_) is analogous to the asterisk in (*) in Java"
   ]
  },
  {
   "cell_type": "markdown",
   "metadata": {},
   "source": [
    "## Smart Strings\n",
    "Smart Strings are surrounded 3 x `\"`\n",
    "\n",
    "They allow multi-lines of code"
   ]
  },
  {
   "cell_type": "code",
   "execution_count": null,
   "metadata": {},
   "outputs": [],
   "source": [
    "val prose = \"\"\"I see trees of green,\n",
    "               red roses too\n",
    "               I see them bloom,\n",
    "               for me and you,\n",
    "               and I think to myself,\n",
    "               what I wonderful world\"\"\""
   ]
  },
  {
   "cell_type": "markdown",
   "metadata": {},
   "source": [
    "The problem with the above is that it that the margins are misaligned."
   ]
  },
  {
   "cell_type": "markdown",
   "metadata": {},
   "source": [
    "## Smart Strings with stripMargin\n",
    "\n",
    "`stripMargin` can align the strings based on the pipe (`|`) by default"
   ]
  },
  {
   "cell_type": "code",
   "execution_count": null,
   "metadata": {},
   "outputs": [],
   "source": [
    "val prose = \"\"\"I see trees of green,\n",
    "               |red roses too\n",
    "               |I see them bloom,\n",
    "               |for me and you,\n",
    "               |and I think to myself,\n",
    "               |what I wonderful world\"\"\".stripMargin"
   ]
  },
  {
   "cell_type": "markdown",
   "metadata": {},
   "source": [
    "## Smart Strings with customized stripMargin\n",
    "stripMargin can align the strings based on a character of your choice."
   ]
  },
  {
   "cell_type": "code",
   "execution_count": null,
   "metadata": {},
   "outputs": [],
   "source": [
    "val prose = \"\"\"I see trees of green,\n",
    "               @red roses too\n",
    "               @I see them bloom,\n",
    "               @for me and you,\n",
    "               @and I think to myself,\n",
    "               @what I wonderful world\"\"\".stripMargin('@')"
   ]
  },
  {
   "cell_type": "markdown",
   "metadata": {},
   "source": [
    "## Smart Strings with combination format\n",
    "\n",
    "Since Smart Strings are just `String` you can use all the same methods, including `format`\n",
    "\n",
    "Here we will use format to include the colors"
   ]
  },
  {
   "cell_type": "code",
   "execution_count": 22,
   "metadata": {},
   "outputs": [
    {
     "data": {
      "text/plain": [
       "prose: String =\n",
       "I see trees of green,\n",
       "Red roses too\n",
       "I see them bloom,\n",
       "for me and you,\n",
       "and I think to myself,\n",
       "what I wonderful world\n"
      ]
     },
     "execution_count": 22,
     "metadata": {},
     "output_type": "execute_result"
    }
   ],
   "source": [
    "val prose = \"\"\"I see trees of %s,\n",
    "               |%s roses too\n",
    "               |I see them bloom,\n",
    "               |for me and you,\n",
    "               |and I think to myself,\n",
    "               |what I wonderful world\"\"\".stripMargin\n",
    "                                         .format(\"green\", \"Red\")"
   ]
  },
  {
   "cell_type": "markdown",
   "metadata": {},
   "source": [
    "## String Interpolation\n",
    "You can replace any variable in a string from it’s environment or context with string interpolation\n",
    "\n",
    "The only thing that you require is that the letter s precedes the string.\n",
    "\n",
    "You can refer to an outside variable by using `$` to precede it, for example `$a`\n",
    "\n",
    "If you require an expression wrap the expression in a bracket, for example, `${a + 1}`"
   ]
  },
  {
   "cell_type": "code",
   "execution_count": null,
   "metadata": {},
   "outputs": [],
   "source": [
    "val a = 99 //Setting up a value within the context\n",
    "println(s\"$a luftballoons floating in the summer sky\")"
   ]
  },
  {
   "cell_type": "markdown",
   "metadata": {},
   "source": [
    "## The `f` interpolator\n",
    "Used to combine `String.format` functionality with String interpolation"
   ]
  },
  {
   "cell_type": "code",
   "execution_count": null,
   "metadata": {},
   "outputs": [],
   "source": [
    "val ticketsCost = 50\n",
    "val bandName = \"Psychedelic Furs\"\n",
    "println(f\"The $bandName%s tickets are probably $$$ticketsCost%1.2f\")"
   ]
  },
  {
   "cell_type": "markdown",
   "metadata": {},
   "source": [
    "`$bandName%s` treats the interpolation as a String\n",
    "\n",
    "`ticketsCost%1.2f` treats the cost with a width of `1` if possible and two decimal points\n",
    "\n",
    "`$$` is used to escape the dollar sign"
   ]
  },
  {
   "cell_type": "markdown",
   "metadata": {},
   "source": [
    "## Extra decoration for the f interpolator\n",
    "\n",
    "The formats allowed after the `%` character are all part of the standard Formatter\n",
    "\n",
    "http://docs.oracle.com/javase/8/docs/api/java/util/Formatter.html\n",
    "\n",
    "Therefore, we can also try `%n` for a newline and `%%` for a percent."
   ]
  },
  {
   "cell_type": "code",
   "execution_count": null,
   "metadata": {},
   "outputs": [],
   "source": [
    "val ticketsCost = 50\n",
    "val bandName = \"Psychedelic Furs\"\n",
    "val percentIncrease = 20\n",
    "val musicGenre = \"New Wave\"\n",
    "println(f\"\"\"The $bandName%s tickets are probably $$${ticketsCost%1.2f}\n",
    "            |That's a ${percentIncrease}%% bump because everyone\n",
    "            |likes ${musicGenre}\"\"\")"
   ]
  },
  {
   "cell_type": "markdown",
   "metadata": {},
   "source": [
    "## Smart Strings and Regexes\n",
    "\n",
    "Regular Strings are pretty terrible for creating regular expressions since you have to escape backslashes with to two backslashes:"
   ]
  },
  {
   "cell_type": "code",
   "execution_count": null,
   "metadata": {},
   "outputs": [],
   "source": [
    "val regex = \"(\\\\d{3})-(\\\\d{4})\".r //Yuck"
   ]
  },
  {
   "cell_type": "markdown",
   "metadata": {},
   "source": [
    "the `.r` method creates a `scala.util.matching.Regex` object"
   ]
  },
  {
   "cell_type": "markdown",
   "metadata": {},
   "source": [
    "A Smart String allows us to create a regex without having the two backslashes"
   ]
  },
  {
   "cell_type": "code",
   "execution_count": null,
   "metadata": {},
   "outputs": [],
   "source": [
    "val regex = \"\"\"(\\d{3})-(\\d{4})\"\"\".r //Awesome!"
   ]
  },
  {
   "cell_type": "markdown",
   "metadata": {},
   "source": [
    "Here is an example of what one can do with a regex and a method called `foreach` which will print each element in a collection"
   ]
  },
  {
   "cell_type": "code",
   "execution_count": null,
   "metadata": {},
   "outputs": [],
   "source": [
    "regex.findAllIn(\"My number is 404-3030\").foreach(println)"
   ]
  },
  {
   "cell_type": "markdown",
   "metadata": {},
   "source": [
    "## `String `Conclusion\n",
    "\n",
    "* There are various ways to work with `String` in Scala\n",
    "* You can use the standard String mechanisms you find in Java\n",
    "* You can use smart string to create multilines.\n",
    "* You can use the `format` method to do `String` style formatting\n",
    "* You can also use string interpolation with varying flavors to do variable replacements in a `String`."
   ]
  },
  {
   "cell_type": "code",
   "execution_count": null,
   "metadata": {},
   "outputs": [],
   "source": []
  }
 ],
 "metadata": {
  "kernelspec": {
   "display_name": "spylon-kernel",
   "language": "scala",
   "name": "spylon-kernel"
  },
  "language_info": {
   "codemirror_mode": "text/x-scala",
   "file_extension": ".scala",
   "help_links": [
    {
     "text": "MetaKernel Magics",
     "url": "https://metakernel.readthedocs.io/en/latest/source/README.html"
    }
   ],
   "mimetype": "text/x-scala",
   "name": "scala",
   "pygments_lexer": "scala",
   "version": "0.4.1"
  }
 },
 "nbformat": 4,
 "nbformat_minor": 2
}

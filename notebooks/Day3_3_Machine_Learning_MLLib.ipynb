{
 "cells": [
  {
   "cell_type": "markdown",
   "metadata": {},
   "source": [
    "## Machine Learning with MLLib"
   ]
  },
  {
   "cell_type": "code",
   "execution_count": 1,
   "metadata": {},
   "outputs": [
    {
     "data": {
      "text/plain": [
       "Intitializing Scala interpreter ..."
      ]
     },
     "metadata": {},
     "output_type": "display_data"
    },
    {
     "data": {
      "text/plain": [
       "Spark Web UI available at http://8f3d79309c47:4041\n",
       "SparkContext available as 'sc' (version = 2.4.3, master = local[*], app id = local-1563986132061)\n",
       "SparkSession available as 'spark'\n"
      ]
     },
     "metadata": {},
     "output_type": "display_data"
    },
    {
     "name": "stdout",
     "output_type": "stream",
     "text": [
      "+---+---+---+--------+----+---+-------+-------+-----+-------+-----+---+----+------+\n",
      "|age|sex| cp|trestbps|chol|fbs|restecg|thalach|exang|oldpeak|slope| ca|thal|target|\n",
      "+---+---+---+--------+----+---+-------+-------+-----+-------+-----+---+----+------+\n",
      "| 63|  1|  3|     145| 233|  1|      0|    150|    0|    2.3|    0|  0|   1|     1|\n",
      "| 37|  1|  2|     130| 250|  0|      1|    187|    0|    3.5|    0|  0|   2|     1|\n",
      "| 41|  0|  1|     130| 204|  0|      0|    172|    0|    1.4|    2|  0|   2|     1|\n",
      "| 56|  1|  1|     120| 236|  0|      1|    178|    0|    0.8|    2|  0|   2|     1|\n",
      "| 57|  0|  0|     120| 354|  0|      1|    163|    1|    0.6|    2|  0|   2|     1|\n",
      "| 57|  1|  0|     140| 192|  0|      1|    148|    0|    0.4|    1|  0|   1|     1|\n",
      "| 56|  0|  1|     140| 294|  0|      0|    153|    0|    1.3|    1|  0|   2|     1|\n",
      "| 44|  1|  1|     120| 263|  0|      1|    173|    0|    0.0|    2|  0|   3|     1|\n",
      "| 52|  1|  2|     172| 199|  1|      1|    162|    0|    0.5|    2|  0|   3|     1|\n",
      "| 57|  1|  2|     150| 168|  0|      1|    174|    0|    1.6|    2|  0|   2|     1|\n",
      "| 54|  1|  0|     140| 239|  0|      1|    160|    0|    1.2|    2|  0|   2|     1|\n",
      "| 48|  0|  2|     130| 275|  0|      1|    139|    0|    0.2|    2|  0|   2|     1|\n",
      "| 49|  1|  1|     130| 266|  0|      1|    171|    0|    0.6|    2|  0|   2|     1|\n",
      "| 64|  1|  3|     110| 211|  0|      0|    144|    1|    1.8|    1|  0|   2|     1|\n",
      "| 58|  0|  3|     150| 283|  1|      0|    162|    0|    1.0|    2|  0|   2|     1|\n",
      "| 50|  0|  2|     120| 219|  0|      1|    158|    0|    1.6|    1|  0|   2|     1|\n",
      "| 58|  0|  2|     120| 340|  0|      1|    172|    0|    0.0|    2|  0|   2|     1|\n",
      "| 66|  0|  3|     150| 226|  0|      1|    114|    0|    2.6|    0|  0|   2|     1|\n",
      "| 43|  1|  0|     150| 247|  0|      1|    171|    0|    1.5|    2|  0|   2|     1|\n",
      "| 69|  0|  3|     140| 239|  0|      1|    151|    0|    1.8|    2|  2|   2|     1|\n",
      "+---+---+---+--------+----+---+-------+-------+-----+-------+-----+---+----+------+\n",
      "only showing top 20 rows\n",
      "\n"
     ]
    },
    {
     "data": {
      "text/plain": [
       "import org.apache.spark.sql.Row\n",
       "frame: org.apache.spark.sql.DataFrame = [age: int, sex: int ... 12 more fields]\n"
      ]
     },
     "execution_count": 1,
     "metadata": {},
     "output_type": "execute_result"
    }
   ],
   "source": [
    "import org.apache.spark.sql.Row\n",
    "\n",
    "val frame = spark\n",
    "      .read\n",
    "      .option(\"header\", \"true\")\n",
    "      .option(\"inferSchema\", \"true\")\n",
    "      .csv(\"../data/heart.csv\")\n",
    "\n",
    "frame.show()"
   ]
  },
  {
   "cell_type": "markdown",
   "metadata": {},
   "source": [
    "## Showing the schema"
   ]
  },
  {
   "cell_type": "code",
   "execution_count": 2,
   "metadata": {},
   "outputs": [
    {
     "name": "stdout",
     "output_type": "stream",
     "text": [
      "root\n",
      " |-- age: integer (nullable = true)\n",
      " |-- sex: integer (nullable = true)\n",
      " |-- cp: integer (nullable = true)\n",
      " |-- trestbps: integer (nullable = true)\n",
      " |-- chol: integer (nullable = true)\n",
      " |-- fbs: integer (nullable = true)\n",
      " |-- restecg: integer (nullable = true)\n",
      " |-- thalach: integer (nullable = true)\n",
      " |-- exang: integer (nullable = true)\n",
      " |-- oldpeak: double (nullable = true)\n",
      " |-- slope: integer (nullable = true)\n",
      " |-- ca: integer (nullable = true)\n",
      " |-- thal: integer (nullable = true)\n",
      " |-- target: integer (nullable = true)\n",
      "\n"
     ]
    }
   ],
   "source": [
    "frame.printSchema()"
   ]
  },
  {
   "cell_type": "markdown",
   "metadata": {},
   "source": [
    "## Isolate the features into a feature column\n",
    "\n",
    "* Data Scientists call features columns\n",
    "* We need a column with all the features for each model"
   ]
  },
  {
   "cell_type": "code",
   "execution_count": 3,
   "metadata": {},
   "outputs": [
    {
     "data": {
      "text/plain": [
       "import org.apache.spark.ml.feature.VectorAssembler\n",
       "assembler: org.apache.spark.ml.feature.VectorAssembler = vecAssembler_7337dfccc34c\n"
      ]
     },
     "execution_count": 3,
     "metadata": {},
     "output_type": "execute_result"
    }
   ],
   "source": [
    "import org.apache.spark.ml.feature.VectorAssembler\n",
    "val assembler = new VectorAssembler()\n",
    "    .setInputCols(Array(\"age\"))\n",
    "    .setOutputCol(\"features\")"
   ]
  },
  {
   "cell_type": "markdown",
   "metadata": {},
   "source": [
    "## The `target` column of our supervised learning needs to be renamed into a `label` \n",
    "\n",
    "* The model requires that features are isolated into it's onw column\n",
    "* Notice the `features` is a list of elements we require to plugin\n",
    "* We are going to calculate the regression between `chol` and `age`, so age will be our label"
   ]
  },
  {
   "cell_type": "code",
   "execution_count": 4,
   "metadata": {},
   "outputs": [
    {
     "name": "stdout",
     "output_type": "stream",
     "text": [
      "+---+---+---+--------+-----+---+-------+-------+-----+-------+-----+---+----+------+--------+\n",
      "|age|sex| cp|trestbps|label|fbs|restecg|thalach|exang|oldpeak|slope| ca|thal|target|features|\n",
      "+---+---+---+--------+-----+---+-------+-------+-----+-------+-----+---+----+------+--------+\n",
      "| 63|  1|  3|     145|  233|  1|      0|    150|    0|    2.3|    0|  0|   1|     1|  [63.0]|\n",
      "| 37|  1|  2|     130|  250|  0|      1|    187|    0|    3.5|    0|  0|   2|     1|  [37.0]|\n",
      "| 41|  0|  1|     130|  204|  0|      0|    172|    0|    1.4|    2|  0|   2|     1|  [41.0]|\n",
      "| 56|  1|  1|     120|  236|  0|      1|    178|    0|    0.8|    2|  0|   2|     1|  [56.0]|\n",
      "| 57|  0|  0|     120|  354|  0|      1|    163|    1|    0.6|    2|  0|   2|     1|  [57.0]|\n",
      "| 57|  1|  0|     140|  192|  0|      1|    148|    0|    0.4|    1|  0|   1|     1|  [57.0]|\n",
      "| 56|  0|  1|     140|  294|  0|      0|    153|    0|    1.3|    1|  0|   2|     1|  [56.0]|\n",
      "| 44|  1|  1|     120|  263|  0|      1|    173|    0|    0.0|    2|  0|   3|     1|  [44.0]|\n",
      "| 52|  1|  2|     172|  199|  1|      1|    162|    0|    0.5|    2|  0|   3|     1|  [52.0]|\n",
      "| 57|  1|  2|     150|  168|  0|      1|    174|    0|    1.6|    2|  0|   2|     1|  [57.0]|\n",
      "| 54|  1|  0|     140|  239|  0|      1|    160|    0|    1.2|    2|  0|   2|     1|  [54.0]|\n",
      "| 48|  0|  2|     130|  275|  0|      1|    139|    0|    0.2|    2|  0|   2|     1|  [48.0]|\n",
      "| 49|  1|  1|     130|  266|  0|      1|    171|    0|    0.6|    2|  0|   2|     1|  [49.0]|\n",
      "| 64|  1|  3|     110|  211|  0|      0|    144|    1|    1.8|    1|  0|   2|     1|  [64.0]|\n",
      "| 58|  0|  3|     150|  283|  1|      0|    162|    0|    1.0|    2|  0|   2|     1|  [58.0]|\n",
      "| 50|  0|  2|     120|  219|  0|      1|    158|    0|    1.6|    1|  0|   2|     1|  [50.0]|\n",
      "| 58|  0|  2|     120|  340|  0|      1|    172|    0|    0.0|    2|  0|   2|     1|  [58.0]|\n",
      "| 66|  0|  3|     150|  226|  0|      1|    114|    0|    2.6|    0|  0|   2|     1|  [66.0]|\n",
      "| 43|  1|  0|     150|  247|  0|      1|    171|    0|    1.5|    2|  0|   2|     1|  [43.0]|\n",
      "| 69|  0|  3|     140|  239|  0|      1|    151|    0|    1.8|    2|  2|   2|     1|  [69.0]|\n",
      "+---+---+---+--------+-----+---+-------+-------+-----+-------+-----+---+----+------+--------+\n",
      "only showing top 20 rows\n",
      "\n"
     ]
    },
    {
     "data": {
      "text/plain": [
       "newFrame: org.apache.spark.sql.DataFrame = [age: int, sex: int ... 13 more fields]\n"
      ]
     },
     "execution_count": 4,
     "metadata": {},
     "output_type": "execute_result"
    }
   ],
   "source": [
    "val newFrame = assembler.transform(frame).withColumnRenamed(\"chol\", \"label\")\n",
    "newFrame.show()"
   ]
  },
  {
   "cell_type": "code",
   "execution_count": 5,
   "metadata": {},
   "outputs": [
    {
     "data": {
      "text/plain": [
       "focusedFrame: org.apache.spark.sql.DataFrame = [label: int, features: vector]\n"
      ]
     },
     "execution_count": 5,
     "metadata": {},
     "output_type": "execute_result"
    }
   ],
   "source": [
    "val focusedFrame = newFrame.select(\"label\", \"features\")"
   ]
  },
  {
   "cell_type": "markdown",
   "metadata": {},
   "source": [
    "## Split the data\n",
    "\n",
    "* We need to split the data training and testing\n",
    "* We are going to split 70% training - 30% testing\n",
    "* It will be essential that we put a random seed to randomly select the rows (observations)"
   ]
  },
  {
   "cell_type": "code",
   "execution_count": 6,
   "metadata": {},
   "outputs": [
    {
     "name": "stdout",
     "output_type": "stream",
     "text": [
      "+-----+--------+\n",
      "|label|features|\n",
      "+-----+--------+\n",
      "|  149|  [49.0]|\n",
      "|  149|  [71.0]|\n",
      "|  157|  [41.0]|\n",
      "|  160|  [45.0]|\n",
      "|  164|  [62.0]|\n",
      "|  166|  [61.0]|\n",
      "|  167|  [40.0]|\n",
      "|  168|  [57.0]|\n",
      "|  169|  [44.0]|\n",
      "|  172|  [41.0]|\n",
      "|  175|  [38.0]|\n",
      "|  175|  [38.0]|\n",
      "|  175|  [51.0]|\n",
      "|  176|  [59.0]|\n",
      "|  177|  [43.0]|\n",
      "|  177|  [46.0]|\n",
      "|  177|  [59.0]|\n",
      "|  177|  [65.0]|\n",
      "|  178|  [60.0]|\n",
      "|  180|  [42.0]|\n",
      "+-----+--------+\n",
      "only showing top 20 rows\n",
      "\n"
     ]
    },
    {
     "data": {
      "text/plain": [
       "import org.apache.spark.sql.Dataset\n",
       "splitData: Array[org.apache.spark.sql.Dataset[org.apache.spark.sql.Row]] = Array([label: int, features: vector], [label: int, features: vector])\n",
       "trainingData: org.apache.spark.sql.Dataset[org.apache.spark.sql.Row] = [label: int, features: vector]\n"
      ]
     },
     "execution_count": 6,
     "metadata": {},
     "output_type": "execute_result"
    }
   ],
   "source": [
    "import org.apache.spark.sql.Dataset\n",
    "val splitData: Array[Dataset[Row]] = focusedFrame.randomSplit(Array(0.7, 0.3), seed = 1234L)\n",
    "val trainingData = splitData(0)\n",
    "trainingData.show()"
   ]
  },
  {
   "cell_type": "code",
   "execution_count": 7,
   "metadata": {},
   "outputs": [
    {
     "name": "stdout",
     "output_type": "stream",
     "text": [
      "+-----+--------+\n",
      "|label|features|\n",
      "+-----+--------+\n",
      "|  126|  [57.0]|\n",
      "|  131|  [57.0]|\n",
      "|  141|  [44.0]|\n",
      "|  174|  [70.0]|\n",
      "|  184|  [56.0]|\n",
      "|  185|  [60.0]|\n",
      "|  188|  [54.0]|\n",
      "|  193|  [56.0]|\n",
      "|  196|  [52.0]|\n",
      "|  197|  [53.0]|\n",
      "|  197|  [76.0]|\n",
      "|  198|  [35.0]|\n",
      "|  199|  [39.0]|\n",
      "|  201|  [54.0]|\n",
      "|  204|  [59.0]|\n",
      "|  206|  [54.0]|\n",
      "|  211|  [43.0]|\n",
      "|  212|  [52.0]|\n",
      "|  212|  [59.0]|\n",
      "|  212|  [66.0]|\n",
      "+-----+--------+\n",
      "only showing top 20 rows\n",
      "\n"
     ]
    },
    {
     "data": {
      "text/plain": [
       "testingData: org.apache.spark.sql.Dataset[org.apache.spark.sql.Row] = [label: int, features: vector]\n"
      ]
     },
     "execution_count": 7,
     "metadata": {},
     "output_type": "execute_result"
    }
   ],
   "source": [
    "val testingData = splitData(1)\n",
    "testingData.show()"
   ]
  },
  {
   "cell_type": "markdown",
   "metadata": {},
   "source": [
    "## Linear Regression\n",
    "\n",
    "* Linear Regression is a model that draws a line through the data points\n",
    "* After training it provides a coefficient (line slope) and intercept e.g. $mx + b$\n",
    "* Here we will use some standard parameters (called hyperparameters by data scientists)\n",
    "* For a visual understanding of linear regression [enjoy this visualization](http://setosa.io/ev/ordinary-least-squares-regression/)"
   ]
  },
  {
   "cell_type": "code",
   "execution_count": 8,
   "metadata": {},
   "outputs": [
    {
     "data": {
      "text/plain": [
       "import org.apache.spark.ml.regression.LinearRegression\n",
       "lr: org.apache.spark.ml.regression.LinearRegression = linReg_fd517d08ceec\n"
      ]
     },
     "execution_count": 8,
     "metadata": {},
     "output_type": "execute_result"
    }
   ],
   "source": [
    "import org.apache.spark.ml.regression.LinearRegression\n",
    "val lr = new LinearRegression()\n",
    "      .setMaxIter(10)\n",
    "      .setRegParam(0.3)\n",
    "      .setElasticNetParam(0.8)"
   ]
  },
  {
   "cell_type": "markdown",
   "metadata": {},
   "source": [
    "## Training "
   ]
  },
  {
   "cell_type": "code",
   "execution_count": 9,
   "metadata": {},
   "outputs": [
    {
     "data": {
      "text/plain": [
       "lrModel: org.apache.spark.ml.regression.LinearRegressionModel = linReg_fd517d08ceec\n"
      ]
     },
     "execution_count": 9,
     "metadata": {},
     "output_type": "execute_result"
    }
   ],
   "source": [
    "val lrModel = lr.fit(trainingData)"
   ]
  },
  {
   "cell_type": "markdown",
   "metadata": {},
   "source": [
    "## Print the coefficient (slope) and intercept"
   ]
  },
  {
   "cell_type": "code",
   "execution_count": 10,
   "metadata": {},
   "outputs": [
    {
     "name": "stdout",
     "output_type": "stream",
     "text": [
      "Coefficients: [1.5602976407592346] Intercept: 163.61093163371797\n"
     ]
    }
   ],
   "source": [
    "println(s\"Coefficients: ${lrModel.coefficients} Intercept: ${lrModel.intercept}\")"
   ]
  },
  {
   "cell_type": "markdown",
   "metadata": {},
   "source": [
    "## Summarize the model over the training set and print out some metrics"
   ]
  },
  {
   "cell_type": "code",
   "execution_count": 11,
   "metadata": {},
   "outputs": [
    {
     "name": "stdout",
     "output_type": "stream",
     "text": [
      "Mean Squared Error: 2155.67\n",
      "Mean Absolute Error: 35.70\n"
     ]
    },
    {
     "data": {
      "text/plain": [
       "summary: org.apache.spark.ml.regression.LinearRegressionSummary = org.apache.spark.ml.regression.LinearRegressionSummary@63b9060f\n"
      ]
     },
     "execution_count": 11,
     "metadata": {},
     "output_type": "execute_result"
    }
   ],
   "source": [
    "val summary = lrModel.evaluate(testingData)\n",
    "println(f\"Mean Squared Error: ${summary.meanSquaredError}%1.2f\")\n",
    "println(f\"Mean Absolute Error: ${summary.meanAbsoluteError}%1.2f\")"
   ]
  },
  {
   "cell_type": "markdown",
   "metadata": {},
   "source": [
    "## Decision Tree\n",
    "\n",
    "* Decision Trees will find the information required to split the data with a series of `if` statements internally\n",
    "* How it does so is with a recursive split and determining a purity score\n",
    "* Decision Trees take multiple feature (column) data\n"
   ]
  },
  {
   "cell_type": "markdown",
   "metadata": {},
   "source": [
    "### Use `VectorAssembler` to arrange all the features \n",
    "\n",
    "* A Decision Tree can use all features so we will include that\n",
    "* The column with all the features will be called `features`"
   ]
  },
  {
   "cell_type": "code",
   "execution_count": 12,
   "metadata": {},
   "outputs": [
    {
     "data": {
      "text/plain": [
       "import org.apache.spark.ml.feature.VectorAssembler\n",
       "assembler: org.apache.spark.ml.feature.VectorAssembler = vecAssembler_87e274ae718d\n"
      ]
     },
     "execution_count": 12,
     "metadata": {},
     "output_type": "execute_result"
    }
   ],
   "source": [
    "import org.apache.spark.ml.feature.VectorAssembler\n",
    "\n",
    "val assembler = new VectorAssembler()\n",
    "      .setInputCols(Array(\"age\", \"sex\", \"cp\", \"trestbps\", \"chol\",\n",
    "        \"fbs\", \"restecg\", \"thalach\", \"exang\", \"oldpeak\", \"slope\", \"ca\", \"thal\"))\n",
    "      .setOutputCol(\"features\")"
   ]
  },
  {
   "cell_type": "markdown",
   "metadata": {},
   "source": [
    "### Perform the transformation\n",
    "\n",
    "* Notice the `features` column and the elements that it contains\n",
    "* We will plug in the data along with the `target` on whether or not they will have heart disease"
   ]
  },
  {
   "cell_type": "code",
   "execution_count": 13,
   "metadata": {},
   "outputs": [
    {
     "name": "stdout",
     "output_type": "stream",
     "text": [
      "+---+---+---+--------+----+---+-------+-------+-----+-------+-----+---+----+------+--------------------+\n",
      "|age|sex| cp|trestbps|chol|fbs|restecg|thalach|exang|oldpeak|slope| ca|thal|target|            features|\n",
      "+---+---+---+--------+----+---+-------+-------+-----+-------+-----+---+----+------+--------------------+\n",
      "| 63|  1|  3|     145| 233|  1|      0|    150|    0|    2.3|    0|  0|   1|     1|[63.0,1.0,3.0,145...|\n",
      "| 37|  1|  2|     130| 250|  0|      1|    187|    0|    3.5|    0|  0|   2|     1|[37.0,1.0,2.0,130...|\n",
      "| 41|  0|  1|     130| 204|  0|      0|    172|    0|    1.4|    2|  0|   2|     1|[41.0,0.0,1.0,130...|\n",
      "| 56|  1|  1|     120| 236|  0|      1|    178|    0|    0.8|    2|  0|   2|     1|[56.0,1.0,1.0,120...|\n",
      "| 57|  0|  0|     120| 354|  0|      1|    163|    1|    0.6|    2|  0|   2|     1|[57.0,0.0,0.0,120...|\n",
      "| 57|  1|  0|     140| 192|  0|      1|    148|    0|    0.4|    1|  0|   1|     1|[57.0,1.0,0.0,140...|\n",
      "| 56|  0|  1|     140| 294|  0|      0|    153|    0|    1.3|    1|  0|   2|     1|[56.0,0.0,1.0,140...|\n",
      "| 44|  1|  1|     120| 263|  0|      1|    173|    0|    0.0|    2|  0|   3|     1|[44.0,1.0,1.0,120...|\n",
      "| 52|  1|  2|     172| 199|  1|      1|    162|    0|    0.5|    2|  0|   3|     1|[52.0,1.0,2.0,172...|\n",
      "| 57|  1|  2|     150| 168|  0|      1|    174|    0|    1.6|    2|  0|   2|     1|[57.0,1.0,2.0,150...|\n",
      "| 54|  1|  0|     140| 239|  0|      1|    160|    0|    1.2|    2|  0|   2|     1|[54.0,1.0,0.0,140...|\n",
      "| 48|  0|  2|     130| 275|  0|      1|    139|    0|    0.2|    2|  0|   2|     1|[48.0,0.0,2.0,130...|\n",
      "| 49|  1|  1|     130| 266|  0|      1|    171|    0|    0.6|    2|  0|   2|     1|[49.0,1.0,1.0,130...|\n",
      "| 64|  1|  3|     110| 211|  0|      0|    144|    1|    1.8|    1|  0|   2|     1|[64.0,1.0,3.0,110...|\n",
      "| 58|  0|  3|     150| 283|  1|      0|    162|    0|    1.0|    2|  0|   2|     1|[58.0,0.0,3.0,150...|\n",
      "| 50|  0|  2|     120| 219|  0|      1|    158|    0|    1.6|    1|  0|   2|     1|[50.0,0.0,2.0,120...|\n",
      "| 58|  0|  2|     120| 340|  0|      1|    172|    0|    0.0|    2|  0|   2|     1|[58.0,0.0,2.0,120...|\n",
      "| 66|  0|  3|     150| 226|  0|      1|    114|    0|    2.6|    0|  0|   2|     1|[66.0,0.0,3.0,150...|\n",
      "| 43|  1|  0|     150| 247|  0|      1|    171|    0|    1.5|    2|  0|   2|     1|[43.0,1.0,0.0,150...|\n",
      "| 69|  0|  3|     140| 239|  0|      1|    151|    0|    1.8|    2|  2|   2|     1|[69.0,0.0,3.0,140...|\n",
      "+---+---+---+--------+----+---+-------+-------+-----+-------+-----+---+----+------+--------------------+\n",
      "only showing top 20 rows\n",
      "\n"
     ]
    },
    {
     "data": {
      "text/plain": [
       "transformed: org.apache.spark.sql.DataFrame = [age: int, sex: int ... 13 more fields]\n"
      ]
     },
     "execution_count": 13,
     "metadata": {},
     "output_type": "execute_result"
    }
   ],
   "source": [
    "val transformed = assembler.transform(frame)\n",
    "transformed.show()"
   ]
  },
  {
   "cell_type": "markdown",
   "metadata": {},
   "source": [
    "### Applying the Decision Tree Model\n",
    "\n",
    "* Plugging in the model, we will direct it to the `feature` column, and the `target`"
   ]
  },
  {
   "cell_type": "code",
   "execution_count": 14,
   "metadata": {},
   "outputs": [
    {
     "data": {
      "text/plain": [
       "import org.apache.spark.ml.classification.DecisionTreeClassifier\n",
       "decisionTreeClassifier: org.apache.spark.ml.classification.DecisionTreeClassifier = dtc_f0145e5a03be\n"
      ]
     },
     "execution_count": 14,
     "metadata": {},
     "output_type": "execute_result"
    }
   ],
   "source": [
    "import org.apache.spark.ml.classification.DecisionTreeClassifier\n",
    "val decisionTreeClassifier = new DecisionTreeClassifier()\n",
    "      .setFeaturesCol(\"features\")\n",
    "      .setLabelCol(\"target\")"
   ]
  },
  {
   "cell_type": "markdown",
   "metadata": {},
   "source": [
    "### Splitting the data for training and testing"
   ]
  },
  {
   "cell_type": "code",
   "execution_count": 15,
   "metadata": {},
   "outputs": [
    {
     "data": {
      "text/plain": [
       "splitData: Array[org.apache.spark.sql.Dataset[org.apache.spark.sql.Row]] = Array([age: int, sex: int ... 13 more fields], [age: int, sex: int ... 13 more fields])\n",
       "trainingData: org.apache.spark.sql.Dataset[org.apache.spark.sql.Row] = [age: int, sex: int ... 13 more fields]\n",
       "testingData: org.apache.spark.sql.Dataset[org.apache.spark.sql.Row] = [age: int, sex: int ... 13 more fields]\n"
      ]
     },
     "execution_count": 15,
     "metadata": {},
     "output_type": "execute_result"
    }
   ],
   "source": [
    "val splitData = newFrame.randomSplit(Array(0.7, 0.3), seed = 1234L)\n",
    "val trainingData = splitData(0)\n",
    "val testingData = splitData(1)"
   ]
  },
  {
   "cell_type": "markdown",
   "metadata": {},
   "source": [
    "### Training the model"
   ]
  },
  {
   "cell_type": "code",
   "execution_count": 16,
   "metadata": {},
   "outputs": [
    {
     "data": {
      "text/plain": [
       "model: org.apache.spark.ml.classification.DecisionTreeClassificationModel = DecisionTreeClassificationModel (uid=dtc_f0145e5a03be) of depth 4 with 15 nodes\n"
      ]
     },
     "execution_count": 16,
     "metadata": {},
     "output_type": "execute_result"
    }
   ],
   "source": [
    "val model = decisionTreeClassifier.fit(trainingData)"
   ]
  },
  {
   "cell_type": "markdown",
   "metadata": {},
   "source": [
    "### Calling `transform` to view the data"
   ]
  },
  {
   "cell_type": "code",
   "execution_count": 17,
   "metadata": {},
   "outputs": [
    {
     "name": "stdout",
     "output_type": "stream",
     "text": [
      "+---+---+---+--------+-----+---+-------+-------+-----+-------+-----+---+----+------+--------+-------------+--------------------+----------+\n",
      "|age|sex| cp|trestbps|label|fbs|restecg|thalach|exang|oldpeak|slope| ca|thal|target|features|rawPrediction|         probability|prediction|\n",
      "+---+---+---+--------+-----+---+-------+-------+-----+-------+-----+---+----+------+--------+-------------+--------------------+----------+\n",
      "| 29|  1|  1|     130|  204|  0|      0|    202|    0|    0.0|    2|  0|   2|     1|  [29.0]|  [13.0,36.0]|[0.26530612244897...|       1.0|\n",
      "| 34|  0|  1|     118|  210|  0|      1|    192|    0|    0.7|    2|  0|   2|     1|  [34.0]|  [13.0,36.0]|[0.26530612244897...|       1.0|\n",
      "| 34|  1|  3|     118|  182|  0|      0|    174|    0|    0.0|    2|  0|   2|     1|  [34.0]|  [13.0,36.0]|[0.26530612244897...|       1.0|\n",
      "| 39|  0|  2|     138|  220|  0|      1|    152|    0|    0.0|    1|  0|   2|     1|  [39.0]|  [13.0,36.0]|[0.26530612244897...|       1.0|\n",
      "| 41|  1|  1|     135|  203|  0|      1|    132|    0|    0.0|    1|  0|   1|     1|  [41.0]|  [13.0,36.0]|[0.26530612244897...|       1.0|\n",
      "| 41|  1|  2|     112|  250|  0|      1|    179|    0|    0.0|    2|  0|   2|     1|  [41.0]|  [13.0,36.0]|[0.26530612244897...|       1.0|\n",
      "| 42|  1|  0|     136|  315|  0|      1|    125|    1|    1.8|    1|  0|   1|     0|  [42.0]|  [13.0,36.0]|[0.26530612244897...|       1.0|\n",
      "| 42|  1|  2|     120|  240|  1|      1|    194|    0|    0.8|    0|  0|   3|     1|  [42.0]|  [13.0,36.0]|[0.26530612244897...|       1.0|\n",
      "| 43|  0|  2|     122|  213|  0|      1|    165|    0|    0.2|    1|  0|   2|     1|  [43.0]|  [13.0,36.0]|[0.26530612244897...|       1.0|\n",
      "| 43|  1|  0|     120|  177|  0|      0|    120|    1|    2.5|    1|  0|   3|     0|  [43.0]|  [13.0,36.0]|[0.26530612244897...|       1.0|\n",
      "+---+---+---+--------+-----+---+-------+-------+-----+-------+-----+---+----+------+--------+-------------+--------------------+----------+\n",
      "only showing top 10 rows\n",
      "\n"
     ]
    },
    {
     "data": {
      "text/plain": [
       "result: org.apache.spark.sql.DataFrame = [age: int, sex: int ... 16 more fields]\n"
      ]
     },
     "execution_count": 17,
     "metadata": {},
     "output_type": "execute_result"
    }
   ],
   "source": [
    "val result = model.transform(testingData)\n",
    "result.show(10)"
   ]
  },
  {
   "cell_type": "markdown",
   "metadata": {},
   "source": [
    "### Determining the score and our performance\n",
    "\n",
    "* We will procure the `org.apache.spark.ml.evaluation.BinaryClassificationEvaluator` for this decision tree\n",
    "* This is a binary response: Has heart disease, Does not have heart disease\n",
    "* The default score for the `BinaryClassificationEvaluator` is the AUC (Area Under the Curve) / ROC (Receiving Operating Characteristic) Score which determines the area of the false positive rate against the true positive rate.\n",
    "* The best AUC, is 1.0"
   ]
  },
  {
   "cell_type": "code",
   "execution_count": 18,
   "metadata": {},
   "outputs": [
    {
     "data": {
      "text/plain": [
       "import org.apache.spark.ml.evaluation.BinaryClassificationEvaluator\n",
       "evaluator: org.apache.spark.ml.evaluation.BinaryClassificationEvaluator = binEval_2ed50842b3a8\n"
      ]
     },
     "execution_count": 18,
     "metadata": {},
     "output_type": "execute_result"
    }
   ],
   "source": [
    "import org.apache.spark.ml.evaluation.BinaryClassificationEvaluator\n",
    "\n",
    "val evaluator = new BinaryClassificationEvaluator()\n",
    "                    .setLabelCol(\"target\") \n",
    "                    .setRawPredictionCol(\"rawPrediction\") "
   ]
  },
  {
   "cell_type": "markdown",
   "metadata": {},
   "source": [
    "### Displaying the final score"
   ]
  },
  {
   "cell_type": "code",
   "execution_count": 19,
   "metadata": {},
   "outputs": [
    {
     "name": "stdout",
     "output_type": "stream",
     "text": [
      "AUC Score = 0.5243055555555556\n"
     ]
    },
    {
     "data": {
      "text/plain": [
       "aucScore: Double = 0.5243055555555556\n"
      ]
     },
     "execution_count": 19,
     "metadata": {},
     "output_type": "execute_result"
    }
   ],
   "source": [
    "val aucScore = evaluator.evaluate(result)\n",
    "println(s\"AUC Score = $aucScore\")"
   ]
  },
  {
   "cell_type": "markdown",
   "metadata": {},
   "source": [
    "## What does a random forest do?\n",
    "\n",
    "* Random Forest takes multiple trees and determines a score based on average or voting\n",
    "* This is the wisdom of the crowd\n",
    "* Each tree can either institute a (WR) with replacement, or (WOR) without replacement\n",
    "* With Replacement is like measuring fish and throwing the fish back in the water. You may get the same one again"
   ]
  },
  {
   "cell_type": "code",
   "execution_count": 20,
   "metadata": {},
   "outputs": [
    {
     "data": {
      "text/plain": [
       "import org.apache.spark.ml.classification.RandomForestClassifier\n",
       "rf: org.apache.spark.ml.classification.RandomForestClassifier = rfc_38d32acf4f93\n"
      ]
     },
     "execution_count": 20,
     "metadata": {},
     "output_type": "execute_result"
    }
   ],
   "source": [
    "import org.apache.spark.ml.classification.RandomForestClassifier\n",
    "val rf = new RandomForestClassifier()\n",
    "      .setFeaturesCol(\"features\")\n",
    "      .setLabelCol(\"target\")\n",
    "      .setNumTrees(100)"
   ]
  },
  {
   "cell_type": "code",
   "execution_count": 21,
   "metadata": {},
   "outputs": [
    {
     "data": {
      "text/plain": [
       "model: org.apache.spark.ml.classification.RandomForestClassificationModel = RandomForestClassificationModel (uid=rfc_38d32acf4f93) with 100 trees\n"
      ]
     },
     "execution_count": 21,
     "metadata": {},
     "output_type": "execute_result"
    }
   ],
   "source": [
    "val model = rf.fit(trainingData)"
   ]
  },
  {
   "cell_type": "code",
   "execution_count": 22,
   "metadata": {},
   "outputs": [
    {
     "name": "stdout",
     "output_type": "stream",
     "text": [
      "+---+---+---+--------+-----+---+-------+-------+-----+-------+-----+---+----+------+--------+--------------------+--------------------+----------+\n",
      "|age|sex| cp|trestbps|label|fbs|restecg|thalach|exang|oldpeak|slope| ca|thal|target|features|       rawPrediction|         probability|prediction|\n",
      "+---+---+---+--------+-----+---+-------+-------+-----+-------+-----+---+----+------+--------+--------------------+--------------------+----------+\n",
      "| 29|  1|  1|     130|  204|  0|      0|    202|    0|    0.0|    2|  0|   2|     1|  [29.0]|[33.7344011536839...|[0.33734401153683...|       1.0|\n",
      "| 34|  0|  1|     118|  210|  0|      1|    192|    0|    0.7|    2|  0|   2|     1|  [34.0]|[33.7344011536839...|[0.33734401153683...|       1.0|\n",
      "| 34|  1|  3|     118|  182|  0|      0|    174|    0|    0.0|    2|  0|   2|     1|  [34.0]|[33.7344011536839...|[0.33734401153683...|       1.0|\n",
      "| 39|  0|  2|     138|  220|  0|      1|    152|    0|    0.0|    1|  0|   2|     1|  [39.0]|[41.6632611947362...|[0.41663261194736...|       1.0|\n",
      "| 41|  1|  1|     135|  203|  0|      1|    132|    0|    0.0|    1|  0|   1|     1|  [41.0]|[18.1589430852963...|[0.18158943085296...|       1.0|\n",
      "| 41|  1|  2|     112|  250|  0|      1|    179|    0|    0.0|    2|  0|   2|     1|  [41.0]|[18.1589430852963...|[0.18158943085296...|       1.0|\n",
      "| 42|  1|  0|     136|  315|  0|      1|    125|    1|    1.8|    1|  0|   1|     0|  [42.0]|[15.6839430852963...|[0.15683943085296...|       1.0|\n",
      "| 42|  1|  2|     120|  240|  1|      1|    194|    0|    0.8|    0|  0|   3|     1|  [42.0]|[15.6839430852963...|[0.15683943085296...|       1.0|\n",
      "| 43|  0|  2|     122|  213|  0|      1|    165|    0|    0.2|    1|  0|   2|     1|  [43.0]|[36.6461551756008...|[0.36646155175600...|       1.0|\n",
      "| 43|  1|  0|     120|  177|  0|      0|    120|    1|    2.5|    1|  0|   3|     0|  [43.0]|[36.6461551756008...|[0.36646155175600...|       1.0|\n",
      "+---+---+---+--------+-----+---+-------+-------+-----+-------+-----+---+----+------+--------+--------------------+--------------------+----------+\n",
      "only showing top 10 rows\n",
      "\n"
     ]
    },
    {
     "data": {
      "text/plain": [
       "result: org.apache.spark.sql.DataFrame = [age: int, sex: int ... 16 more fields]\n"
      ]
     },
     "execution_count": 22,
     "metadata": {},
     "output_type": "execute_result"
    }
   ],
   "source": [
    "val result = model.transform(testingData)\n",
    "result.show(10)"
   ]
  },
  {
   "cell_type": "code",
   "execution_count": 23,
   "metadata": {},
   "outputs": [
    {
     "data": {
      "text/plain": [
       "import org.apache.spark.ml.evaluation.BinaryClassificationEvaluator\n",
       "evaluator: org.apache.spark.ml.evaluation.BinaryClassificationEvaluator = binEval_ea849f1dcc97\n"
      ]
     },
     "execution_count": 23,
     "metadata": {},
     "output_type": "execute_result"
    }
   ],
   "source": [
    "import org.apache.spark.ml.evaluation.BinaryClassificationEvaluator\n",
    "\n",
    "val evaluator = new BinaryClassificationEvaluator()\n",
    "                    .setLabelCol(\"target\") \n",
    "                    .setRawPredictionCol(\"rawPrediction\") "
   ]
  },
  {
   "cell_type": "code",
   "execution_count": 24,
   "metadata": {},
   "outputs": [
    {
     "name": "stdout",
     "output_type": "stream",
     "text": [
      "AUC Score = 0.5779671717171717\n"
     ]
    },
    {
     "data": {
      "text/plain": [
       "aucScore: Double = 0.5779671717171717\n"
      ]
     },
     "execution_count": 24,
     "metadata": {},
     "output_type": "execute_result"
    }
   ],
   "source": [
    "val aucScore = evaluator.evaluate(result)\n",
    "println(s\"AUC Score = $aucScore\")"
   ]
  }
 ],
 "metadata": {
  "kernelspec": {
   "display_name": "spylon-kernel",
   "language": "scala",
   "name": "spylon-kernel"
  },
  "language_info": {
   "codemirror_mode": "text/x-scala",
   "file_extension": ".scala",
   "help_links": [
    {
     "text": "MetaKernel Magics",
     "url": "https://metakernel.readthedocs.io/en/latest/source/README.html"
    }
   ],
   "mimetype": "text/x-scala",
   "name": "scala",
   "pygments_lexer": "scala",
   "version": "0.4.1"
  }
 },
 "nbformat": 4,
 "nbformat_minor": 2
}

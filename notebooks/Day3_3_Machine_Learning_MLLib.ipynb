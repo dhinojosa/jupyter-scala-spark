{
 "cells": [
  {
   "cell_type": "markdown",
   "metadata": {},
   "source": [
    "## Machine Learning with MLLib"
   ]
  },
  {
   "cell_type": "code",
   "execution_count": null,
   "metadata": {},
   "outputs": [
    {
     "data": {
      "text/plain": [
       "Intitializing Scala interpreter ..."
      ]
     },
     "metadata": {},
     "output_type": "display_data"
    },
    {
     "data": {
      "text/plain": [
       "Spark Web UI available at http://8f3d79309c47:4041\n",
       "SparkContext available as 'sc' (version = 2.4.3, master = local[*], app id = local-1563986132061)\n",
       "SparkSession available as 'spark'\n"
      ]
     },
     "metadata": {},
     "output_type": "display_data"
    }
   ],
   "source": [
    "import org.apache.spark.sql.Row\n",
    "\n",
    "val frame = spark\n",
    "      .read\n",
    "      .option(\"header\", \"true\")\n",
    "      .option(\"inferSchema\", \"true\")\n",
    "      .csv(\"../data/heart.csv\")\n",
    "\n",
    "frame.show()"
   ]
  },
  {
   "cell_type": "markdown",
   "metadata": {},
   "source": [
    "## Showing the schema"
   ]
  },
  {
   "cell_type": "code",
   "execution_count": null,
   "metadata": {},
   "outputs": [],
   "source": [
    "frame.printSchema()"
   ]
  },
  {
   "cell_type": "markdown",
   "metadata": {},
   "source": [
    "## Isolate the features into a feature column\n",
    "\n",
    "* Data Scientists call features columns\n",
    "* We need a column with all the features for each model"
   ]
  },
  {
   "cell_type": "code",
   "execution_count": null,
   "metadata": {},
   "outputs": [],
   "source": [
    "import org.apache.spark.ml.feature.VectorAssembler\n",
    "val assembler = new VectorAssembler()\n",
    "    .setInputCols(Array(\"age\"))\n",
    "    .setOutputCol(\"features\")"
   ]
  },
  {
   "cell_type": "markdown",
   "metadata": {},
   "source": [
    "## The `target` column of our supervised learning needs to be renamed into a `label` \n",
    "\n",
    "* The model requires that features are isolated into it's onw column\n",
    "* Notice the `features` is a list of elements we require to plugin\n",
    "* We are going to calculate the regression between `chol` and `age`, so age will be our label"
   ]
  },
  {
   "cell_type": "code",
   "execution_count": null,
   "metadata": {},
   "outputs": [],
   "source": [
    "val newFrame = assembler.transform(frame).withColumnRenamed(\"chol\", \"label\")\n",
    "newFrame.show()"
   ]
  },
  {
   "cell_type": "code",
   "execution_count": null,
   "metadata": {},
   "outputs": [],
   "source": [
    "val focusedFrame = newFrame.select(\"label\", \"features\")"
   ]
  },
  {
   "cell_type": "markdown",
   "metadata": {},
   "source": [
    "## Split the data\n",
    "\n",
    "* We need to split the data training and testing\n",
    "* We are going to split 70% training - 30% testing\n",
    "* It will be essential that we put a random seed to randomly select the rows (observations)"
   ]
  },
  {
   "cell_type": "code",
   "execution_count": null,
   "metadata": {},
   "outputs": [],
   "source": [
    "import org.apache.spark.sql.Dataset\n",
    "val splitData: Array[Dataset[Row]] = focusedFrame.randomSplit(Array(0.7, 0.3), seed = 1234L)\n",
    "val trainingData = splitData(0)\n",
    "trainingData.show()"
   ]
  },
  {
   "cell_type": "code",
   "execution_count": null,
   "metadata": {},
   "outputs": [],
   "source": [
    "val testingData = splitData(1)\n",
    "testingData.show()"
   ]
  },
  {
   "cell_type": "markdown",
   "metadata": {},
   "source": [
    "## Linear Regression\n",
    "\n",
    "* Linear Regression is a model that draws a line through the data points\n",
    "* After training it provides a coefficient (line slope) and intercept e.g. $mx + b$\n",
    "* Here we will use some standard parameters (called hyperparameters by data scientists)\n",
    "* For a visual understanding of linear regression [enjoy this visualization](http://setosa.io/ev/ordinary-least-squares-regression/)"
   ]
  },
  {
   "cell_type": "code",
   "execution_count": null,
   "metadata": {},
   "outputs": [],
   "source": [
    "import org.apache.spark.ml.regression.LinearRegression\n",
    "val lr = new LinearRegression()\n",
    "      .setMaxIter(10)\n",
    "      .setRegParam(0.3)\n",
    "      .setElasticNetParam(0.8)"
   ]
  },
  {
   "cell_type": "markdown",
   "metadata": {},
   "source": [
    "## Training "
   ]
  },
  {
   "cell_type": "code",
   "execution_count": null,
   "metadata": {},
   "outputs": [],
   "source": [
    "val lrModel = lr.fit(trainingData)"
   ]
  },
  {
   "cell_type": "markdown",
   "metadata": {},
   "source": [
    "## Print the coefficient (slope) and intercept"
   ]
  },
  {
   "cell_type": "code",
   "execution_count": null,
   "metadata": {},
   "outputs": [],
   "source": [
    "println(s\"Coefficients: ${lrModel.coefficients} Intercept: ${lrModel.intercept}\")"
   ]
  },
  {
   "cell_type": "markdown",
   "metadata": {},
   "source": [
    "## Summarize the model over the training set and print out some metrics"
   ]
  },
  {
   "cell_type": "code",
   "execution_count": null,
   "metadata": {},
   "outputs": [],
   "source": [
    "val summary = lrModel.evaluate(testingData)\n",
    "println(f\"Mean Squared Error: ${summary.meanSquaredError}%1.2f\")\n",
    "println(f\"Mean Absolute Error: ${summary.meanAbsoluteError}%1.2f\")"
   ]
  },
  {
   "cell_type": "markdown",
   "metadata": {},
   "source": [
    "## Decision Tree\n",
    "\n",
    "* Decision Trees will find the information required to split the data with a series of `if` statements internally\n",
    "* How it does so is with a recursive split and determining a purity score\n",
    "* Decision Trees take multiple feature (column) data\n"
   ]
  },
  {
   "cell_type": "markdown",
   "metadata": {},
   "source": [
    "### Use `VectorAssembler` to arrange all the features \n",
    "\n",
    "* A Decision Tree can use all features so we will include that\n",
    "* The column with all the features will be called `features`"
   ]
  },
  {
   "cell_type": "code",
   "execution_count": null,
   "metadata": {},
   "outputs": [],
   "source": [
    "import org.apache.spark.ml.feature.VectorAssembler\n",
    "\n",
    "val assembler = new VectorAssembler()\n",
    "      .setInputCols(Array(\"age\", \"sex\", \"cp\", \"trestbps\", \"chol\",\n",
    "        \"fbs\", \"restecg\", \"thalach\", \"exang\", \"oldpeak\", \"slope\", \"ca\", \"thal\"))\n",
    "      .setOutputCol(\"features\")"
   ]
  },
  {
   "cell_type": "markdown",
   "metadata": {},
   "source": [
    "### Perform the transformation\n",
    "\n",
    "* Notice the `features` column and the elements that it contains\n",
    "* We will plug in the data along with the `target` on whether or not they will have heart disease"
   ]
  },
  {
   "cell_type": "code",
   "execution_count": null,
   "metadata": {},
   "outputs": [],
   "source": [
    "val transformed = assembler.transform(frame)\n",
    "transformed.show()"
   ]
  },
  {
   "cell_type": "markdown",
   "metadata": {},
   "source": [
    "### Applying the Decision Tree Model\n",
    "\n",
    "* Plugging in the model, we will direct it to the `feature` column, and the `target`"
   ]
  },
  {
   "cell_type": "code",
   "execution_count": null,
   "metadata": {},
   "outputs": [],
   "source": [
    "import org.apache.spark.ml.classification.DecisionTreeClassifier\n",
    "val decisionTreeClassifier = new DecisionTreeClassifier()\n",
    "      .setFeaturesCol(\"features\")\n",
    "      .setLabelCol(\"target\")"
   ]
  },
  {
   "cell_type": "markdown",
   "metadata": {},
   "source": [
    "### Splitting the data for training and testing"
   ]
  },
  {
   "cell_type": "code",
   "execution_count": null,
   "metadata": {},
   "outputs": [],
   "source": [
    "val splitData = newFrame.randomSplit(Array(0.7, 0.3), seed = 1234L)\n",
    "val trainingData = splitData(0)\n",
    "val testingData = splitData(1)"
   ]
  },
  {
   "cell_type": "markdown",
   "metadata": {},
   "source": [
    "### Training the model"
   ]
  },
  {
   "cell_type": "code",
   "execution_count": null,
   "metadata": {},
   "outputs": [],
   "source": [
    "val model = decisionTreeClassifier.fit(trainingData)"
   ]
  },
  {
   "cell_type": "markdown",
   "metadata": {},
   "source": [
    "### Calling `transform` to view the data"
   ]
  },
  {
   "cell_type": "code",
   "execution_count": null,
   "metadata": {},
   "outputs": [],
   "source": [
    "val result = model.transform(testingData)\n",
    "result.show(10)"
   ]
  },
  {
   "cell_type": "markdown",
   "metadata": {},
   "source": [
    "### Determining the score and our performance\n",
    "\n",
    "* We will procure the `org.apache.spark.ml.evaluation.BinaryClassificationEvaluator` for this decision tree\n",
    "* This is a binary response: Has heart disease, Does not have heart disease\n",
    "* The default score for the `BinaryClassificationEvaluator` is the AUC (Area Under the Curve) / ROC (Receiving Operating Characteristic) Score which determines the area of the false positive rate against the true positive rate.\n",
    "* The best AUC, is 1.0"
   ]
  },
  {
   "cell_type": "code",
   "execution_count": null,
   "metadata": {},
   "outputs": [],
   "source": [
    "import org.apache.spark.ml.evaluation.BinaryClassificationEvaluator\n",
    "\n",
    "val evaluator = new BinaryClassificationEvaluator()\n",
    "                    .setLabelCol(\"target\") \n",
    "                    .setRawPredictionCol(\"rawPrediction\") "
   ]
  },
  {
   "cell_type": "markdown",
   "metadata": {},
   "source": [
    "### Displaying the final score"
   ]
  },
  {
   "cell_type": "code",
   "execution_count": null,
   "metadata": {},
   "outputs": [],
   "source": [
    "val aucScore = evaluator.evaluate(result)\n",
    "println(s\"AUC Score = $aucScore\")"
   ]
  },
  {
   "cell_type": "markdown",
   "metadata": {},
   "source": [
    "## What does a random forest do?\n",
    "\n",
    "* Random Forest takes multiple trees and determines a score based on average or voting\n",
    "* This is the wisdom of the crowd\n",
    "* Each tree can either institute a (WR) with replacement, or (WOR) without replacement\n",
    "* With Replacement is like measuring fish and throwing the fish back in the water. You may get the same one again"
   ]
  },
  {
   "cell_type": "code",
   "execution_count": null,
   "metadata": {},
   "outputs": [],
   "source": [
    "import org.apache.spark.ml.classification.RandomForestClassifier\n",
    "val rf = new RandomForestClassifier()\n",
    "      .setFeaturesCol(\"features\")\n",
    "      .setLabelCol(\"target\")\n",
    "      .setNumTrees(100)"
   ]
  },
  {
   "cell_type": "code",
   "execution_count": null,
   "metadata": {},
   "outputs": [],
   "source": [
    "val model = rf.fit(trainingData)"
   ]
  },
  {
   "cell_type": "code",
   "execution_count": null,
   "metadata": {},
   "outputs": [],
   "source": [
    "val result = model.transform(testingData)\n",
    "result.show(10)"
   ]
  },
  {
   "cell_type": "code",
   "execution_count": null,
   "metadata": {},
   "outputs": [],
   "source": [
    "import org.apache.spark.ml.evaluation.BinaryClassificationEvaluator\n",
    "\n",
    "val evaluator = new BinaryClassificationEvaluator()\n",
    "                    .setLabelCol(\"target\") \n",
    "                    .setRawPredictionCol(\"rawPrediction\") "
   ]
  },
  {
   "cell_type": "code",
   "execution_count": null,
   "metadata": {},
   "outputs": [],
   "source": [
    "val aucScore = evaluator.evaluate(result)\n",
    "println(s\"AUC Score = $aucScore\")"
   ]
  }
 ],
 "metadata": {
  "kernelspec": {
   "display_name": "spylon-kernel",
   "language": "scala",
   "name": "spylon-kernel"
  },
  "language_info": {
   "codemirror_mode": "text/x-scala",
   "file_extension": ".scala",
   "help_links": [
    {
     "text": "MetaKernel Magics",
     "url": "https://metakernel.readthedocs.io/en/latest/source/README.html"
    }
   ],
   "mimetype": "text/x-scala",
   "name": "scala",
   "pygments_lexer": "scala",
   "version": "0.4.1"
  }
 },
 "nbformat": 4,
 "nbformat_minor": 2
}

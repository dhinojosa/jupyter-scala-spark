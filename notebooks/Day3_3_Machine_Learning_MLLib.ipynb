{
 "cells": [
  {
   "cell_type": "markdown",
   "metadata": {},
   "source": [
    "# Machine Learning with MLLib"
   ]
  },
  {
   "cell_type": "markdown",
   "metadata": {},
   "source": [
    "* Machine Learning\n",
    "  * Subclass of Artificial Intelligence (AI)\n",
    "  * Automatically learn and improve from training without being explicitly programmed\n",
    "  * Where programmers see $f(x)=y$ as\n",
    "     * $f$ is a function that a programmer can call\n",
    "     * $x$ is a set of arguments it can give $f$\n",
    "     * $y$ is the evaluated answer\n",
    "  * Data Scientists see $f(x)=y$ as\n",
    "     * $x$ is the multidimensional data that represents all the features or columns\n",
    "     * $y$ is a series that represents the \"answer\" via training\n",
    "     * $f$ is the function that the model comes up with that after learning from $x$ and $y$"
   ]
  },
  {
   "cell_type": "markdown",
   "metadata": {},
   "source": [
    "## Data Science Pipeline\n",
    "\n",
    "<img src=\"../images/datascience_pipeline.png\" alt=\"data_science_pipeline\" width=\"50%\"/>\n",
    "\n",
    "To perform data science, we must do a lot before we even plug into a model. \n",
    "\n",
    "* **Raw Data is Collected** \n",
    "  * We must find the data, that's hard already, seek information from :\n",
    "    * Databases\n",
    "    * Datapipelines (Kafka, Kafka Streaming, Spark Streaming)\n",
    "    * Webservices\n",
    "    * RDF/JSON-LD/SPARQL Sources\n",
    "* **Data is Processed**\n",
    "  * Create numerical values for `String` elements (e.g. \"Male\" to `0`, \"Female\" to `1`)\n",
    "  * Create scaled values for numbers that don't start at 0 (e.g. Blood Pressure)\n",
    "  * Engineer columns to create new other columns (e.g. weekends, holidays, financial quarters from dates)\n",
    "* **Data is Cleaned**\n",
    "  * Remove `null` or `NaN`\n",
    "  * Remove Duplicates\n",
    "  * Remove irrelevant columns (e.g. `id`)\n",
    "  * Remove columns that are too correlated (e.g. Fahrenheit and Celsius)\n",
    "* **Exploratory Data Analysis**\n",
    "  * See what you can find\n",
    "  * Ask questions\n",
    "  * Ask domain experts\n",
    "  * Ask data science specialist\n",
    "  * Seek Relationships\n",
    "* **Visualizations**\n",
    "  * Combined with above. In a graph can we see:\n",
    "    * Blobs\n",
    "    * Lines\n",
    "    * A way we can drive a line through the data?\n",
    "* **Machine Learning Statistical Models**\n",
    "  * Split the data into training and testing\n",
    "  * Now that we know what we are looking for, apply one model or a few\n",
    "  * See how well they perform with scoring "
   ]
  },
  {
   "cell_type": "markdown",
   "metadata": {},
   "source": [
    "## Data Terms\n",
    "\n",
    "<img src=\"../images/processing_data_1.png\" alt=\"processing_data_1\" width=\"50%\"/>"
   ]
  },
  {
   "cell_type": "markdown",
   "metadata": {},
   "source": [
    "## What answers is the ML model looking for?\n",
    "\n",
    "* Classification\n",
    "  * _survive_, _did not survive_ (binary classification)\n",
    "  * _rain_, _sunny, _cloudy_, _overcast_\n",
    "  * _buy_, _dontbuy_\n",
    "* Regression\n",
    "  * Given _handsize_ what is the _height_\n",
    "  * Given _age_ what is the _choelesterol_\n",
    "  * Given _salary_ what is their credit limit?"
   ]
  },
  {
   "cell_type": "markdown",
   "metadata": {},
   "source": [
    "## Detect a target column\n",
    "\n",
    "* For supervised learning, one of the columns is the _target_ or the answer\n",
    "* Determine which column is the target and note it\n",
    "\n",
    "<img src=\"../images/processing_data_2.png\" alt=\"processing_data_2\" width=\"50%\"/>"
   ]
  },
  {
   "cell_type": "markdown",
   "metadata": {},
   "source": [
    "## Split the data into training and testing sets\n",
    "\n",
    "* Select a 70% - 30% split of the data\n",
    "  * 70% will be used for training\n",
    "  * 30% will be used for testing\n",
    "* You can choose 60% - 40% or any combination \n",
    "\n",
    "<img src=\"../images/processing_data_3.png\" alt=\"processing_data_3\" width=\"50%\"/>"
   ]
  },
  {
   "cell_type": "markdown",
   "metadata": {},
   "source": [
    "## Splits should be random \n",
    "\n",
    "* There is a danger of doing the above, since the first part of may not have targets in the testing, and we would end up with terrible scores\n",
    "* It is wise to mix up the training and testing\n",
    "* In Spark we can do so with a _random seed_\n",
    "\n",
    "\n",
    "<img src=\"../images/processing_data_4.png\" alt=\"processing_data_4\" width=\"50%\"/>"
   ]
  },
  {
   "cell_type": "markdown",
   "metadata": {},
   "source": [
    "## Select a model and split training and testing\n",
    "\n",
    "* Select a model with the characteristics that you are looking for\n",
    "* Split your training and testing\n",
    "\n",
    "<img src=\"../images/processing_data_5.png\" alt=\"processing_data_5\" width=\"50%\"/>"
   ]
  },
  {
   "cell_type": "markdown",
   "metadata": {},
   "source": [
    "## Undergo the training phase\n",
    "\n",
    "* Provide the model by calling the `fit` method\n",
    "* This will start the model by determining which function best maps the data for data it has not seen before including testing data and real life data\n",
    "<img src=\"../images/processing_data_6.png\" alt=\"processing_data_6\" width=\"50%\"/>"
   ]
  },
  {
   "cell_type": "markdown",
   "metadata": {},
   "source": [
    "# Reserve the actual results\n",
    "\n",
    "* Depending which Machine Learning product you choose, you may remove the actual data, or just understand what the \"actual\" testing results should be.\n",
    "* In Spark, the API doesn't mind if you leave the actual results in the test since it will likely give a new `DataFrame` with the new predicted results as columns\n",
    "\n",
    "<img src=\"../images/processing_data_7.png\" alt=\"processing_data_7\" width=\"50%\"/>"
   ]
  },
  {
   "cell_type": "markdown",
   "metadata": {},
   "source": [
    "## Giving the model data it has not seen before\n",
    "\n",
    "* We will challenge the model it has not seen before\n",
    "* This will come up with predicted values\n",
    "\n",
    "<img src=\"../images/processing_data_8.png\" alt=\"processing_data_8\" width=\"50%\"/>"
   ]
  },
  {
   "cell_type": "markdown",
   "metadata": {},
   "source": [
    "# Match the results\n",
    "\n",
    "* Given what was predicted and the actual values that were reserved earlier, we can take them and score how well our model did\n",
    "\n",
    "<img src=\"../images/processing_data_9.png\" alt=\"processing_data_9\" width=\"50%\"/>"
   ]
  },
  {
   "cell_type": "markdown",
   "metadata": {},
   "source": [
    "# Selecting the perfect score\n",
    "\n",
    "* Select a score depends on what we were doing a classification or regression.\n",
    "* For Regression, some popular metrics include:\n",
    "  * Mean Absolute Error\n",
    "  * Mean Squared Error / Root Mean Squared Error\n",
    "* For Classification, some popular metrics include:\n",
    "  * Confusion Metrics\n",
    "  * Area Under Curve / Receiver Operating Characteristics\n",
    "\n",
    "<img src=\"../images/processing_data_10.png\" alt=\"processing_data_10\" width=\"50%\"/>"
   ]
  },
  {
   "cell_type": "code",
   "execution_count": 26,
   "metadata": {},
   "outputs": [
    {
     "name": "stdout",
     "output_type": "stream",
     "text": [
      "+---+---+---+--------+----+---+-------+-------+-----+-------+-----+---+----+------+\n",
      "|age|sex| cp|trestbps|chol|fbs|restecg|thalach|exang|oldpeak|slope| ca|thal|target|\n",
      "+---+---+---+--------+----+---+-------+-------+-----+-------+-----+---+----+------+\n",
      "| 63|  1|  3|     145| 233|  1|      0|    150|    0|    2.3|    0|  0|   1|     1|\n",
      "| 37|  1|  2|     130| 250|  0|      1|    187|    0|    3.5|    0|  0|   2|     1|\n",
      "| 41|  0|  1|     130| 204|  0|      0|    172|    0|    1.4|    2|  0|   2|     1|\n",
      "| 56|  1|  1|     120| 236|  0|      1|    178|    0|    0.8|    2|  0|   2|     1|\n",
      "| 57|  0|  0|     120| 354|  0|      1|    163|    1|    0.6|    2|  0|   2|     1|\n",
      "| 57|  1|  0|     140| 192|  0|      1|    148|    0|    0.4|    1|  0|   1|     1|\n",
      "| 56|  0|  1|     140| 294|  0|      0|    153|    0|    1.3|    1|  0|   2|     1|\n",
      "| 44|  1|  1|     120| 263|  0|      1|    173|    0|    0.0|    2|  0|   3|     1|\n",
      "| 52|  1|  2|     172| 199|  1|      1|    162|    0|    0.5|    2|  0|   3|     1|\n",
      "| 57|  1|  2|     150| 168|  0|      1|    174|    0|    1.6|    2|  0|   2|     1|\n",
      "| 54|  1|  0|     140| 239|  0|      1|    160|    0|    1.2|    2|  0|   2|     1|\n",
      "| 48|  0|  2|     130| 275|  0|      1|    139|    0|    0.2|    2|  0|   2|     1|\n",
      "| 49|  1|  1|     130| 266|  0|      1|    171|    0|    0.6|    2|  0|   2|     1|\n",
      "| 64|  1|  3|     110| 211|  0|      0|    144|    1|    1.8|    1|  0|   2|     1|\n",
      "| 58|  0|  3|     150| 283|  1|      0|    162|    0|    1.0|    2|  0|   2|     1|\n",
      "| 50|  0|  2|     120| 219|  0|      1|    158|    0|    1.6|    1|  0|   2|     1|\n",
      "| 58|  0|  2|     120| 340|  0|      1|    172|    0|    0.0|    2|  0|   2|     1|\n",
      "| 66|  0|  3|     150| 226|  0|      1|    114|    0|    2.6|    0|  0|   2|     1|\n",
      "| 43|  1|  0|     150| 247|  0|      1|    171|    0|    1.5|    2|  0|   2|     1|\n",
      "| 69|  0|  3|     140| 239|  0|      1|    151|    0|    1.8|    2|  2|   2|     1|\n",
      "+---+---+---+--------+----+---+-------+-------+-----+-------+-----+---+----+------+\n",
      "only showing top 20 rows\n",
      "\n"
     ]
    },
    {
     "data": {
      "text/plain": [
       "import org.apache.spark.sql.Row\n",
       "frame: org.apache.spark.sql.DataFrame = [age: int, sex: int ... 12 more fields]\n"
      ]
     },
     "execution_count": 26,
     "metadata": {},
     "output_type": "execute_result"
    }
   ],
   "source": [
    "import org.apache.spark.sql.Row\n",
    "\n",
    "val frame = spark\n",
    "      .read\n",
    "      .option(\"header\", \"true\")\n",
    "      .option(\"inferSchema\", \"true\")\n",
    "      .csv(\"../data/heart.csv\")\n",
    "\n",
    "frame.show()"
   ]
  },
  {
   "cell_type": "markdown",
   "metadata": {},
   "source": [
    "## Showing the schema"
   ]
  },
  {
   "cell_type": "code",
   "execution_count": 2,
   "metadata": {},
   "outputs": [
    {
     "name": "stdout",
     "output_type": "stream",
     "text": [
      "root\n",
      " |-- age: integer (nullable = true)\n",
      " |-- sex: integer (nullable = true)\n",
      " |-- cp: integer (nullable = true)\n",
      " |-- trestbps: integer (nullable = true)\n",
      " |-- chol: integer (nullable = true)\n",
      " |-- fbs: integer (nullable = true)\n",
      " |-- restecg: integer (nullable = true)\n",
      " |-- thalach: integer (nullable = true)\n",
      " |-- exang: integer (nullable = true)\n",
      " |-- oldpeak: double (nullable = true)\n",
      " |-- slope: integer (nullable = true)\n",
      " |-- ca: integer (nullable = true)\n",
      " |-- thal: integer (nullable = true)\n",
      " |-- target: integer (nullable = true)\n",
      "\n"
     ]
    }
   ],
   "source": [
    "frame.printSchema()"
   ]
  },
  {
   "cell_type": "markdown",
   "metadata": {},
   "source": [
    "## Isolate the features into a feature column\n",
    "\n",
    "* Data Scientists call features columns\n",
    "* We need a column with all the features for each model"
   ]
  },
  {
   "cell_type": "code",
   "execution_count": 3,
   "metadata": {},
   "outputs": [
    {
     "data": {
      "text/plain": [
       "import org.apache.spark.ml.feature.VectorAssembler\n",
       "assembler: org.apache.spark.ml.feature.VectorAssembler = vecAssembler_df0132477920\n"
      ]
     },
     "execution_count": 3,
     "metadata": {},
     "output_type": "execute_result"
    }
   ],
   "source": [
    "import org.apache.spark.ml.feature.VectorAssembler\n",
    "val assembler = new VectorAssembler()\n",
    "    .setInputCols(Array(\"age\"))\n",
    "    .setOutputCol(\"features\")"
   ]
  },
  {
   "cell_type": "markdown",
   "metadata": {},
   "source": [
    "## The `target` column of our supervised learning needs to be renamed into a `label` \n",
    "\n",
    "* The model requires that features are isolated into it's onw column\n",
    "* Notice the `features` is a list of elements we require to plugin\n",
    "* We are going to calculate the regression between `chol` and `age`, so age will be our label"
   ]
  },
  {
   "cell_type": "code",
   "execution_count": 4,
   "metadata": {},
   "outputs": [
    {
     "name": "stdout",
     "output_type": "stream",
     "text": [
      "+---+---+---+--------+-----+---+-------+-------+-----+-------+-----+---+----+------+--------+\n",
      "|age|sex| cp|trestbps|label|fbs|restecg|thalach|exang|oldpeak|slope| ca|thal|target|features|\n",
      "+---+---+---+--------+-----+---+-------+-------+-----+-------+-----+---+----+------+--------+\n",
      "| 63|  1|  3|     145|  233|  1|      0|    150|    0|    2.3|    0|  0|   1|     1|  [63.0]|\n",
      "| 37|  1|  2|     130|  250|  0|      1|    187|    0|    3.5|    0|  0|   2|     1|  [37.0]|\n",
      "| 41|  0|  1|     130|  204|  0|      0|    172|    0|    1.4|    2|  0|   2|     1|  [41.0]|\n",
      "| 56|  1|  1|     120|  236|  0|      1|    178|    0|    0.8|    2|  0|   2|     1|  [56.0]|\n",
      "| 57|  0|  0|     120|  354|  0|      1|    163|    1|    0.6|    2|  0|   2|     1|  [57.0]|\n",
      "| 57|  1|  0|     140|  192|  0|      1|    148|    0|    0.4|    1|  0|   1|     1|  [57.0]|\n",
      "| 56|  0|  1|     140|  294|  0|      0|    153|    0|    1.3|    1|  0|   2|     1|  [56.0]|\n",
      "| 44|  1|  1|     120|  263|  0|      1|    173|    0|    0.0|    2|  0|   3|     1|  [44.0]|\n",
      "| 52|  1|  2|     172|  199|  1|      1|    162|    0|    0.5|    2|  0|   3|     1|  [52.0]|\n",
      "| 57|  1|  2|     150|  168|  0|      1|    174|    0|    1.6|    2|  0|   2|     1|  [57.0]|\n",
      "| 54|  1|  0|     140|  239|  0|      1|    160|    0|    1.2|    2|  0|   2|     1|  [54.0]|\n",
      "| 48|  0|  2|     130|  275|  0|      1|    139|    0|    0.2|    2|  0|   2|     1|  [48.0]|\n",
      "| 49|  1|  1|     130|  266|  0|      1|    171|    0|    0.6|    2|  0|   2|     1|  [49.0]|\n",
      "| 64|  1|  3|     110|  211|  0|      0|    144|    1|    1.8|    1|  0|   2|     1|  [64.0]|\n",
      "| 58|  0|  3|     150|  283|  1|      0|    162|    0|    1.0|    2|  0|   2|     1|  [58.0]|\n",
      "| 50|  0|  2|     120|  219|  0|      1|    158|    0|    1.6|    1|  0|   2|     1|  [50.0]|\n",
      "| 58|  0|  2|     120|  340|  0|      1|    172|    0|    0.0|    2|  0|   2|     1|  [58.0]|\n",
      "| 66|  0|  3|     150|  226|  0|      1|    114|    0|    2.6|    0|  0|   2|     1|  [66.0]|\n",
      "| 43|  1|  0|     150|  247|  0|      1|    171|    0|    1.5|    2|  0|   2|     1|  [43.0]|\n",
      "| 69|  0|  3|     140|  239|  0|      1|    151|    0|    1.8|    2|  2|   2|     1|  [69.0]|\n",
      "+---+---+---+--------+-----+---+-------+-------+-----+-------+-----+---+----+------+--------+\n",
      "only showing top 20 rows\n",
      "\n"
     ]
    },
    {
     "data": {
      "text/plain": [
       "newFrame: org.apache.spark.sql.DataFrame = [age: int, sex: int ... 13 more fields]\n"
      ]
     },
     "execution_count": 4,
     "metadata": {},
     "output_type": "execute_result"
    }
   ],
   "source": [
    "val newFrame = assembler.transform(frame).withColumnRenamed(\"chol\", \"label\")\n",
    "newFrame.show()"
   ]
  },
  {
   "cell_type": "code",
   "execution_count": 5,
   "metadata": {},
   "outputs": [
    {
     "data": {
      "text/plain": [
       "focusedFrame: org.apache.spark.sql.DataFrame = [label: int, features: vector]\n"
      ]
     },
     "execution_count": 5,
     "metadata": {},
     "output_type": "execute_result"
    }
   ],
   "source": [
    "val focusedFrame = newFrame.select(\"label\", \"features\")"
   ]
  },
  {
   "cell_type": "markdown",
   "metadata": {},
   "source": [
    "## Split the data\n",
    "\n",
    "* We need to split the data training and testing\n",
    "* We are going to split 70% training - 30% testing\n",
    "* It will be essential that we put a random seed to randomly select the rows (observations)"
   ]
  },
  {
   "cell_type": "code",
   "execution_count": 6,
   "metadata": {},
   "outputs": [
    {
     "name": "stdout",
     "output_type": "stream",
     "text": [
      "+-----+--------+\n",
      "|label|features|\n",
      "+-----+--------+\n",
      "|  149|  [49.0]|\n",
      "|  149|  [71.0]|\n",
      "|  157|  [41.0]|\n",
      "|  160|  [45.0]|\n",
      "|  164|  [62.0]|\n",
      "|  166|  [61.0]|\n",
      "|  167|  [40.0]|\n",
      "|  168|  [57.0]|\n",
      "|  169|  [44.0]|\n",
      "|  172|  [41.0]|\n",
      "|  175|  [38.0]|\n",
      "|  175|  [38.0]|\n",
      "|  175|  [51.0]|\n",
      "|  176|  [59.0]|\n",
      "|  177|  [43.0]|\n",
      "|  177|  [46.0]|\n",
      "|  177|  [59.0]|\n",
      "|  177|  [65.0]|\n",
      "|  178|  [60.0]|\n",
      "|  180|  [42.0]|\n",
      "+-----+--------+\n",
      "only showing top 20 rows\n",
      "\n"
     ]
    },
    {
     "data": {
      "text/plain": [
       "import org.apache.spark.sql.Dataset\n",
       "splitData: Array[org.apache.spark.sql.Dataset[org.apache.spark.sql.Row]] = Array([label: int, features: vector], [label: int, features: vector])\n",
       "trainingData: org.apache.spark.sql.Dataset[org.apache.spark.sql.Row] = [label: int, features: vector]\n"
      ]
     },
     "execution_count": 6,
     "metadata": {},
     "output_type": "execute_result"
    }
   ],
   "source": [
    "import org.apache.spark.sql.Dataset\n",
    "val splitData: Array[Dataset[Row]] = focusedFrame.randomSplit(Array(0.7, 0.3), seed = 1234L)\n",
    "val trainingData = splitData(0)\n",
    "trainingData.show()"
   ]
  },
  {
   "cell_type": "code",
   "execution_count": 7,
   "metadata": {},
   "outputs": [
    {
     "name": "stdout",
     "output_type": "stream",
     "text": [
      "+-----+--------+\n",
      "|label|features|\n",
      "+-----+--------+\n",
      "|  126|  [57.0]|\n",
      "|  131|  [57.0]|\n",
      "|  141|  [44.0]|\n",
      "|  174|  [70.0]|\n",
      "|  184|  [56.0]|\n",
      "|  185|  [60.0]|\n",
      "|  188|  [54.0]|\n",
      "|  193|  [56.0]|\n",
      "|  196|  [52.0]|\n",
      "|  197|  [53.0]|\n",
      "|  197|  [76.0]|\n",
      "|  198|  [35.0]|\n",
      "|  199|  [39.0]|\n",
      "|  201|  [54.0]|\n",
      "|  204|  [59.0]|\n",
      "|  206|  [54.0]|\n",
      "|  211|  [43.0]|\n",
      "|  212|  [52.0]|\n",
      "|  212|  [59.0]|\n",
      "|  212|  [66.0]|\n",
      "+-----+--------+\n",
      "only showing top 20 rows\n",
      "\n"
     ]
    },
    {
     "data": {
      "text/plain": [
       "testingData: org.apache.spark.sql.Dataset[org.apache.spark.sql.Row] = [label: int, features: vector]\n"
      ]
     },
     "execution_count": 7,
     "metadata": {},
     "output_type": "execute_result"
    }
   ],
   "source": [
    "val testingData = splitData(1)\n",
    "testingData.show()"
   ]
  },
  {
   "cell_type": "markdown",
   "metadata": {},
   "source": [
    "## Linear Regression\n",
    "\n",
    "* Linear Regression is a model that draws a line through the data points\n",
    "* After training it provides a coefficient (line slope) and intercept e.g. $mx + b$\n",
    "* Here we will use some standard parameters (called hyperparameters by data scientists)\n",
    "* For a visual understanding of linear regression [enjoy this visualization](http://setosa.io/ev/ordinary-least-squares-regression/)"
   ]
  },
  {
   "cell_type": "code",
   "execution_count": 8,
   "metadata": {},
   "outputs": [
    {
     "data": {
      "text/plain": [
       "import org.apache.spark.ml.regression.LinearRegression\n",
       "lr: org.apache.spark.ml.regression.LinearRegression = linReg_d3bf2c407085\n"
      ]
     },
     "execution_count": 8,
     "metadata": {},
     "output_type": "execute_result"
    }
   ],
   "source": [
    "import org.apache.spark.ml.regression.LinearRegression\n",
    "val lr = new LinearRegression()\n",
    "      .setMaxIter(10)\n",
    "      .setRegParam(0.3)\n",
    "      .setElasticNetParam(0.8)"
   ]
  },
  {
   "cell_type": "markdown",
   "metadata": {},
   "source": [
    "## Training "
   ]
  },
  {
   "cell_type": "code",
   "execution_count": 9,
   "metadata": {},
   "outputs": [
    {
     "data": {
      "text/plain": [
       "lrModel: org.apache.spark.ml.regression.LinearRegressionModel = linReg_d3bf2c407085\n"
      ]
     },
     "execution_count": 9,
     "metadata": {},
     "output_type": "execute_result"
    }
   ],
   "source": [
    "val lrModel = lr.fit(trainingData)"
   ]
  },
  {
   "cell_type": "markdown",
   "metadata": {},
   "source": [
    "## Print the coefficient (slope) and intercept"
   ]
  },
  {
   "cell_type": "code",
   "execution_count": 10,
   "metadata": {},
   "outputs": [
    {
     "name": "stdout",
     "output_type": "stream",
     "text": [
      "Coefficients: [1.5602976407592346] Intercept: 163.61093163371797\n"
     ]
    }
   ],
   "source": [
    "println(s\"Coefficients: ${lrModel.coefficients} Intercept: ${lrModel.intercept}\")"
   ]
  },
  {
   "cell_type": "markdown",
   "metadata": {},
   "source": [
    "## Summarize the model over the training set and print out some metrics"
   ]
  },
  {
   "cell_type": "code",
   "execution_count": 11,
   "metadata": {},
   "outputs": [
    {
     "name": "stdout",
     "output_type": "stream",
     "text": [
      "Mean Squared Error: 2155.67\n",
      "Mean Absolute Error: 35.70\n"
     ]
    },
    {
     "data": {
      "text/plain": [
       "summary: org.apache.spark.ml.regression.LinearRegressionSummary = org.apache.spark.ml.regression.LinearRegressionSummary@5428536f\n"
      ]
     },
     "execution_count": 11,
     "metadata": {},
     "output_type": "execute_result"
    }
   ],
   "source": [
    "val summary = lrModel.evaluate(testingData)\n",
    "println(f\"Mean Squared Error: ${summary.meanSquaredError}%1.2f\")\n",
    "println(f\"Mean Absolute Error: ${summary.meanAbsoluteError}%1.2f\")"
   ]
  },
  {
   "cell_type": "markdown",
   "metadata": {},
   "source": [
    "## Decision Tree\n",
    "\n",
    "* Decision Trees will find the information required to split the data with a series of `if` statements internally\n",
    "* How it does so is with a recursive split and determining a purity score\n",
    "* Decision Trees take multiple feature (column) data\n"
   ]
  },
  {
   "cell_type": "markdown",
   "metadata": {},
   "source": [
    "### Use `VectorAssembler` to arrange all the features \n",
    "\n",
    "* A Decision Tree can use all features so we will include that\n",
    "* The column with all the features will be called `features`"
   ]
  },
  {
   "cell_type": "code",
   "execution_count": 12,
   "metadata": {},
   "outputs": [
    {
     "data": {
      "text/plain": [
       "import org.apache.spark.ml.feature.VectorAssembler\n",
       "assembler: org.apache.spark.ml.feature.VectorAssembler = vecAssembler_5d5b5aa3e820\n"
      ]
     },
     "execution_count": 12,
     "metadata": {},
     "output_type": "execute_result"
    }
   ],
   "source": [
    "import org.apache.spark.ml.feature.VectorAssembler\n",
    "\n",
    "val assembler = new VectorAssembler()\n",
    "      .setInputCols(Array(\"age\", \"sex\", \"cp\", \"trestbps\", \"chol\",\n",
    "        \"fbs\", \"restecg\", \"thalach\", \"exang\", \"oldpeak\", \"slope\", \"ca\", \"thal\"))\n",
    "      .setOutputCol(\"features\")"
   ]
  },
  {
   "cell_type": "markdown",
   "metadata": {},
   "source": [
    "### Perform the transformation\n",
    "\n",
    "* Notice the `features` column and the elements that it contains\n",
    "* We will plug in the data along with the `target` on whether or not they will have heart disease"
   ]
  },
  {
   "cell_type": "code",
   "execution_count": 13,
   "metadata": {},
   "outputs": [
    {
     "name": "stdout",
     "output_type": "stream",
     "text": [
      "+---+---+---+--------+----+---+-------+-------+-----+-------+-----+---+----+------+--------------------+\n",
      "|age|sex| cp|trestbps|chol|fbs|restecg|thalach|exang|oldpeak|slope| ca|thal|target|            features|\n",
      "+---+---+---+--------+----+---+-------+-------+-----+-------+-----+---+----+------+--------------------+\n",
      "| 63|  1|  3|     145| 233|  1|      0|    150|    0|    2.3|    0|  0|   1|     1|[63.0,1.0,3.0,145...|\n",
      "| 37|  1|  2|     130| 250|  0|      1|    187|    0|    3.5|    0|  0|   2|     1|[37.0,1.0,2.0,130...|\n",
      "| 41|  0|  1|     130| 204|  0|      0|    172|    0|    1.4|    2|  0|   2|     1|[41.0,0.0,1.0,130...|\n",
      "| 56|  1|  1|     120| 236|  0|      1|    178|    0|    0.8|    2|  0|   2|     1|[56.0,1.0,1.0,120...|\n",
      "| 57|  0|  0|     120| 354|  0|      1|    163|    1|    0.6|    2|  0|   2|     1|[57.0,0.0,0.0,120...|\n",
      "| 57|  1|  0|     140| 192|  0|      1|    148|    0|    0.4|    1|  0|   1|     1|[57.0,1.0,0.0,140...|\n",
      "| 56|  0|  1|     140| 294|  0|      0|    153|    0|    1.3|    1|  0|   2|     1|[56.0,0.0,1.0,140...|\n",
      "| 44|  1|  1|     120| 263|  0|      1|    173|    0|    0.0|    2|  0|   3|     1|[44.0,1.0,1.0,120...|\n",
      "| 52|  1|  2|     172| 199|  1|      1|    162|    0|    0.5|    2|  0|   3|     1|[52.0,1.0,2.0,172...|\n",
      "| 57|  1|  2|     150| 168|  0|      1|    174|    0|    1.6|    2|  0|   2|     1|[57.0,1.0,2.0,150...|\n",
      "| 54|  1|  0|     140| 239|  0|      1|    160|    0|    1.2|    2|  0|   2|     1|[54.0,1.0,0.0,140...|\n",
      "| 48|  0|  2|     130| 275|  0|      1|    139|    0|    0.2|    2|  0|   2|     1|[48.0,0.0,2.0,130...|\n",
      "| 49|  1|  1|     130| 266|  0|      1|    171|    0|    0.6|    2|  0|   2|     1|[49.0,1.0,1.0,130...|\n",
      "| 64|  1|  3|     110| 211|  0|      0|    144|    1|    1.8|    1|  0|   2|     1|[64.0,1.0,3.0,110...|\n",
      "| 58|  0|  3|     150| 283|  1|      0|    162|    0|    1.0|    2|  0|   2|     1|[58.0,0.0,3.0,150...|\n",
      "| 50|  0|  2|     120| 219|  0|      1|    158|    0|    1.6|    1|  0|   2|     1|[50.0,0.0,2.0,120...|\n",
      "| 58|  0|  2|     120| 340|  0|      1|    172|    0|    0.0|    2|  0|   2|     1|[58.0,0.0,2.0,120...|\n",
      "| 66|  0|  3|     150| 226|  0|      1|    114|    0|    2.6|    0|  0|   2|     1|[66.0,0.0,3.0,150...|\n",
      "| 43|  1|  0|     150| 247|  0|      1|    171|    0|    1.5|    2|  0|   2|     1|[43.0,1.0,0.0,150...|\n",
      "| 69|  0|  3|     140| 239|  0|      1|    151|    0|    1.8|    2|  2|   2|     1|[69.0,0.0,3.0,140...|\n",
      "+---+---+---+--------+----+---+-------+-------+-----+-------+-----+---+----+------+--------------------+\n",
      "only showing top 20 rows\n",
      "\n"
     ]
    },
    {
     "data": {
      "text/plain": [
       "transformed: org.apache.spark.sql.DataFrame = [age: int, sex: int ... 13 more fields]\n"
      ]
     },
     "execution_count": 13,
     "metadata": {},
     "output_type": "execute_result"
    }
   ],
   "source": [
    "val transformed = assembler.transform(frame)\n",
    "transformed.show()"
   ]
  },
  {
   "cell_type": "markdown",
   "metadata": {},
   "source": [
    "### Applying the Decision Tree Model\n",
    "\n",
    "* Plugging in the model, we will direct it to the `feature` column, and the `target`"
   ]
  },
  {
   "cell_type": "code",
   "execution_count": 14,
   "metadata": {},
   "outputs": [
    {
     "data": {
      "text/plain": [
       "import org.apache.spark.ml.classification.DecisionTreeClassifier\n",
       "decisionTreeClassifier: org.apache.spark.ml.classification.DecisionTreeClassifier = dtc_60c1e553e8e0\n"
      ]
     },
     "execution_count": 14,
     "metadata": {},
     "output_type": "execute_result"
    }
   ],
   "source": [
    "import org.apache.spark.ml.classification.DecisionTreeClassifier\n",
    "val decisionTreeClassifier = new DecisionTreeClassifier()\n",
    "      .setFeaturesCol(\"features\")\n",
    "      .setLabelCol(\"target\")"
   ]
  },
  {
   "cell_type": "markdown",
   "metadata": {},
   "source": [
    "### Splitting the data for training and testing"
   ]
  },
  {
   "cell_type": "code",
   "execution_count": 15,
   "metadata": {},
   "outputs": [
    {
     "data": {
      "text/plain": [
       "splitData: Array[org.apache.spark.sql.Dataset[org.apache.spark.sql.Row]] = Array([age: int, sex: int ... 13 more fields], [age: int, sex: int ... 13 more fields])\n",
       "trainingData: org.apache.spark.sql.Dataset[org.apache.spark.sql.Row] = [age: int, sex: int ... 13 more fields]\n",
       "testingData: org.apache.spark.sql.Dataset[org.apache.spark.sql.Row] = [age: int, sex: int ... 13 more fields]\n"
      ]
     },
     "execution_count": 15,
     "metadata": {},
     "output_type": "execute_result"
    }
   ],
   "source": [
    "val splitData = newFrame.randomSplit(Array(0.7, 0.3), seed = 1234L)\n",
    "val trainingData = splitData(0)\n",
    "val testingData = splitData(1)"
   ]
  },
  {
   "cell_type": "markdown",
   "metadata": {},
   "source": [
    "### Training the model"
   ]
  },
  {
   "cell_type": "code",
   "execution_count": 16,
   "metadata": {},
   "outputs": [
    {
     "data": {
      "text/plain": [
       "model: org.apache.spark.ml.classification.DecisionTreeClassificationModel = DecisionTreeClassificationModel (uid=dtc_60c1e553e8e0) of depth 4 with 15 nodes\n"
      ]
     },
     "execution_count": 16,
     "metadata": {},
     "output_type": "execute_result"
    }
   ],
   "source": [
    "val model = decisionTreeClassifier.fit(trainingData)"
   ]
  },
  {
   "cell_type": "markdown",
   "metadata": {},
   "source": [
    "### Calling `transform` to view the data"
   ]
  },
  {
   "cell_type": "code",
   "execution_count": 17,
   "metadata": {},
   "outputs": [
    {
     "name": "stdout",
     "output_type": "stream",
     "text": [
      "+---+---+---+--------+-----+---+-------+-------+-----+-------+-----+---+----+------+--------+-------------+--------------------+----------+\n",
      "|age|sex| cp|trestbps|label|fbs|restecg|thalach|exang|oldpeak|slope| ca|thal|target|features|rawPrediction|         probability|prediction|\n",
      "+---+---+---+--------+-----+---+-------+-------+-----+-------+-----+---+----+------+--------+-------------+--------------------+----------+\n",
      "| 29|  1|  1|     130|  204|  0|      0|    202|    0|    0.0|    2|  0|   2|     1|  [29.0]|  [13.0,36.0]|[0.26530612244897...|       1.0|\n",
      "| 34|  0|  1|     118|  210|  0|      1|    192|    0|    0.7|    2|  0|   2|     1|  [34.0]|  [13.0,36.0]|[0.26530612244897...|       1.0|\n",
      "| 34|  1|  3|     118|  182|  0|      0|    174|    0|    0.0|    2|  0|   2|     1|  [34.0]|  [13.0,36.0]|[0.26530612244897...|       1.0|\n",
      "| 39|  0|  2|     138|  220|  0|      1|    152|    0|    0.0|    1|  0|   2|     1|  [39.0]|  [13.0,36.0]|[0.26530612244897...|       1.0|\n",
      "| 41|  1|  1|     135|  203|  0|      1|    132|    0|    0.0|    1|  0|   1|     1|  [41.0]|  [13.0,36.0]|[0.26530612244897...|       1.0|\n",
      "| 41|  1|  2|     112|  250|  0|      1|    179|    0|    0.0|    2|  0|   2|     1|  [41.0]|  [13.0,36.0]|[0.26530612244897...|       1.0|\n",
      "| 42|  1|  0|     136|  315|  0|      1|    125|    1|    1.8|    1|  0|   1|     0|  [42.0]|  [13.0,36.0]|[0.26530612244897...|       1.0|\n",
      "| 42|  1|  2|     120|  240|  1|      1|    194|    0|    0.8|    0|  0|   3|     1|  [42.0]|  [13.0,36.0]|[0.26530612244897...|       1.0|\n",
      "| 43|  0|  2|     122|  213|  0|      1|    165|    0|    0.2|    1|  0|   2|     1|  [43.0]|  [13.0,36.0]|[0.26530612244897...|       1.0|\n",
      "| 43|  1|  0|     120|  177|  0|      0|    120|    1|    2.5|    1|  0|   3|     0|  [43.0]|  [13.0,36.0]|[0.26530612244897...|       1.0|\n",
      "+---+---+---+--------+-----+---+-------+-------+-----+-------+-----+---+----+------+--------+-------------+--------------------+----------+\n",
      "only showing top 10 rows\n",
      "\n"
     ]
    },
    {
     "data": {
      "text/plain": [
       "result: org.apache.spark.sql.DataFrame = [age: int, sex: int ... 16 more fields]\n"
      ]
     },
     "execution_count": 17,
     "metadata": {},
     "output_type": "execute_result"
    }
   ],
   "source": [
    "val result = model.transform(testingData)\n",
    "result.show(10)"
   ]
  },
  {
   "cell_type": "markdown",
   "metadata": {},
   "source": [
    "### Determining the score and our performance\n",
    "\n",
    "* We will procure the `org.apache.spark.ml.evaluation.BinaryClassificationEvaluator` for this decision tree\n",
    "* This is a binary response: Has heart disease, Does not have heart disease\n",
    "* The default score for the `BinaryClassificationEvaluator` is the AUC (Area Under the Curve) / ROC (Receiving Operating Characteristic) Score which determines the area of the false positive rate against the true positive rate.\n",
    "* The best AUC, is 1.0"
   ]
  },
  {
   "cell_type": "code",
   "execution_count": 18,
   "metadata": {},
   "outputs": [
    {
     "data": {
      "text/plain": [
       "import org.apache.spark.ml.evaluation.BinaryClassificationEvaluator\n",
       "evaluator: org.apache.spark.ml.evaluation.BinaryClassificationEvaluator = binEval_77f550ecaecd\n"
      ]
     },
     "execution_count": 18,
     "metadata": {},
     "output_type": "execute_result"
    }
   ],
   "source": [
    "import org.apache.spark.ml.evaluation.BinaryClassificationEvaluator\n",
    "\n",
    "val evaluator = new BinaryClassificationEvaluator()\n",
    "                    .setLabelCol(\"target\") \n",
    "                    .setRawPredictionCol(\"rawPrediction\") "
   ]
  },
  {
   "cell_type": "markdown",
   "metadata": {},
   "source": [
    "### Displaying the final score"
   ]
  },
  {
   "cell_type": "code",
   "execution_count": 19,
   "metadata": {},
   "outputs": [
    {
     "name": "stdout",
     "output_type": "stream",
     "text": [
      "AUC Score = 0.5243055555555556\n"
     ]
    },
    {
     "data": {
      "text/plain": [
       "aucScore: Double = 0.5243055555555556\n"
      ]
     },
     "execution_count": 19,
     "metadata": {},
     "output_type": "execute_result"
    }
   ],
   "source": [
    "val aucScore = evaluator.evaluate(result)\n",
    "println(s\"AUC Score = $aucScore\")"
   ]
  },
  {
   "cell_type": "markdown",
   "metadata": {},
   "source": [
    "## What does a random forest do?\n",
    "\n",
    "* Random Forest takes multiple trees and determines a score based on average or voting\n",
    "* This is the wisdom of the crowd\n",
    "* Each tree can either institute a (WR) with replacement, or (WOR) without replacement\n",
    "* With Replacement is like measuring fish and throwing the fish back in the water. You may get the same one again"
   ]
  },
  {
   "cell_type": "code",
   "execution_count": 20,
   "metadata": {},
   "outputs": [
    {
     "data": {
      "text/plain": [
       "import org.apache.spark.ml.classification.RandomForestClassifier\n",
       "rf: org.apache.spark.ml.classification.RandomForestClassifier = rfc_8156aff317f3\n"
      ]
     },
     "execution_count": 20,
     "metadata": {},
     "output_type": "execute_result"
    }
   ],
   "source": [
    "import org.apache.spark.ml.classification.RandomForestClassifier\n",
    "val rf = new RandomForestClassifier()\n",
    "      .setFeaturesCol(\"features\")\n",
    "      .setLabelCol(\"target\")\n",
    "      .setNumTrees(100)"
   ]
  },
  {
   "cell_type": "code",
   "execution_count": 21,
   "metadata": {},
   "outputs": [
    {
     "data": {
      "text/plain": [
       "model: org.apache.spark.ml.classification.RandomForestClassificationModel = RandomForestClassificationModel (uid=rfc_8156aff317f3) with 100 trees\n"
      ]
     },
     "execution_count": 21,
     "metadata": {},
     "output_type": "execute_result"
    }
   ],
   "source": [
    "val model = rf.fit(trainingData)"
   ]
  },
  {
   "cell_type": "code",
   "execution_count": 22,
   "metadata": {},
   "outputs": [
    {
     "name": "stdout",
     "output_type": "stream",
     "text": [
      "+---+---+---+--------+-----+---+-------+-------+-----+-------+-----+---+----+------+--------+--------------------+--------------------+----------+\n",
      "|age|sex| cp|trestbps|label|fbs|restecg|thalach|exang|oldpeak|slope| ca|thal|target|features|       rawPrediction|         probability|prediction|\n",
      "+---+---+---+--------+-----+---+-------+-------+-----+-------+-----+---+----+------+--------+--------------------+--------------------+----------+\n",
      "| 29|  1|  1|     130|  204|  0|      0|    202|    0|    0.0|    2|  0|   2|     1|  [29.0]|[33.7344011536839...|[0.33734401153683...|       1.0|\n",
      "| 34|  0|  1|     118|  210|  0|      1|    192|    0|    0.7|    2|  0|   2|     1|  [34.0]|[33.7344011536839...|[0.33734401153683...|       1.0|\n",
      "| 34|  1|  3|     118|  182|  0|      0|    174|    0|    0.0|    2|  0|   2|     1|  [34.0]|[33.7344011536839...|[0.33734401153683...|       1.0|\n",
      "| 39|  0|  2|     138|  220|  0|      1|    152|    0|    0.0|    1|  0|   2|     1|  [39.0]|[41.6632611947362...|[0.41663261194736...|       1.0|\n",
      "| 41|  1|  1|     135|  203|  0|      1|    132|    0|    0.0|    1|  0|   1|     1|  [41.0]|[18.1589430852963...|[0.18158943085296...|       1.0|\n",
      "| 41|  1|  2|     112|  250|  0|      1|    179|    0|    0.0|    2|  0|   2|     1|  [41.0]|[18.1589430852963...|[0.18158943085296...|       1.0|\n",
      "| 42|  1|  0|     136|  315|  0|      1|    125|    1|    1.8|    1|  0|   1|     0|  [42.0]|[15.6839430852963...|[0.15683943085296...|       1.0|\n",
      "| 42|  1|  2|     120|  240|  1|      1|    194|    0|    0.8|    0|  0|   3|     1|  [42.0]|[15.6839430852963...|[0.15683943085296...|       1.0|\n",
      "| 43|  0|  2|     122|  213|  0|      1|    165|    0|    0.2|    1|  0|   2|     1|  [43.0]|[36.6461551756008...|[0.36646155175600...|       1.0|\n",
      "| 43|  1|  0|     120|  177|  0|      0|    120|    1|    2.5|    1|  0|   3|     0|  [43.0]|[36.6461551756008...|[0.36646155175600...|       1.0|\n",
      "+---+---+---+--------+-----+---+-------+-------+-----+-------+-----+---+----+------+--------+--------------------+--------------------+----------+\n",
      "only showing top 10 rows\n",
      "\n"
     ]
    },
    {
     "data": {
      "text/plain": [
       "result: org.apache.spark.sql.DataFrame = [age: int, sex: int ... 16 more fields]\n"
      ]
     },
     "execution_count": 22,
     "metadata": {},
     "output_type": "execute_result"
    }
   ],
   "source": [
    "val result = model.transform(testingData)\n",
    "result.show(10)"
   ]
  },
  {
   "cell_type": "code",
   "execution_count": 23,
   "metadata": {},
   "outputs": [
    {
     "data": {
      "text/plain": [
       "import org.apache.spark.ml.evaluation.BinaryClassificationEvaluator\n",
       "evaluator: org.apache.spark.ml.evaluation.BinaryClassificationEvaluator = binEval_cc223e13d819\n"
      ]
     },
     "execution_count": 23,
     "metadata": {},
     "output_type": "execute_result"
    }
   ],
   "source": [
    "import org.apache.spark.ml.evaluation.BinaryClassificationEvaluator\n",
    "\n",
    "val evaluator = new BinaryClassificationEvaluator()\n",
    "                    .setLabelCol(\"target\") \n",
    "                    .setRawPredictionCol(\"rawPrediction\") "
   ]
  },
  {
   "cell_type": "code",
   "execution_count": 24,
   "metadata": {},
   "outputs": [
    {
     "name": "stdout",
     "output_type": "stream",
     "text": [
      "AUC Score = 0.5779671717171717\n"
     ]
    },
    {
     "data": {
      "text/plain": [
       "aucScore: Double = 0.5779671717171717\n"
      ]
     },
     "execution_count": 24,
     "metadata": {},
     "output_type": "execute_result"
    }
   ],
   "source": [
    "val aucScore = evaluator.evaluate(result)\n",
    "println(s\"AUC Score = $aucScore\")"
   ]
  },
  {
   "cell_type": "markdown",
   "metadata": {},
   "source": [
    "## Lab: Machine Learning with the Titanic Dataset\n",
    "\n",
    "**Step 1** Read in two datasources from the `../data` folder, one is meant for training the other for testing, you do not need to split or clean the data. \n",
    "\n",
    "  * titanic_train_clean.csv\n",
    "  * titanic_test_clean.csv \n",
    "\n",
    "**Step 2:** Do the necessary preparation\n",
    "\n",
    "**Step 3:** Prepare the dataset to be used with a `VectorAssembler`\n",
    "\n",
    "**Step 4:** Create a `DecisionTreeClassifier`\n",
    "\n",
    "**Step 5:** `fit` the training data, and use `trasnform` with the testing data\n",
    "\n",
    "**Step 6:** Determine how well it did with a `BinaryClassificationEvaluator`\n",
    "\n",
    "**Step 7:** If time remaining, try using a `RandomForestClassifier`\n",
    "\n",
    "**Step 8:** `fit` the training data, and use `transform` with the testing data\n",
    "\n",
    "**Step 9:** Determine how well it did with a `BinaryClassificationEvaluator`"
   ]
  },
  {
   "cell_type": "code",
   "execution_count": null,
   "metadata": {},
   "outputs": [],
   "source": []
  },
  {
   "cell_type": "code",
   "execution_count": null,
   "metadata": {},
   "outputs": [],
   "source": []
  },
  {
   "cell_type": "code",
   "execution_count": null,
   "metadata": {},
   "outputs": [],
   "source": []
  },
  {
   "cell_type": "code",
   "execution_count": null,
   "metadata": {},
   "outputs": [],
   "source": []
  },
  {
   "cell_type": "code",
   "execution_count": null,
   "metadata": {},
   "outputs": [],
   "source": []
  },
  {
   "cell_type": "code",
   "execution_count": null,
   "metadata": {},
   "outputs": [],
   "source": []
  },
  {
   "cell_type": "code",
   "execution_count": null,
   "metadata": {},
   "outputs": [],
   "source": []
  },
  {
   "cell_type": "code",
   "execution_count": null,
   "metadata": {},
   "outputs": [],
   "source": []
  },
  {
   "cell_type": "code",
   "execution_count": null,
   "metadata": {},
   "outputs": [],
   "source": []
  },
  {
   "cell_type": "code",
   "execution_count": null,
   "metadata": {},
   "outputs": [],
   "source": []
  },
  {
   "cell_type": "code",
   "execution_count": null,
   "metadata": {},
   "outputs": [],
   "source": []
  }
 ],
 "metadata": {
  "kernelspec": {
   "display_name": "spylon-kernel",
   "language": "scala",
   "name": "spylon-kernel"
  },
  "language_info": {
   "codemirror_mode": "text/x-scala",
   "file_extension": ".scala",
   "help_links": [
    {
     "text": "MetaKernel Magics",
     "url": "https://metakernel.readthedocs.io/en/latest/source/README.html"
    }
   ],
   "mimetype": "text/x-scala",
   "name": "scala",
   "pygments_lexer": "scala",
   "version": "0.4.1"
  }
 },
 "nbformat": 4,
 "nbformat_minor": 2
}

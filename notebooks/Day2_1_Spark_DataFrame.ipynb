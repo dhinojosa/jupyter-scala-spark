{
 "cells": [
  {
   "cell_type": "markdown",
   "metadata": {},
   "source": [
    "# Spark Basics\n",
    "Authors: Daniel Hinojosa"
   ]
  },
  {
   "cell_type": "markdown",
   "metadata": {},
   "source": [
    "## Spark Architecture\n",
    "\n",
    "![Spark Architecture](../images/spark_architecture.png)"
   ]
  },
  {
   "cell_type": "markdown",
   "metadata": {},
   "source": [
    "## Reason for Spark’s Existence\n",
    "* CPU went from single to multi-core\n",
    "* Hard Drive storage became cheap over time\n",
    "* This allows for processing of data without expense"
   ]
  },
  {
   "cell_type": "markdown",
   "metadata": {},
   "source": [
    "## Spark Architecture\n",
    "* The reason for existence is that one computer is too slow for processing data\n",
    "* A cluster can provide faster processing in parallel.\n",
    "* Spark is separated by:\n",
    "  * A _driver_ process\n",
    "  * An _executor_ process"
   ]
  },
  {
   "cell_type": "markdown",
   "metadata": {},
   "source": [
    "## The Driver\n",
    "* The driver system for your application\n",
    "* Maintains information about the application\n",
    "* Responds to external programs\n",
    "* Analyzes work across executors\n",
    "* Distributes work across executors\n",
    "* Schedules work across executors"
   ]
  },
  {
   "cell_type": "markdown",
   "metadata": {},
   "source": [
    "## The Executor\n",
    "\n",
    "* Executes code assigned to it by the driver\n",
    "* Reports the state of the computation back to the driver"
   ]
  },
  {
   "cell_type": "markdown",
   "metadata": {},
   "source": [
    "## Spark Extras\n",
    "\n",
    "* **_MLlib_** - Machine Learning with Spark\n",
    "* **_GraphX_** - for Graph Processing\n",
    "* **_SparkR_** - for working with Clusters using R"
   ]
  },
  {
   "cell_type": "markdown",
   "metadata": {},
   "source": [
    "## Cluster Manager\n",
    "\n",
    "* Since Spark is a system where it separates work and distributes them it requires multiple machines\n",
    "* Thus, it requires a cluster manager to manage the remote nodes, known as cluster mode\n",
    "* Controls the Physical Machines\n",
    "* Allocates resources to Spark applications\n",
    "* Cluster Managers can either be:\n",
    "  * Sparks in-house cluster manager\n",
    "  * YARN\n",
    "  * Mesos"
   ]
  },
  {
   "cell_type": "markdown",
   "metadata": {},
   "source": [
    "## Local Mode\n",
    "\n",
    "* Instead of remote machines this will run on your internal box\n",
    "* Easy for testing, in house demonstrations"
   ]
  },
  {
   "cell_type": "markdown",
   "metadata": {},
   "source": [
    "## Languages Supported\n",
    "\n",
    "* Scala (Spark’s default language)\n",
    "* Python (Does nearly everything that Scala does)\n",
    "* Java (Louder than Scala)\n",
    "* SQL (Spark SQL is compliant SQL to interact with querying data)\n",
    "* R/Spark (The classic Big Data language)\n",
    "\n",
    "For this class/workshop we will be using Scala since it is \n",
    "  less verbose and has other features that Java does not have. It is also\n",
    "  Spark's default language"
   ]
  },
  {
   "cell_type": "markdown",
   "metadata": {},
   "source": [
    "## Spark Intro\n",
    "* Big data processing framework\n",
    "* Variety of packages built upon Spark engine\n",
    "* Contains two APIs\n",
    "  * _Unstructured API_\n",
    "    * Lower Level\n",
    "    * `RDD`\n",
    "    * Accumulators\n",
    "    * Broadcast Variables\n",
    "  * _Structured API_\n",
    "    * Higher Level\n",
    "    * Optimized\n",
    "    * `DataFrame`\n",
    "    * `Dataset`\n",
    "    * `Spark SQL`"
   ]
  },
  {
   "cell_type": "markdown",
   "metadata": {},
   "source": [
    "## You want to use `DataFrame`, `DataSet`, `SparkSQL` over `RDD`\n",
    "\n",
    "Source: High Performance Spark\n",
    "by Holden Karau; Rachel Warren\n",
    "Published by O'Reilly Media, Inc., 2017\n",
    "\n",
    "![execution_time.png](../images/execution_time.png)"
   ]
  },
  {
   "cell_type": "markdown",
   "metadata": {},
   "source": [
    "## `DataFrame`\n",
    "\n",
    "* Are the most efficient due to catalyst optimizer\n",
    "* Are available in all languages\n",
    "* A table with data rows and columns\n",
    "* Analogous to a spreadsheet or table\n",
    "* Distributed and spans over multiple machines!\n",
    "* Easiest to use, particularly for non-functional programmers"
   ]
  },
  {
   "cell_type": "code",
   "execution_count": null,
   "metadata": {},
   "outputs": [],
   "source": [
    "val dataFrame = spark.range(1, 100)\n",
    "                .toDF(\"mappedRange\")"
   ]
  },
  {
   "cell_type": "markdown",
   "metadata": {},
   "source": [
    "## `show()`\n",
    "\n",
    "* Shows the data\n",
    "* Default of 20 elements\n",
    "* Can be changed"
   ]
  },
  {
   "cell_type": "code",
   "execution_count": 3,
   "metadata": {},
   "outputs": [
    {
     "name": "stdout",
     "output_type": "stream",
     "text": [
      "+-----------+\n",
      "|mappedRange|\n",
      "+-----------+\n",
      "|          1|\n",
      "|          2|\n",
      "|          3|\n",
      "|          4|\n",
      "|          5|\n",
      "|          6|\n",
      "|          7|\n",
      "|          8|\n",
      "|          9|\n",
      "|         10|\n",
      "|         11|\n",
      "|         12|\n",
      "|         13|\n",
      "|         14|\n",
      "|         15|\n",
      "|         16|\n",
      "|         17|\n",
      "|         18|\n",
      "|         19|\n",
      "|         20|\n",
      "|         21|\n",
      "|         22|\n",
      "|         23|\n",
      "|         24|\n",
      "|         25|\n",
      "|         26|\n",
      "|         27|\n",
      "|         28|\n",
      "|         29|\n",
      "|         30|\n",
      "|         31|\n",
      "|         32|\n",
      "|         33|\n",
      "|         34|\n",
      "|         35|\n",
      "|         36|\n",
      "|         37|\n",
      "|         38|\n",
      "|         39|\n",
      "|         40|\n",
      "+-----------+\n",
      "only showing top 40 rows\n",
      "\n"
     ]
    }
   ],
   "source": [
    "dataFrame.show(40)"
   ]
  },
  {
   "cell_type": "markdown",
   "metadata": {},
   "source": [
    "This is a download from Kaggle.com called the delay flights dataset located at https://www.kaggle.com/giovamata/airlinedelaycauses/downloads/airlinedelaycauses.zip/2"
   ]
  },
  {
   "cell_type": "markdown",
   "metadata": {},
   "source": [
    "## `spark.read`\n",
    "* Reads data from a filesystem\n",
    "* Should specify a file type\n",
    "* Preferably from a distributed file system like hdfs\n",
    "* Uses `load` to load the information from the location, for example\n",
    "  * Use `\"hdfs://\"` to load from hdfs\n",
    "  * Use `\"s3a://\"` to load from s3 on AWS\n",
    "* Here we will use a local file system\n",
    "* **Question** what is wrong with the results? Hint: You may want to view the [data file](../data/books.csv)"
   ]
  },
  {
   "cell_type": "code",
   "execution_count": 2,
   "metadata": {},
   "outputs": [
    {
     "name": "stdout",
     "output_type": "stream",
     "text": [
      "+------+--------------------+--------------------+--------------+----------+-------------+-------------+-----------+-------------+------------------+\n",
      "|   _c0|                 _c1|                 _c2|           _c3|       _c4|          _c5|          _c6|        _c7|          _c8|               _c9|\n",
      "+------+--------------------+--------------------+--------------+----------+-------------+-------------+-----------+-------------+------------------+\n",
      "|bookID|               title|             authors|average_rating|      isbn|       isbn13|language_code|# num_pages|ratings_count|text_reviews_count|\n",
      "|     1|Harry Potter and ...|J.K. Rowling-Mary...|          4.56|0439785960|9780439785969|          eng|        652|      1944099|             26249|\n",
      "|     2|Harry Potter and ...|J.K. Rowling-Mary...|          4.49|0439358078|9780439358071|          eng|        870|      1996446|             27613|\n",
      "|     3|Harry Potter and ...|J.K. Rowling-Mary...|          4.47|0439554934|9780439554930|          eng|        320|      5629932|             70390|\n",
      "|     4|Harry Potter and ...|        J.K. Rowling|          4.41|0439554896|9780439554893|          eng|        352|         6267|               272|\n",
      "|     5|Harry Potter and ...|J.K. Rowling-Mary...|          4.55|043965548X|9780439655484|          eng|        435|      2149872|             33964|\n",
      "|     8|Harry Potter Boxe...|J.K. Rowling-Mary...|          4.78|0439682584|9780439682589|          eng|       2690|        38872|               154|\n",
      "|     9|Unauthorized Harr...|W. Frederick Zimm...|          3.69|0976540606|9780976540601|        en-US|        152|           18|                 1|\n",
      "|    10|Harry Potter Coll...|        J.K. Rowling|          4.73|0439827604|9780439827607|          eng|       3342|        27410|               820|\n",
      "|    12|The Ultimate Hitc...|       Douglas Adams|          4.38|0517226952|9780517226957|          eng|        815|         3602|               258|\n",
      "|    13|The Ultimate Hitc...|       Douglas Adams|          4.38|0345453743|9780345453747|          eng|        815|       240189|              3954|\n",
      "|    14|The Hitchhiker's ...|       Douglas Adams|          4.22|1400052920|9781400052929|          eng|        215|         4416|               408|\n",
      "|    16|The Hitchhiker's ...|Douglas Adams-Ste...|          4.22|0739322206|9780739322208|          eng|          6|         1222|               253|\n",
      "|    18|The Ultimate Hitc...|       Douglas Adams|          4.38|0517149257|9780517149256|        en-US|        815|         2801|               192|\n",
      "|    21|A Short History o...|Bill Bryson-Willi...|          4.20|076790818X|9780767908184|          eng|        544|       228522|              8840|\n",
      "|    22|Bill Bryson's Afr...|         Bill Bryson|          3.43|0767915062|9780767915069|          eng|         55|         6993|               470|\n",
      "|    23|Bryson's Dictiona...|         Bill Bryson|          3.88|0767910435|9780767910439|          eng|        256|         2020|               124|\n",
      "|    24|In a Sunburned Co...|         Bill Bryson|          4.07|0767903862|9780767903868|          eng|        335|        68213|              4077|\n",
      "|    25|I'm a Stranger He...|         Bill Bryson|          3.90|076790382X|9780767903820|          eng|        304|        47490|              2153|\n",
      "|    26|The Lost Continen...|         Bill Bryson|          3.83|0060920084|9780060920081|        en-US|        299|        43779|              2146|\n",
      "+------+--------------------+--------------------+--------------+----------+-------------+-------------+-----------+-------------+------------------+\n",
      "only showing top 20 rows\n",
      "\n"
     ]
    },
    {
     "data": {
      "text/plain": [
       "booksDF: org.apache.spark.sql.DataFrame = [_c0: string, _c1: string ... 8 more fields]\n"
      ]
     },
     "execution_count": 2,
     "metadata": {},
     "output_type": "execute_result"
    }
   ],
   "source": [
    "val booksDF = spark.read\n",
    "                   .format(\"csv\")\n",
    "                   .load(\"../data/books.csv\")\n",
    "booksDF.show()"
   ]
  },
  {
   "cell_type": "markdown",
   "metadata": {},
   "source": [
    "## There is something else wrong\n",
    "\n",
    "* Notice the schema from the above, by calling `printSchema()`\n",
    "* This shows the schema of the `DataFrame`\n",
    "* **Question** What do you think is wrong with the schema that is determined"
   ]
  },
  {
   "cell_type": "code",
   "execution_count": 3,
   "metadata": {},
   "outputs": [
    {
     "name": "stdout",
     "output_type": "stream",
     "text": [
      "root\n",
      " |-- _c0: string (nullable = true)\n",
      " |-- _c1: string (nullable = true)\n",
      " |-- _c2: string (nullable = true)\n",
      " |-- _c3: string (nullable = true)\n",
      " |-- _c4: string (nullable = true)\n",
      " |-- _c5: string (nullable = true)\n",
      " |-- _c6: string (nullable = true)\n",
      " |-- _c7: string (nullable = true)\n",
      " |-- _c8: string (nullable = true)\n",
      " |-- _c9: string (nullable = true)\n",
      "\n"
     ]
    }
   ],
   "source": [
    "booksDF.printSchema()"
   ]
  },
  {
   "cell_type": "markdown",
   "metadata": {},
   "source": [
    "## Infering the schema and bringing in the header\n",
    "\n",
    "* Setting the option `inferSchama` we can set the schama based on the data \n",
    "* Setting the option `header` we can set the first row to be the header"
   ]
  },
  {
   "cell_type": "code",
   "execution_count": 4,
   "metadata": {},
   "outputs": [
    {
     "data": {
      "text/plain": [
       "booksDF: org.apache.spark.sql.DataFrame = [bookID: int, title: string ... 8 more fields]\n"
      ]
     },
     "execution_count": 4,
     "metadata": {},
     "output_type": "execute_result"
    }
   ],
   "source": [
    "val booksDF = spark.read.format(\"csv\")\n",
    "                     .option(\"inferSchema\", \"true\")\n",
    "                     .option(\"header\", \"true\")\n",
    "                     .load(\"../data/books.csv\")"
   ]
  },
  {
   "cell_type": "code",
   "execution_count": 5,
   "metadata": {
    "scrolled": true
   },
   "outputs": [
    {
     "name": "stdout",
     "output_type": "stream",
     "text": [
      "+------+--------------------+--------------------+--------------+----------+-------------+-------------+-----------+-------------+------------------+\n",
      "|bookID|               title|             authors|average_rating|      isbn|       isbn13|language_code|# num_pages|ratings_count|text_reviews_count|\n",
      "+------+--------------------+--------------------+--------------+----------+-------------+-------------+-----------+-------------+------------------+\n",
      "|     1|Harry Potter and ...|J.K. Rowling-Mary...|          4.56|0439785960|9780439785969|          eng|        652|      1944099|             26249|\n",
      "|     2|Harry Potter and ...|J.K. Rowling-Mary...|          4.49|0439358078|9780439358071|          eng|        870|      1996446|             27613|\n",
      "|     3|Harry Potter and ...|J.K. Rowling-Mary...|          4.47|0439554934|9780439554930|          eng|        320|      5629932|             70390|\n",
      "|     4|Harry Potter and ...|        J.K. Rowling|          4.41|0439554896|9780439554893|          eng|        352|         6267|               272|\n",
      "|     5|Harry Potter and ...|J.K. Rowling-Mary...|          4.55|043965548X|9780439655484|          eng|        435|      2149872|             33964|\n",
      "+------+--------------------+--------------------+--------------+----------+-------------+-------------+-----------+-------------+------------------+\n",
      "only showing top 5 rows\n",
      "\n"
     ]
    }
   ],
   "source": [
    "booksDF.show(5)"
   ]
  },
  {
   "cell_type": "markdown",
   "metadata": {},
   "source": [
    "## Show all the columns"
   ]
  },
  {
   "cell_type": "code",
   "execution_count": 6,
   "metadata": {},
   "outputs": [
    {
     "data": {
      "text/plain": [
       "res4: Array[String] = Array(bookID, title, authors, average_rating, isbn, isbn13, language_code, # num_pages, ratings_count, text_reviews_count)\n"
      ]
     },
     "execution_count": 6,
     "metadata": {},
     "output_type": "execute_result"
    }
   ],
   "source": [
    "booksDF.columns"
   ]
  },
  {
   "cell_type": "markdown",
   "metadata": {},
   "source": [
    "## Select a subset of the columns"
   ]
  },
  {
   "cell_type": "code",
   "execution_count": 7,
   "metadata": {},
   "outputs": [
    {
     "name": "stdout",
     "output_type": "stream",
     "text": [
      "+--------------------+----------+-----------+\n",
      "|               title|      isbn|# num_pages|\n",
      "+--------------------+----------+-----------+\n",
      "|Harry Potter and ...|0439785960|        652|\n",
      "|Harry Potter and ...|0439358078|        870|\n",
      "|Harry Potter and ...|0439554934|        320|\n",
      "|Harry Potter and ...|0439554896|        352|\n",
      "|Harry Potter and ...|043965548X|        435|\n",
      "|Harry Potter Boxe...|0439682584|       2690|\n",
      "|Unauthorized Harr...|0976540606|        152|\n",
      "|Harry Potter Coll...|0439827604|       3342|\n",
      "|The Ultimate Hitc...|0517226952|        815|\n",
      "|The Ultimate Hitc...|0345453743|        815|\n",
      "|The Hitchhiker's ...|1400052920|        215|\n",
      "|The Hitchhiker's ...|0739322206|          6|\n",
      "|The Ultimate Hitc...|0517149257|        815|\n",
      "|A Short History o...|076790818X|        544|\n",
      "|Bill Bryson's Afr...|0767915062|         55|\n",
      "|Bryson's Dictiona...|0767910435|        256|\n",
      "|In a Sunburned Co...|0767903862|        335|\n",
      "|I'm a Stranger He...|076790382X|        304|\n",
      "|The Lost Continen...|0060920084|        299|\n",
      "|Neither Here nor ...|0380713802|        254|\n",
      "+--------------------+----------+-----------+\n",
      "only showing top 20 rows\n",
      "\n"
     ]
    },
    {
     "data": {
      "text/plain": [
       "smallerSelectionDF: org.apache.spark.sql.DataFrame = [title: string, isbn: string ... 1 more field]\n"
      ]
     },
     "execution_count": 7,
     "metadata": {},
     "output_type": "execute_result"
    }
   ],
   "source": [
    "val smallerSelectionDF = booksDF.select(\"title\", \"isbn\", \"# num_pages\")\n",
    "smallerSelectionDF.show()"
   ]
  },
  {
   "cell_type": "markdown",
   "metadata": {},
   "source": [
    "## `show` looks cramped for space?\n",
    "\n",
    "* With `show` there are some other signatures that are worth while of investigating\n",
    "* The signature from the (API)[https://spark.apache.org/docs/latest/api/scala/index.html#org.apache.spark.sql.Dataset] shows some of the following signatures\n",
    "   * `show(numRows: Int, truncate: Int, vertical: Boolean):Unit`\n",
    "   * `show(numRows: Int, truncate: Int): Unit`\n",
    "   * `show(numRows: Int, truncate: Boolean): Unit`\n",
    "   * `show(truncate: Boolean): Unit`\n",
    "   * `show(): Unit`\n",
    "   * `show(numRows: Int)`\n",
    "* `numRows` are the number of rows you wish to show\n",
    "* `truncate` as a `Boolean`. If set `True` then it will truncate, `False` will show full text\n",
    "* `truncate` as an `Int`. If set to more than `0`, truncates strings to truncate characters and all cells will be aligned right.\n",
    "* `vertical = true` will show the records as a list for better viewing, let's try each in turn using `smallerSelectionDF`"
   ]
  },
  {
   "cell_type": "code",
   "execution_count": 8,
   "metadata": {},
   "outputs": [
    {
     "name": "stdout",
     "output_type": "stream",
     "text": [
      "+------------------------------------------------------------------------------------------------------------+----------+-----------+\n",
      "|title                                                                                                       |isbn      |# num_pages|\n",
      "+------------------------------------------------------------------------------------------------------------+----------+-----------+\n",
      "|Harry Potter and the Half-Blood Prince (Harry Potter  #6)                                                   |0439785960|652        |\n",
      "|Harry Potter and the Order of the Phoenix (Harry Potter  #5)                                                |0439358078|870        |\n",
      "|Harry Potter and the Sorcerer's Stone (Harry Potter  #1)                                                    |0439554934|320        |\n",
      "|Harry Potter and the Chamber of Secrets (Harry Potter  #2)                                                  |0439554896|352        |\n",
      "|Harry Potter and the Prisoner of Azkaban (Harry Potter  #3)                                                 |043965548X|435        |\n",
      "|Harry Potter Boxed Set  Books 1-5 (Harry Potter  #1-5)                                                      |0439682584|2690       |\n",
      "|Unauthorized Harry Potter Book Seven News: \"Half-Blood Prince\" Analysis and Speculation                     |0976540606|152        |\n",
      "|Harry Potter Collection (Harry Potter  #1-6)                                                                |0439827604|3342       |\n",
      "|The Ultimate Hitchhiker's Guide: Five Complete Novels and One Story (Hitchhiker's Guide to the Galaxy  #1-5)|0517226952|815        |\n",
      "|The Ultimate Hitchhiker's Guide to the Galaxy                                                               |0345453743|815        |\n",
      "|The Hitchhiker's Guide to the Galaxy (Hitchhiker's Guide to the Galaxy  #1)                                 |1400052920|215        |\n",
      "|The Hitchhiker's Guide to the Galaxy (Hitchhiker's Guide to the Galaxy  #1)                                 |0739322206|6          |\n",
      "|The Ultimate Hitchhiker's Guide (Hitchhiker's Guide to the Galaxy #1-5)                                     |0517149257|815        |\n",
      "|A Short History of Nearly Everything                                                                        |076790818X|544        |\n",
      "|Bill Bryson's African Diary                                                                                 |0767915062|55         |\n",
      "|Bryson's Dictionary of Troublesome Words: A Writer's Guide to Getting It Right                              |0767910435|256        |\n",
      "|In a Sunburned Country                                                                                      |0767903862|335        |\n",
      "|I'm a Stranger Here Myself: Notes on Returning to America After Twenty Years Away                           |076790382X|304        |\n",
      "|The Lost Continent: Travels in Small Town America                                                           |0060920084|299        |\n",
      "|Neither Here nor There: Travels in Europe                                                                   |0380713802|254        |\n",
      "|Notes from a Small Island                                                                                   |0380727501|324        |\n",
      "|The Mother Tongue: English and How It Got That Way                                                          |0380715430|270        |\n",
      "|J.R.R. Tolkien 4-Book Boxed Set: The Hobbit and The Lord of the Rings                                       |0345538374|1728       |\n",
      "|The Lord of the Rings (The Lord of the Rings  #1-3)                                                         |0618517650|1184       |\n",
      "|The Lord of the Rings (The Lord of the Rings  #1-3)                                                         |0618346244|1137       |\n",
      "|The Fellowship of the Ring (The Lord of the Rings  #1)                                                      |0618346252|398        |\n",
      "|The Lord of the Rings (The Lord of the Rings  #1-3)                                                         |0618260587|1216       |\n",
      "|The Lord of the Rings: Weapons and Warfare                                                                  |0618391002|218        |\n",
      "|The Lord of the Rings: Complete Visual Companion                                                            |0618510826|224        |\n",
      "|The Lord of the Rings Box Set                                                                               |0618153977|1223       |\n",
      "+------------------------------------------------------------------------------------------------------------+----------+-----------+\n",
      "only showing top 30 rows\n",
      "\n"
     ]
    }
   ],
   "source": [
    "smallerSelectionDF.show(numRows=30, truncate=false)"
   ]
  },
  {
   "cell_type": "code",
   "execution_count": 1,
   "metadata": {},
   "outputs": [
    {
     "data": {
      "text/plain": [
       "Intitializing Scala interpreter ..."
      ]
     },
     "metadata": {},
     "output_type": "display_data"
    },
    {
     "data": {
      "text/plain": [
       "Spark Web UI available at http://be29754929e6:4040\n",
       "SparkContext available as 'sc' (version = 2.4.3, master = local[*], app id = local-1563542433311)\n",
       "SparkSession available as 'spark'\n"
      ]
     },
     "metadata": {},
     "output_type": "display_data"
    },
    {
     "ename": "<console>",
     "evalue": "26: error: not found: value smallerSelectionDF",
     "output_type": "error",
     "traceback": [
      "<console>:26: error: not found: value smallerSelectionDF",
      "       smallerSelectionDF.show(numRows=30, vertical=true, truncate=27)",
      "       ^",
      "<console>:26: error: not found: value numRows",
      "       smallerSelectionDF.show(numRows=30, vertical=true, truncate=27)",
      "                               ^",
      "<console>:26: error: not found: value vertical",
      "       smallerSelectionDF.show(numRows=30, vertical=true, truncate=27)",
      "                                           ^",
      "<console>:26: error: not found: value truncate",
      "       smallerSelectionDF.show(numRows=30, vertical=true, truncate=27)",
      "                                                          ^",
      ""
     ]
    }
   ],
   "source": [
    "smallerSelectionDF.show(numRows=30, vertical=true, truncate=27)"
   ]
  },
  {
   "cell_type": "markdown",
   "metadata": {},
   "source": [
    "## Getting Columns\n",
    "\n",
    "* Columns represent columns and can be used for querying\n",
    "* There are four different formats in Scala to represent a column.\n",
    "* These come from the `org.apache.spark.sql` package\n",
    "* For example, each of these are ways of getting the columns"
   ]
  },
  {
   "cell_type": "code",
   "execution_count": 9,
   "metadata": {},
   "outputs": [
    {
     "data": {
      "text/plain": [
       "res7: Symbol = 'someColumnName\n"
      ]
     },
     "execution_count": 9,
     "metadata": {},
     "output_type": "execute_result"
    }
   ],
   "source": [
    "col(\"someColumnName\")\n",
    "column(\"someColumnName\")\n",
    "$\"someColumnName\" //Part of implicits\n",
    "'someColumnName //Scala Symbol"
   ]
  },
  {
   "cell_type": "markdown",
   "metadata": {},
   "source": [
    "## Calling up columns"
   ]
  },
  {
   "cell_type": "markdown",
   "metadata": {},
   "source": [
    "## Selecting one column\n",
    "* To select one column you can either use `select` with a list of columns\n",
    "* You can also use `col` to select one column"
   ]
  },
  {
   "cell_type": "markdown",
   "metadata": {},
   "source": [
    "### Querying columns\n",
    "* You can query columns by also using `where` to form an expression using \n",
    "  * The various `col` signatures.\n",
    "  * A `String` with an expression (see next cell)"
   ]
  },
  {
   "cell_type": "code",
   "execution_count": 10,
   "metadata": {},
   "outputs": [
    {
     "name": "stdout",
     "output_type": "stream",
     "text": [
      "+------+--------------------+--------------------+--------------+----------+-------------+-------------+-----------+-------------+------------------+\n",
      "|bookID|               title|             authors|average_rating|      isbn|       isbn13|language_code|# num_pages|ratings_count|text_reviews_count|\n",
      "+------+--------------------+--------------------+--------------+----------+-------------+-------------+-----------+-------------+------------------+\n",
      "|  4978|Wolves of the Cal...|Stephen King-Bern...|          4.19|141651693X|9781416516934|          eng|        931|       120906|              2640|\n",
      "|  5094|The Drawing of th...|        Stephen King|          4.23|0451210859|9780451210852|          eng|        463|       163647|              4846|\n",
      "|  5095|The Waste Lands (...|        Stephen King|          4.24|034082977X|9780340829776|          eng|        584|         1073|                82|\n",
      "|  5096|Wizard and Glass ...|Stephen King-Dave...|          4.25|0340829788|9780340829783|          eng|        845|       122796|              3396|\n",
      "|  5098|The Gunslinger (T...|        Stephen King|          3.96|0340829753|9780340829752|          eng|        238|         1598|               189|\n",
      "|  5373|The Waste Lands (...|Stephen King-Ned ...|          4.24|0747411875|9780747411871|          eng|        509|           73|                 6|\n",
      "|  5399|           The Stand|        Stephen King|          4.34|1568495714|9781568495712|          eng|       1344|          412|                33|\n",
      "|  5412|The Stand: Das le...|Stephen King-Joac...|          4.34|3404134117|9783404134113|          ger|       1227|          229|                14|\n",
      "|  5413|        'Salem's Lot|Stephen King-Jerr...|          4.25|0385516487|9780385516488|          eng|        594|        81170|               504|\n",
      "|  5414|        'Salem's Lot|Stephen King-Ron ...|          4.01|0743536967|9780743536967|          eng|         17|          227|                55|\n",
      "|  5415|        'Salem's Lot|        Stephen King|          4.01|0965772411|9780965772419|          eng|        405|          959|               121|\n",
      "|  5416|The Shining / Sal...|        Stephen King|          4.67|0905712609|9780905712604|          eng|        991|         1838|                27|\n",
      "|  5417|Carrie / 'Salem's...|        Stephen King|          4.53|0517219026|9780517219027|          eng|       1096|        12320|                58|\n",
      "|  5418|        'Salem's Lot|        Stephen King|          4.01|0451150651|9780451150653|          eng|        446|          399|                45|\n",
      "|  5419|        'Salem's Lot|        Stephen King|          4.01|0451092317|9780451092311|        en-US|        427|          169|                33|\n",
      "|  5420|        'Salem's Lot|        Stephen King|          4.01|0340770538|9780340770535|          eng|        586|           24|                 6|\n",
      "|  5421|El misterio de Sa...|Stephen King-Mart...|          4.01|8497931025|9788497931021|          spa|        528|          656|               131|\n",
      "|  9014|       The Long Walk|Richard Bachman-S...|          4.11|0451196716|9780451196712|          eng|        370|        83792|              3970|\n",
      "| 10566|       Lisey's Story|        Stephen King|          3.67|0743289412|9780743289412|          eng|        513|        56882|              2585|\n",
      "| 10567|                Cell|        Stephen King|          3.65|1416524517|9781416524519|          eng|        449|       163786|              4231|\n",
      "+------+--------------------+--------------------+--------------+----------+-------------+-------------+-----------+-------------+------------------+\n",
      "only showing top 20 rows\n",
      "\n"
     ]
    },
    {
     "data": {
      "text/plain": [
       "stephenKing: org.apache.spark.sql.Dataset[org.apache.spark.sql.Row] = [bookID: int, title: string ... 8 more fields]\n"
      ]
     },
     "execution_count": 10,
     "metadata": {},
     "output_type": "execute_result"
    }
   ],
   "source": [
    "val stephenKing = booksDF.where($\"authors\".contains(\"Stephen King\"))\n",
    "stephenKing.show()"
   ]
  },
  {
   "cell_type": "markdown",
   "metadata": {},
   "source": [
    "### Complex Expressions\n",
    "\n",
    "* Expressions are dynamic, and you can do varying things\n",
    "* For example: `expr(col(\"High\") + 5 < col(\"Low\") - 2)`\n",
    "* This creates directed acyclic graph\n",
    "* You can also place the entire expression into a String\n",
    "  * `expr(\"HIGH + 5 < LOW - 2\")`\n",
    "* This creates the foundation as to why SparkSQL works"
   ]
  },
  {
   "cell_type": "code",
   "execution_count": 12,
   "metadata": {},
   "outputs": [
    {
     "name": "stdout",
     "output_type": "stream",
     "text": [
      "+----------------------------------------------------------------------------------------------------------------------------------+----------+-----------+\n",
      "|title                                                                                                                             |isbn      |# num_pages|\n",
      "+----------------------------------------------------------------------------------------------------------------------------------+----------+-----------+\n",
      "|Harry Potter and the Half-Blood Prince (Harry Potter  #6)                                                                         |0439785960|652        |\n",
      "|Harry Potter and the Order of the Phoenix (Harry Potter  #5)                                                                      |0439358078|870        |\n",
      "|Harry Potter and the Sorcerer's Stone (Harry Potter  #1)                                                                          |0439554934|320        |\n",
      "|Harry Potter and the Chamber of Secrets (Harry Potter  #2)                                                                        |0439554896|352        |\n",
      "|Harry Potter and the Prisoner of Azkaban (Harry Potter  #3)                                                                       |043965548X|435        |\n",
      "|Harry Potter Boxed Set  Books 1-5 (Harry Potter  #1-5)                                                                            |0439682584|2690       |\n",
      "|Unauthorized Harry Potter Book Seven News: \"Half-Blood Prince\" Analysis and Speculation                                           |0976540606|152        |\n",
      "|Harry Potter Collection (Harry Potter  #1-6)                                                                                      |0439827604|3342       |\n",
      "|Harry Potter Schoolbooks Box Set: Two Classic Books from the Library of Hogwarts School of Witchcraft and Wizardry                |043932162X|240        |\n",
      "|J.K. Rowling's Harry Potter Novels: A Reader's Guide                                                                              |0826452329|96         |\n",
      "|Harry Potter and the Half-Blood Prince (Harry Potter  #6)                                                                         |0747584664|768        |\n",
      "|Harry Potter Y La Piedra Filosofal (Harry Potter  #1)                                                                             |0613359607|254        |\n",
      "|Harry Potter and the Prisoner of Azkaban (Harry Potter  #3)                                                                       |074757362X|480        |\n",
      "|Looking for God in Harry Potter                                                                                                   |1414306342|234        |\n",
      "|Mugglenet.Com's What Will Happen in Harry Potter 7: Who Lives  Who Dies  Who Falls in Love and How Will the Adventure Finally End?|1569755833|216        |\n",
      "|Harry Potter y el misterio del príncipe (Harry Potter  #6)                                                                        |8478889930|602        |\n",
      "|Harry Potter y la cámara secreta (Harry Potter  #2)                                                                               |8498380138|288        |\n",
      "|Harry Potter y la Orden del Fénix (Harry Potter  #5)                                                                              |8478888845|893        |\n",
      "|Ultimate Unofficial Guide to the Mysteries of Harry Potter: Analysis of Books 1-4                                                 |0972393617|412        |\n",
      "|The Science Of Harry Potter                                                                                                       |0755311515|374        |\n",
      "+----------------------------------------------------------------------------------------------------------------------------------+----------+-----------+\n",
      "only showing top 20 rows\n",
      "\n"
     ]
    },
    {
     "data": {
      "text/plain": [
       "harryPotters: org.apache.spark.sql.Dataset[org.apache.spark.sql.Row] = [title: string, isbn: string ... 1 more field]\n"
      ]
     },
     "execution_count": 12,
     "metadata": {},
     "output_type": "execute_result"
    }
   ],
   "source": [
    "val harryPotters = smallerSelectionDF.where(expr(\"title like '%Harry Potter%'\"))\n",
    "harryPotters.show(truncate=false)"
   ]
  },
  {
   "cell_type": "markdown",
   "metadata": {},
   "source": [
    "## Sorting the data\n",
    "\n",
    "We can sort the data with the `sort` method providing a column. The default is ascending order"
   ]
  },
  {
   "cell_type": "code",
   "execution_count": 13,
   "metadata": {},
   "outputs": [
    {
     "name": "stdout",
     "output_type": "stream",
     "text": [
      "+--------------------+----------+-----------+\n",
      "|               title|      isbn|# num_pages|\n",
      "+--------------------+----------+-----------+\n",
      "|Harry Potter und ...|3895849618|         13|\n",
      "|Unauthorized Harr...|0976540606|        152|\n",
      "|Harry Potter Boxe...|0439434866|       1820|\n",
      "|Mapping the World...|1932100598|        195|\n",
      "|Mugglenet.Com's W...|1569755833|        216|\n",
      "|Looking for God i...|1414306342|        234|\n",
      "|Harry Potter Scho...|043932162X|        240|\n",
      "|Harry Potter and ...|0812694554|        243|\n",
      "|Harry Potter and ...|158234681X|        250|\n",
      "|Harry Potter Y La...|0613359607|        254|\n",
      "|Harry Potter Boxe...|0439682584|       2690|\n",
      "|Harry Potter y la...|8498380138|        288|\n",
      "|Harry Potter and ...|0439554934|        320|\n",
      "|Harry Potter und ...|3551354014|        334|\n",
      "|Harry Potter Coll...|0439827604|       3342|\n",
      "|Harry Potter and ...|0439064864|        341|\n",
      "|Harry Potter et l...|2070541304|        349|\n",
      "|Harry Potter und ...|3551552096|        351|\n",
      "|Harry Potter and ...|0439554896|        352|\n",
      "|Harry Potter ve F...|3570211010|        353|\n",
      "+--------------------+----------+-----------+\n",
      "only showing top 20 rows\n",
      "\n"
     ]
    }
   ],
   "source": [
    "harryPotters.sort($\"# num_pages\").show()"
   ]
  },
  {
   "cell_type": "markdown",
   "metadata": {},
   "source": [
    "## Bring in some more functions\n",
    "\n",
    "* For descending order we need some help, a common import is the `import org.apache.spark.sql.functions._` package\n",
    "* Contains a wide range of functions that compliment what is in `DataFrame` API\n",
    "* Nearly all of the functions of this Scala `object` is "
   ]
  },
  {
   "cell_type": "code",
   "execution_count": 15,
   "metadata": {},
   "outputs": [
    {
     "data": {
      "text/plain": [
       "import org.apache.spark.sql.functions._\n"
      ]
     },
     "execution_count": 15,
     "metadata": {},
     "output_type": "execute_result"
    }
   ],
   "source": [
    "import org.apache.spark.sql.functions._"
   ]
  },
  {
   "cell_type": "markdown",
   "metadata": {},
   "source": [
    "## Sorting in Descending\n",
    "\n",
    "* For descending order we need some help, a common import is the `import org.apache.spark.sql.functions._` package\n",
    "* Contains a wide range of functions that compliment what is in `DataFrame` API"
   ]
  },
  {
   "cell_type": "code",
   "execution_count": 16,
   "metadata": {},
   "outputs": [
    {
     "ename": "<console>",
     "evalue": "31: error: type mismatch;",
     "output_type": "error",
     "traceback": [
      "<console>:31: error: type mismatch;",
      " found   : org.apache.spark.sql.ColumnName",
      " required: String",
      "       harryPotters.sort(desc($\"# num_pages\"))",
      "                              ^",
      ""
     ]
    }
   ],
   "source": [
    "harryPotters.sort(desc($\"# num_pages\"))"
   ]
  },
  {
   "cell_type": "code",
   "execution_count": 22,
   "metadata": {},
   "outputs": [
    {
     "name": "stdout",
     "output_type": "stream",
     "text": [
      "root\n",
      " |-- title: string (nullable = true)\n",
      " |-- isbn: string (nullable = true)\n",
      " |-- # num_pages: string (nullable = true)\n",
      "\n"
     ]
    }
   ],
   "source": [
    "harryPotters.printSchema()"
   ]
  },
  {
   "cell_type": "code",
   "execution_count": 31,
   "metadata": {},
   "outputs": [
    {
     "name": "stdout",
     "output_type": "stream",
     "text": [
      "root\n",
      " |-- title: string (nullable = true)\n",
      " |-- isbn: string (nullable = true)\n",
      " |-- # num_pages: integer (nullable = true)\n",
      "\n"
     ]
    },
    {
     "data": {
      "text/plain": [
       "import org.apache.spark.sql.functions._\n",
       "import org.apache.spark.sql.types.IntegerType\n",
       "converted: org.apache.spark.sql.DataFrame = [title: string, isbn: string ... 1 more field]\n"
      ]
     },
     "execution_count": 31,
     "metadata": {},
     "output_type": "execute_result"
    }
   ],
   "source": [
    "import org.apache.spark.sql.functions._\n",
    "import org.apache.spark.sql.types.IntegerType\n",
    "val converted = harryPotters.withColumn(\"# num_pages\", $\"# num_pages\".cast(IntegerType))\n",
    "converted.printSchema()"
   ]
  },
  {
   "cell_type": "markdown",
   "metadata": {},
   "source": [
    "## Creating Rows"
   ]
  },
  {
   "cell_type": "markdown",
   "metadata": {},
   "source": [
    "## Adding Rows"
   ]
  },
  {
   "cell_type": "markdown",
   "metadata": {},
   "source": [
    "## Dropping Rows"
   ]
  },
  {
   "cell_type": "markdown",
   "metadata": {},
   "source": [
    "## Taking Rows"
   ]
  },
  {
   "cell_type": "markdown",
   "metadata": {},
   "source": [
    "## Creating Columns"
   ]
  },
  {
   "cell_type": "code",
   "execution_count": null,
   "metadata": {},
   "outputs": [],
   "source": []
  },
  {
   "cell_type": "markdown",
   "metadata": {},
   "source": [
    "val total = converted.agg(sum($\"# num_pages\"))\n",
    "total.show()"
   ]
  },
  {
   "cell_type": "code",
   "execution_count": 40,
   "metadata": {},
   "outputs": [
    {
     "name": "stdout",
     "output_type": "stream",
     "text": [
      "+-----------------------------------------------------------+\n",
      "|title                                                      |\n",
      "+-----------------------------------------------------------+\n",
      "|Harry Potter and the Prisoner of Azkaban (Harry Potter  #3)|\n",
      "|Harry Potter and the Prisoner of Azkaban (Harry Potter  #3)|\n",
      "+-----------------------------------------------------------+\n",
      "\n"
     ]
    }
   ],
   "source": [
    "harryPotters.select(\"title\").where($\"title\".contains(\"Prisoner\")).show(20, false)"
   ]
  },
  {
   "cell_type": "code",
   "execution_count": null,
   "metadata": {},
   "outputs": [],
   "source": [
    "collect_list($\"title\")"
   ]
  },
  {
   "cell_type": "code",
   "execution_count": 54,
   "metadata": {},
   "outputs": [
    {
     "name": "stdout",
     "output_type": "stream",
     "text": [
      "+--------------------+--------------------+\n",
      "|             authors|              titles|\n",
      "+--------------------+--------------------+\n",
      "|Abraham Lincoln-D...|[Speeches and Wri...|\n",
      "|    Amanda Eyre Ward|    [How to Be Lost]|\n",
      "|         Ann Beattie|[The Doctor's Hou...|\n",
      "|         Ann Rinaldi|[A Break with Cha...|\n",
      "|Charles Dickens-S...|[A Tale of Two Ci...|\n",
      "|          Dava Sobel|[Galileo's Daught...|\n",
      "|        Doug Stanton|[In Harm's Way: T...|\n",
      "|     Eric Klinenberg|[Heat Wave: A Soc...|\n",
      "|Gayle Lynds-Rober...|[The Altman Code ...|\n",
      "|Haruki Murakami-U...|    [Naokos Lächeln]|\n",
      "|          Ian Ogilvy|[Measle and the D...|\n",
      "|J.E. Austen Leigh...|[A Memoir of Jane...|\n",
      "|        Jack Meadows|[The Future of th...|\n",
      "|          James Frey|[A Million Little...|\n",
      "|Johanna Hurwitz-V...|[Anne Frank: Life...|\n",
      "|John  Baxter-Mel Bay|[Deluxe Encyclope...|\n",
      "|Jonathan Swift-YKids|[Gulliver's Travels]|\n",
      "|     Karen Armstrong|[A History of God...|\n",
      "|Laura  Jordan-San...|   [Anhelos ocultos]|\n",
      "|    Laurence Olivier|[Confessions of a...|\n",
      "+--------------------+--------------------+\n",
      "only showing top 20 rows\n",
      "\n"
     ]
    }
   ],
   "source": [
    "booksDF.groupBy($\"authors\").agg(collect_list($\"title\").alias(\"titles\")).show()"
   ]
  },
  {
   "cell_type": "markdown",
   "metadata": {},
   "source": [
    "Lab: What are the harry potter's books average rating?"
   ]
  }
 ],
 "metadata": {
  "kernelspec": {
   "display_name": "spylon-kernel",
   "language": "scala",
   "name": "spylon-kernel"
  },
  "language_info": {
   "codemirror_mode": "text/x-scala",
   "file_extension": ".scala",
   "help_links": [
    {
     "text": "MetaKernel Magics",
     "url": "https://metakernel.readthedocs.io/en/latest/source/README.html"
    }
   ],
   "mimetype": "text/x-scala",
   "name": "scala",
   "pygments_lexer": "scala",
   "version": "0.4.1"
  }
 },
 "nbformat": 4,
 "nbformat_minor": 2
}

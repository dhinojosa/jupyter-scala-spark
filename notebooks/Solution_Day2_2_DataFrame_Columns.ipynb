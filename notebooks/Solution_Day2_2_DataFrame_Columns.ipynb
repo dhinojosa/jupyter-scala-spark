{
 "cells": [
  {
   "cell_type": "markdown",
   "metadata": {},
   "source": [
    "## Lab: Column Manipulation\n",
    "\n",
    "**Step 1:** Using the Schema provided for us by the inferencer already provided for you.\n",
    "\n",
    "**Step 2:** Print the Schema\n",
    "\n",
    "**Step 3:** Rename `_c0` to something better like `id`\n",
    "\n",
    "**Step 4:** Convert column `price` to Double Types\n",
    "\n",
    "**Step 5:** Convert column `points` to Integer Types\n",
    "\n",
    "**Step 4:** Convert columns `id` to Integer Type\n",
    "\n",
    "**Step 5:** Print the Schema\n",
    "\n",
    "**Step 6:** Show the Dataset"
   ]
  },
  {
   "cell_type": "code",
   "execution_count": 63,
   "metadata": {},
   "outputs": [
    {
     "data": {
      "text/plain": [
       "winesDF: org.apache.spark.sql.DataFrame = [_c0: string, country: string ... 12 more fields]\n"
      ]
     },
     "execution_count": 63,
     "metadata": {},
     "output_type": "execute_result"
    }
   ],
   "source": [
    "val winesDF = spark.read.format(\"csv\")\n",
    "                     .option(\"inferSchema\", \"true\")\n",
    "                     .option(\"header\", \"true\")\n",
    "                     .load(\"../data/winemag.csv\")"
   ]
  },
  {
   "cell_type": "code",
   "execution_count": 64,
   "metadata": {},
   "outputs": [
    {
     "name": "stdout",
     "output_type": "stream",
     "text": [
      "root\n",
      " |-- id: integer (nullable = true)\n",
      " |-- country: string (nullable = true)\n",
      " |-- description: string (nullable = true)\n",
      " |-- designation: string (nullable = true)\n",
      " |-- points: integer (nullable = true)\n",
      " |-- price: double (nullable = true)\n",
      " |-- province: string (nullable = true)\n",
      " |-- region_1: string (nullable = true)\n",
      " |-- region_2: string (nullable = true)\n",
      " |-- taster_name: string (nullable = true)\n",
      " |-- taster_twitter_handle: string (nullable = true)\n",
      " |-- title: string (nullable = true)\n",
      " |-- variety: string (nullable = true)\n",
      " |-- winery: string (nullable = true)\n",
      "\n"
     ]
    },
    {
     "data": {
      "text/plain": [
       "import org.apache.spark.sql.types.DoubleType\n",
       "cleanWinesDF: org.apache.spark.sql.DataFrame = [id: int, country: string ... 12 more fields]\n"
      ]
     },
     "execution_count": 64,
     "metadata": {},
     "output_type": "execute_result"
    }
   ],
   "source": [
    "import org.apache.spark.sql.types.DoubleType\n",
    "val cleanWinesDF = winesDF\n",
    "                     .withColumn(\"price\", $\"price\".cast(DoubleType))\n",
    "                     .withColumnRenamed(\"_c0\", \"id\")\n",
    "                     .withColumn(\"id\", $\"id\".cast(IntegerType))\n",
    "                     .withColumn(\"points\", $\"points\".cast(IntegerType))\n",
    "cleanWinesDF.printSchema()"
   ]
  },
  {
   "cell_type": "code",
   "execution_count": 62,
   "metadata": {},
   "outputs": [
    {
     "name": "stdout",
     "output_type": "stream",
     "text": [
      "+---+--------+--------------------+--------------------+------+-----+-----------------+-------------------+-----------------+------------------+---------------------+--------------------+------------------+-------------------+\n",
      "| id| country|         description|         designation|points|price|         province|           region_1|         region_2|       taster_name|taster_twitter_handle|               title|           variety|             winery|\n",
      "+---+--------+--------------------+--------------------+------+-----+-----------------+-------------------+-----------------+------------------+---------------------+--------------------+------------------+-------------------+\n",
      "|  0|   Italy|Aromas include tr...|        Vulkà Bianco|    87| null|Sicily & Sardinia|               Etna|             null|     Kerin O’Keefe|         @kerinokeefe|Nicosia 2013 Vulk...|       White Blend|            Nicosia|\n",
      "|  1|Portugal|This is ripe and ...|            Avidagos|    87| 15.0|            Douro|               null|             null|        Roger Voss|           @vossroger|Quinta dos Avidag...|    Portuguese Red|Quinta dos Avidagos|\n",
      "|  2|      US|Tart and snappy, ...|                null|    87| 14.0|           Oregon|  Willamette Valley|Willamette Valley|      Paul Gregutt|          @paulgwine |Rainstorm 2013 Pi...|        Pinot Gris|          Rainstorm|\n",
      "|  3|      US|Pineapple rind, l...|Reserve Late Harvest|    87| 13.0|         Michigan|Lake Michigan Shore|             null|Alexander Peartree|                 null|St. Julian 2013 R...|          Riesling|         St. Julian|\n",
      "|  4|      US|Much like the reg...|Vintner's Reserve...|    87| 65.0|           Oregon|  Willamette Valley|Willamette Valley|      Paul Gregutt|          @paulgwine |Sweet Cheeks 2012...|        Pinot Noir|       Sweet Cheeks|\n",
      "|  5|   Spain|Blackberry and ra...|        Ars In Vitro|    87| 15.0|   Northern Spain|            Navarra|             null| Michael Schachner|          @wineschach|Tandem 2011 Ars I...|Tempranillo-Merlot|             Tandem|\n",
      "|  6|   Italy|Here's a bright, ...|             Belsito|    87| 16.0|Sicily & Sardinia|           Vittoria|             null|     Kerin O’Keefe|         @kerinokeefe|Terre di Giurfo 2...|          Frappato|    Terre di Giurfo|\n",
      "|  7|  France|This dry and rest...|                null|    87| 24.0|           Alsace|             Alsace|             null|        Roger Voss|           @vossroger|Trimbach 2012 Gew...|    Gewürztraminer|           Trimbach|\n",
      "|  8| Germany|Savory dried thym...|               Shine|    87| 12.0|      Rheinhessen|               null|             null|Anna Lee C. Iijima|                 null|Heinz Eifel 2013 ...|    Gewürztraminer|        Heinz Eifel|\n",
      "|  9|  France|This has great de...|         Les Natures|    87| 27.0|           Alsace|             Alsace|             null|        Roger Voss|           @vossroger|Jean-Baptiste Ada...|        Pinot Gris| Jean-Baptiste Adam|\n",
      "+---+--------+--------------------+--------------------+------+-----+-----------------+-------------------+-----------------+------------------+---------------------+--------------------+------------------+-------------------+\n",
      "only showing top 10 rows\n",
      "\n"
     ]
    }
   ],
   "source": [
    "cleanWinesDF.show(10)"
   ]
  }
 ],
 "metadata": {
  "kernelspec": {
   "display_name": "spylon-kernel",
   "language": "scala",
   "name": "spylon-kernel"
  },
  "language_info": {
   "codemirror_mode": "text/x-scala",
   "file_extension": ".scala",
   "help_links": [
    {
     "text": "MetaKernel Magics",
     "url": "https://metakernel.readthedocs.io/en/latest/source/README.html"
    }
   ],
   "mimetype": "text/x-scala",
   "name": "scala",
   "pygments_lexer": "scala",
   "version": "0.4.1"
  }
 },
 "nbformat": 4,
 "nbformat_minor": 2
}
